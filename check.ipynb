{
 "cells": [
  {
   "cell_type": "code",
   "execution_count": null,
   "outputs": [],
   "source": [
    "import pandas as pd\n",
    "import numpy as np\n",
    "import xgboost as xgb\n",
    "from sklearn.pipeline import make_pipeline\n",
    "from sklearn.compose import make_column_transformer, make_column_selector\n",
    "from sklearn.preprocessing import LabelEncoder\n",
    "from sklearn.preprocessing import OrdinalEncoder\n",
    "from sklearn.preprocessing import FunctionTransformer\n",
    "from sklearn.model_selection import GridSearchCV\n",
    "from sklearn.preprocessing import OneHotEncoder\n",
    "import matplotlib.pyplot as plt\n",
    "from statsmodels.graphics.tsaplots import plot_acf\n",
    "from statsmodels.graphics.tsaplots import plot_pacf\n",
    "import plotly.graph_objects as go\n",
    "import plotly.express as px\n",
    "import plotly.io as pio\n",
    "from skforecast.ForecasterAutoregDirect import ForecasterAutoregDirect\n",
    "from skforecast.model_selection import grid_search_forecaster\n",
    "from skforecast.model_selection import backtesting_forecaster"
   ],
   "metadata": {
    "collapsed": false
   }
  },
  {
   "cell_type": "code",
   "execution_count": 107,
   "outputs": [],
   "source": [
    "\n",
    "train_data = pd.read_csv(\"burglary_train.csv\")\n",
    "val_data = pd.read_csv(\"burglary_validation.csv\")\n",
    "test_data = pd.read_csv(\"burglary_test.csv\")\n",
    "\n",
    "# The LSOA name will be the y, so create new data for it\n",
    "y_train = train_data[\"LSOA name\"]\n",
    "y_val = val_data[\"LSOA name\"]\n",
    "y_test = test_data[\"LSOA name\"]\n",
    "\n",
    "# Combine all labels\n",
    "all_labels = pd.concat([y_train, y_val, y_test])\n",
    "\n",
    "# Encode labels with integer values\n",
    "label_encoder = LabelEncoder()\n",
    "label_encoder.fit(all_labels)\n",
    "\n",
    "# Transform labels for each dataset\n",
    "y_train = label_encoder.transform(y_train)\n",
    "y_val = label_encoder.transform(y_val)\n",
    "y_test = label_encoder.transform(y_test)\n"
   ],
   "metadata": {
    "collapsed": false,
    "ExecuteTime": {
     "end_time": "2023-05-28T21:58:14.084111676Z",
     "start_time": "2023-05-28T21:58:14.001805076Z"
    }
   }
  },
  {
   "cell_type": "code",
   "execution_count": 61,
   "outputs": [],
   "source": [
    "# Delete the y from the x data and unwanted columns\n",
    "drop = [\"Crime type\", \"Last outcome category\", \"Reported by\", \"Crime ID\", \"LSOA name\"]\n",
    "x_train = train_data.drop(labels=drop, axis=1, inplace=False)\n",
    "x_val = val_data.drop(labels=drop, axis=1, inplace=False)\n",
    "x_test = test_data.drop(labels=drop, axis=1, inplace=False)\n",
    "\n",
    "# Set format of Location and LSOA code to category\n",
    "x_train['Location'] = x_train['Location'].astype('category')\n",
    "x_train['LSOA code'] = x_train['LSOA code'].astype('category')\n",
    "\n",
    "x_val['Location'] = x_val['Location'].astype('category')\n",
    "x_val['LSOA code'] = x_val['LSOA code'].astype('category')\n",
    "\n",
    "x_test['Location'] = x_test['Location'].astype('category')\n",
    "x_test['LSOA code'] = x_test['LSOA code'].astype('category')\n",
    "\n",
    "# Change format of the Month column and set it to index\n",
    "x_train['Time'] = pd.to_datetime(x_train['Month'], format='%Y-%m')\n",
    "x_val['Time'] = pd.to_datetime(x_val['Month'], format='%Y-%m')\n",
    "x_test['Time'] = pd.to_datetime(x_test['Month'], format='%Y-%m')\n"
   ],
   "metadata": {
    "collapsed": false,
    "ExecuteTime": {
     "end_time": "2023-05-28T17:55:37.081843794Z",
     "start_time": "2023-05-28T17:55:37.036532635Z"
    }
   }
  },
  {
   "cell_type": "code",
   "execution_count": 62,
   "outputs": [
    {
     "data": {
      "text/plain": "       Unnamed: 0    Month  Longitude   Latitude   \n30985       30985  2012-12   -0.15361  51.613424  \\\n\n                            Location  LSOA code       Time  \n30985  On or near Friern Barnet Road  E01000158 2012-12-01  ",
      "text/html": "<div>\n<style scoped>\n    .dataframe tbody tr th:only-of-type {\n        vertical-align: middle;\n    }\n\n    .dataframe tbody tr th {\n        vertical-align: top;\n    }\n\n    .dataframe thead th {\n        text-align: right;\n    }\n</style>\n<table border=\"1\" class=\"dataframe\">\n  <thead>\n    <tr style=\"text-align: right;\">\n      <th></th>\n      <th>Unnamed: 0</th>\n      <th>Month</th>\n      <th>Longitude</th>\n      <th>Latitude</th>\n      <th>Location</th>\n      <th>LSOA code</th>\n      <th>Time</th>\n    </tr>\n  </thead>\n  <tbody>\n    <tr>\n      <th>30985</th>\n      <td>30985</td>\n      <td>2012-12</td>\n      <td>-0.15361</td>\n      <td>51.613424</td>\n      <td>On or near Friern Barnet Road</td>\n      <td>E01000158</td>\n      <td>2012-12-01</td>\n    </tr>\n  </tbody>\n</table>\n</div>"
     },
     "execution_count": 62,
     "metadata": {},
     "output_type": "execute_result"
    }
   ],
   "source": [
    "x_train.tail(1)"
   ],
   "metadata": {
    "collapsed": false,
    "ExecuteTime": {
     "end_time": "2023-05-28T17:55:41.244281964Z",
     "start_time": "2023-05-28T17:55:41.239073770Z"
    }
   }
  },
  {
   "cell_type": "code",
   "execution_count": 63,
   "outputs": [
    {
     "data": {
      "text/plain": "   Unnamed: 0    Month  Longitude   Latitude                Location   \n0       30987  2012-12  -0.148134  51.613113  On or near Royal Drive  \\\n\n   LSOA code       Time  \n0  E01000160 2012-12-01  ",
      "text/html": "<div>\n<style scoped>\n    .dataframe tbody tr th:only-of-type {\n        vertical-align: middle;\n    }\n\n    .dataframe tbody tr th {\n        vertical-align: top;\n    }\n\n    .dataframe thead th {\n        text-align: right;\n    }\n</style>\n<table border=\"1\" class=\"dataframe\">\n  <thead>\n    <tr style=\"text-align: right;\">\n      <th></th>\n      <th>Unnamed: 0</th>\n      <th>Month</th>\n      <th>Longitude</th>\n      <th>Latitude</th>\n      <th>Location</th>\n      <th>LSOA code</th>\n      <th>Time</th>\n    </tr>\n  </thead>\n  <tbody>\n    <tr>\n      <th>0</th>\n      <td>30987</td>\n      <td>2012-12</td>\n      <td>-0.148134</td>\n      <td>51.613113</td>\n      <td>On or near Royal Drive</td>\n      <td>E01000160</td>\n      <td>2012-12-01</td>\n    </tr>\n  </tbody>\n</table>\n</div>"
     },
     "execution_count": 63,
     "metadata": {},
     "output_type": "execute_result"
    }
   ],
   "source": [
    "x_val.head(1)"
   ],
   "metadata": {
    "collapsed": false,
    "ExecuteTime": {
     "end_time": "2023-05-28T17:56:37.550132120Z",
     "start_time": "2023-05-28T17:56:37.539151161Z"
    }
   }
  },
  {
   "cell_type": "code",
   "execution_count": 64,
   "outputs": [],
   "source": [
    "exog = ['Location', 'LSOA code']"
   ],
   "metadata": {
    "collapsed": false,
    "ExecuteTime": {
     "end_time": "2023-05-28T17:58:25.245346492Z",
     "start_time": "2023-05-28T17:58:25.204502722Z"
    }
   }
  },
  {
   "cell_type": "code",
   "execution_count": 65,
   "outputs": [],
   "source": [
    "# Transformer: Ordinal encoding + cast to category type\n",
    "pipeline_categorical = make_pipeline(\n",
    "                            OrdinalEncoder(\n",
    "                                dtype=int,\n",
    "                                handle_unknown=\"use_encoded_value\",\n",
    "                                unknown_value=-1,\n",
    "                                encoded_missing_value=-1\n",
    "                            ),\n",
    "                            FunctionTransformer(\n",
    "                                func=lambda x: x.astype('category'),\n",
    "                                feature_names_out= 'one-to-one'\n",
    "                            )\n",
    "                       )\n",
    "transformer_exog = make_column_transformer(\n",
    "                        (\n",
    "                            pipeline_categorical,\n",
    "                            make_column_selector(dtype_exclude=np.number)\n",
    "                        ),\n",
    "                        remainder=\"passthrough\",\n",
    "                        verbose_feature_names_out=False,\n",
    "                   ).set_output(transform=\"pandas\")\n",
    "\n",
    "# Create forecaster with automatic categorical detection\n",
    "forecaster = ForecasterAutoregDirect(\n",
    "    regressor=xgb.XGBRFRegressor(tree_method='hist', random_state=123, enable_categorical='auto'),\n",
    "    lags=12,\n",
    "    steps=12,\n",
    "    transformer_exog=transformer_exog\n",
    ")"
   ],
   "metadata": {
    "collapsed": false,
    "ExecuteTime": {
     "end_time": "2023-05-28T17:58:25.840090288Z",
     "start_time": "2023-05-28T17:58:25.807445760Z"
    }
   }
  },
  {
   "cell_type": "code",
   "execution_count": 66,
   "outputs": [],
   "source": [
    "\n",
    "# Define hyperparameters\n",
    "param_grid = {\n",
    "    'n_estimators': [100, 200, 300, 500],\n",
    "    'max_depth': [3, 5, 10],\n",
    "    'learning_rate': [0.01, 0.1]\n",
    "}\n",
    "\n",
    "# Lags used as predictors\n",
    "lags_grid = [4, 12, 24, 48, 72]\n"
   ],
   "metadata": {
    "collapsed": false,
    "ExecuteTime": {
     "end_time": "2023-05-28T17:58:27.398323714Z",
     "start_time": "2023-05-28T17:58:27.395295237Z"
    }
   }
  },
  {
   "cell_type": "code",
   "execution_count": 67,
   "outputs": [
    {
     "name": "stdout",
     "output_type": "stream",
     "text": [
      "Number of models compared: 120.\n"
     ]
    },
    {
     "data": {
      "text/plain": "lags grid:   0%|          | 0/5 [00:00<?, ?it/s]",
      "application/vnd.jupyter.widget-view+json": {
       "version_major": 2,
       "version_minor": 0,
       "model_id": "c18c4f72cf8649f18a620a82cd83aa64"
      }
     },
     "metadata": {},
     "output_type": "display_data"
    },
    {
     "data": {
      "text/plain": "params grid:   0%|          | 0/24 [00:00<?, ?it/s]",
      "application/vnd.jupyter.widget-view+json": {
       "version_major": 2,
       "version_minor": 0,
       "model_id": "e34041aae9a4405fbce559ff946b9938"
      }
     },
     "metadata": {},
     "output_type": "display_data"
    },
    {
     "data": {
      "text/plain": "params grid:   0%|          | 0/24 [00:00<?, ?it/s]",
      "application/vnd.jupyter.widget-view+json": {
       "version_major": 2,
       "version_minor": 0,
       "model_id": "4f0f82e802b54abeaf762477958ae9b9"
      }
     },
     "metadata": {},
     "output_type": "display_data"
    },
    {
     "data": {
      "text/plain": "params grid:   0%|          | 0/24 [00:00<?, ?it/s]",
      "application/vnd.jupyter.widget-view+json": {
       "version_major": 2,
       "version_minor": 0,
       "model_id": "34e7523d9e9e4052a948d5df4af8a7eb"
      }
     },
     "metadata": {},
     "output_type": "display_data"
    },
    {
     "data": {
      "text/plain": "params grid:   0%|          | 0/24 [00:00<?, ?it/s]",
      "application/vnd.jupyter.widget-view+json": {
       "version_major": 2,
       "version_minor": 0,
       "model_id": "cf5b203fd47440f582a94afc7643a415"
      }
     },
     "metadata": {},
     "output_type": "display_data"
    },
    {
     "data": {
      "text/plain": "params grid:   0%|          | 0/24 [00:00<?, ?it/s]",
      "application/vnd.jupyter.widget-view+json": {
       "version_major": 2,
       "version_minor": 0,
       "model_id": "a645779d5ffc4bc0b44795045e0df783"
      }
     },
     "metadata": {},
     "output_type": "display_data"
    },
    {
     "name": "stdout",
     "output_type": "stream",
     "text": [
      "`Forecaster` refitted using the best-found lags and parameters, and the whole data set: \n",
      "  Lags: [1 2 3 4] \n",
      "  Parameters: {'learning_rate': 0.1, 'max_depth': 5, 'n_estimators': 100}\n",
      "  Backtesting metric: 98.03029047980925\n",
      "\n"
     ]
    }
   ],
   "source": [
    "# Obtaining best model\n",
    "x = pd.concat([x_train, x_val], ignore_index=True)\n",
    "y = np.append(y_train, y_val)\n",
    "y = pd.Series(y)\n",
    "\n",
    "result_grid = grid_search_forecaster(\n",
    "    forecaster=forecaster,\n",
    "    y=y,\n",
    "    exog=x.loc[:, exog],\n",
    "    param_grid=param_grid,\n",
    "    lags_grid=lags_grid,\n",
    "    steps=12,\n",
    "    refit=False,\n",
    "    metric='mean_absolute_error',\n",
    "    initial_train_size=len(x_train),\n",
    "    fixed_train_size=False,\n",
    "    return_best=True,\n",
    "    verbose=False\n",
    ")\n"
   ],
   "metadata": {
    "collapsed": false,
    "ExecuteTime": {
     "end_time": "2023-05-28T20:01:22.312349554Z",
     "start_time": "2023-05-28T17:58:33.155253243Z"
    }
   }
  },
  {
   "cell_type": "code",
   "execution_count": 80,
   "outputs": [
    {
     "data": {
      "text/plain": "  0%|          | 0/2214 [00:00<?, ?it/s]",
      "application/vnd.jupyter.widget-view+json": {
       "version_major": 2,
       "version_minor": 0,
       "model_id": "92a1986f22e84f1f8ec783333d177a4c"
      }
     },
     "metadata": {},
     "output_type": "display_data"
    }
   ],
   "source": [
    "\n",
    "# Backtesting with the test data the best model\n",
    "x2 = pd.concat([x, x_test], ignore_index=True)\n",
    "y = np.append(y, y_test)\n",
    "y = pd.Series(y)\n",
    "\n",
    "metric, predictions = backtesting_forecaster(\n",
    "    forecaster=forecaster,\n",
    "    y=y,\n",
    "    initial_train_size=len(x),\n",
    "    fixed_train_size=False,\n",
    "    steps=12,\n",
    "    refit=False,\n",
    "    metric='mean_absolute_error',\n",
    "    verbose=False\n",
    ")"
   ],
   "metadata": {
    "collapsed": false,
    "ExecuteTime": {
     "end_time": "2023-05-28T21:12:33.125879679Z",
     "start_time": "2023-05-28T21:12:11.180541722Z"
    }
   }
  },
  {
   "cell_type": "code",
   "execution_count": 81,
   "outputs": [
    {
     "data": {
      "text/plain": "            pred\n35412  11.675626\n35413  12.057780\n35414  12.041039\n35415  11.990654\n35416  11.918101\n...          ...\n61966  13.620949\n61967  13.333845\n61968  20.375689\n61969  17.651146\n61970  12.559389\n\n[26559 rows x 1 columns]",
      "text/html": "<div>\n<style scoped>\n    .dataframe tbody tr th:only-of-type {\n        vertical-align: middle;\n    }\n\n    .dataframe tbody tr th {\n        vertical-align: top;\n    }\n\n    .dataframe thead th {\n        text-align: right;\n    }\n</style>\n<table border=\"1\" class=\"dataframe\">\n  <thead>\n    <tr style=\"text-align: right;\">\n      <th></th>\n      <th>pred</th>\n    </tr>\n  </thead>\n  <tbody>\n    <tr>\n      <th>35412</th>\n      <td>11.675626</td>\n    </tr>\n    <tr>\n      <th>35413</th>\n      <td>12.057780</td>\n    </tr>\n    <tr>\n      <th>35414</th>\n      <td>12.041039</td>\n    </tr>\n    <tr>\n      <th>35415</th>\n      <td>11.990654</td>\n    </tr>\n    <tr>\n      <th>35416</th>\n      <td>11.918101</td>\n    </tr>\n    <tr>\n      <th>...</th>\n      <td>...</td>\n    </tr>\n    <tr>\n      <th>61966</th>\n      <td>13.620949</td>\n    </tr>\n    <tr>\n      <th>61967</th>\n      <td>13.333845</td>\n    </tr>\n    <tr>\n      <th>61968</th>\n      <td>20.375689</td>\n    </tr>\n    <tr>\n      <th>61969</th>\n      <td>17.651146</td>\n    </tr>\n    <tr>\n      <th>61970</th>\n      <td>12.559389</td>\n    </tr>\n  </tbody>\n</table>\n<p>26559 rows × 1 columns</p>\n</div>"
     },
     "execution_count": 81,
     "metadata": {},
     "output_type": "execute_result"
    }
   ],
   "source": [
    "\n",
    "predictions"
   ],
   "metadata": {
    "collapsed": false,
    "ExecuteTime": {
     "end_time": "2023-05-28T21:12:42.429747680Z",
     "start_time": "2023-05-28T21:12:42.424510365Z"
    }
   }
  },
  {
   "cell_type": "code",
   "execution_count": 110,
   "outputs": [],
   "source": [
    "lsoa_names = []\n",
    "for prediction in predictions:\n",
    "    try:\n",
    "        label = label_encoder.inverse_transform(prediction)\n",
    "        lsoa_names.append(label)\n",
    "    except ValueError:\n",
    "        # Handle unseen label\n",
    "        lsoa_names.append(\"Unknown Label\")"
   ],
   "metadata": {
    "collapsed": false,
    "ExecuteTime": {
     "end_time": "2023-05-28T21:58:23.263809316Z",
     "start_time": "2023-05-28T21:58:23.259817843Z"
    }
   }
  },
  {
   "cell_type": "code",
   "execution_count": 111,
   "outputs": [
    {
     "data": {
      "text/plain": "['Unknown Label',\n 'Unknown Label',\n 'Unknown Label',\n 'Unknown Label',\n 'Unknown Label',\n 'Unknown Label',\n 'Unknown Label',\n 'Unknown Label',\n 'Unknown Label',\n 'Unknown Label',\n 'Unknown Label',\n 'Unknown Label']"
     },
     "execution_count": 111,
     "metadata": {},
     "output_type": "execute_result"
    }
   ],
   "source": [
    "lsoa_names"
   ],
   "metadata": {
    "collapsed": false,
    "ExecuteTime": {
     "end_time": "2023-05-28T21:58:24.920018953Z",
     "start_time": "2023-05-28T21:58:24.916706735Z"
    }
   }
  },
  {
   "cell_type": "code",
   "execution_count": 82,
   "outputs": [
    {
     "data": {
      "text/plain": "97.91539102238639"
     },
     "execution_count": 82,
     "metadata": {},
     "output_type": "execute_result"
    }
   ],
   "source": [
    "metric"
   ],
   "metadata": {
    "collapsed": false,
    "ExecuteTime": {
     "end_time": "2023-05-28T21:13:33.744736918Z",
     "start_time": "2023-05-28T21:13:33.740891579Z"
    }
   }
  },
  {
   "cell_type": "code",
   "execution_count": 92,
   "outputs": [
    {
     "ename": "ValueError",
     "evalue": "Forecaster trained with exogenous variable/s. Same variable/s must be provided when predicting.",
     "output_type": "error",
     "traceback": [
      "\u001B[0;31m---------------------------------------------------------------------------\u001B[0m",
      "\u001B[0;31mValueError\u001B[0m                                Traceback (most recent call last)",
      "Cell \u001B[0;32mIn[92], line 3\u001B[0m\n\u001B[1;32m      1\u001B[0m \u001B[38;5;66;03m# Predictions for the next 12 months\u001B[39;00m\n\u001B[1;32m      2\u001B[0m future_exog \u001B[38;5;241m=\u001B[39m x_test\u001B[38;5;241m.\u001B[39mloc[\u001B[38;5;241m35410\u001B[39m:\u001B[38;5;241m35423\u001B[39m, exog]  \u001B[38;5;66;03m# Exogenous features for the future period\u001B[39;00m\n\u001B[0;32m----> 3\u001B[0m future_predictions \u001B[38;5;241m=\u001B[39m \u001B[43mforecaster\u001B[49m\u001B[38;5;241;43m.\u001B[39;49m\u001B[43mpredict\u001B[49m\u001B[43m(\u001B[49m\u001B[43msteps\u001B[49m\u001B[38;5;241;43m=\u001B[39;49m\u001B[38;5;241;43m12\u001B[39;49m\u001B[43m)\u001B[49m\n\u001B[1;32m      5\u001B[0m \u001B[38;5;66;03m# Convert the predicted labels back to the original LSOA names\u001B[39;00m\n\u001B[1;32m      6\u001B[0m label_encoder \u001B[38;5;241m=\u001B[39m result_grid\u001B[38;5;241m.\u001B[39mbest_forecaster_\u001B[38;5;241m.\u001B[39m_label_encoder\n",
      "File \u001B[0;32m~/Documents/TUE/Year 2/Quartile 4/DC2/DC2-Group1/venv/lib/python3.10/site-packages/skforecast/ForecasterAutoregDirect/ForecasterAutoregDirect.py:739\u001B[0m, in \u001B[0;36mForecasterAutoregDirect.predict\u001B[0;34m(self, steps, last_window, exog)\u001B[0m\n\u001B[1;32m    736\u001B[0m \u001B[38;5;28;01mif\u001B[39;00m last_window \u001B[38;5;129;01mis\u001B[39;00m \u001B[38;5;28;01mNone\u001B[39;00m:\n\u001B[1;32m    737\u001B[0m     last_window \u001B[38;5;241m=\u001B[39m copy(\u001B[38;5;28mself\u001B[39m\u001B[38;5;241m.\u001B[39mlast_window)\n\u001B[0;32m--> 739\u001B[0m \u001B[43mcheck_predict_input\u001B[49m\u001B[43m(\u001B[49m\n\u001B[1;32m    740\u001B[0m \u001B[43m    \u001B[49m\u001B[43mforecaster_name\u001B[49m\u001B[43m  \u001B[49m\u001B[38;5;241;43m=\u001B[39;49m\u001B[43m \u001B[49m\u001B[38;5;28;43mtype\u001B[39;49m\u001B[43m(\u001B[49m\u001B[38;5;28;43mself\u001B[39;49m\u001B[43m)\u001B[49m\u001B[38;5;241;43m.\u001B[39;49m\u001B[38;5;18;43m__name__\u001B[39;49m\u001B[43m,\u001B[49m\n\u001B[1;32m    741\u001B[0m \u001B[43m    \u001B[49m\u001B[43msteps\u001B[49m\u001B[43m            \u001B[49m\u001B[38;5;241;43m=\u001B[39;49m\u001B[43m \u001B[49m\u001B[43msteps\u001B[49m\u001B[43m,\u001B[49m\n\u001B[1;32m    742\u001B[0m \u001B[43m    \u001B[49m\u001B[43mfitted\u001B[49m\u001B[43m           \u001B[49m\u001B[38;5;241;43m=\u001B[39;49m\u001B[43m \u001B[49m\u001B[38;5;28;43mself\u001B[39;49m\u001B[38;5;241;43m.\u001B[39;49m\u001B[43mfitted\u001B[49m\u001B[43m,\u001B[49m\n\u001B[1;32m    743\u001B[0m \u001B[43m    \u001B[49m\u001B[43mincluded_exog\u001B[49m\u001B[43m    \u001B[49m\u001B[38;5;241;43m=\u001B[39;49m\u001B[43m \u001B[49m\u001B[38;5;28;43mself\u001B[39;49m\u001B[38;5;241;43m.\u001B[39;49m\u001B[43mincluded_exog\u001B[49m\u001B[43m,\u001B[49m\n\u001B[1;32m    744\u001B[0m \u001B[43m    \u001B[49m\u001B[43mindex_type\u001B[49m\u001B[43m       \u001B[49m\u001B[38;5;241;43m=\u001B[39;49m\u001B[43m \u001B[49m\u001B[38;5;28;43mself\u001B[39;49m\u001B[38;5;241;43m.\u001B[39;49m\u001B[43mindex_type\u001B[49m\u001B[43m,\u001B[49m\n\u001B[1;32m    745\u001B[0m \u001B[43m    \u001B[49m\u001B[43mindex_freq\u001B[49m\u001B[43m       \u001B[49m\u001B[38;5;241;43m=\u001B[39;49m\u001B[43m \u001B[49m\u001B[38;5;28;43mself\u001B[39;49m\u001B[38;5;241;43m.\u001B[39;49m\u001B[43mindex_freq\u001B[49m\u001B[43m,\u001B[49m\n\u001B[1;32m    746\u001B[0m \u001B[43m    \u001B[49m\u001B[43mwindow_size\u001B[49m\u001B[43m      \u001B[49m\u001B[38;5;241;43m=\u001B[39;49m\u001B[43m \u001B[49m\u001B[38;5;28;43mself\u001B[39;49m\u001B[38;5;241;43m.\u001B[39;49m\u001B[43mwindow_size\u001B[49m\u001B[43m,\u001B[49m\n\u001B[1;32m    747\u001B[0m \u001B[43m    \u001B[49m\u001B[43mlast_window\u001B[49m\u001B[43m      \u001B[49m\u001B[38;5;241;43m=\u001B[39;49m\u001B[43m \u001B[49m\u001B[43mlast_window\u001B[49m\u001B[43m,\u001B[49m\n\u001B[1;32m    748\u001B[0m \u001B[43m    \u001B[49m\u001B[43mlast_window_exog\u001B[49m\u001B[43m \u001B[49m\u001B[38;5;241;43m=\u001B[39;49m\u001B[43m \u001B[49m\u001B[38;5;28;43;01mNone\u001B[39;49;00m\u001B[43m,\u001B[49m\n\u001B[1;32m    749\u001B[0m \u001B[43m    \u001B[49m\u001B[43mexog\u001B[49m\u001B[43m             \u001B[49m\u001B[38;5;241;43m=\u001B[39;49m\u001B[43m \u001B[49m\u001B[43mexog\u001B[49m\u001B[43m,\u001B[49m\n\u001B[1;32m    750\u001B[0m \u001B[43m    \u001B[49m\u001B[43mexog_type\u001B[49m\u001B[43m        \u001B[49m\u001B[38;5;241;43m=\u001B[39;49m\u001B[43m \u001B[49m\u001B[38;5;28;43mself\u001B[39;49m\u001B[38;5;241;43m.\u001B[39;49m\u001B[43mexog_type\u001B[49m\u001B[43m,\u001B[49m\n\u001B[1;32m    751\u001B[0m \u001B[43m    \u001B[49m\u001B[43mexog_col_names\u001B[49m\u001B[43m   \u001B[49m\u001B[38;5;241;43m=\u001B[39;49m\u001B[43m \u001B[49m\u001B[38;5;28;43mself\u001B[39;49m\u001B[38;5;241;43m.\u001B[39;49m\u001B[43mexog_col_names\u001B[49m\u001B[43m,\u001B[49m\n\u001B[1;32m    752\u001B[0m \u001B[43m    \u001B[49m\u001B[43minterval\u001B[49m\u001B[43m         \u001B[49m\u001B[38;5;241;43m=\u001B[39;49m\u001B[43m \u001B[49m\u001B[38;5;28;43;01mNone\u001B[39;49;00m\u001B[43m,\u001B[49m\n\u001B[1;32m    753\u001B[0m \u001B[43m    \u001B[49m\u001B[43malpha\u001B[49m\u001B[43m            \u001B[49m\u001B[38;5;241;43m=\u001B[39;49m\u001B[43m \u001B[49m\u001B[38;5;28;43;01mNone\u001B[39;49;00m\u001B[43m,\u001B[49m\n\u001B[1;32m    754\u001B[0m \u001B[43m    \u001B[49m\u001B[43mmax_steps\u001B[49m\u001B[43m        \u001B[49m\u001B[38;5;241;43m=\u001B[39;49m\u001B[43m \u001B[49m\u001B[38;5;28;43mself\u001B[39;49m\u001B[38;5;241;43m.\u001B[39;49m\u001B[43msteps\u001B[49m\u001B[43m,\u001B[49m\n\u001B[1;32m    755\u001B[0m \u001B[43m    \u001B[49m\u001B[43mlevels\u001B[49m\u001B[43m           \u001B[49m\u001B[38;5;241;43m=\u001B[39;49m\u001B[43m \u001B[49m\u001B[38;5;28;43;01mNone\u001B[39;49;00m\u001B[43m,\u001B[49m\n\u001B[1;32m    756\u001B[0m \u001B[43m    \u001B[49m\u001B[43mseries_col_names\u001B[49m\u001B[43m \u001B[49m\u001B[38;5;241;43m=\u001B[39;49m\u001B[43m \u001B[49m\u001B[38;5;28;43;01mNone\u001B[39;49;00m\n\u001B[1;32m    757\u001B[0m \u001B[43m\u001B[49m\u001B[43m)\u001B[49m \n\u001B[1;32m    759\u001B[0m \u001B[38;5;28;01mif\u001B[39;00m exog \u001B[38;5;129;01mis\u001B[39;00m \u001B[38;5;129;01mnot\u001B[39;00m \u001B[38;5;28;01mNone\u001B[39;00m:\n\u001B[1;32m    760\u001B[0m     \u001B[38;5;28;01mif\u001B[39;00m \u001B[38;5;28misinstance\u001B[39m(exog, pd\u001B[38;5;241m.\u001B[39mDataFrame):\n",
      "File \u001B[0;32m~/Documents/TUE/Year 2/Quartile 4/DC2/DC2-Group1/venv/lib/python3.10/site-packages/skforecast/utils/utils.py:570\u001B[0m, in \u001B[0;36mcheck_predict_input\u001B[0;34m(forecaster_name, steps, fitted, included_exog, index_type, index_freq, window_size, last_window, last_window_exog, exog, exog_type, exog_col_names, interval, alpha, max_steps, levels, series_col_names)\u001B[0m\n\u001B[1;32m    565\u001B[0m         \u001B[38;5;28;01mraise\u001B[39;00m \u001B[38;5;167;01mValueError\u001B[39;00m(\n\u001B[1;32m    566\u001B[0m             \u001B[38;5;124mf\u001B[39m\u001B[38;5;124m\"\u001B[39m\u001B[38;5;124m`levels` must be in `series_col_names` : \u001B[39m\u001B[38;5;132;01m{\u001B[39;00mseries_col_names\u001B[38;5;132;01m}\u001B[39;00m\u001B[38;5;124m.\u001B[39m\u001B[38;5;124m\"\u001B[39m\n\u001B[1;32m    567\u001B[0m         )\n\u001B[1;32m    569\u001B[0m \u001B[38;5;28;01mif\u001B[39;00m exog \u001B[38;5;129;01mis\u001B[39;00m \u001B[38;5;28;01mNone\u001B[39;00m \u001B[38;5;129;01mand\u001B[39;00m included_exog:\n\u001B[0;32m--> 570\u001B[0m     \u001B[38;5;28;01mraise\u001B[39;00m \u001B[38;5;167;01mValueError\u001B[39;00m(\n\u001B[1;32m    571\u001B[0m         (\u001B[38;5;124m\"\u001B[39m\u001B[38;5;124mForecaster trained with exogenous variable/s. \u001B[39m\u001B[38;5;124m\"\u001B[39m\n\u001B[1;32m    572\u001B[0m          \u001B[38;5;124m\"\u001B[39m\u001B[38;5;124mSame variable/s must be provided when predicting.\u001B[39m\u001B[38;5;124m\"\u001B[39m)\n\u001B[1;32m    573\u001B[0m     )\n\u001B[1;32m    575\u001B[0m \u001B[38;5;28;01mif\u001B[39;00m exog \u001B[38;5;129;01mis\u001B[39;00m \u001B[38;5;129;01mnot\u001B[39;00m \u001B[38;5;28;01mNone\u001B[39;00m \u001B[38;5;129;01mand\u001B[39;00m \u001B[38;5;129;01mnot\u001B[39;00m included_exog:\n\u001B[1;32m    576\u001B[0m     \u001B[38;5;28;01mraise\u001B[39;00m \u001B[38;5;167;01mValueError\u001B[39;00m(\n\u001B[1;32m    577\u001B[0m         (\u001B[38;5;124m\"\u001B[39m\u001B[38;5;124mForecaster trained without exogenous variable/s. \u001B[39m\u001B[38;5;124m\"\u001B[39m\n\u001B[1;32m    578\u001B[0m          \u001B[38;5;124m\"\u001B[39m\u001B[38;5;124m`exog` must be `None` when predicting.\u001B[39m\u001B[38;5;124m\"\u001B[39m)\n\u001B[1;32m    579\u001B[0m     )\n",
      "\u001B[0;31mValueError\u001B[0m: Forecaster trained with exogenous variable/s. Same variable/s must be provided when predicting."
     ]
    }
   ],
   "source": [
    "# Predictions for the next 12 months\n",
    "future_exog = x_test.loc[35410:35423, exog]  # Exogenous features for the future period\n",
    "future_predictions = forecaster.predict(steps=12, exog=future_exog)\n",
    "\n",
    "# Convert the predicted labels back to the original LSOA names\n",
    "label_encoder = result_grid.best_forecaster_._label_encoder\n",
    "predicted_lsoa_names = label_encoder.inverse_transform(future_predictions)"
   ],
   "metadata": {
    "collapsed": false,
    "ExecuteTime": {
     "end_time": "2023-05-28T21:36:44.143252386Z",
     "start_time": "2023-05-28T21:36:44.085083727Z"
    }
   }
  },
  {
   "cell_type": "code",
   "execution_count": 113,
   "outputs": [],
   "source": [
    "# Predictions for the next 12 months without exogenous features\n",
    "future_exog = x_test.loc[:, exog]\n",
    "# Adjust the index of the future_exog to start from the appropriate index\n",
    "future_exog.index = range(len(x), len(x) + len(x_test))\n",
    "# Predict for the next 12 months\n",
    "predictions = forecaster.predict(steps=12, exog=future_exog)\n",
    "\n",
    "# Convert the predicted labels back to the original LSOA names\n",
    "predicted_lsoa_names = []\n",
    "for prediction in predictions:\n",
    "    try:\n",
    "        label = label_encoder.inverse_transform([prediction])[0]\n",
    "        predicted_lsoa_names.append(label)\n",
    "    except ValueError:\n",
    "        # Handle unseen label\n",
    "        predicted_lsoa_names.append(\"Unknown Label\")\n",
    "\n"
   ],
   "metadata": {
    "collapsed": false,
    "ExecuteTime": {
     "end_time": "2023-05-28T22:00:15.707692807Z",
     "start_time": "2023-05-28T22:00:15.672544380Z"
    }
   }
  },
  {
   "cell_type": "code",
   "execution_count": 114,
   "outputs": [
    {
     "data": {
      "text/plain": "['Unknown Label',\n 'Unknown Label',\n 'Unknown Label',\n 'Unknown Label',\n 'Unknown Label',\n 'Unknown Label',\n 'Unknown Label',\n 'Unknown Label',\n 'Unknown Label',\n 'Unknown Label',\n 'Unknown Label',\n 'Unknown Label']"
     },
     "execution_count": 114,
     "metadata": {},
     "output_type": "execute_result"
    }
   ],
   "source": [
    "predicted_lsoa_names"
   ],
   "metadata": {
    "collapsed": false,
    "ExecuteTime": {
     "end_time": "2023-05-28T22:00:17.803096738Z",
     "start_time": "2023-05-28T22:00:17.797346777Z"
    }
   }
  }
 ],
 "metadata": {
  "kernelspec": {
   "display_name": "Python 3",
   "language": "python",
   "name": "python3"
  },
  "language_info": {
   "codemirror_mode": {
    "name": "ipython",
    "version": 2
   },
   "file_extension": ".py",
   "mimetype": "text/x-python",
   "name": "python",
   "nbconvert_exporter": "python",
   "pygments_lexer": "ipython2",
   "version": "2.7.6"
  }
 },
 "nbformat": 4,
 "nbformat_minor": 0
}
