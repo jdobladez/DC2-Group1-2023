{
 "cells": [
  {
   "cell_type": "code",
   "execution_count": 1,
   "outputs": [],
   "source": [
    "import pandas as pd\n",
    "import numpy as np\n",
    "import xgboost as xgb\n",
    "from sklearn.pipeline import make_pipeline\n",
    "from sklearn.compose import make_column_transformer, make_column_selector\n",
    "from sklearn.preprocessing import LabelEncoder\n",
    "from sklearn.preprocessing import OrdinalEncoder\n",
    "from sklearn.preprocessing import FunctionTransformer\n",
    "import warnings\n",
    "from skforecast.exceptions import LongTrainingWarning\n",
    "from skforecast.ForecasterAutoregDirect import ForecasterAutoregDirect\n",
    "from skforecast.model_selection import grid_search_forecaster\n",
    "from skforecast.model_selection import backtesting_forecaster"
   ],
   "metadata": {
    "collapsed": false,
    "ExecuteTime": {
     "end_time": "2023-05-31T21:29:07.641313318Z",
     "start_time": "2023-05-31T21:29:06.745857118Z"
    }
   }
  },
  {
   "cell_type": "code",
   "execution_count": 2,
   "outputs": [],
   "source": [
    "# Load the data\n",
    "train_data = pd.read_csv(\"burglary_train.csv\")\n",
    "val_data = pd.read_csv(\"burglary_validation.csv\")\n",
    "test_data = pd.read_csv(\"burglary_test.csv\")\n"
   ],
   "metadata": {
    "collapsed": false,
    "ExecuteTime": {
     "end_time": "2023-05-31T21:29:07.784164652Z",
     "start_time": "2023-05-31T21:29:07.705887776Z"
    }
   }
  },
  {
   "cell_type": "code",
   "execution_count": 3,
   "outputs": [],
   "source": [
    "# The LSOA name will be the y, so create new data for it\n",
    "y_train = train_data[\"LSOA name\"]\n",
    "y_val = val_data[\"LSOA name\"]\n",
    "y_test = test_data[\"LSOA name\"]\n",
    "\n",
    "# Combine all labels\n",
    "all_labels = pd.concat([y_train, y_val, y_test])\n",
    "\n",
    "# Encode labels with integer values\n",
    "label_encoder = LabelEncoder()\n",
    "label_encoder.fit(all_labels)\n",
    "\n",
    "# Transform labels for each dataset\n",
    "y_train = label_encoder.transform(y_train)\n",
    "y_val = label_encoder.transform(y_val)\n",
    "y_test = label_encoder.transform(y_test)"
   ],
   "metadata": {
    "collapsed": false,
    "ExecuteTime": {
     "end_time": "2023-05-31T21:29:07.797662884Z",
     "start_time": "2023-05-31T21:29:07.787649301Z"
    }
   }
  },
  {
   "cell_type": "code",
   "execution_count": 4,
   "outputs": [],
   "source": [
    "# Delete the y from the x data and unwanted columns\n",
    "drop = [\"Crime type\", \"Last outcome category\", \"Reported by\", \"Crime ID\", \"LSOA name\"]\n",
    "x_train = train_data.drop(labels=drop, axis=1, inplace=False)\n",
    "x_val = val_data.drop(labels=drop, axis=1, inplace=False)\n",
    "x_test = test_data.drop(labels=drop, axis=1, inplace=False)\n",
    "\n",
    "# Set format of Location and LSOA code to category\n",
    "x_train['Location'] = x_train['Location'].astype('category')\n",
    "x_train['LSOA code'] = x_train['LSOA code'].astype('category')\n",
    "\n",
    "x_val['Location'] = x_val['Location'].astype('category')\n",
    "x_val['LSOA code'] = x_val['LSOA code'].astype('category')\n",
    "\n",
    "x_test['Location'] = x_test['Location'].astype('category')\n",
    "x_test['LSOA code'] = x_test['LSOA code'].astype('category')\n",
    "\n",
    "# Change format of the Month column and set it to index\n",
    "x_train['Time'] = pd.to_datetime(x_train['Month'], format='%Y-%m')\n",
    "x_val['Time'] = pd.to_datetime(x_val['Month'], format='%Y-%m')\n",
    "x_test['Time'] = pd.to_datetime(x_test['Month'], format='%Y-%m')\n"
   ],
   "metadata": {
    "collapsed": false,
    "ExecuteTime": {
     "end_time": "2023-05-31T21:29:07.825682676Z",
     "start_time": "2023-05-31T21:29:07.802969042Z"
    }
   }
  },
  {
   "cell_type": "code",
   "execution_count": 5,
   "outputs": [],
   "source": [
    "exog = ['Location', 'LSOA code']"
   ],
   "metadata": {
    "collapsed": false,
    "ExecuteTime": {
     "end_time": "2023-05-31T21:29:07.870147030Z",
     "start_time": "2023-05-31T21:29:07.828644675Z"
    }
   }
  },
  {
   "cell_type": "code",
   "execution_count": 6,
   "outputs": [],
   "source": [
    "# Transformer: Ordinal encoding + cast to category type\n",
    "pipeline_categorical = make_pipeline(\n",
    "                            OrdinalEncoder(\n",
    "                                dtype=int,\n",
    "                                handle_unknown=\"use_encoded_value\",\n",
    "                              unknown_value=-1,\n",
    "                                encoded_missing_value=-1\n",
    "                            ),\n",
    "                            FunctionTransformer(\n",
    "                                func=lambda x: x.astype('category'),\n",
    "                                feature_names_out= 'one-to-one'\n",
    "                            )\n",
    "                       )\n",
    "transformer_exog = make_column_transformer(\n",
    "                        (\n",
    "                            pipeline_categorical,\n",
    "                            make_column_selector(dtype_exclude=np.number)\n",
    "                        ),\n",
    "                        remainder=\"passthrough\",\n",
    "                        verbose_feature_names_out=False,\n",
    "                   ).set_output(transform=\"pandas\")\n",
    "\n",
    "# Create forecaster with automatic categorical detection\n",
    "forecaster = ForecasterAutoregDirect(\n",
    "    regressor=xgb.XGBRFRegressor(tree_method='hist', random_state=123, enable_categorical='auto'),\n",
    "    lags=12,\n",
    "    steps=12,\n",
    "    transformer_exog=transformer_exog\n",
    ")"
   ],
   "metadata": {
    "collapsed": false,
    "ExecuteTime": {
     "end_time": "2023-05-31T21:29:07.871965394Z",
     "start_time": "2023-05-31T21:29:07.870455124Z"
    }
   }
  },
  {
   "cell_type": "code",
   "execution_count": 22,
   "outputs": [],
   "source": [
    "\n",
    "# Define hyperparameters\n",
    "param_grid = {\n",
    "    'n_estimators': [100, 200, 300],\n",
    "    'max_depth': [10],\n",
    "    'learning_rate': [0.65, 0.75, 0.85, 0.95, 1]\n",
    "}\n",
    "\n",
    "# Lags used as predictors\n",
    "lags_grid = [12, 24, 36, 48]\n"
   ],
   "metadata": {
    "collapsed": false,
    "ExecuteTime": {
     "end_time": "2023-06-01T00:06:00.925136769Z",
     "start_time": "2023-06-01T00:06:00.922517228Z"
    }
   }
  },
  {
   "cell_type": "code",
   "execution_count": 23,
   "outputs": [
    {
     "name": "stdout",
     "output_type": "stream",
     "text": [
      "Number of models compared: 60.\n"
     ]
    },
    {
     "data": {
      "text/plain": "lags grid:   0%|          | 0/4 [00:00<?, ?it/s]",
      "application/vnd.jupyter.widget-view+json": {
       "version_major": 2,
       "version_minor": 0,
       "model_id": "ae3dc386e16f458bb81bf24003839a6e"
      }
     },
     "metadata": {},
     "output_type": "display_data"
    },
    {
     "data": {
      "text/plain": "params grid:   0%|          | 0/15 [00:00<?, ?it/s]",
      "application/vnd.jupyter.widget-view+json": {
       "version_major": 2,
       "version_minor": 0,
       "model_id": "f3882c61a19d4ccaa59b7d2e073f158f"
      }
     },
     "metadata": {},
     "output_type": "display_data"
    },
    {
     "data": {
      "text/plain": "params grid:   0%|          | 0/15 [00:00<?, ?it/s]",
      "application/vnd.jupyter.widget-view+json": {
       "version_major": 2,
       "version_minor": 0,
       "model_id": "e395a8fe61c24daebea0ef5150d41646"
      }
     },
     "metadata": {},
     "output_type": "display_data"
    },
    {
     "data": {
      "text/plain": "params grid:   0%|          | 0/15 [00:00<?, ?it/s]",
      "application/vnd.jupyter.widget-view+json": {
       "version_major": 2,
       "version_minor": 0,
       "model_id": "04f73dfe3b1e4053b6fba96ef7564fee"
      }
     },
     "metadata": {},
     "output_type": "display_data"
    },
    {
     "data": {
      "text/plain": "params grid:   0%|          | 0/15 [00:00<?, ?it/s]",
      "application/vnd.jupyter.widget-view+json": {
       "version_major": 2,
       "version_minor": 0,
       "model_id": "170c903db8aa4013a4f582d55223a22e"
      }
     },
     "metadata": {},
     "output_type": "display_data"
    },
    {
     "name": "stdout",
     "output_type": "stream",
     "text": [
      "`Forecaster` refitted using the best-found lags and parameters, and the whole data set: \n",
      "  Lags: [ 1  2  3  4  5  6  7  8  9 10 11 12 13 14 15 16 17 18 19 20 21 22 23 24\n",
      " 25 26 27 28 29 30 31 32 33 34 35 36 37 38 39 40 41 42 43 44 45 46 47 48] \n",
      "  Parameters: {'learning_rate': 1, 'max_depth': 10, 'n_estimators': 100}\n",
      "  Backtesting metric: 0.06352016207905069\n",
      "\n"
     ]
    }
   ],
   "source": [
    "\n",
    "# Obtaining best model\n",
    "x = pd.concat([x_train, x_val], ignore_index=True)\n",
    "y = np.append(y_train, y_val)\n",
    "y = pd.Series(y)\n",
    "\n",
    "warnings.simplefilter('ignore', category=LongTrainingWarning)\n",
    "\n",
    "result_grid = grid_search_forecaster(\n",
    "    forecaster=forecaster,\n",
    "    y=y,\n",
    "    exog=x.loc[:, exog],\n",
    "    param_grid=param_grid,\n",
    "    lags_grid=lags_grid,\n",
    "    steps=12,\n",
    "    refit=False,\n",
    "    metric='mean_squared_error',\n",
    "    initial_train_size=len(x_train),\n",
    "    fixed_train_size=False,\n",
    "    return_best=True,\n",
    "    verbose=False\n",
    ")\n"
   ],
   "metadata": {
    "collapsed": false,
    "ExecuteTime": {
     "end_time": "2023-06-01T02:40:56.348752805Z",
     "start_time": "2023-06-01T00:06:04.194521960Z"
    }
   }
  },
  {
   "cell_type": "code",
   "execution_count": 24,
   "outputs": [
    {
     "data": {
      "text/plain": "         RMSE                                               lags   \n57   0.252032  [1, 2, 3, 4, 5, 6, 7, 8, 9, 10, 11, 12, 13, 14...  \\\n59   0.279904  [1, 2, 3, 4, 5, 6, 7, 8, 9, 10, 11, 12, 13, 14...   \n58   0.326448  [1, 2, 3, 4, 5, 6, 7, 8, 9, 10, 11, 12, 13, 14...   \n43   0.336938  [1, 2, 3, 4, 5, 6, 7, 8, 9, 10, 11, 12, 13, 14...   \n44   0.346768  [1, 2, 3, 4, 5, 6, 7, 8, 9, 10, 11, 12, 13, 14...   \n14   0.357374            [1, 2, 3, 4, 5, 6, 7, 8, 9, 10, 11, 12]   \n28   0.363229  [1, 2, 3, 4, 5, 6, 7, 8, 9, 10, 11, 12, 13, 14...   \n12   0.366295            [1, 2, 3, 4, 5, 6, 7, 8, 9, 10, 11, 12]   \n13   0.372222            [1, 2, 3, 4, 5, 6, 7, 8, 9, 10, 11, 12]   \n29   0.390212  [1, 2, 3, 4, 5, 6, 7, 8, 9, 10, 11, 12, 13, 14...   \n27   0.402966  [1, 2, 3, 4, 5, 6, 7, 8, 9, 10, 11, 12, 13, 14...   \n42   0.448543  [1, 2, 3, 4, 5, 6, 7, 8, 9, 10, 11, 12, 13, 14...   \n54   6.297979  [1, 2, 3, 4, 5, 6, 7, 8, 9, 10, 11, 12, 13, 14...   \n56   6.299223  [1, 2, 3, 4, 5, 6, 7, 8, 9, 10, 11, 12, 13, 14...   \n55   6.302934  [1, 2, 3, 4, 5, 6, 7, 8, 9, 10, 11, 12, 13, 14...   \n9    6.303583            [1, 2, 3, 4, 5, 6, 7, 8, 9, 10, 11, 12]   \n11   6.305300            [1, 2, 3, 4, 5, 6, 7, 8, 9, 10, 11, 12]   \n10   6.305460            [1, 2, 3, 4, 5, 6, 7, 8, 9, 10, 11, 12]   \n41   6.305772  [1, 2, 3, 4, 5, 6, 7, 8, 9, 10, 11, 12, 13, 14...   \n40   6.306305  [1, 2, 3, 4, 5, 6, 7, 8, 9, 10, 11, 12, 13, 14...   \n25   6.310085  [1, 2, 3, 4, 5, 6, 7, 8, 9, 10, 11, 12, 13, 14...   \n26   6.312088  [1, 2, 3, 4, 5, 6, 7, 8, 9, 10, 11, 12, 13, 14...   \n24   6.312333  [1, 2, 3, 4, 5, 6, 7, 8, 9, 10, 11, 12, 13, 14...   \n39   6.316738  [1, 2, 3, 4, 5, 6, 7, 8, 9, 10, 11, 12, 13, 14...   \n51  18.836297  [1, 2, 3, 4, 5, 6, 7, 8, 9, 10, 11, 12, 13, 14...   \n53  18.836764  [1, 2, 3, 4, 5, 6, 7, 8, 9, 10, 11, 12, 13, 14...   \n6   18.838141            [1, 2, 3, 4, 5, 6, 7, 8, 9, 10, 11, 12]   \n52  18.838802  [1, 2, 3, 4, 5, 6, 7, 8, 9, 10, 11, 12, 13, 14...   \n7   18.839627            [1, 2, 3, 4, 5, 6, 7, 8, 9, 10, 11, 12]   \n8   18.839994            [1, 2, 3, 4, 5, 6, 7, 8, 9, 10, 11, 12]   \n38  18.840754  [1, 2, 3, 4, 5, 6, 7, 8, 9, 10, 11, 12, 13, 14...   \n37  18.841516  [1, 2, 3, 4, 5, 6, 7, 8, 9, 10, 11, 12, 13, 14...   \n22  18.844082  [1, 2, 3, 4, 5, 6, 7, 8, 9, 10, 11, 12, 13, 14...   \n21  18.844732  [1, 2, 3, 4, 5, 6, 7, 8, 9, 10, 11, 12, 13, 14...   \n23  18.844987  [1, 2, 3, 4, 5, 6, 7, 8, 9, 10, 11, 12, 13, 14...   \n36  18.846943  [1, 2, 3, 4, 5, 6, 7, 8, 9, 10, 11, 12, 13, 14...   \n48  31.377298  [1, 2, 3, 4, 5, 6, 7, 8, 9, 10, 11, 12, 13, 14...   \n50  31.377576  [1, 2, 3, 4, 5, 6, 7, 8, 9, 10, 11, 12, 13, 14...   \n3   31.378363            [1, 2, 3, 4, 5, 6, 7, 8, 9, 10, 11, 12]   \n49  31.379166  [1, 2, 3, 4, 5, 6, 7, 8, 9, 10, 11, 12, 13, 14...   \n4   31.379641            [1, 2, 3, 4, 5, 6, 7, 8, 9, 10, 11, 12]   \n5   31.380034            [1, 2, 3, 4, 5, 6, 7, 8, 9, 10, 11, 12]   \n35  31.380765  [1, 2, 3, 4, 5, 6, 7, 8, 9, 10, 11, 12, 13, 14...   \n34  31.381508  [1, 2, 3, 4, 5, 6, 7, 8, 9, 10, 11, 12, 13, 14...   \n19  31.383628  [1, 2, 3, 4, 5, 6, 7, 8, 9, 10, 11, 12, 13, 14...   \n18  31.383958  [1, 2, 3, 4, 5, 6, 7, 8, 9, 10, 11, 12, 13, 14...   \n20  31.384248  [1, 2, 3, 4, 5, 6, 7, 8, 9, 10, 11, 12, 13, 14...   \n33  31.385602  [1, 2, 3, 4, 5, 6, 7, 8, 9, 10, 11, 12, 13, 14...   \n45  43.918679  [1, 2, 3, 4, 5, 6, 7, 8, 9, 10, 11, 12, 13, 14...   \n47  43.918884  [1, 2, 3, 4, 5, 6, 7, 8, 9, 10, 11, 12, 13, 14...   \n0   43.919392            [1, 2, 3, 4, 5, 6, 7, 8, 9, 10, 11, 12]   \n46  43.920167  [1, 2, 3, 4, 5, 6, 7, 8, 9, 10, 11, 12, 13, 14...   \n1   43.920483            [1, 2, 3, 4, 5, 6, 7, 8, 9, 10, 11, 12]   \n2   43.920869            [1, 2, 3, 4, 5, 6, 7, 8, 9, 10, 11, 12]   \n32  43.921524  [1, 2, 3, 4, 5, 6, 7, 8, 9, 10, 11, 12, 13, 14...   \n31  43.922175  [1, 2, 3, 4, 5, 6, 7, 8, 9, 10, 11, 12, 13, 14...   \n16  43.923959  [1, 2, 3, 4, 5, 6, 7, 8, 9, 10, 11, 12, 13, 14...   \n15  43.924159  [1, 2, 3, 4, 5, 6, 7, 8, 9, 10, 11, 12, 13, 14...   \n17  43.924448  [1, 2, 3, 4, 5, 6, 7, 8, 9, 10, 11, 12, 13, 14...   \n30  43.925469  [1, 2, 3, 4, 5, 6, 7, 8, 9, 10, 11, 12, 13, 14...   \n\n                                               params  mean_squared_error   \n57  {'learning_rate': 1, 'max_depth': 10, 'n_estim...            0.063520  \\\n59  {'learning_rate': 1, 'max_depth': 10, 'n_estim...            0.078346   \n58  {'learning_rate': 1, 'max_depth': 10, 'n_estim...            0.106568   \n43  {'learning_rate': 1, 'max_depth': 10, 'n_estim...            0.113527   \n44  {'learning_rate': 1, 'max_depth': 10, 'n_estim...            0.120248   \n14  {'learning_rate': 1, 'max_depth': 10, 'n_estim...            0.127716   \n28  {'learning_rate': 1, 'max_depth': 10, 'n_estim...            0.131935   \n12  {'learning_rate': 1, 'max_depth': 10, 'n_estim...            0.134172   \n13  {'learning_rate': 1, 'max_depth': 10, 'n_estim...            0.138549   \n29  {'learning_rate': 1, 'max_depth': 10, 'n_estim...            0.152265   \n27  {'learning_rate': 1, 'max_depth': 10, 'n_estim...            0.162381   \n42  {'learning_rate': 1, 'max_depth': 10, 'n_estim...            0.201191   \n54  {'learning_rate': 0.95, 'max_depth': 10, 'n_es...           39.664537   \n56  {'learning_rate': 0.95, 'max_depth': 10, 'n_es...           39.680207   \n55  {'learning_rate': 0.95, 'max_depth': 10, 'n_es...           39.726983   \n9   {'learning_rate': 0.95, 'max_depth': 10, 'n_es...           39.735161   \n11  {'learning_rate': 0.95, 'max_depth': 10, 'n_es...           39.756811   \n10  {'learning_rate': 0.95, 'max_depth': 10, 'n_es...           39.758826   \n41  {'learning_rate': 0.95, 'max_depth': 10, 'n_es...           39.762757   \n40  {'learning_rate': 0.95, 'max_depth': 10, 'n_es...           39.769480   \n25  {'learning_rate': 0.95, 'max_depth': 10, 'n_es...           39.817177   \n26  {'learning_rate': 0.95, 'max_depth': 10, 'n_es...           39.842455   \n24  {'learning_rate': 0.95, 'max_depth': 10, 'n_es...           39.845549   \n39  {'learning_rate': 0.95, 'max_depth': 10, 'n_es...           39.901178   \n51  {'learning_rate': 0.85, 'max_depth': 10, 'n_es...          354.806098   \n53  {'learning_rate': 0.85, 'max_depth': 10, 'n_es...          354.823683   \n6   {'learning_rate': 0.85, 'max_depth': 10, 'n_es...          354.875565   \n52  {'learning_rate': 0.85, 'max_depth': 10, 'n_es...          354.900451   \n7   {'learning_rate': 0.85, 'max_depth': 10, 'n_es...          354.931561   \n8   {'learning_rate': 0.85, 'max_depth': 10, 'n_es...          354.945370   \n38  {'learning_rate': 0.85, 'max_depth': 10, 'n_es...          354.974025   \n37  {'learning_rate': 0.85, 'max_depth': 10, 'n_es...          355.002706   \n22  {'learning_rate': 0.85, 'max_depth': 10, 'n_es...          355.099445   \n21  {'learning_rate': 0.85, 'max_depth': 10, 'n_es...          355.123943   \n23  {'learning_rate': 0.85, 'max_depth': 10, 'n_es...          355.133531   \n36  {'learning_rate': 0.85, 'max_depth': 10, 'n_es...          355.207263   \n48  {'learning_rate': 0.75, 'max_depth': 10, 'n_es...          984.534827   \n50  {'learning_rate': 0.75, 'max_depth': 10, 'n_es...          984.552295   \n3   {'learning_rate': 0.75, 'max_depth': 10, 'n_es...          984.601638   \n49  {'learning_rate': 0.75, 'max_depth': 10, 'n_es...          984.652079   \n4   {'learning_rate': 0.75, 'max_depth': 10, 'n_es...          984.681881   \n5   {'learning_rate': 0.75, 'max_depth': 10, 'n_es...          984.706562   \n35  {'learning_rate': 0.75, 'max_depth': 10, 'n_es...          984.752440   \n34  {'learning_rate': 0.75, 'max_depth': 10, 'n_es...          984.799041   \n19  {'learning_rate': 0.75, 'max_depth': 10, 'n_es...          984.932094   \n18  {'learning_rate': 0.75, 'max_depth': 10, 'n_es...          984.952812   \n20  {'learning_rate': 0.75, 'max_depth': 10, 'n_es...          984.971005   \n33  {'learning_rate': 0.75, 'max_depth': 10, 'n_es...          985.055985   \n45  {'learning_rate': 0.65, 'max_depth': 10, 'n_es...         1928.850346   \n47  {'learning_rate': 0.65, 'max_depth': 10, 'n_es...         1928.868347   \n0   {'learning_rate': 0.65, 'max_depth': 10, 'n_es...         1928.913017   \n46  {'learning_rate': 0.65, 'max_depth': 10, 'n_es...         1928.981037   \n1   {'learning_rate': 0.65, 'max_depth': 10, 'n_es...         1929.008819   \n2   {'learning_rate': 0.65, 'max_depth': 10, 'n_es...         1929.042714   \n32  {'learning_rate': 0.65, 'max_depth': 10, 'n_es...         1929.100313   \n31  {'learning_rate': 0.65, 'max_depth': 10, 'n_es...         1929.157482   \n16  {'learning_rate': 0.65, 'max_depth': 10, 'n_es...         1929.314135   \n15  {'learning_rate': 0.65, 'max_depth': 10, 'n_es...         1929.331786   \n17  {'learning_rate': 0.65, 'max_depth': 10, 'n_es...         1929.357137   \n30  {'learning_rate': 0.65, 'max_depth': 10, 'n_es...         1929.446860   \n\n    learning_rate  max_depth  n_estimators  \n57           1.00       10.0         100.0  \n59           1.00       10.0         300.0  \n58           1.00       10.0         200.0  \n43           1.00       10.0         200.0  \n44           1.00       10.0         300.0  \n14           1.00       10.0         300.0  \n28           1.00       10.0         200.0  \n12           1.00       10.0         100.0  \n13           1.00       10.0         200.0  \n29           1.00       10.0         300.0  \n27           1.00       10.0         100.0  \n42           1.00       10.0         100.0  \n54           0.95       10.0         100.0  \n56           0.95       10.0         300.0  \n55           0.95       10.0         200.0  \n9            0.95       10.0         100.0  \n11           0.95       10.0         300.0  \n10           0.95       10.0         200.0  \n41           0.95       10.0         300.0  \n40           0.95       10.0         200.0  \n25           0.95       10.0         200.0  \n26           0.95       10.0         300.0  \n24           0.95       10.0         100.0  \n39           0.95       10.0         100.0  \n51           0.85       10.0         100.0  \n53           0.85       10.0         300.0  \n6            0.85       10.0         100.0  \n52           0.85       10.0         200.0  \n7            0.85       10.0         200.0  \n8            0.85       10.0         300.0  \n38           0.85       10.0         300.0  \n37           0.85       10.0         200.0  \n22           0.85       10.0         200.0  \n21           0.85       10.0         100.0  \n23           0.85       10.0         300.0  \n36           0.85       10.0         100.0  \n48           0.75       10.0         100.0  \n50           0.75       10.0         300.0  \n3            0.75       10.0         100.0  \n49           0.75       10.0         200.0  \n4            0.75       10.0         200.0  \n5            0.75       10.0         300.0  \n35           0.75       10.0         300.0  \n34           0.75       10.0         200.0  \n19           0.75       10.0         200.0  \n18           0.75       10.0         100.0  \n20           0.75       10.0         300.0  \n33           0.75       10.0         100.0  \n45           0.65       10.0         100.0  \n47           0.65       10.0         300.0  \n0            0.65       10.0         100.0  \n46           0.65       10.0         200.0  \n1            0.65       10.0         200.0  \n2            0.65       10.0         300.0  \n32           0.65       10.0         300.0  \n31           0.65       10.0         200.0  \n16           0.65       10.0         200.0  \n15           0.65       10.0         100.0  \n17           0.65       10.0         300.0  \n30           0.65       10.0         100.0  ",
      "text/html": "<div>\n<style scoped>\n    .dataframe tbody tr th:only-of-type {\n        vertical-align: middle;\n    }\n\n    .dataframe tbody tr th {\n        vertical-align: top;\n    }\n\n    .dataframe thead th {\n        text-align: right;\n    }\n</style>\n<table border=\"1\" class=\"dataframe\">\n  <thead>\n    <tr style=\"text-align: right;\">\n      <th></th>\n      <th>RMSE</th>\n      <th>lags</th>\n      <th>params</th>\n      <th>mean_squared_error</th>\n      <th>learning_rate</th>\n      <th>max_depth</th>\n      <th>n_estimators</th>\n    </tr>\n  </thead>\n  <tbody>\n    <tr>\n      <th>57</th>\n      <td>0.252032</td>\n      <td>[1, 2, 3, 4, 5, 6, 7, 8, 9, 10, 11, 12, 13, 14...</td>\n      <td>{'learning_rate': 1, 'max_depth': 10, 'n_estim...</td>\n      <td>0.063520</td>\n      <td>1.00</td>\n      <td>10.0</td>\n      <td>100.0</td>\n    </tr>\n    <tr>\n      <th>59</th>\n      <td>0.279904</td>\n      <td>[1, 2, 3, 4, 5, 6, 7, 8, 9, 10, 11, 12, 13, 14...</td>\n      <td>{'learning_rate': 1, 'max_depth': 10, 'n_estim...</td>\n      <td>0.078346</td>\n      <td>1.00</td>\n      <td>10.0</td>\n      <td>300.0</td>\n    </tr>\n    <tr>\n      <th>58</th>\n      <td>0.326448</td>\n      <td>[1, 2, 3, 4, 5, 6, 7, 8, 9, 10, 11, 12, 13, 14...</td>\n      <td>{'learning_rate': 1, 'max_depth': 10, 'n_estim...</td>\n      <td>0.106568</td>\n      <td>1.00</td>\n      <td>10.0</td>\n      <td>200.0</td>\n    </tr>\n    <tr>\n      <th>43</th>\n      <td>0.336938</td>\n      <td>[1, 2, 3, 4, 5, 6, 7, 8, 9, 10, 11, 12, 13, 14...</td>\n      <td>{'learning_rate': 1, 'max_depth': 10, 'n_estim...</td>\n      <td>0.113527</td>\n      <td>1.00</td>\n      <td>10.0</td>\n      <td>200.0</td>\n    </tr>\n    <tr>\n      <th>44</th>\n      <td>0.346768</td>\n      <td>[1, 2, 3, 4, 5, 6, 7, 8, 9, 10, 11, 12, 13, 14...</td>\n      <td>{'learning_rate': 1, 'max_depth': 10, 'n_estim...</td>\n      <td>0.120248</td>\n      <td>1.00</td>\n      <td>10.0</td>\n      <td>300.0</td>\n    </tr>\n    <tr>\n      <th>14</th>\n      <td>0.357374</td>\n      <td>[1, 2, 3, 4, 5, 6, 7, 8, 9, 10, 11, 12]</td>\n      <td>{'learning_rate': 1, 'max_depth': 10, 'n_estim...</td>\n      <td>0.127716</td>\n      <td>1.00</td>\n      <td>10.0</td>\n      <td>300.0</td>\n    </tr>\n    <tr>\n      <th>28</th>\n      <td>0.363229</td>\n      <td>[1, 2, 3, 4, 5, 6, 7, 8, 9, 10, 11, 12, 13, 14...</td>\n      <td>{'learning_rate': 1, 'max_depth': 10, 'n_estim...</td>\n      <td>0.131935</td>\n      <td>1.00</td>\n      <td>10.0</td>\n      <td>200.0</td>\n    </tr>\n    <tr>\n      <th>12</th>\n      <td>0.366295</td>\n      <td>[1, 2, 3, 4, 5, 6, 7, 8, 9, 10, 11, 12]</td>\n      <td>{'learning_rate': 1, 'max_depth': 10, 'n_estim...</td>\n      <td>0.134172</td>\n      <td>1.00</td>\n      <td>10.0</td>\n      <td>100.0</td>\n    </tr>\n    <tr>\n      <th>13</th>\n      <td>0.372222</td>\n      <td>[1, 2, 3, 4, 5, 6, 7, 8, 9, 10, 11, 12]</td>\n      <td>{'learning_rate': 1, 'max_depth': 10, 'n_estim...</td>\n      <td>0.138549</td>\n      <td>1.00</td>\n      <td>10.0</td>\n      <td>200.0</td>\n    </tr>\n    <tr>\n      <th>29</th>\n      <td>0.390212</td>\n      <td>[1, 2, 3, 4, 5, 6, 7, 8, 9, 10, 11, 12, 13, 14...</td>\n      <td>{'learning_rate': 1, 'max_depth': 10, 'n_estim...</td>\n      <td>0.152265</td>\n      <td>1.00</td>\n      <td>10.0</td>\n      <td>300.0</td>\n    </tr>\n    <tr>\n      <th>27</th>\n      <td>0.402966</td>\n      <td>[1, 2, 3, 4, 5, 6, 7, 8, 9, 10, 11, 12, 13, 14...</td>\n      <td>{'learning_rate': 1, 'max_depth': 10, 'n_estim...</td>\n      <td>0.162381</td>\n      <td>1.00</td>\n      <td>10.0</td>\n      <td>100.0</td>\n    </tr>\n    <tr>\n      <th>42</th>\n      <td>0.448543</td>\n      <td>[1, 2, 3, 4, 5, 6, 7, 8, 9, 10, 11, 12, 13, 14...</td>\n      <td>{'learning_rate': 1, 'max_depth': 10, 'n_estim...</td>\n      <td>0.201191</td>\n      <td>1.00</td>\n      <td>10.0</td>\n      <td>100.0</td>\n    </tr>\n    <tr>\n      <th>54</th>\n      <td>6.297979</td>\n      <td>[1, 2, 3, 4, 5, 6, 7, 8, 9, 10, 11, 12, 13, 14...</td>\n      <td>{'learning_rate': 0.95, 'max_depth': 10, 'n_es...</td>\n      <td>39.664537</td>\n      <td>0.95</td>\n      <td>10.0</td>\n      <td>100.0</td>\n    </tr>\n    <tr>\n      <th>56</th>\n      <td>6.299223</td>\n      <td>[1, 2, 3, 4, 5, 6, 7, 8, 9, 10, 11, 12, 13, 14...</td>\n      <td>{'learning_rate': 0.95, 'max_depth': 10, 'n_es...</td>\n      <td>39.680207</td>\n      <td>0.95</td>\n      <td>10.0</td>\n      <td>300.0</td>\n    </tr>\n    <tr>\n      <th>55</th>\n      <td>6.302934</td>\n      <td>[1, 2, 3, 4, 5, 6, 7, 8, 9, 10, 11, 12, 13, 14...</td>\n      <td>{'learning_rate': 0.95, 'max_depth': 10, 'n_es...</td>\n      <td>39.726983</td>\n      <td>0.95</td>\n      <td>10.0</td>\n      <td>200.0</td>\n    </tr>\n    <tr>\n      <th>9</th>\n      <td>6.303583</td>\n      <td>[1, 2, 3, 4, 5, 6, 7, 8, 9, 10, 11, 12]</td>\n      <td>{'learning_rate': 0.95, 'max_depth': 10, 'n_es...</td>\n      <td>39.735161</td>\n      <td>0.95</td>\n      <td>10.0</td>\n      <td>100.0</td>\n    </tr>\n    <tr>\n      <th>11</th>\n      <td>6.305300</td>\n      <td>[1, 2, 3, 4, 5, 6, 7, 8, 9, 10, 11, 12]</td>\n      <td>{'learning_rate': 0.95, 'max_depth': 10, 'n_es...</td>\n      <td>39.756811</td>\n      <td>0.95</td>\n      <td>10.0</td>\n      <td>300.0</td>\n    </tr>\n    <tr>\n      <th>10</th>\n      <td>6.305460</td>\n      <td>[1, 2, 3, 4, 5, 6, 7, 8, 9, 10, 11, 12]</td>\n      <td>{'learning_rate': 0.95, 'max_depth': 10, 'n_es...</td>\n      <td>39.758826</td>\n      <td>0.95</td>\n      <td>10.0</td>\n      <td>200.0</td>\n    </tr>\n    <tr>\n      <th>41</th>\n      <td>6.305772</td>\n      <td>[1, 2, 3, 4, 5, 6, 7, 8, 9, 10, 11, 12, 13, 14...</td>\n      <td>{'learning_rate': 0.95, 'max_depth': 10, 'n_es...</td>\n      <td>39.762757</td>\n      <td>0.95</td>\n      <td>10.0</td>\n      <td>300.0</td>\n    </tr>\n    <tr>\n      <th>40</th>\n      <td>6.306305</td>\n      <td>[1, 2, 3, 4, 5, 6, 7, 8, 9, 10, 11, 12, 13, 14...</td>\n      <td>{'learning_rate': 0.95, 'max_depth': 10, 'n_es...</td>\n      <td>39.769480</td>\n      <td>0.95</td>\n      <td>10.0</td>\n      <td>200.0</td>\n    </tr>\n    <tr>\n      <th>25</th>\n      <td>6.310085</td>\n      <td>[1, 2, 3, 4, 5, 6, 7, 8, 9, 10, 11, 12, 13, 14...</td>\n      <td>{'learning_rate': 0.95, 'max_depth': 10, 'n_es...</td>\n      <td>39.817177</td>\n      <td>0.95</td>\n      <td>10.0</td>\n      <td>200.0</td>\n    </tr>\n    <tr>\n      <th>26</th>\n      <td>6.312088</td>\n      <td>[1, 2, 3, 4, 5, 6, 7, 8, 9, 10, 11, 12, 13, 14...</td>\n      <td>{'learning_rate': 0.95, 'max_depth': 10, 'n_es...</td>\n      <td>39.842455</td>\n      <td>0.95</td>\n      <td>10.0</td>\n      <td>300.0</td>\n    </tr>\n    <tr>\n      <th>24</th>\n      <td>6.312333</td>\n      <td>[1, 2, 3, 4, 5, 6, 7, 8, 9, 10, 11, 12, 13, 14...</td>\n      <td>{'learning_rate': 0.95, 'max_depth': 10, 'n_es...</td>\n      <td>39.845549</td>\n      <td>0.95</td>\n      <td>10.0</td>\n      <td>100.0</td>\n    </tr>\n    <tr>\n      <th>39</th>\n      <td>6.316738</td>\n      <td>[1, 2, 3, 4, 5, 6, 7, 8, 9, 10, 11, 12, 13, 14...</td>\n      <td>{'learning_rate': 0.95, 'max_depth': 10, 'n_es...</td>\n      <td>39.901178</td>\n      <td>0.95</td>\n      <td>10.0</td>\n      <td>100.0</td>\n    </tr>\n    <tr>\n      <th>51</th>\n      <td>18.836297</td>\n      <td>[1, 2, 3, 4, 5, 6, 7, 8, 9, 10, 11, 12, 13, 14...</td>\n      <td>{'learning_rate': 0.85, 'max_depth': 10, 'n_es...</td>\n      <td>354.806098</td>\n      <td>0.85</td>\n      <td>10.0</td>\n      <td>100.0</td>\n    </tr>\n    <tr>\n      <th>53</th>\n      <td>18.836764</td>\n      <td>[1, 2, 3, 4, 5, 6, 7, 8, 9, 10, 11, 12, 13, 14...</td>\n      <td>{'learning_rate': 0.85, 'max_depth': 10, 'n_es...</td>\n      <td>354.823683</td>\n      <td>0.85</td>\n      <td>10.0</td>\n      <td>300.0</td>\n    </tr>\n    <tr>\n      <th>6</th>\n      <td>18.838141</td>\n      <td>[1, 2, 3, 4, 5, 6, 7, 8, 9, 10, 11, 12]</td>\n      <td>{'learning_rate': 0.85, 'max_depth': 10, 'n_es...</td>\n      <td>354.875565</td>\n      <td>0.85</td>\n      <td>10.0</td>\n      <td>100.0</td>\n    </tr>\n    <tr>\n      <th>52</th>\n      <td>18.838802</td>\n      <td>[1, 2, 3, 4, 5, 6, 7, 8, 9, 10, 11, 12, 13, 14...</td>\n      <td>{'learning_rate': 0.85, 'max_depth': 10, 'n_es...</td>\n      <td>354.900451</td>\n      <td>0.85</td>\n      <td>10.0</td>\n      <td>200.0</td>\n    </tr>\n    <tr>\n      <th>7</th>\n      <td>18.839627</td>\n      <td>[1, 2, 3, 4, 5, 6, 7, 8, 9, 10, 11, 12]</td>\n      <td>{'learning_rate': 0.85, 'max_depth': 10, 'n_es...</td>\n      <td>354.931561</td>\n      <td>0.85</td>\n      <td>10.0</td>\n      <td>200.0</td>\n    </tr>\n    <tr>\n      <th>8</th>\n      <td>18.839994</td>\n      <td>[1, 2, 3, 4, 5, 6, 7, 8, 9, 10, 11, 12]</td>\n      <td>{'learning_rate': 0.85, 'max_depth': 10, 'n_es...</td>\n      <td>354.945370</td>\n      <td>0.85</td>\n      <td>10.0</td>\n      <td>300.0</td>\n    </tr>\n    <tr>\n      <th>38</th>\n      <td>18.840754</td>\n      <td>[1, 2, 3, 4, 5, 6, 7, 8, 9, 10, 11, 12, 13, 14...</td>\n      <td>{'learning_rate': 0.85, 'max_depth': 10, 'n_es...</td>\n      <td>354.974025</td>\n      <td>0.85</td>\n      <td>10.0</td>\n      <td>300.0</td>\n    </tr>\n    <tr>\n      <th>37</th>\n      <td>18.841516</td>\n      <td>[1, 2, 3, 4, 5, 6, 7, 8, 9, 10, 11, 12, 13, 14...</td>\n      <td>{'learning_rate': 0.85, 'max_depth': 10, 'n_es...</td>\n      <td>355.002706</td>\n      <td>0.85</td>\n      <td>10.0</td>\n      <td>200.0</td>\n    </tr>\n    <tr>\n      <th>22</th>\n      <td>18.844082</td>\n      <td>[1, 2, 3, 4, 5, 6, 7, 8, 9, 10, 11, 12, 13, 14...</td>\n      <td>{'learning_rate': 0.85, 'max_depth': 10, 'n_es...</td>\n      <td>355.099445</td>\n      <td>0.85</td>\n      <td>10.0</td>\n      <td>200.0</td>\n    </tr>\n    <tr>\n      <th>21</th>\n      <td>18.844732</td>\n      <td>[1, 2, 3, 4, 5, 6, 7, 8, 9, 10, 11, 12, 13, 14...</td>\n      <td>{'learning_rate': 0.85, 'max_depth': 10, 'n_es...</td>\n      <td>355.123943</td>\n      <td>0.85</td>\n      <td>10.0</td>\n      <td>100.0</td>\n    </tr>\n    <tr>\n      <th>23</th>\n      <td>18.844987</td>\n      <td>[1, 2, 3, 4, 5, 6, 7, 8, 9, 10, 11, 12, 13, 14...</td>\n      <td>{'learning_rate': 0.85, 'max_depth': 10, 'n_es...</td>\n      <td>355.133531</td>\n      <td>0.85</td>\n      <td>10.0</td>\n      <td>300.0</td>\n    </tr>\n    <tr>\n      <th>36</th>\n      <td>18.846943</td>\n      <td>[1, 2, 3, 4, 5, 6, 7, 8, 9, 10, 11, 12, 13, 14...</td>\n      <td>{'learning_rate': 0.85, 'max_depth': 10, 'n_es...</td>\n      <td>355.207263</td>\n      <td>0.85</td>\n      <td>10.0</td>\n      <td>100.0</td>\n    </tr>\n    <tr>\n      <th>48</th>\n      <td>31.377298</td>\n      <td>[1, 2, 3, 4, 5, 6, 7, 8, 9, 10, 11, 12, 13, 14...</td>\n      <td>{'learning_rate': 0.75, 'max_depth': 10, 'n_es...</td>\n      <td>984.534827</td>\n      <td>0.75</td>\n      <td>10.0</td>\n      <td>100.0</td>\n    </tr>\n    <tr>\n      <th>50</th>\n      <td>31.377576</td>\n      <td>[1, 2, 3, 4, 5, 6, 7, 8, 9, 10, 11, 12, 13, 14...</td>\n      <td>{'learning_rate': 0.75, 'max_depth': 10, 'n_es...</td>\n      <td>984.552295</td>\n      <td>0.75</td>\n      <td>10.0</td>\n      <td>300.0</td>\n    </tr>\n    <tr>\n      <th>3</th>\n      <td>31.378363</td>\n      <td>[1, 2, 3, 4, 5, 6, 7, 8, 9, 10, 11, 12]</td>\n      <td>{'learning_rate': 0.75, 'max_depth': 10, 'n_es...</td>\n      <td>984.601638</td>\n      <td>0.75</td>\n      <td>10.0</td>\n      <td>100.0</td>\n    </tr>\n    <tr>\n      <th>49</th>\n      <td>31.379166</td>\n      <td>[1, 2, 3, 4, 5, 6, 7, 8, 9, 10, 11, 12, 13, 14...</td>\n      <td>{'learning_rate': 0.75, 'max_depth': 10, 'n_es...</td>\n      <td>984.652079</td>\n      <td>0.75</td>\n      <td>10.0</td>\n      <td>200.0</td>\n    </tr>\n    <tr>\n      <th>4</th>\n      <td>31.379641</td>\n      <td>[1, 2, 3, 4, 5, 6, 7, 8, 9, 10, 11, 12]</td>\n      <td>{'learning_rate': 0.75, 'max_depth': 10, 'n_es...</td>\n      <td>984.681881</td>\n      <td>0.75</td>\n      <td>10.0</td>\n      <td>200.0</td>\n    </tr>\n    <tr>\n      <th>5</th>\n      <td>31.380034</td>\n      <td>[1, 2, 3, 4, 5, 6, 7, 8, 9, 10, 11, 12]</td>\n      <td>{'learning_rate': 0.75, 'max_depth': 10, 'n_es...</td>\n      <td>984.706562</td>\n      <td>0.75</td>\n      <td>10.0</td>\n      <td>300.0</td>\n    </tr>\n    <tr>\n      <th>35</th>\n      <td>31.380765</td>\n      <td>[1, 2, 3, 4, 5, 6, 7, 8, 9, 10, 11, 12, 13, 14...</td>\n      <td>{'learning_rate': 0.75, 'max_depth': 10, 'n_es...</td>\n      <td>984.752440</td>\n      <td>0.75</td>\n      <td>10.0</td>\n      <td>300.0</td>\n    </tr>\n    <tr>\n      <th>34</th>\n      <td>31.381508</td>\n      <td>[1, 2, 3, 4, 5, 6, 7, 8, 9, 10, 11, 12, 13, 14...</td>\n      <td>{'learning_rate': 0.75, 'max_depth': 10, 'n_es...</td>\n      <td>984.799041</td>\n      <td>0.75</td>\n      <td>10.0</td>\n      <td>200.0</td>\n    </tr>\n    <tr>\n      <th>19</th>\n      <td>31.383628</td>\n      <td>[1, 2, 3, 4, 5, 6, 7, 8, 9, 10, 11, 12, 13, 14...</td>\n      <td>{'learning_rate': 0.75, 'max_depth': 10, 'n_es...</td>\n      <td>984.932094</td>\n      <td>0.75</td>\n      <td>10.0</td>\n      <td>200.0</td>\n    </tr>\n    <tr>\n      <th>18</th>\n      <td>31.383958</td>\n      <td>[1, 2, 3, 4, 5, 6, 7, 8, 9, 10, 11, 12, 13, 14...</td>\n      <td>{'learning_rate': 0.75, 'max_depth': 10, 'n_es...</td>\n      <td>984.952812</td>\n      <td>0.75</td>\n      <td>10.0</td>\n      <td>100.0</td>\n    </tr>\n    <tr>\n      <th>20</th>\n      <td>31.384248</td>\n      <td>[1, 2, 3, 4, 5, 6, 7, 8, 9, 10, 11, 12, 13, 14...</td>\n      <td>{'learning_rate': 0.75, 'max_depth': 10, 'n_es...</td>\n      <td>984.971005</td>\n      <td>0.75</td>\n      <td>10.0</td>\n      <td>300.0</td>\n    </tr>\n    <tr>\n      <th>33</th>\n      <td>31.385602</td>\n      <td>[1, 2, 3, 4, 5, 6, 7, 8, 9, 10, 11, 12, 13, 14...</td>\n      <td>{'learning_rate': 0.75, 'max_depth': 10, 'n_es...</td>\n      <td>985.055985</td>\n      <td>0.75</td>\n      <td>10.0</td>\n      <td>100.0</td>\n    </tr>\n    <tr>\n      <th>45</th>\n      <td>43.918679</td>\n      <td>[1, 2, 3, 4, 5, 6, 7, 8, 9, 10, 11, 12, 13, 14...</td>\n      <td>{'learning_rate': 0.65, 'max_depth': 10, 'n_es...</td>\n      <td>1928.850346</td>\n      <td>0.65</td>\n      <td>10.0</td>\n      <td>100.0</td>\n    </tr>\n    <tr>\n      <th>47</th>\n      <td>43.918884</td>\n      <td>[1, 2, 3, 4, 5, 6, 7, 8, 9, 10, 11, 12, 13, 14...</td>\n      <td>{'learning_rate': 0.65, 'max_depth': 10, 'n_es...</td>\n      <td>1928.868347</td>\n      <td>0.65</td>\n      <td>10.0</td>\n      <td>300.0</td>\n    </tr>\n    <tr>\n      <th>0</th>\n      <td>43.919392</td>\n      <td>[1, 2, 3, 4, 5, 6, 7, 8, 9, 10, 11, 12]</td>\n      <td>{'learning_rate': 0.65, 'max_depth': 10, 'n_es...</td>\n      <td>1928.913017</td>\n      <td>0.65</td>\n      <td>10.0</td>\n      <td>100.0</td>\n    </tr>\n    <tr>\n      <th>46</th>\n      <td>43.920167</td>\n      <td>[1, 2, 3, 4, 5, 6, 7, 8, 9, 10, 11, 12, 13, 14...</td>\n      <td>{'learning_rate': 0.65, 'max_depth': 10, 'n_es...</td>\n      <td>1928.981037</td>\n      <td>0.65</td>\n      <td>10.0</td>\n      <td>200.0</td>\n    </tr>\n    <tr>\n      <th>1</th>\n      <td>43.920483</td>\n      <td>[1, 2, 3, 4, 5, 6, 7, 8, 9, 10, 11, 12]</td>\n      <td>{'learning_rate': 0.65, 'max_depth': 10, 'n_es...</td>\n      <td>1929.008819</td>\n      <td>0.65</td>\n      <td>10.0</td>\n      <td>200.0</td>\n    </tr>\n    <tr>\n      <th>2</th>\n      <td>43.920869</td>\n      <td>[1, 2, 3, 4, 5, 6, 7, 8, 9, 10, 11, 12]</td>\n      <td>{'learning_rate': 0.65, 'max_depth': 10, 'n_es...</td>\n      <td>1929.042714</td>\n      <td>0.65</td>\n      <td>10.0</td>\n      <td>300.0</td>\n    </tr>\n    <tr>\n      <th>32</th>\n      <td>43.921524</td>\n      <td>[1, 2, 3, 4, 5, 6, 7, 8, 9, 10, 11, 12, 13, 14...</td>\n      <td>{'learning_rate': 0.65, 'max_depth': 10, 'n_es...</td>\n      <td>1929.100313</td>\n      <td>0.65</td>\n      <td>10.0</td>\n      <td>300.0</td>\n    </tr>\n    <tr>\n      <th>31</th>\n      <td>43.922175</td>\n      <td>[1, 2, 3, 4, 5, 6, 7, 8, 9, 10, 11, 12, 13, 14...</td>\n      <td>{'learning_rate': 0.65, 'max_depth': 10, 'n_es...</td>\n      <td>1929.157482</td>\n      <td>0.65</td>\n      <td>10.0</td>\n      <td>200.0</td>\n    </tr>\n    <tr>\n      <th>16</th>\n      <td>43.923959</td>\n      <td>[1, 2, 3, 4, 5, 6, 7, 8, 9, 10, 11, 12, 13, 14...</td>\n      <td>{'learning_rate': 0.65, 'max_depth': 10, 'n_es...</td>\n      <td>1929.314135</td>\n      <td>0.65</td>\n      <td>10.0</td>\n      <td>200.0</td>\n    </tr>\n    <tr>\n      <th>15</th>\n      <td>43.924159</td>\n      <td>[1, 2, 3, 4, 5, 6, 7, 8, 9, 10, 11, 12, 13, 14...</td>\n      <td>{'learning_rate': 0.65, 'max_depth': 10, 'n_es...</td>\n      <td>1929.331786</td>\n      <td>0.65</td>\n      <td>10.0</td>\n      <td>100.0</td>\n    </tr>\n    <tr>\n      <th>17</th>\n      <td>43.924448</td>\n      <td>[1, 2, 3, 4, 5, 6, 7, 8, 9, 10, 11, 12, 13, 14...</td>\n      <td>{'learning_rate': 0.65, 'max_depth': 10, 'n_es...</td>\n      <td>1929.357137</td>\n      <td>0.65</td>\n      <td>10.0</td>\n      <td>300.0</td>\n    </tr>\n    <tr>\n      <th>30</th>\n      <td>43.925469</td>\n      <td>[1, 2, 3, 4, 5, 6, 7, 8, 9, 10, 11, 12, 13, 14...</td>\n      <td>{'learning_rate': 0.65, 'max_depth': 10, 'n_es...</td>\n      <td>1929.446860</td>\n      <td>0.65</td>\n      <td>10.0</td>\n      <td>100.0</td>\n    </tr>\n  </tbody>\n</table>\n</div>"
     },
     "execution_count": 24,
     "metadata": {},
     "output_type": "execute_result"
    }
   ],
   "source": [
    "result_grid.insert(0, \"RMSE\", np.sqrt(result_grid[\"mean_squared_error\"]))\n",
    "\n",
    "result_grid"
   ],
   "metadata": {
    "collapsed": false,
    "ExecuteTime": {
     "end_time": "2023-06-01T02:40:56.470844635Z",
     "start_time": "2023-06-01T02:40:56.346118873Z"
    }
   }
  },
  {
   "cell_type": "code",
   "execution_count": 25,
   "outputs": [
    {
     "data": {
      "text/plain": "  0%|          | 0/738 [00:00<?, ?it/s]",
      "application/vnd.jupyter.widget-view+json": {
       "version_major": 2,
       "version_minor": 0,
       "model_id": "c45661234fb84f6ca5636ac66b4fdd73"
      }
     },
     "metadata": {},
     "output_type": "display_data"
    }
   ],
   "source": [
    "\n",
    "# Backtesting with the test data the best model\n",
    "x2 = pd.concat([x, x_test], ignore_index=True)\n",
    "y = np.append(y, y_test)\n",
    "y = pd.Series(y)\n",
    "\n",
    "# Predictions for the next 12 months without exogenous features\n",
    "fut_exog = x2.loc[:, exog]\n",
    "# Adjust the index of the future_exog to start from the appropriate index\n",
    "#fut_exog.index = range(len(x2), len(x2) + len(x_test))\n",
    "\n",
    "metric, predictions = backtesting_forecaster(\n",
    "    forecaster=forecaster,\n",
    "    y=y,\n",
    "    initial_train_size=len(x),\n",
    "    fixed_train_size=True,\n",
    "    steps=12,\n",
    "    refit=False,\n",
    "    metric='mean_squared_error',\n",
    "    verbose=False\n",
    ")"
   ],
   "metadata": {
    "collapsed": false,
    "ExecuteTime": {
     "end_time": "2023-06-01T02:42:15.434786337Z",
     "start_time": "2023-06-01T02:40:56.443061666Z"
    }
   }
  },
  {
   "cell_type": "code",
   "execution_count": 26,
   "outputs": [
    {
     "data": {
      "text/plain": "15.392895780353877"
     },
     "execution_count": 26,
     "metadata": {},
     "output_type": "execute_result"
    }
   ],
   "source": [
    "rsme_backtest = np.sqrt(metric)\n",
    "\n",
    "rsme_backtest"
   ],
   "metadata": {
    "collapsed": false,
    "ExecuteTime": {
     "end_time": "2023-06-01T02:42:15.487318263Z",
     "start_time": "2023-06-01T02:42:15.439827484Z"
    }
   }
  },
  {
   "cell_type": "code",
   "execution_count": 27,
   "outputs": [
    {
     "name": "stderr",
     "output_type": "stream",
     "text": [
      "/home/julia/Documents/TUE/Year 2/Quartile 4/DC2/DC2-Group1/venv/lib/python3.10/site-packages/sklearn/preprocessing/_label.py:155: DataConversionWarning: A column-vector y was passed when a 1d array was expected. Please change the shape of y to (n_samples, ), for example using ravel().\n",
      "  y = column_or_1d(y, warn=True)\n"
     ]
    },
    {
     "data": {
      "text/plain": "array(['Barnet 022F', 'Barnet 023A', 'Barnet 023B', ..., 'Barnet 028E',\n       'Barnet 027F', 'Barnet 023B'], dtype=object)"
     },
     "execution_count": 27,
     "metadata": {},
     "output_type": "execute_result"
    }
   ],
   "source": [
    "predictions = predictions.astype(float)\n",
    "predictions = predictions.round().astype(int)\n",
    "lsoa_names = label_encoder.inverse_transform(predictions)\n",
    "lsoa_names"
   ],
   "metadata": {
    "collapsed": false,
    "ExecuteTime": {
     "end_time": "2023-06-01T02:42:15.488306543Z",
     "start_time": "2023-06-01T02:42:15.486151326Z"
    }
   }
  },
  {
   "cell_type": "code",
   "execution_count": 28,
   "outputs": [],
   "source": [
    "# Predictions for the next 12 months without exogenous features\n",
    "future_exog = x_test.loc[:, exog]\n",
    "# Adjust the index of the future_exog to start from the appropriate index\n",
    "future_exog.index = range(len(x), len(x) + len(x_test))\n",
    "# Predict for the next 12 months\n",
    "predicted = forecaster.predict(steps=12, exog=future_exog)"
   ],
   "metadata": {
    "collapsed": false,
    "ExecuteTime": {
     "end_time": "2023-06-01T02:42:15.562540208Z",
     "start_time": "2023-06-01T02:42:15.486952521Z"
    }
   }
  },
  {
   "cell_type": "code",
   "execution_count": 29,
   "outputs": [
    {
     "data": {
      "text/plain": "array(['Barnet 023A', 'Barnet 023A', 'Barnet 024A', 'Barnet 024A',\n       'Barnet 024A', 'Barnet 024A', 'Barnet 024A', 'Barnet 024C',\n       'Barnet 024D', 'Barnet 024D', 'Barnet 024D', 'Barnet 024D'],\n      dtype=object)"
     },
     "execution_count": 29,
     "metadata": {},
     "output_type": "execute_result"
    }
   ],
   "source": [
    "predicted = predicted.astype(float)\n",
    "predicted = predicted.round().astype(int)\n",
    "predicted_lsoa_names = label_encoder.inverse_transform(predicted)\n",
    "predicted_lsoa_names"
   ],
   "metadata": {
    "collapsed": false,
    "ExecuteTime": {
     "end_time": "2023-06-01T02:42:15.602226521Z",
     "start_time": "2023-06-01T02:42:15.551068765Z"
    }
   }
  }
 ],
 "metadata": {
  "kernelspec": {
   "display_name": "Python 3",
   "language": "python",
   "name": "python3"
  },
  "language_info": {
   "codemirror_mode": {
    "name": "ipython",
    "version": 2
   },
   "file_extension": ".py",
   "mimetype": "text/x-python",
   "name": "python",
   "nbconvert_exporter": "python",
   "pygments_lexer": "ipython2",
   "version": "2.7.6"
  }
 },
 "nbformat": 4,
 "nbformat_minor": 0
}
