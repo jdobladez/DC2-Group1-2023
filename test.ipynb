{
 "cells": [
  {
   "cell_type": "code",
   "execution_count": 26,
   "metadata": {},
   "outputs": [],
   "source": [
    "import pandas as pd\n",
    "import numpy as np\n",
    "\n",
    "from sklearn.model_selection import train_test_split\n",
    "from sklearn.metrics import classification_report, confusion_matrix\n",
    "from sklearn.preprocessing import LabelEncoder\n",
    "\n",
    "import xgboost as xgb\n",
    "from xgboost import DMatrix\n",
    "\n",
    "import matplotlib.pyplot as plt\n",
    "import seaborn as sns\n",
    "import time"
   ]
  },
  {
   "cell_type": "code",
   "execution_count": 43,
   "metadata": {},
   "outputs": [
    {
     "name": "stdout",
     "output_type": "stream",
     "text": [
      "The LSOA name will be changed to numerical data by replacing letter at the end: {'A': 0, 'B': 1, 'C': 2, 'D': 3, 'E': 4, 'F': 5}\n",
      "For example, Barnet 023A will be 230.\n",
      "The outcome data is now numerical.\n"
     ]
    }
   ],
   "source": [
    "train_data = pd.read_csv(\"burglary_train.csv\")\n",
    "val_data = pd.read_csv(\"burglary_validation.csv\")\n",
    "test_data = pd.read_csv(\"burglary_test.csv\")\n",
    "\n",
    "# The LSOA name will be the y, so create new data for it\n",
    "y_train = train_data[\"LSOA name\"]\n",
    "y_val = val_data[\"LSOA name\"]\n",
    "y_test = test_data[\"LSOA name\"]\n",
    "\n",
    "# Change the y data to numerical data for model by replacing letter at the end and removing the word Barnet\n",
    "mapping = {'A': 0, 'B': 1, 'C': 2, 'D': 3, 'E': 4, 'F': 5}\n",
    "print('The LSOA name will be changed to numerical data by replacing letter at the end: ' + str(mapping))\n",
    "print('For example, Barnet 023A will be 230.')\n",
    "\n",
    "num_train = np.array([int(value.split()[1][:3]) for value in y_train])\n",
    "let_train = np.array([mapping[value.split()[1][-1]] for value in y_train])\n",
    "y_train = num_train * 10 + let_train\n",
    "\n",
    "\n",
    "num_val = np.array([int(value.split()[1][:3]) for value in y_val])\n",
    "let_val = np.array([mapping[value.split()[1][-1]] for value in y_val])\n",
    "y_val = num_val * 10 + let_val\n",
    "y_val = y_val.reshape(-1, 1)\n",
    "\n",
    "num_test = np.array([int(value.split()[1][:3]) for value in y_test])\n",
    "let_test = np.array([mapping[value.split()[1][-1]] for value in y_test])\n",
    "y_test = num_test * 10 + let_test\n",
    "y_test = y_test.reshape(-1, 1)\n",
    "print(\"The outcome data is now numerical.\")\n",
    "\n",
    "# Delete the y from the x data and unwanted columns\n",
    "drop = [\"Crime type\", \"Last outcome category\", \"Reported by\", \"Crime ID\", \"Location\", \"LSOA name\"]\n",
    "x_train = train_data.drop(labels=drop, axis=1, inplace=False)\n",
    "x_val = val_data.drop(labels=drop, axis=1, inplace=False)\n",
    "x_test = test_data.drop(labels=drop, axis=1, inplace=False)\n",
    "\n",
    "# Change month data to numerical data\n",
    "x_train[\"Month\"] = x_train[\"Month\"].str.replace(\"-\", \"\").astype(int)\n",
    "x_val[\"Month\"] = x_val[\"Month\"].str.replace(\"-\", \"\").astype(int)\n",
    "x_test[\"Month\"] = x_test[\"Month\"].str.replace(\"-\", \"\").astype(int)\n",
    "\n",
    "# Extract numerical data of LSOA code\n",
    "x_train[\"LSOA code\"] = x_train[\"LSOA code\"].str[1:].astype(int)\n",
    "x_val[\"LSOA code\"] = x_val[\"LSOA code\"].str[1:].astype(int)\n",
    "x_test[\"LSOA code\"] = x_test[\"LSOA code\"].str[1:].astype(int)\n",
    "\n",
    "data_list = [x_train, x_val, x_test]\n",
    "\n",
    "def data_encoder(lst: list):\n",
    "    for data in lst:\n",
    "        if 'LSOA code' in data.columns:\n",
    "            encoder = LabelEncoder()\n",
    "            try:\n",
    "                encoded_labels = encoder.fit_transform(data['LSOA code'])\n",
    "                data['LSOA_Encoded'] = np.where(encoded_labels <= 210, encoded_labels, -1)\n",
    "            except Exception as e:\n",
    "                print(f\"Error occurred while encoding column: {e}\")\n",
    "                continue\n",
    "        else:\n",
    "            print(\"Column 'LSOA code' not found in dataframe.\")\n",
    "\n",
    "data_encoder(data_list)"
   ]
  },
  {
   "cell_type": "code",
   "execution_count": 44,
   "metadata": {},
   "outputs": [],
   "source": [
    "dtrain_reg_1 = xgb.DMatrix(x_train, y_train, enable_categorical = True)\n",
    "dtest_reg_1 = xgb.DMatrix(x_test, y_test, enable_categorical = True)"
   ]
  },
  {
   "cell_type": "code",
   "execution_count": 45,
   "metadata": {},
   "outputs": [],
   "source": [
    "dtrain_reg = xgb.DMatrix(x_train, label = y_train)\n",
    "dtest_reg = xgb.DMatrix(x_test, label = y_test)"
   ]
  },
  {
   "cell_type": "code",
   "execution_count": 46,
   "metadata": {},
   "outputs": [
    {
     "data": {
      "text/plain": [
       "False"
      ]
     },
     "execution_count": 46,
     "metadata": {},
     "output_type": "execute_result"
    }
   ],
   "source": [
    "dtrain_reg_1 == dtrain_reg"
   ]
  },
  {
   "cell_type": "code",
   "execution_count": 47,
   "metadata": {},
   "outputs": [
    {
     "data": {
      "text/html": [
       "<div>\n",
       "<style scoped>\n",
       "    .dataframe tbody tr th:only-of-type {\n",
       "        vertical-align: middle;\n",
       "    }\n",
       "\n",
       "    .dataframe tbody tr th {\n",
       "        vertical-align: top;\n",
       "    }\n",
       "\n",
       "    .dataframe thead th {\n",
       "        text-align: right;\n",
       "    }\n",
       "</style>\n",
       "<table border=\"1\" class=\"dataframe\">\n",
       "  <thead>\n",
       "    <tr style=\"text-align: right;\">\n",
       "      <th></th>\n",
       "      <th>Unnamed: 0</th>\n",
       "      <th>Month</th>\n",
       "      <th>Longitude</th>\n",
       "      <th>Latitude</th>\n",
       "      <th>LSOA code</th>\n",
       "      <th>LSOA_Encoded</th>\n",
       "    </tr>\n",
       "  </thead>\n",
       "  <tbody>\n",
       "    <tr>\n",
       "      <th>0</th>\n",
       "      <td>0</td>\n",
       "      <td>202211</td>\n",
       "      <td>-0.204414</td>\n",
       "      <td>51.653895</td>\n",
       "      <td>1000248</td>\n",
       "      <td>132</td>\n",
       "    </tr>\n",
       "    <tr>\n",
       "      <th>1</th>\n",
       "      <td>1</td>\n",
       "      <td>202211</td>\n",
       "      <td>-0.207948</td>\n",
       "      <td>51.654471</td>\n",
       "      <td>1000248</td>\n",
       "      <td>132</td>\n",
       "    </tr>\n",
       "    <tr>\n",
       "      <th>2</th>\n",
       "      <td>2</td>\n",
       "      <td>202211</td>\n",
       "      <td>-0.209802</td>\n",
       "      <td>51.658770</td>\n",
       "      <td>1000249</td>\n",
       "      <td>133</td>\n",
       "    </tr>\n",
       "    <tr>\n",
       "      <th>3</th>\n",
       "      <td>3</td>\n",
       "      <td>202211</td>\n",
       "      <td>-0.199524</td>\n",
       "      <td>51.652885</td>\n",
       "      <td>1000250</td>\n",
       "      <td>134</td>\n",
       "    </tr>\n",
       "    <tr>\n",
       "      <th>4</th>\n",
       "      <td>4</td>\n",
       "      <td>202211</td>\n",
       "      <td>-0.196977</td>\n",
       "      <td>51.653682</td>\n",
       "      <td>1000250</td>\n",
       "      <td>134</td>\n",
       "    </tr>\n",
       "    <tr>\n",
       "      <th>...</th>\n",
       "      <td>...</td>\n",
       "      <td>...</td>\n",
       "      <td>...</td>\n",
       "      <td>...</td>\n",
       "      <td>...</td>\n",
       "      <td>...</td>\n",
       "    </tr>\n",
       "    <tr>\n",
       "      <th>30981</th>\n",
       "      <td>30981</td>\n",
       "      <td>201212</td>\n",
       "      <td>-0.282356</td>\n",
       "      <td>51.621970</td>\n",
       "      <td>1000191</td>\n",
       "      <td>75</td>\n",
       "    </tr>\n",
       "    <tr>\n",
       "      <th>30982</th>\n",
       "      <td>30982</td>\n",
       "      <td>201212</td>\n",
       "      <td>-0.274363</td>\n",
       "      <td>51.620927</td>\n",
       "      <td>1000191</td>\n",
       "      <td>75</td>\n",
       "    </tr>\n",
       "    <tr>\n",
       "      <th>30983</th>\n",
       "      <td>30983</td>\n",
       "      <td>201212</td>\n",
       "      <td>-0.151981</td>\n",
       "      <td>51.615476</td>\n",
       "      <td>1000158</td>\n",
       "      <td>42</td>\n",
       "    </tr>\n",
       "    <tr>\n",
       "      <th>30984</th>\n",
       "      <td>30984</td>\n",
       "      <td>201212</td>\n",
       "      <td>-0.150158</td>\n",
       "      <td>51.616625</td>\n",
       "      <td>1000158</td>\n",
       "      <td>42</td>\n",
       "    </tr>\n",
       "    <tr>\n",
       "      <th>30985</th>\n",
       "      <td>30985</td>\n",
       "      <td>201212</td>\n",
       "      <td>-0.153610</td>\n",
       "      <td>51.613424</td>\n",
       "      <td>1000158</td>\n",
       "      <td>42</td>\n",
       "    </tr>\n",
       "  </tbody>\n",
       "</table>\n",
       "<p>30986 rows × 6 columns</p>\n",
       "</div>"
      ],
      "text/plain": [
       "       Unnamed: 0   Month  Longitude   Latitude  LSOA code  LSOA_Encoded\n",
       "0               0  202211  -0.204414  51.653895    1000248           132\n",
       "1               1  202211  -0.207948  51.654471    1000248           132\n",
       "2               2  202211  -0.209802  51.658770    1000249           133\n",
       "3               3  202211  -0.199524  51.652885    1000250           134\n",
       "4               4  202211  -0.196977  51.653682    1000250           134\n",
       "...           ...     ...        ...        ...        ...           ...\n",
       "30981       30981  201212  -0.282356  51.621970    1000191            75\n",
       "30982       30982  201212  -0.274363  51.620927    1000191            75\n",
       "30983       30983  201212  -0.151981  51.615476    1000158            42\n",
       "30984       30984  201212  -0.150158  51.616625    1000158            42\n",
       "30985       30985  201212  -0.153610  51.613424    1000158            42\n",
       "\n",
       "[30986 rows x 6 columns]"
      ]
     },
     "execution_count": 47,
     "metadata": {},
     "output_type": "execute_result"
    }
   ],
   "source": [
    "x_train"
   ]
  },
  {
   "cell_type": "code",
   "execution_count": null,
   "metadata": {},
   "outputs": [],
   "source": []
  },
  {
   "cell_type": "code",
   "execution_count": 48,
   "metadata": {},
   "outputs": [
    {
     "name": "stdout",
     "output_type": "stream",
     "text": [
      "30986\n",
      "[ 10  11  12  13  14  15  20  21  22  23  24  30  31  32  33  40  41  42\n",
      "  43  44  45  50  51  52  53  60  61  62  63  64  70  71  72  73  74  75\n",
      "  80  81  82  83  84  90  91  92  93  94 100 101 102 103 104 110 111 112\n",
      " 113 114 120 121 122 123 124 130 131 132 133 134 135 140 141 142 143 144\n",
      " 145 150 151 152 153 154 155 160 161 162 163 170 171 172 173 180 181 182\n",
      " 183 184 190 191 192 193 194 195 200 201 202 203 204 210 211 212 213 214\n",
      " 220 221 222 223 224 225 230 231 232 233 240 241 242 243 244 245 250 251\n",
      " 252 253 254 260 261 262 263 264 270 271 272 273 274 275 280 281 282 283\n",
      " 284 290 291 292 293 294 295 300 301 303 304 305 310 311 312 313 320 321\n",
      " 322 323 324 325 330 331 332 333 334 335 340 341 342 343 350 351 352 353\n",
      " 354 355 360 361 362 363 364 365 370 371 372 373 374 375 380 381 382 383\n",
      " 384 390 391 392 393 400 401 402 403 410 411 412 413]\n",
      "211\n"
     ]
    }
   ],
   "source": [
    "num_classes = len(np.unique(y_train))\n",
    "print(len(y_train))\n",
    "\n",
    "print(np.unique(y_test))\n",
    "print(num_classes)"
   ]
  },
  {
   "cell_type": "code",
   "execution_count": 36,
   "metadata": {},
   "outputs": [
    {
     "ename": "XGBoostError",
     "evalue": "[17:37:52] C:\\buildkite-agent\\builds\\buildkite-windows-cpu-autoscaling-group-i-07593ffd91cd9da33-1\\xgboost\\xgboost-ci-windows\\src\\objective\\multiclass_obj.cu:123: SoftmaxMultiClassObj: label must be in [0, num_class).",
     "output_type": "error",
     "traceback": [
      "\u001b[1;31m---------------------------------------------------------------------------\u001b[0m",
      "\u001b[1;31mXGBoostError\u001b[0m                              Traceback (most recent call last)",
      "Cell \u001b[1;32mIn[36], line 9\u001b[0m\n\u001b[0;32m      6\u001b[0m params[\u001b[39m'\u001b[39m\u001b[39mnum_class\u001b[39m\u001b[39m'\u001b[39m] \u001b[39m=\u001b[39m num_classes      \n\u001b[0;32m      8\u001b[0m n \u001b[39m=\u001b[39m \u001b[39m10\u001b[39m\n\u001b[1;32m----> 9\u001b[0m model \u001b[39m=\u001b[39m xgb\u001b[39m.\u001b[39;49mtrain(\n\u001b[0;32m     10\u001b[0m    params\u001b[39m=\u001b[39;49mparams,\n\u001b[0;32m     11\u001b[0m    dtrain\u001b[39m=\u001b[39;49mdtrain_reg_1,\n\u001b[0;32m     12\u001b[0m    num_boost_round\u001b[39m=\u001b[39;49mn,\n\u001b[0;32m     13\u001b[0m )\n",
      "File \u001b[1;32mc:\\Users\\20211462\\AppData\\Local\\Programs\\Python\\Python311\\Lib\\site-packages\\xgboost\\core.py:620\u001b[0m, in \u001b[0;36mrequire_keyword_args.<locals>.throw_if.<locals>.inner_f\u001b[1;34m(*args, **kwargs)\u001b[0m\n\u001b[0;32m    618\u001b[0m \u001b[39mfor\u001b[39;00m k, arg \u001b[39min\u001b[39;00m \u001b[39mzip\u001b[39m(sig\u001b[39m.\u001b[39mparameters, args):\n\u001b[0;32m    619\u001b[0m     kwargs[k] \u001b[39m=\u001b[39m arg\n\u001b[1;32m--> 620\u001b[0m \u001b[39mreturn\u001b[39;00m func(\u001b[39m*\u001b[39;49m\u001b[39m*\u001b[39;49mkwargs)\n",
      "File \u001b[1;32mc:\\Users\\20211462\\AppData\\Local\\Programs\\Python\\Python311\\Lib\\site-packages\\xgboost\\training.py:185\u001b[0m, in \u001b[0;36mtrain\u001b[1;34m(params, dtrain, num_boost_round, evals, obj, feval, maximize, early_stopping_rounds, evals_result, verbose_eval, xgb_model, callbacks, custom_metric)\u001b[0m\n\u001b[0;32m    183\u001b[0m \u001b[39mif\u001b[39;00m cb_container\u001b[39m.\u001b[39mbefore_iteration(bst, i, dtrain, evals):\n\u001b[0;32m    184\u001b[0m     \u001b[39mbreak\u001b[39;00m\n\u001b[1;32m--> 185\u001b[0m bst\u001b[39m.\u001b[39;49mupdate(dtrain, i, obj)\n\u001b[0;32m    186\u001b[0m \u001b[39mif\u001b[39;00m cb_container\u001b[39m.\u001b[39mafter_iteration(bst, i, dtrain, evals):\n\u001b[0;32m    187\u001b[0m     \u001b[39mbreak\u001b[39;00m\n",
      "File \u001b[1;32mc:\\Users\\20211462\\AppData\\Local\\Programs\\Python\\Python311\\Lib\\site-packages\\xgboost\\core.py:1918\u001b[0m, in \u001b[0;36mBooster.update\u001b[1;34m(self, dtrain, iteration, fobj)\u001b[0m\n\u001b[0;32m   1915\u001b[0m \u001b[39mself\u001b[39m\u001b[39m.\u001b[39m_validate_dmatrix_features(dtrain)\n\u001b[0;32m   1917\u001b[0m \u001b[39mif\u001b[39;00m fobj \u001b[39mis\u001b[39;00m \u001b[39mNone\u001b[39;00m:\n\u001b[1;32m-> 1918\u001b[0m     _check_call(_LIB\u001b[39m.\u001b[39;49mXGBoosterUpdateOneIter(\u001b[39mself\u001b[39;49m\u001b[39m.\u001b[39;49mhandle,\n\u001b[0;32m   1919\u001b[0m                                             ctypes\u001b[39m.\u001b[39;49mc_int(iteration),\n\u001b[0;32m   1920\u001b[0m                                             dtrain\u001b[39m.\u001b[39;49mhandle))\n\u001b[0;32m   1921\u001b[0m \u001b[39melse\u001b[39;00m:\n\u001b[0;32m   1922\u001b[0m     pred \u001b[39m=\u001b[39m \u001b[39mself\u001b[39m\u001b[39m.\u001b[39mpredict(dtrain, output_margin\u001b[39m=\u001b[39m\u001b[39mTrue\u001b[39;00m, training\u001b[39m=\u001b[39m\u001b[39mTrue\u001b[39;00m)\n",
      "File \u001b[1;32mc:\\Users\\20211462\\AppData\\Local\\Programs\\Python\\Python311\\Lib\\site-packages\\xgboost\\core.py:279\u001b[0m, in \u001b[0;36m_check_call\u001b[1;34m(ret)\u001b[0m\n\u001b[0;32m    268\u001b[0m \u001b[39m\u001b[39m\u001b[39m\"\"\"Check the return value of C API call\u001b[39;00m\n\u001b[0;32m    269\u001b[0m \n\u001b[0;32m    270\u001b[0m \u001b[39mThis function will raise exception when error occurs.\u001b[39;00m\n\u001b[1;32m   (...)\u001b[0m\n\u001b[0;32m    276\u001b[0m \u001b[39m    return value from API calls\u001b[39;00m\n\u001b[0;32m    277\u001b[0m \u001b[39m\"\"\"\u001b[39;00m\n\u001b[0;32m    278\u001b[0m \u001b[39mif\u001b[39;00m ret \u001b[39m!=\u001b[39m \u001b[39m0\u001b[39m:\n\u001b[1;32m--> 279\u001b[0m     \u001b[39mraise\u001b[39;00m XGBoostError(py_str(_LIB\u001b[39m.\u001b[39mXGBGetLastError()))\n",
      "\u001b[1;31mXGBoostError\u001b[0m: [17:37:52] C:\\buildkite-agent\\builds\\buildkite-windows-cpu-autoscaling-group-i-07593ffd91cd9da33-1\\xgboost\\xgboost-ci-windows\\src\\objective\\multiclass_obj.cu:123: SoftmaxMultiClassObj: label must be in [0, num_class)."
     ]
    }
   ],
   "source": [
    "params = {\n",
    "    'objective': 'multi:softmax',  # Binary classification\n",
    "    'eval_metric': 'auc', # Log loss as the evaluation metric\n",
    "    'tree_method': 'gpu_hist'  \n",
    "}   \n",
    "params['num_class'] = num_classes      \n",
    "\n",
    "n = 10\n",
    "model = xgb.train(\n",
    "   params=params,\n",
    "   dtrain=dtrain_reg_1,\n",
    "   num_boost_round=n,\n",
    ")"
   ]
  },
  {
   "attachments": {},
   "cell_type": "markdown",
   "metadata": {},
   "source": [
    "## Issue with code\n",
    "\n",
    "LSOA in y variables do not match the encoding of x variables. \n",
    "Need to match them\n"
   ]
  },
  {
   "cell_type": "code",
   "execution_count": null,
   "metadata": {},
   "outputs": [],
   "source": []
  }
 ],
 "metadata": {
  "kernelspec": {
   "display_name": "Python 3",
   "language": "python",
   "name": "python3"
  },
  "language_info": {
   "codemirror_mode": {
    "name": "ipython",
    "version": 3
   },
   "file_extension": ".py",
   "mimetype": "text/x-python",
   "name": "python",
   "nbconvert_exporter": "python",
   "pygments_lexer": "ipython3",
   "version": "3.11.3"
  },
  "orig_nbformat": 4
 },
 "nbformat": 4,
 "nbformat_minor": 2
}
