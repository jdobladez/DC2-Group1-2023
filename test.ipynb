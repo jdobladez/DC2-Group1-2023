{
 "cells": [
  {
   "cell_type": "code",
   "execution_count": 28,
   "metadata": {},
   "outputs": [],
   "source": [
    "import pandas as pd\n",
    "import numpy as np\n",
    "\n",
    "from sklearn.model_selection import train_test_split\n",
    "from sklearn.metrics import classification_report, confusion_matrix\n",
    "\n",
    "import xgboost as xgb\n",
    "from xgboost import DMatrix\n",
    "\n",
    "import matplotlib.pyplot as plt\n",
    "import seaborn as sns\n",
    "import time"
   ]
  },
  {
   "cell_type": "code",
   "execution_count": 30,
   "metadata": {},
   "outputs": [
    {
     "name": "stdout",
     "output_type": "stream",
     "text": [
      "The LSOA name will be changed to numerical data by replacing letter at the end: {'A': 0, 'B': 1, 'C': 2, 'D': 3, 'E': 4, 'F': 5}\n",
      "For example, Barnet 023A will be 230.\n",
      "The outcome data is now numerical.\n"
     ]
    }
   ],
   "source": [
    "train_data = pd.read_csv(\"burglary_train.csv\")\n",
    "val_data = pd.read_csv(\"burglary_validation.csv\")\n",
    "test_data = pd.read_csv(\"burglary_test.csv\")\n",
    "\n",
    "# The LSOA name will be the y, so create new data for it\n",
    "y_train = train_data[\"LSOA name\"]\n",
    "y_val = val_data[\"LSOA name\"]\n",
    "y_test = test_data[\"LSOA name\"]\n",
    "\n",
    "# Change the y data to numerical data for model by replacing letter at the end and removing the word Barnet\n",
    "mapping = {'A': 0, 'B': 1, 'C': 2, 'D': 3, 'E': 4, 'F': 5}\n",
    "print('The LSOA name will be changed to numerical data by replacing letter at the end: ' + str(mapping))\n",
    "print('For example, Barnet 023A will be 230.')\n",
    "\n",
    "num_train = np.array([int(value.split()[1][:3]) for value in y_train])\n",
    "let_train = np.array([mapping[value.split()[1][-1]] for value in y_train])\n",
    "y_train = num_train * 10 + let_train\n",
    "\n",
    "\n",
    "num_val = np.array([int(value.split()[1][:3]) for value in y_val])\n",
    "let_val = np.array([mapping[value.split()[1][-1]] for value in y_val])\n",
    "y_val = num_val * 10 + let_val\n",
    "y_val = y_val.reshape(-1, 1)\n",
    "\n",
    "num_test = np.array([int(value.split()[1][:3]) for value in y_test])\n",
    "let_test = np.array([mapping[value.split()[1][-1]] for value in y_test])\n",
    "y_test = num_test * 10 + let_test\n",
    "y_test = y_test.reshape(-1, 1)\n",
    "print(\"The outcome data is now numerical.\")\n",
    "\n",
    "# Delete the y from the x data and unwanted columns\n",
    "drop = [\"Crime type\", \"Last outcome category\", \"Reported by\", \"Crime ID\", \"Location\", \"LSOA name\"]\n",
    "x_train = train_data.drop(labels=drop, axis=1, inplace=False)\n",
    "x_val = val_data.drop(labels=drop, axis=1, inplace=False)\n",
    "x_test = test_data.drop(labels=drop, axis=1, inplace=False)\n",
    "\n",
    "# Change month data to numerical data\n",
    "x_train[\"Month\"] = x_train[\"Month\"].str.replace(\"-\", \"\").astype(int)\n",
    "x_val[\"Month\"] = x_val[\"Month\"].str.replace(\"-\", \"\").astype(int)\n",
    "x_test[\"Month\"] = x_test[\"Month\"].str.replace(\"-\", \"\").astype(int)\n",
    "\n",
    "# Extract numerical data of LSOA code\n",
    "x_train[\"LSOA code\"] = x_train[\"LSOA code\"].str[1:].astype(int)\n",
    "x_val[\"LSOA code\"] = x_val[\"LSOA code\"].str[1:].astype(int)\n",
    "x_test[\"LSOA code\"] = x_test[\"LSOA code\"].str[1:].astype(int)"
   ]
  },
  {
   "cell_type": "code",
   "execution_count": 32,
   "metadata": {},
   "outputs": [],
   "source": [
    "dtrain_reg_1 = xgb.DMatrix(x_train, y_train, enable_categorical = True)\n",
    "dtest_reg_1 = xgb.DMatrix(x_test, y_test, enable_categorical = True)"
   ]
  },
  {
   "cell_type": "code",
   "execution_count": 33,
   "metadata": {},
   "outputs": [],
   "source": [
    "dtrain_reg = xgb.DMatrix(x_train, label = y_train)\n",
    "dtest_reg = xgb.DMatrix(x_test, label = y_test)"
   ]
  },
  {
   "cell_type": "code",
   "execution_count": 34,
   "metadata": {},
   "outputs": [
    {
     "data": {
      "text/plain": [
       "False"
      ]
     },
     "execution_count": 34,
     "metadata": {},
     "output_type": "execute_result"
    }
   ],
   "source": [
    "dtrain_reg_1 == dtrain_reg"
   ]
  },
  {
   "cell_type": "code",
   "execution_count": 36,
   "metadata": {},
   "outputs": [
    {
     "ename": "XGBoostError",
     "evalue": "value 0 for Parameter num_class should be greater equal to 1\nnum_class: Number of output class in the multi-class classification.",
     "output_type": "error",
     "traceback": [
      "\u001b[1;31m---------------------------------------------------------------------------\u001b[0m",
      "\u001b[1;31mXGBoostError\u001b[0m                              Traceback (most recent call last)",
      "Cell \u001b[1;32mIn[36], line 8\u001b[0m\n\u001b[0;32m      1\u001b[0m params \u001b[39m=\u001b[39m {\n\u001b[0;32m      2\u001b[0m     \u001b[39m'\u001b[39m\u001b[39mobjective\u001b[39m\u001b[39m'\u001b[39m: \u001b[39m'\u001b[39m\u001b[39mmulti:softmax\u001b[39m\u001b[39m'\u001b[39m,  \u001b[39m# Binary classification\u001b[39;00m\n\u001b[0;32m      3\u001b[0m     \u001b[39m'\u001b[39m\u001b[39meval_metric\u001b[39m\u001b[39m'\u001b[39m: \u001b[39m'\u001b[39m\u001b[39mlogloss\u001b[39m\u001b[39m'\u001b[39m, \u001b[39m# Log loss as the evaluation metric\u001b[39;00m\n\u001b[0;32m      4\u001b[0m     \u001b[39m'\u001b[39m\u001b[39mtree_method\u001b[39m\u001b[39m'\u001b[39m: \u001b[39m'\u001b[39m\u001b[39mgpu_hist\u001b[39m\u001b[39m'\u001b[39m     \n\u001b[0;32m      5\u001b[0m }         \n\u001b[0;32m      7\u001b[0m n \u001b[39m=\u001b[39m \u001b[39m10\u001b[39m\n\u001b[1;32m----> 8\u001b[0m model \u001b[39m=\u001b[39m xgb\u001b[39m.\u001b[39;49mtrain(\n\u001b[0;32m      9\u001b[0m    params\u001b[39m=\u001b[39;49mparams,\n\u001b[0;32m     10\u001b[0m    dtrain\u001b[39m=\u001b[39;49mdtrain_reg_1,\n\u001b[0;32m     11\u001b[0m    num_boost_round\u001b[39m=\u001b[39;49mn,\n\u001b[0;32m     12\u001b[0m )\n",
      "File \u001b[1;32mc:\\Users\\20211462\\AppData\\Local\\Programs\\Python\\Python311\\Lib\\site-packages\\xgboost\\core.py:620\u001b[0m, in \u001b[0;36mrequire_keyword_args.<locals>.throw_if.<locals>.inner_f\u001b[1;34m(*args, **kwargs)\u001b[0m\n\u001b[0;32m    618\u001b[0m \u001b[39mfor\u001b[39;00m k, arg \u001b[39min\u001b[39;00m \u001b[39mzip\u001b[39m(sig\u001b[39m.\u001b[39mparameters, args):\n\u001b[0;32m    619\u001b[0m     kwargs[k] \u001b[39m=\u001b[39m arg\n\u001b[1;32m--> 620\u001b[0m \u001b[39mreturn\u001b[39;00m func(\u001b[39m*\u001b[39;49m\u001b[39m*\u001b[39;49mkwargs)\n",
      "File \u001b[1;32mc:\\Users\\20211462\\AppData\\Local\\Programs\\Python\\Python311\\Lib\\site-packages\\xgboost\\training.py:185\u001b[0m, in \u001b[0;36mtrain\u001b[1;34m(params, dtrain, num_boost_round, evals, obj, feval, maximize, early_stopping_rounds, evals_result, verbose_eval, xgb_model, callbacks, custom_metric)\u001b[0m\n\u001b[0;32m    183\u001b[0m \u001b[39mif\u001b[39;00m cb_container\u001b[39m.\u001b[39mbefore_iteration(bst, i, dtrain, evals):\n\u001b[0;32m    184\u001b[0m     \u001b[39mbreak\u001b[39;00m\n\u001b[1;32m--> 185\u001b[0m bst\u001b[39m.\u001b[39;49mupdate(dtrain, i, obj)\n\u001b[0;32m    186\u001b[0m \u001b[39mif\u001b[39;00m cb_container\u001b[39m.\u001b[39mafter_iteration(bst, i, dtrain, evals):\n\u001b[0;32m    187\u001b[0m     \u001b[39mbreak\u001b[39;00m\n",
      "File \u001b[1;32mc:\\Users\\20211462\\AppData\\Local\\Programs\\Python\\Python311\\Lib\\site-packages\\xgboost\\core.py:1918\u001b[0m, in \u001b[0;36mBooster.update\u001b[1;34m(self, dtrain, iteration, fobj)\u001b[0m\n\u001b[0;32m   1915\u001b[0m \u001b[39mself\u001b[39m\u001b[39m.\u001b[39m_validate_dmatrix_features(dtrain)\n\u001b[0;32m   1917\u001b[0m \u001b[39mif\u001b[39;00m fobj \u001b[39mis\u001b[39;00m \u001b[39mNone\u001b[39;00m:\n\u001b[1;32m-> 1918\u001b[0m     _check_call(_LIB\u001b[39m.\u001b[39;49mXGBoosterUpdateOneIter(\u001b[39mself\u001b[39;49m\u001b[39m.\u001b[39;49mhandle,\n\u001b[0;32m   1919\u001b[0m                                             ctypes\u001b[39m.\u001b[39;49mc_int(iteration),\n\u001b[0;32m   1920\u001b[0m                                             dtrain\u001b[39m.\u001b[39;49mhandle))\n\u001b[0;32m   1921\u001b[0m \u001b[39melse\u001b[39;00m:\n\u001b[0;32m   1922\u001b[0m     pred \u001b[39m=\u001b[39m \u001b[39mself\u001b[39m\u001b[39m.\u001b[39mpredict(dtrain, output_margin\u001b[39m=\u001b[39m\u001b[39mTrue\u001b[39;00m, training\u001b[39m=\u001b[39m\u001b[39mTrue\u001b[39;00m)\n",
      "File \u001b[1;32mc:\\Users\\20211462\\AppData\\Local\\Programs\\Python\\Python311\\Lib\\site-packages\\xgboost\\core.py:279\u001b[0m, in \u001b[0;36m_check_call\u001b[1;34m(ret)\u001b[0m\n\u001b[0;32m    268\u001b[0m \u001b[39m\u001b[39m\u001b[39m\"\"\"Check the return value of C API call\u001b[39;00m\n\u001b[0;32m    269\u001b[0m \n\u001b[0;32m    270\u001b[0m \u001b[39mThis function will raise exception when error occurs.\u001b[39;00m\n\u001b[1;32m   (...)\u001b[0m\n\u001b[0;32m    276\u001b[0m \u001b[39m    return value from API calls\u001b[39;00m\n\u001b[0;32m    277\u001b[0m \u001b[39m\"\"\"\u001b[39;00m\n\u001b[0;32m    278\u001b[0m \u001b[39mif\u001b[39;00m ret \u001b[39m!=\u001b[39m \u001b[39m0\u001b[39m:\n\u001b[1;32m--> 279\u001b[0m     \u001b[39mraise\u001b[39;00m XGBoostError(py_str(_LIB\u001b[39m.\u001b[39mXGBGetLastError()))\n",
      "\u001b[1;31mXGBoostError\u001b[0m: value 0 for Parameter num_class should be greater equal to 1\nnum_class: Number of output class in the multi-class classification."
     ]
    }
   ],
   "source": [
    "params = {\n",
    "    'objective': 'multi:softmax',  # Binary classification\n",
    "    'eval_metric': 'logloss', # Log loss as the evaluation metric\n",
    "    'tree_method': 'gpu_hist'     \n",
    "}         \n",
    "\n",
    "n = 10\n",
    "model = xgb.train(\n",
    "   params=params,\n",
    "   dtrain=dtrain_reg_1,\n",
    "   num_boost_round=n,\n",
    ")"
   ]
  },
  {
   "cell_type": "code",
   "execution_count": null,
   "metadata": {},
   "outputs": [],
   "source": []
  },
  {
   "cell_type": "code",
   "execution_count": null,
   "metadata": {},
   "outputs": [],
   "source": []
  }
 ],
 "metadata": {
  "kernelspec": {
   "display_name": "Python 3",
   "language": "python",
   "name": "python3"
  },
  "language_info": {
   "codemirror_mode": {
    "name": "ipython",
    "version": 3
   },
   "file_extension": ".py",
   "mimetype": "text/x-python",
   "name": "python",
   "nbconvert_exporter": "python",
   "pygments_lexer": "ipython3",
   "version": "3.11.3"
  },
  "orig_nbformat": 4
 },
 "nbformat": 4,
 "nbformat_minor": 2
}
