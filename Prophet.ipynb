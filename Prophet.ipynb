{
 "cells": [
  {
   "cell_type": "markdown",
   "metadata": {
    "cell_id": "0d69abe700c6474ab1c5f88f7d6192d8",
    "deepnote_cell_type": "markdown"
   },
   "source": [
    "### Imports & installation"
   ]
  },
  {
   "cell_type": "code",
   "execution_count": null,
   "metadata": {
    "cell_id": "fcf3469db9d64fdea436f43630fd7c14",
    "deepnote_cell_type": "code",
    "deepnote_to_be_reexecuted": false,
    "execution_millis": 1374,
    "execution_start": 1686078640017,
    "source_hash": "984c26c8"
   },
   "outputs": [],
   "source": [
    "import pandas as pd\n",
    "import numpy as np\n",
    "import matplotlib.pyplot as plt\n",
    "from datetime import datetime"
   ]
  },
  {
   "cell_type": "code",
   "execution_count": null,
   "metadata": {
    "cell_id": "eafe3dd0586d43b1aff2353658b56eb3",
    "deepnote_cell_type": "code",
    "deepnote_to_be_reexecuted": false,
    "execution_millis": 2522,
    "execution_start": 1686078641405,
    "source_hash": "8e30e6a8"
   },
   "outputs": [],
   "source": [
    "pip uninstall holidays -y"
   ]
  },
  {
   "cell_type": "code",
   "execution_count": null,
   "metadata": {
    "cell_id": "38a5948b23e14bef99fbdd63bb695689",
    "deepnote_cell_type": "code",
    "deepnote_to_be_reexecuted": false,
    "execution_millis": 9849,
    "execution_start": 1686078643932,
    "source_hash": "c0d3a3bd"
   },
   "outputs": [],
   "source": [
    "pip install holidays==0.23"
   ]
  },
  {
   "cell_type": "code",
   "execution_count": null,
   "metadata": {
    "cell_id": "7c4f577bbf6242b3bfeea179c3561d29",
    "deepnote_cell_type": "code",
    "deepnote_to_be_reexecuted": false,
    "execution_millis": 5725,
    "execution_start": 1686078653784,
    "source_hash": "8941ce48"
   },
   "outputs": [],
   "source": [
    "pip install prophet"
   ]
  },
  {
   "cell_type": "code",
   "execution_count": null,
   "metadata": {
    "cell_id": "b74f39377500464680e2fdbc3365be55",
    "deepnote_cell_type": "code",
    "deepnote_to_be_reexecuted": false,
    "execution_millis": 200,
    "execution_start": 1686078659512,
    "source_hash": "c1be107"
   },
   "outputs": [],
   "source": [
    "from prophet import Prophet"
   ]
  },
  {
   "cell_type": "markdown",
   "metadata": {
    "cell_id": "abe337bb94cc48fdb45493ebca6c57cb",
    "deepnote_cell_type": "markdown"
   },
   "source": [
    "### Loading & transforming the data"
   ]
  },
  {
   "cell_type": "code",
   "execution_count": null,
   "metadata": {
    "cell_id": "395294f24e0a47189e2ef2a6024d28a5",
    "deepnote_cell_type": "code",
    "deepnote_to_be_reexecuted": false,
    "execution_millis": 3,
    "execution_start": 1686078659927,
    "source_hash": "8f93c62f"
   },
   "outputs": [],
   "source": [
    "def to_datetime(df):\n",
    "    # Changes date to datetime \n",
    "    for index, value in enumerate(df['Month']):\n",
    "        df.at[index, 'Month'] = datetime.strptime(value, '%Y-%m')\n",
    "    return df\n",
    "\n",
    "def get_most_frequent_locations(df):\n",
    "    # Returns a list of most frequent location per month \n",
    "    df_grouped = df.groupby([pd.Grouper(key='Month', freq='M'), 'LSOA code']).size()\n",
    "    most_frequent_location = df_grouped.groupby(level=0).idxmax()\n",
    "    locs = []\n",
    "    for loc in range(len(most_frequent_location)):\n",
    "        locs.append(most_frequent_location[loc][1])\n",
    "    return locs\n",
    "\n",
    "def count_per_month(df):\n",
    "    # Return a dataframe with crimes count per month\n",
    "    df_per_month = df.groupby(pd.Grouper(key='Month', freq='M')).size()\n",
    "    df_per_month = pd.DataFrame(df_per_month)\n",
    "    df_per_month['ds'] = df_per_month.index\n",
    "    df_per_month = df_per_month.rename(columns={0: 'y'})\n",
    "    return df_per_month \n",
    "\n",
    "def add_locs(df, locs):\n",
    "    # Adds most frequent location column to the dataframe\n",
    "    df['loc'] = locs\n",
    "    return df"
   ]
  },
  {
   "cell_type": "code",
   "execution_count": null,
   "metadata": {
    "cell_id": "3b189d74443e4af685ed448caf350c74",
    "deepnote_cell_type": "code",
    "deepnote_to_be_reexecuted": false,
    "execution_millis": 2,
    "execution_start": 1686078659928,
    "source_hash": "2f727720"
   },
   "outputs": [],
   "source": [
    "def loc_encoding(df):\n",
    "    # Returns a dataframe with encoded locations\n",
    "    one_hot_encoded = pd.get_dummies(df['loc'])\n",
    "    df_encoded = pd.concat([df, one_hot_encoded], axis=1)\n",
    "    df_encoded = df_encoded.drop('loc', axis=1)\n",
    "    return df_encoded\n",
    "\n",
    "def get_cols_for_pred(df):\n",
    "    # Returns a list of additional columns for regression \n",
    "    columns = df.iloc[:, 2:]\n",
    "    return columns"
   ]
  },
  {
   "cell_type": "code",
   "execution_count": null,
   "metadata": {},
   "outputs": [],
   "source": [
    "train_data = pd.read_csv('burglary_train.csv')\n",
    "test_data = pd.read_csv('burglary_test.csv')"
   ]
  },
  {
   "cell_type": "code",
   "execution_count": null,
   "metadata": {
    "cell_id": "7240b8839d374701bb1d26cc3896cb9b",
    "deepnote_cell_type": "code",
    "deepnote_to_be_reexecuted": false,
    "execution_millis": 881,
    "execution_start": 1686079485565,
    "source_hash": "e682f9bd"
   },
   "outputs": [],
   "source": [
    "train_data = to_datetime(train_data)\n",
    "locs = get_most_frequent_locations(train_data)\n",
    "train_data = count_per_month(train_data)\n",
    "train_data = add_locs(train_data, locs)\n",
    "train_data = loc_encoding(train_data)\n",
    "pred_cols = get_cols_for_pred(train_data)"
   ]
  },
  {
   "cell_type": "code",
   "execution_count": null,
   "metadata": {
    "cell_id": "5e89440146b348888879dcdf60675cd6",
    "deepnote_cell_type": "code",
    "deepnote_to_be_reexecuted": false,
    "execution_millis": 299,
    "execution_start": 1686079489289,
    "source_hash": "491834a8"
   },
   "outputs": [],
   "source": [
    "test_data = to_datetime(test_data)\n",
    "locs = get_most_frequent_locations(test_data)\n",
    "test_data = count_per_month(test_data)\n",
    "test_data = add_locs(test_data, locs)\n",
    "test_data = loc_encoding(test_data) "
   ]
  },
  {
   "cell_type": "markdown",
   "metadata": {
    "cell_id": "6fb486fdbe5f403fafecde072df88c21",
    "deepnote_cell_type": "markdown"
   },
   "source": [
    "# Prophet"
   ]
  },
  {
   "cell_type": "markdown",
   "metadata": {
    "cell_id": "372c36555abe4c3d8aed158cbaa38191",
    "deepnote_cell_type": "markdown"
   },
   "source": [
    "### Basic implementation on aggregated data"
   ]
  },
  {
   "cell_type": "code",
   "execution_count": null,
   "metadata": {
    "cell_id": "24aa6314cabf4806935587ce1debf9a2",
    "deepnote_cell_type": "code",
    "deepnote_to_be_reexecuted": false,
    "execution_millis": 163,
    "execution_start": 1686079509072,
    "source_hash": "1340baaf"
   },
   "outputs": [],
   "source": [
    "prophet_model = Prophet(yearly_seasonality=True)\n",
    "\n",
    "prophet_model.fit(train_data)\n",
    "\n",
    "future = prophet_model.make_future_dataframe(periods=12, freq='M')\n",
    "predictions = prophet_model.predict(future)"
   ]
  },
  {
   "cell_type": "code",
   "execution_count": null,
   "metadata": {
    "cell_id": "797e09fbe04444c3a5010f5d6fed2498",
    "deepnote_cell_type": "code",
    "deepnote_to_be_reexecuted": false,
    "execution_millis": 579,
    "execution_start": 1686079510371,
    "source_hash": "c25a8fe0"
   },
   "outputs": [],
   "source": [
    "plt = prophet_model.plot(predictions)\n",
    "plt.legend()\n",
    "plt.show()"
   ]
  },
  {
   "cell_type": "code",
   "execution_count": null,
   "metadata": {
    "cell_id": "032352807dd24a4286a2701fb77eb56c",
    "deepnote_cell_type": "code",
    "deepnote_to_be_reexecuted": false,
    "execution_millis": 6,
    "execution_start": 1686079512020,
    "source_hash": "605c546c"
   },
   "outputs": [],
   "source": [
    "test_predictions = predictions[-12:]\n",
    "test_predictions_reset = test_predictions.reset_index(drop=True)\n",
    "test_data_reset = test_data[-12:].reset_index(drop=True)"
   ]
  },
  {
   "cell_type": "code",
   "execution_count": null,
   "metadata": {
    "cell_id": "438dbd704e5f4eb1a3d4c25ff25d6c6d",
    "deepnote_cell_type": "code",
    "deepnote_to_be_reexecuted": false,
    "execution_millis": 6,
    "execution_start": 1686079513001,
    "source_hash": "db7a2ddc"
   },
   "outputs": [],
   "source": [
    "mse = ((test_predictions_reset['yhat'] - test_data_reset['y']) ** 2).mean()\n",
    "rmse = mse ** 0.5\n",
    "print('RMSE: {:.2f}'.format(rmse))"
   ]
  },
  {
   "cell_type": "code",
   "execution_count": null,
   "metadata": {
    "cell_id": "46aa3a42de8f492084b7fc61f7faada1",
    "deepnote_cell_type": "code",
    "deepnote_to_be_reexecuted": false,
    "execution_millis": 732,
    "execution_start": 1686079513721,
    "source_hash": "9705d723"
   },
   "outputs": [],
   "source": [
    "components = prophet_model.plot_components(predictions)"
   ]
  },
  {
   "cell_type": "markdown",
   "metadata": {
    "cell_id": "49ed9e4f991e42c58e2bbee2e8d92908",
    "deepnote_cell_type": "markdown"
   },
   "source": [
    "#### On aggregated data with most common location per month as and additional regressor"
   ]
  },
  {
   "cell_type": "code",
   "execution_count": null,
   "metadata": {
    "cell_id": "3ca6fc4b46f24a3abe131651b1a36a05",
    "deepnote_cell_type": "code",
    "deepnote_to_be_reexecuted": false,
    "execution_millis": 261,
    "execution_start": 1686078662815,
    "source_hash": "151edbb9"
   },
   "outputs": [],
   "source": [
    "# new model with location as additional regressor (in dummy variables)\n",
    "prophet_model_extra = Prophet(yearly_seasonality=True)\n",
    "\n",
    "# adds all location dummies to the model and fits the training data\n",
    "for col in pred_cols:\n",
    "    prophet_model_extra.add_regressor(col)\n",
    "\n",
    "prophet_model_extra.fit(train_data)"
   ]
  },
  {
   "cell_type": "code",
   "execution_count": null,
   "metadata": {
    "cell_id": "faf6a21e3d7e44ac855d943af7949407",
    "deepnote_cell_type": "code",
    "deepnote_to_be_reexecuted": false,
    "execution_millis": 30,
    "execution_start": 1686078663083,
    "source_hash": "13d433b9"
   },
   "outputs": [],
   "source": [
    "# extract column names. This is needed to create the future dataset\n",
    "colnames = pred_cols.columns.values.tolist()"
   ]
  },
  {
   "cell_type": "code",
   "execution_count": null,
   "metadata": {
    "cell_id": "36e7254671ee4aa097fdf8999db5b5cb",
    "deepnote_cell_type": "code",
    "deepnote_to_be_reexecuted": false,
    "execution_millis": 238,
    "execution_start": 1686078663139,
    "source_hash": "a3cfd90"
   },
   "outputs": [],
   "source": [
    "# create future dataframe, merge it with the columns where the date matches\n",
    "future_extra = prophet_model_extra.make_future_dataframe(periods=12, freq='M')\n",
    "future_extra = train_data[['ds']+colnames].merge(future_extra, how='outer', on='ds')\n",
    "future_extra"
   ]
  },
  {
   "cell_type": "code",
   "execution_count": null,
   "metadata": {
    "cell_id": "64b92b7f957343f2957c18adb10806e0",
    "deepnote_cell_type": "code",
    "deepnote_to_be_reexecuted": false,
    "execution_millis": 108,
    "execution_start": 1686078663382,
    "source_hash": "8f737708"
   },
   "outputs": [],
   "source": [
    "forecast = prophet_model.predict(future_extra) "
   ]
  },
  {
   "cell_type": "code",
   "execution_count": null,
   "metadata": {
    "cell_id": "1ab5a4bd6f7442708ac5268fa7a58886",
    "deepnote_cell_type": "code",
    "deepnote_to_be_reexecuted": false,
    "execution_millis": 655,
    "execution_start": 1686078663468,
    "source_hash": "74971821"
   },
   "outputs": [],
   "source": [
    "plt = prophet_model_extra.plot(forecast)\n",
    "plt.legend()\n",
    "plt.show()"
   ]
  },
  {
   "cell_type": "code",
   "execution_count": null,
   "metadata": {
    "cell_id": "26468574382c406989a15ff14259cc6b",
    "deepnote_cell_type": "code",
    "deepnote_to_be_reexecuted": false,
    "execution_millis": 4,
    "execution_start": 1686078664125,
    "source_hash": "a819a615"
   },
   "outputs": [],
   "source": [
    "test_predictions = forecast[-12:]\n",
    "test_predictions_reset = test_predictions.reset_index(drop=True)\n",
    "test_data_reset = test_data[-12:].reset_index(drop=True)"
   ]
  },
  {
   "cell_type": "code",
   "execution_count": null,
   "metadata": {
    "cell_id": "e55281681c4042f4bcee100002fe06c3",
    "deepnote_cell_type": "code",
    "deepnote_to_be_reexecuted": false,
    "execution_millis": 5,
    "execution_start": 1686078664345,
    "source_hash": "db7a2ddc"
   },
   "outputs": [],
   "source": [
    "mse = ((test_predictions_reset['yhat'] - test_data_reset['y']) ** 2).mean()\n",
    "rmse = mse ** 0.5\n",
    "print('RMSE: {:.2f}'.format(rmse))"
   ]
  },
  {
   "cell_type": "markdown",
   "metadata": {
    "cell_id": "525e35577ef54e2fac0694189a9f1e13",
    "deepnote_cell_type": "markdown"
   },
   "source": [
    "The plot differs a bit from the first one, but RMSE did not improve."
   ]
  },
  {
   "cell_type": "markdown",
   "metadata": {
    "cell_id": "17a3d6824e174ea49af2b3aad8f020bb",
    "deepnote_cell_type": "markdown"
   },
   "source": [
    "### Per location (ward and LSOA), with aggregation (monthly counts)"
   ]
  },
  {
   "cell_type": "code",
   "execution_count": null,
   "metadata": {
    "cell_id": "37125359fc7b41c7ba6170f3f92f151c",
    "deepnote_cell_type": "code",
    "deepnote_to_be_reexecuted": false,
    "execution_millis": 3,
    "execution_start": 1686078665452,
    "source_hash": "42674929"
   },
   "outputs": [],
   "source": [
    "def drop(df):\n",
    "    # Dropping columns (which are not encoded and not used for further predictions)\n",
    "    df = df.drop(df.columns[0], axis=1)\n",
    "    df = df.drop(['Longitude', 'Latitude', 'Location', 'LSOA name', 'Last outcome category'], axis=1)\n",
    "    return df"
   ]
  },
  {
   "cell_type": "code",
   "execution_count": null,
   "metadata": {
    "cell_id": "e3e0d1bf30624cb9ba31c14c49eb5d0f",
    "deepnote_cell_type": "code",
    "deepnote_to_be_reexecuted": false,
    "execution_millis": 21,
    "execution_start": 1686078665478,
    "source_hash": "bfae3312"
   },
   "outputs": [],
   "source": [
    "def loc_enc(df):\n",
    "    # Returns a dataframe with encoded locations (based on LSOA code)\n",
    "    one_hot_encoded = pd.get_dummies(df['LSOA code'])\n",
    "    df_encoded = pd.concat([df, one_hot_encoded], axis=1)\n",
    "    df_encoded = df_encoded.drop('LSOA code', axis=1)\n",
    "    return df_encoded"
   ]
  },
  {
   "cell_type": "code",
   "execution_count": null,
   "metadata": {},
   "outputs": [],
   "source": [
    "def ward_enc(df):\n",
    "    # Returns a dataframe with encoded locations (based on ward name)\n",
    "    one_hot_encoded = pd.get_dummies(df['Ward name'])\n",
    "    df_encoded = pd.concat([df, one_hot_encoded], axis=1)\n",
    "    df_encoded = df_encoded.drop('Ward name', axis=1)\n",
    "    return df_encoded"
   ]
  },
  {
   "cell_type": "code",
   "execution_count": null,
   "metadata": {
    "cell_id": "e43d815ee59e4b1eb0f92857b4a387b7",
    "deepnote_cell_type": "code",
    "deepnote_to_be_reexecuted": false,
    "execution_millis": 1560,
    "execution_start": 1686078970782,
    "source_hash": "afb06cc"
   },
   "outputs": [],
   "source": [
    "train_data = pd.read_csv('burglary_train.csv')\n",
    "test_data = pd.read_csv('burglary_test.csv')\n",
    "all_wards = train_data['Ward name'].unique()\n",
    "train_data = to_datetime(train_data)\n",
    "test_data = to_datetime(test_data)\n",
    "train_data = drop(train_data)\n",
    "test_data = drop(test_data)\n",
    "train_data = ward_enc(train_data)\n",
    "test_data = ward_enc(test_data)"
   ]
  },
  {
   "cell_type": "code",
   "execution_count": null,
   "metadata": {
    "cell_id": "9191b072e9df4c82bfdd2b1c8449f332",
    "deepnote_cell_type": "code",
    "deepnote_to_be_reexecuted": false,
    "execution_millis": 24,
    "execution_start": 1686078973691,
    "source_hash": "d1ccf37c"
   },
   "outputs": [],
   "source": [
    "more_train = test_data.iloc[:6325, :]\n",
    "new_test = test_data.iloc[6325:, :]\n",
    "merged = pd.concat([train_data, more_train], axis=0)\n",
    "train_data = merged\n",
    "test_data = new_test"
   ]
  },
  {
   "cell_type": "code",
   "execution_count": null,
   "metadata": {
    "cell_id": "a16c9eee94c846759b0988f303428edc",
    "deepnote_cell_type": "code",
    "deepnote_to_be_reexecuted": false,
    "execution_millis": 6,
    "execution_start": 1686078975146,
    "source_hash": "9089b317"
   },
   "outputs": [],
   "source": [
    "# new dataframe to not to get confused\n",
    "df_prophet = pd.DataFrame()\n",
    "test_prophet = pd.DataFrame()\n",
    "\n",
    "df_prophet['ds'] = train_data['Month']\n",
    "test_prophet['ds'] = test_data['Month']"
   ]
  },
  {
   "cell_type": "code",
   "execution_count": null,
   "metadata": {},
   "outputs": [],
   "source": [
    "from sklearn.metrics import mean_absolute_error\n",
    "from sklearn.metrics import r2_score"
   ]
  },
  {
   "cell_type": "markdown",
   "metadata": {},
   "source": [
    "### For each ward"
   ]
  },
  {
   "cell_type": "code",
   "execution_count": null,
   "metadata": {},
   "outputs": [],
   "source": [
    "ward_df = pd.DataFrame(columns=['rmse', 'mae', 'r-squared'])\n",
    "ward_df.loc[0] = [0,0,0]"
   ]
  },
  {
   "cell_type": "code",
   "execution_count": null,
   "metadata": {},
   "outputs": [],
   "source": [
    "maes = 0\n",
    "rmses = 0 \n",
    "rsquareds = 0\n",
    "\n",
    "# creating models and calculating performance metrics per ward\n",
    "\n",
    "for ward in all_wards:\n",
    "    \n",
    "    train_data = pd.read_csv('burglary_train.csv')\n",
    "    test_data = pd.read_csv('burglary_test.csv')\n",
    "\n",
    "    train_data = to_datetime(train_data)\n",
    "    test_data = to_datetime(test_data)\n",
    "    train_data = drop(train_data)\n",
    "    test_data = drop(test_data)\n",
    "    train_data = ward_enc(train_data)\n",
    "    test_data = ward_enc(test_data)\n",
    "    \n",
    "    more_train = test_data.iloc[:6325, :]\n",
    "    new_test = test_data.iloc[6325:, :]\n",
    "    merged = pd.concat([train_data, more_train], axis=0)\n",
    "    train_data = merged\n",
    "    test_data = new_test\n",
    "\n",
    "    df_prophet = pd.DataFrame()\n",
    "    test_prophet = pd.DataFrame()\n",
    "\n",
    "    df_prophet['ds'] = train_data['Month']\n",
    "    test_prophet['ds'] = test_data['Month']\n",
    "    df_prophet['y'] = train_data[ward]\n",
    "    test_prophet['y'] = test_data[ward]\n",
    "    \n",
    "    df_prophet.set_index('ds', inplace=True)\n",
    "    df_prophet = df_prophet.resample('M').sum()\n",
    "    df_prophet['ds'] = df_prophet.index\n",
    "\n",
    "    test_prophet.set_index('ds', inplace=True)\n",
    "    test_prophet = test_prophet.resample('M').sum()\n",
    "    test_prophet['ds'] = test_prophet.index\n",
    "\n",
    "    train_data = df_prophet\n",
    "    test_data = test_prophet\n",
    "    \n",
    "    # changepoint_prior_scale can be added in the Prophet brackets to check the tuning results\n",
    "    model = Prophet()\n",
    "    model.fit(train_data)\n",
    "    \n",
    "    future_dates = model.make_future_dataframe(periods=12, freq='M')\n",
    "    predictions = model.predict(future_dates)\n",
    "    \n",
    "    test_predictions = predictions[-12:]\n",
    "    test_predictions_reset = test_predictions.reset_index(drop=True)\n",
    "    test_data_reset = test_data[-12:].reset_index(drop=True)\n",
    "    \n",
    "    mse = ((test_predictions_reset['yhat'] - test_data_reset['y']) ** 2).mean()\n",
    "    rmse = mse ** 0.5\n",
    "    \n",
    "    test_predictions_reset['yhat'] = test_predictions_reset['yhat'].astype(int)\n",
    "    \n",
    "    predicted_values = predictions['yhat'].tail(12)\n",
    "    actual_values = test_data_reset['y']\n",
    "\n",
    "    mae = mean_absolute_error(actual_values, predicted_values)\n",
    "    r_squared = r2_score(actual_values, predicted_values)\n",
    "    \n",
    "    maes = maes + mae\n",
    "    rmses = rmses + rmse\n",
    "    rsquareds = rsquareds + r_squared\n",
    "    ward_df.loc[ward] = [round(rmse, 2), mae.round(2), r_squared.round(2)]"
   ]
  },
  {
   "cell_type": "code",
   "execution_count": null,
   "metadata": {},
   "outputs": [],
   "source": [
    "print(\"mae: \", maes/len(all_wards), \", rmse: \", rmses/len(all_wards), \", r-squared: \", rsquareds/len(all_wards))"
   ]
  },
  {
   "cell_type": "code",
   "execution_count": null,
   "metadata": {},
   "outputs": [],
   "source": [
    "ward_df.drop(index=0).to_csv('results_ward.csv', index_label = 'ward')"
   ]
  },
  {
   "cell_type": "markdown",
   "metadata": {
    "cell_id": "c0c677a59e0940a9b0452a2de1decc99",
    "deepnote_cell_type": "markdown"
   },
   "source": [
    "### For each LSOA"
   ]
  },
  {
   "cell_type": "code",
   "execution_count": null,
   "metadata": {
    "cell_id": "195d6fa7daed4929b7cfeb173bc22f22",
    "deepnote_cell_type": "code",
    "deepnote_to_be_reexecuted": false,
    "execution_millis": 1229,
    "execution_start": 1686079193542,
    "source_hash": "6276daba"
   },
   "outputs": [],
   "source": [
    "train_data = pd.read_csv('burglary_train.csv')\n",
    "test_data = pd.read_csv('burglary_test.csv')\n",
    "train_data = to_datetime(train_data)\n",
    "test_data = to_datetime(test_data)\n",
    "train_data = drop(train_data)\n",
    "test_data = drop(test_data)\n",
    "train_data = loc_enc(train_data)\n",
    "test_data = loc_enc(test_data)\n",
    "more_train = test_data.iloc[:6325, :]\n",
    "new_test = test_data.iloc[6325:, :]\n",
    "merged = pd.concat([train_data, more_train], axis=0)\n",
    "train_data = merged\n",
    "test_data = new_test"
   ]
  },
  {
   "cell_type": "code",
   "execution_count": null,
   "metadata": {
    "cell_id": "8729e5cab98141d0b157b7242c7f0d8a",
    "deepnote_cell_type": "code",
    "deepnote_to_be_reexecuted": false,
    "execution_millis": 3,
    "execution_start": 1686079195286,
    "source_hash": "345915b7"
   },
   "outputs": [],
   "source": [
    "# creating a dataframe to save the results\n",
    "results_sum = pd.DataFrame({'LSOA':[], 'RMSE':[], 'MAE':[], 'R^2':[]})\n",
    "i = 0"
   ]
  },
  {
   "cell_type": "code",
   "execution_count": null,
   "metadata": {
    "cell_id": "99b35686e0ef4f17a29d41f9aba892f4",
    "deepnote_cell_type": "code",
    "deepnote_to_be_reexecuted": false,
    "execution_millis": 14446,
    "execution_start": 1686079196562,
    "scrolled": true,
    "source_hash": "17c9a1b7"
   },
   "outputs": [],
   "source": [
    "maes = 0\n",
    "rmses = 0\n",
    "rsquareds = 0\n",
    "\n",
    "# going though lsoas in encoded columns (first one is ds, thus is omitted)\n",
    "rmse_mean = []\n",
    "for lsoa in train_data.columns[50:70]:\n",
    "\n",
    "    # new dataframe to not to get confused\n",
    "    df_prophet = pd.DataFrame()\n",
    "    test_prophet = pd.DataFrame()\n",
    "\n",
    "    # adding ds and y columns for prophet\n",
    "    df_prophet['ds'] = train_data['Month']\n",
    "    df_prophet['y'] = train_data[lsoa]\n",
    "    test_prophet['ds'] = test_data['Month']\n",
    "    test_prophet['y'] = test_data[lsoa]\n",
    "\n",
    "    df_prophet.set_index('ds', inplace=True)\n",
    "    df_prophet = df_prophet.resample('M').sum()\n",
    "    df_prophet['ds'] = df_prophet.index\n",
    "\n",
    "    test_prophet.set_index('ds', inplace=True)\n",
    "    test_prophet = test_prophet.resample('M').sum()\n",
    "    test_prophet['ds'] = test_prophet.index\n",
    "\n",
    "    # changepoint_prior_scale can be added in the Prophet brackets to check the tuning results\n",
    "    model = Prophet()\n",
    "    model.fit(df_prophet)\n",
    "\n",
    "    future_dates = model.make_future_dataframe(periods=12, freq='M')\n",
    "    predictions = model.predict(future_dates)\n",
    "    plt = model.plot(predictions)\n",
    "    plt.legend()\n",
    "    plt.show()\n",
    "\n",
    "    test_predictions = predictions[-12:]\n",
    "    test_predictions_reset = test_predictions.reset_index(drop=True)\n",
    "    test_data_reset = test_prophet[-12:].reset_index(drop=True)\n",
    "\n",
    "    mse = ((test_predictions_reset['yhat'] - test_data_reset['y']) ** 2).mean()\n",
    "    rmse = mse ** 0.5\n",
    "\n",
    "    test_predictions_reset['yhat'] = test_predictions_reset['yhat'].astype(int)\n",
    "\n",
    "    predicted_values = predictions['yhat'].tail(12)\n",
    "    actual_values = test_data_reset['y']\n",
    "\n",
    "    mae = mean_absolute_error(actual_values, predicted_values)\n",
    "    r_squared = r2_score(actual_values, predicted_values)\n",
    "\n",
    "    # adding to the dataframe\n",
    "    results_sum.loc[i] = lsoa, round(rmse, 2), mae.round(2), r_squared.round(2)\n",
    "    i += 1\n",
    "    rmse_mean.append(rmse)\n",
    "    \n",
    "    maes = maes + mae\n",
    "    rmses = rmses + rmse\n",
    "    rsquareds = rsquareds + r_squared\n",
    "\n",
    "print('Mean RMSE per LSOA: {}'.format(sum(rmse_mean)/len(rmse_mean)))"
   ]
  },
  {
   "cell_type": "code",
   "execution_count": null,
   "metadata": {},
   "outputs": [],
   "source": [
    "print(\"mae: \", maes/20, \", rmse: \", rmses/20, \", r-squared: \", rsquareds/20)"
   ]
  },
  {
   "cell_type": "code",
   "execution_count": null,
   "metadata": {
    "cell_id": "ddbc2414ea0e459fb4c92f4b4f63ebfa",
    "deepnote_cell_type": "code",
    "deepnote_to_be_reexecuted": false,
    "execution_millis": 11,
    "execution_start": 1686078737008,
    "source_hash": "589b012b"
   },
   "outputs": [],
   "source": [
    "results_sum.to_csv('results.csv', index=False)"
   ]
  },
  {
   "cell_type": "code",
   "execution_count": null,
   "metadata": {
    "cell_id": "f90608614a3e4a23a86e7d78e60ea839",
    "deepnote_cell_type": "code",
    "deepnote_to_be_reexecuted": false,
    "execution_millis": 1,
    "execution_start": 1686078737067,
    "source_hash": "6c39ddc5"
   },
   "outputs": [],
   "source": [
    "min_rmse = results_sum['RMSE'].min()\n",
    "max_rmse = results_sum['RMSE'].max()\n",
    "print(min_rmse, max_rmse)"
   ]
  },
  {
   "cell_type": "code",
   "execution_count": null,
   "metadata": {
    "cell_id": "5924aaef878c40c58510ba783d5acf47",
    "deepnote_cell_type": "code",
    "deepnote_to_be_reexecuted": false,
    "execution_millis": 24,
    "execution_start": 1686078932966,
    "source_hash": "719f1704"
   },
   "outputs": [],
   "source": [
    "good_lsoa = results_sum[results_sum['RMSE'] == min_rmse]\n",
    "bad_lsoa = results_sum[results_sum['RMSE'] == max_rmse]\n",
    "good_lsoa"
   ]
  }
 ],
 "metadata": {
  "deepnote": {},
  "deepnote_execution_queue": [],
  "deepnote_notebook_id": "9f75f1ec431845108ac12b25f73a427b",
  "kernelspec": {
   "display_name": "Python 3 (ipykernel)",
   "language": "python",
   "name": "python3"
  },
  "language_info": {
   "codemirror_mode": {
    "name": "ipython",
    "version": 3
   },
   "file_extension": ".py",
   "mimetype": "text/x-python",
   "name": "python",
   "nbconvert_exporter": "python",
   "pygments_lexer": "ipython3",
   "version": "3.9.13"
  }
 },
 "nbformat": 4,
 "nbformat_minor": 1
}
