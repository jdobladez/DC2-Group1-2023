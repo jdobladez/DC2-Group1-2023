{
 "cells": [
  {
   "cell_type": "code",
   "execution_count": 1,
   "id": "545b0b08",
   "metadata": {},
   "outputs": [],
   "source": [
    "import pandas as pd\n",
    "import glob\n",
    "import matplotlib.pyplot as plt\n",
    "import itertools"
   ]
  },
  {
   "cell_type": "code",
   "execution_count": 2,
   "id": "907955be",
   "metadata": {},
   "outputs": [
    {
     "name": "stderr",
     "output_type": "stream",
     "text": [
      "C:\\Users\\nurvo\\AppData\\Local\\Temp\\ipykernel_19448\\843997799.py:2: FutureWarning: Behavior when concatenating bool-dtype and numeric-dtype arrays is deprecated; in a future version these will cast to object dtype (instead of coercing bools to numeric values). To retain the old behavior, explicitly cast bool-dtype arrays to numeric dtype.\n",
      "  df = pd.concat([pd.read_csv(file) for file in csv_files], ignore_index=True)\n"
     ]
    }
   ],
   "source": [
    "csv_files = glob.glob('*.{}'.format('csv'))\n",
    "df = pd.concat([pd.read_csv(file) for file in csv_files], ignore_index=True)"
   ]
  },
  {
   "cell_type": "code",
   "execution_count": 3,
   "id": "4488c97f",
   "metadata": {
    "scrolled": true
   },
   "outputs": [],
   "source": [
    "df_new = df.dropna(subset=['Object of search'])"
   ]
  },
  {
   "cell_type": "code",
   "execution_count": 4,
   "id": "878704cd",
   "metadata": {
    "scrolled": true
   },
   "outputs": [
    {
     "data": {
      "text/html": [
       "<div>\n",
       "<style scoped>\n",
       "    .dataframe tbody tr th:only-of-type {\n",
       "        vertical-align: middle;\n",
       "    }\n",
       "\n",
       "    .dataframe tbody tr th {\n",
       "        vertical-align: top;\n",
       "    }\n",
       "\n",
       "    .dataframe thead th {\n",
       "        text-align: right;\n",
       "    }\n",
       "</style>\n",
       "<table border=\"1\" class=\"dataframe\">\n",
       "  <thead>\n",
       "    <tr style=\"text-align: right;\">\n",
       "      <th></th>\n",
       "      <th>Type</th>\n",
       "      <th>Date</th>\n",
       "      <th>Part of a policing operation</th>\n",
       "      <th>Policing operation</th>\n",
       "      <th>Latitude</th>\n",
       "      <th>Longitude</th>\n",
       "      <th>Gender</th>\n",
       "      <th>Age range</th>\n",
       "      <th>Self-defined ethnicity</th>\n",
       "      <th>Officer-defined ethnicity</th>\n",
       "      <th>Legislation</th>\n",
       "      <th>Object of search</th>\n",
       "      <th>Outcome</th>\n",
       "      <th>Outcome linked to object of search</th>\n",
       "      <th>Removal of more than just outer clothing</th>\n",
       "    </tr>\n",
       "  </thead>\n",
       "  <tbody>\n",
       "    <tr>\n",
       "      <th>299744</th>\n",
       "      <td>Person search</td>\n",
       "      <td>2018-03-01T00:20:00+00:00</td>\n",
       "      <td>0.0</td>\n",
       "      <td>NaN</td>\n",
       "      <td>NaN</td>\n",
       "      <td>NaN</td>\n",
       "      <td>Male</td>\n",
       "      <td>NaN</td>\n",
       "      <td>White - English/Welsh/Scottish/Northern Irish/...</td>\n",
       "      <td>White</td>\n",
       "      <td>Police and Criminal Evidence Act 1984 (section 1)</td>\n",
       "      <td>Stolen goods</td>\n",
       "      <td>A no further action disposal</td>\n",
       "      <td>NaN</td>\n",
       "      <td>NaN</td>\n",
       "    </tr>\n",
       "    <tr>\n",
       "      <th>299763</th>\n",
       "      <td>Person search</td>\n",
       "      <td>2018-03-01T02:24:00+00:00</td>\n",
       "      <td>0.0</td>\n",
       "      <td>NaN</td>\n",
       "      <td>NaN</td>\n",
       "      <td>NaN</td>\n",
       "      <td>Male</td>\n",
       "      <td>NaN</td>\n",
       "      <td>White - Any other White background</td>\n",
       "      <td>White</td>\n",
       "      <td>Police and Criminal Evidence Act 1984 (section 1)</td>\n",
       "      <td>Stolen goods</td>\n",
       "      <td>Arrest</td>\n",
       "      <td>NaN</td>\n",
       "      <td>NaN</td>\n",
       "    </tr>\n",
       "    <tr>\n",
       "      <th>299764</th>\n",
       "      <td>Person and Vehicle search</td>\n",
       "      <td>2018-03-01T02:30:00+00:00</td>\n",
       "      <td>0.0</td>\n",
       "      <td>NaN</td>\n",
       "      <td>NaN</td>\n",
       "      <td>NaN</td>\n",
       "      <td>Male</td>\n",
       "      <td>NaN</td>\n",
       "      <td>Other ethnic group - Not stated</td>\n",
       "      <td>Black</td>\n",
       "      <td>Police and Criminal Evidence Act 1984 (section 1)</td>\n",
       "      <td>Stolen goods</td>\n",
       "      <td>A no further action disposal</td>\n",
       "      <td>NaN</td>\n",
       "      <td>NaN</td>\n",
       "    </tr>\n",
       "    <tr>\n",
       "      <th>299807</th>\n",
       "      <td>Person search</td>\n",
       "      <td>2018-03-01T12:10:00+00:00</td>\n",
       "      <td>0.0</td>\n",
       "      <td>NaN</td>\n",
       "      <td>NaN</td>\n",
       "      <td>NaN</td>\n",
       "      <td>Male</td>\n",
       "      <td>NaN</td>\n",
       "      <td>Other ethnic group - Any other ethnic group</td>\n",
       "      <td>White</td>\n",
       "      <td>Police and Criminal Evidence Act 1984 (section 1)</td>\n",
       "      <td>Stolen goods</td>\n",
       "      <td>Community resolution</td>\n",
       "      <td>NaN</td>\n",
       "      <td>NaN</td>\n",
       "    </tr>\n",
       "    <tr>\n",
       "      <th>299811</th>\n",
       "      <td>Person search</td>\n",
       "      <td>2018-03-01T12:35:00+00:00</td>\n",
       "      <td>0.0</td>\n",
       "      <td>NaN</td>\n",
       "      <td>NaN</td>\n",
       "      <td>NaN</td>\n",
       "      <td>Female</td>\n",
       "      <td>NaN</td>\n",
       "      <td>White - Any other White background</td>\n",
       "      <td>White</td>\n",
       "      <td>Police and Criminal Evidence Act 1984 (section 1)</td>\n",
       "      <td>Stolen goods</td>\n",
       "      <td>A no further action disposal</td>\n",
       "      <td>NaN</td>\n",
       "      <td>NaN</td>\n",
       "    </tr>\n",
       "    <tr>\n",
       "      <th>...</th>\n",
       "      <td>...</td>\n",
       "      <td>...</td>\n",
       "      <td>...</td>\n",
       "      <td>...</td>\n",
       "      <td>...</td>\n",
       "      <td>...</td>\n",
       "      <td>...</td>\n",
       "      <td>...</td>\n",
       "      <td>...</td>\n",
       "      <td>...</td>\n",
       "      <td>...</td>\n",
       "      <td>...</td>\n",
       "      <td>...</td>\n",
       "      <td>...</td>\n",
       "      <td>...</td>\n",
       "    </tr>\n",
       "    <tr>\n",
       "      <th>1414908</th>\n",
       "      <td>Person search</td>\n",
       "      <td>2023-03-31T20:35:00+00:00</td>\n",
       "      <td>0.0</td>\n",
       "      <td>NaN</td>\n",
       "      <td>NaN</td>\n",
       "      <td>NaN</td>\n",
       "      <td>Male</td>\n",
       "      <td>10-17</td>\n",
       "      <td>Black/African/Caribbean/Black British - Any ot...</td>\n",
       "      <td>Black</td>\n",
       "      <td>Police and Criminal Evidence Act 1984 (section 1)</td>\n",
       "      <td>Stolen goods</td>\n",
       "      <td>Arrest</td>\n",
       "      <td>NaN</td>\n",
       "      <td>NaN</td>\n",
       "    </tr>\n",
       "    <tr>\n",
       "      <th>1414926</th>\n",
       "      <td>Person search</td>\n",
       "      <td>2023-03-31T21:49:00+00:00</td>\n",
       "      <td>0.0</td>\n",
       "      <td>NaN</td>\n",
       "      <td>51.564025</td>\n",
       "      <td>-0.007665</td>\n",
       "      <td>Male</td>\n",
       "      <td>over 34</td>\n",
       "      <td>Black/African/Caribbean/Black British - Any ot...</td>\n",
       "      <td>Black</td>\n",
       "      <td>Police and Criminal Evidence Act 1984 (section 1)</td>\n",
       "      <td>Stolen goods</td>\n",
       "      <td>A no further action disposal</td>\n",
       "      <td>NaN</td>\n",
       "      <td>NaN</td>\n",
       "    </tr>\n",
       "    <tr>\n",
       "      <th>1414930</th>\n",
       "      <td>Person search</td>\n",
       "      <td>2023-03-31T22:00:00+00:00</td>\n",
       "      <td>0.0</td>\n",
       "      <td>NaN</td>\n",
       "      <td>51.659592</td>\n",
       "      <td>-0.048052</td>\n",
       "      <td>Male</td>\n",
       "      <td>over 34</td>\n",
       "      <td>White - Any other White background</td>\n",
       "      <td>White</td>\n",
       "      <td>Police and Criminal Evidence Act 1984 (section 1)</td>\n",
       "      <td>Stolen goods</td>\n",
       "      <td>Arrest</td>\n",
       "      <td>NaN</td>\n",
       "      <td>NaN</td>\n",
       "    </tr>\n",
       "    <tr>\n",
       "      <th>1414951</th>\n",
       "      <td>Person search</td>\n",
       "      <td>2023-03-31T22:24:00+00:00</td>\n",
       "      <td>0.0</td>\n",
       "      <td>NaN</td>\n",
       "      <td>51.381118</td>\n",
       "      <td>-0.090590</td>\n",
       "      <td>Male</td>\n",
       "      <td>NaN</td>\n",
       "      <td>White - Any other White background</td>\n",
       "      <td>White</td>\n",
       "      <td>Police and Criminal Evidence Act 1984 (section 1)</td>\n",
       "      <td>Stolen goods</td>\n",
       "      <td>A no further action disposal</td>\n",
       "      <td>NaN</td>\n",
       "      <td>NaN</td>\n",
       "    </tr>\n",
       "    <tr>\n",
       "      <th>1414962</th>\n",
       "      <td>Person search</td>\n",
       "      <td>2023-03-31T22:40:00+00:00</td>\n",
       "      <td>0.0</td>\n",
       "      <td>NaN</td>\n",
       "      <td>51.391210</td>\n",
       "      <td>0.115061</td>\n",
       "      <td>Male</td>\n",
       "      <td>18-24</td>\n",
       "      <td>White - English/Welsh/Scottish/Northern Irish/...</td>\n",
       "      <td>White</td>\n",
       "      <td>Police and Criminal Evidence Act 1984 (section 1)</td>\n",
       "      <td>Stolen goods</td>\n",
       "      <td>Arrest</td>\n",
       "      <td>NaN</td>\n",
       "      <td>NaN</td>\n",
       "    </tr>\n",
       "  </tbody>\n",
       "</table>\n",
       "<p>130674 rows × 15 columns</p>\n",
       "</div>"
      ],
      "text/plain": [
       "                              Type                       Date  \\\n",
       "299744               Person search  2018-03-01T00:20:00+00:00   \n",
       "299763               Person search  2018-03-01T02:24:00+00:00   \n",
       "299764   Person and Vehicle search  2018-03-01T02:30:00+00:00   \n",
       "299807               Person search  2018-03-01T12:10:00+00:00   \n",
       "299811               Person search  2018-03-01T12:35:00+00:00   \n",
       "...                            ...                        ...   \n",
       "1414908              Person search  2023-03-31T20:35:00+00:00   \n",
       "1414926              Person search  2023-03-31T21:49:00+00:00   \n",
       "1414930              Person search  2023-03-31T22:00:00+00:00   \n",
       "1414951              Person search  2023-03-31T22:24:00+00:00   \n",
       "1414962              Person search  2023-03-31T22:40:00+00:00   \n",
       "\n",
       "         Part of a policing operation  Policing operation   Latitude  \\\n",
       "299744                            0.0                 NaN        NaN   \n",
       "299763                            0.0                 NaN        NaN   \n",
       "299764                            0.0                 NaN        NaN   \n",
       "299807                            0.0                 NaN        NaN   \n",
       "299811                            0.0                 NaN        NaN   \n",
       "...                               ...                 ...        ...   \n",
       "1414908                           0.0                 NaN        NaN   \n",
       "1414926                           0.0                 NaN  51.564025   \n",
       "1414930                           0.0                 NaN  51.659592   \n",
       "1414951                           0.0                 NaN  51.381118   \n",
       "1414962                           0.0                 NaN  51.391210   \n",
       "\n",
       "         Longitude  Gender Age range  \\\n",
       "299744         NaN    Male       NaN   \n",
       "299763         NaN    Male       NaN   \n",
       "299764         NaN    Male       NaN   \n",
       "299807         NaN    Male       NaN   \n",
       "299811         NaN  Female       NaN   \n",
       "...            ...     ...       ...   \n",
       "1414908        NaN    Male     10-17   \n",
       "1414926  -0.007665    Male   over 34   \n",
       "1414930  -0.048052    Male   over 34   \n",
       "1414951  -0.090590    Male       NaN   \n",
       "1414962   0.115061    Male     18-24   \n",
       "\n",
       "                                    Self-defined ethnicity  \\\n",
       "299744   White - English/Welsh/Scottish/Northern Irish/...   \n",
       "299763                  White - Any other White background   \n",
       "299764                     Other ethnic group - Not stated   \n",
       "299807         Other ethnic group - Any other ethnic group   \n",
       "299811                  White - Any other White background   \n",
       "...                                                    ...   \n",
       "1414908  Black/African/Caribbean/Black British - Any ot...   \n",
       "1414926  Black/African/Caribbean/Black British - Any ot...   \n",
       "1414930                 White - Any other White background   \n",
       "1414951                 White - Any other White background   \n",
       "1414962  White - English/Welsh/Scottish/Northern Irish/...   \n",
       "\n",
       "        Officer-defined ethnicity  \\\n",
       "299744                      White   \n",
       "299763                      White   \n",
       "299764                      Black   \n",
       "299807                      White   \n",
       "299811                      White   \n",
       "...                           ...   \n",
       "1414908                     Black   \n",
       "1414926                     Black   \n",
       "1414930                     White   \n",
       "1414951                     White   \n",
       "1414962                     White   \n",
       "\n",
       "                                               Legislation Object of search  \\\n",
       "299744   Police and Criminal Evidence Act 1984 (section 1)     Stolen goods   \n",
       "299763   Police and Criminal Evidence Act 1984 (section 1)     Stolen goods   \n",
       "299764   Police and Criminal Evidence Act 1984 (section 1)     Stolen goods   \n",
       "299807   Police and Criminal Evidence Act 1984 (section 1)     Stolen goods   \n",
       "299811   Police and Criminal Evidence Act 1984 (section 1)     Stolen goods   \n",
       "...                                                    ...              ...   \n",
       "1414908  Police and Criminal Evidence Act 1984 (section 1)     Stolen goods   \n",
       "1414926  Police and Criminal Evidence Act 1984 (section 1)     Stolen goods   \n",
       "1414930  Police and Criminal Evidence Act 1984 (section 1)     Stolen goods   \n",
       "1414951  Police and Criminal Evidence Act 1984 (section 1)     Stolen goods   \n",
       "1414962  Police and Criminal Evidence Act 1984 (section 1)     Stolen goods   \n",
       "\n",
       "                              Outcome  Outcome linked to object of search  \\\n",
       "299744   A no further action disposal                                 NaN   \n",
       "299763                         Arrest                                 NaN   \n",
       "299764   A no further action disposal                                 NaN   \n",
       "299807           Community resolution                                 NaN   \n",
       "299811   A no further action disposal                                 NaN   \n",
       "...                               ...                                 ...   \n",
       "1414908                        Arrest                                 NaN   \n",
       "1414926  A no further action disposal                                 NaN   \n",
       "1414930                        Arrest                                 NaN   \n",
       "1414951  A no further action disposal                                 NaN   \n",
       "1414962                        Arrest                                 NaN   \n",
       "\n",
       "         Removal of more than just outer clothing  \n",
       "299744                                        NaN  \n",
       "299763                                        NaN  \n",
       "299764                                        NaN  \n",
       "299807                                        NaN  \n",
       "299811                                        NaN  \n",
       "...                                           ...  \n",
       "1414908                                       NaN  \n",
       "1414926                                       NaN  \n",
       "1414930                                       NaN  \n",
       "1414951                                       NaN  \n",
       "1414962                                       NaN  \n",
       "\n",
       "[130674 rows x 15 columns]"
      ]
     },
     "execution_count": 4,
     "metadata": {},
     "output_type": "execute_result"
    }
   ],
   "source": [
    "df_new = df_new.loc[df_new['Object of search'] == 'Stolen goods']\n",
    "df_new"
   ]
  },
  {
   "cell_type": "code",
   "execution_count": 5,
   "id": "76357695",
   "metadata": {},
   "outputs": [],
   "source": [
    "# 130674"
   ]
  },
  {
   "cell_type": "code",
   "execution_count": 6,
   "id": "a7519c82",
   "metadata": {},
   "outputs": [
    {
     "name": "stdout",
     "output_type": "stream",
     "text": [
      "percentage male: 87.05939972756632\n",
      "percentage female: 12.940600272433684\n"
     ]
    }
   ],
   "source": [
    "print(\"percentage male:\", len(df_new[df_new['Gender'] == 'Male']) / len(df_new) * 100)\n",
    "print(\"percentage female:\", 100 - (len(df_new[df_new['Gender'] == 'Male']) / len(df_new) * 100))"
   ]
  },
  {
   "cell_type": "code",
   "execution_count": 7,
   "id": "b9d73784",
   "metadata": {},
   "outputs": [
    {
     "data": {
      "text/plain": [
       "over 34     31444\n",
       "18-24       29555\n",
       "10-17       27630\n",
       "25-34       26691\n",
       "under 10       34\n",
       "Name: Age range, dtype: int64"
      ]
     },
     "execution_count": 7,
     "metadata": {},
     "output_type": "execute_result"
    }
   ],
   "source": [
    "df_age = df_new['Age range'].value_counts()\n",
    "df_ethnicity = df_new['Officer-defined ethnicity'].value_counts()\n",
    "\n",
    "df_age"
   ]
  },
  {
   "cell_type": "code",
   "execution_count": 8,
   "id": "b1fc5271",
   "metadata": {},
   "outputs": [
    {
     "data": {
      "text/plain": [
       "White    66955\n",
       "Black    41682\n",
       "Asian    12136\n",
       "Other     5927\n",
       "Name: Officer-defined ethnicity, dtype: int64"
      ]
     },
     "execution_count": 8,
     "metadata": {},
     "output_type": "execute_result"
    }
   ],
   "source": [
    "df_ethnicity"
   ]
  },
  {
   "cell_type": "code",
   "execution_count": 9,
   "id": "082da536",
   "metadata": {},
   "outputs": [
    {
     "data": {
      "image/png": "[encoded data removed]",
      "text/plain": [
       "<Figure size 640x480 with 1 Axes>"
      ]
     },
     "metadata": {},
     "output_type": "display_data"
    }
   ],
   "source": [
    "ax = df_age.plot.bar()"
   ]
  },
  {
   "cell_type": "code",
   "execution_count": 10,
   "id": "9bd1b55f",
   "metadata": {},
   "outputs": [
    {
     "data": {
      "image/png": "[encoded data removed]",
      "text/plain": [
       "<Figure size 640x480 with 1 Axes>"
      ]
     },
     "metadata": {},
     "output_type": "display_data"
    }
   ],
   "source": [
    "ax2 = df_ethnicity.plot.bar()"
   ]
  },
  {
   "cell_type": "code",
   "execution_count": 11,
   "id": "b015ff3c",
   "metadata": {},
   "outputs": [],
   "source": [
    "age_list = df_age.index.tolist()\n",
    "ethnicity_list = df_ethnicity.index.tolist()"
   ]
  },
  {
   "cell_type": "code",
   "execution_count": 12,
   "id": "b62430a1",
   "metadata": {},
   "outputs": [],
   "source": [
    "combinations = list(itertools.product(age_list, ethnicity_list))\n",
    "\n",
    "combinations[0]\n",
    "per_combi = {}\n",
    "\n",
    "for i in range(len(combinations)):\n",
    "    per_combi[combinations[i]] = len(df_new[(df_new['Age range'] == combinations[i][0]) & \n",
    "                                            (df_new['Officer-defined ethnicity'] == combinations[i][1])])"
   ]
  },
  {
   "cell_type": "code",
   "execution_count": 13,
   "id": "1c44ada2",
   "metadata": {},
   "outputs": [
    {
     "data": {
      "text/plain": [
       "[(('over 34', 'White'), 20145),\n",
       " (('25-34', 'White'), 16526),\n",
       " (('18-24', 'White'), 13836),\n",
       " (('10-17', 'Black'), 12886),\n",
       " (('10-17', 'White'), 11341),\n",
       " (('18-24', 'Black'), 10170),\n",
       " (('over 34', 'Black'), 7230),\n",
       " (('25-34', 'Black'), 5870),\n",
       " (('18-24', 'Asian'), 3470),\n",
       " (('over 34', 'Asian'), 2859),\n",
       " (('25-34', 'Asian'), 2615),\n",
       " (('10-17', 'Asian'), 2054),\n",
       " (('18-24', 'Other'), 1798),\n",
       " (('25-34', 'Other'), 1426),\n",
       " (('10-17', 'Other'), 1085),\n",
       " (('over 34', 'Other'), 975),\n",
       " (('under 10', 'White'), 16),\n",
       " (('under 10', 'Black'), 10),\n",
       " (('under 10', 'Asian'), 5),\n",
       " (('under 10', 'Other'), 2)]"
      ]
     },
     "execution_count": 13,
     "metadata": {},
     "output_type": "execute_result"
    }
   ],
   "source": [
    "sorted_per_combi = sorted(per_combi.items(), key=lambda x:x[1], reverse=True)\n",
    "sorted_per_combi "
   ]
  }
 ],
 "metadata": {
  "kernelspec": {
   "display_name": "Python 3 (ipykernel)",
   "language": "python",
   "name": "python3"
  },
  "language_info": {
   "codemirror_mode": {
    "name": "ipython",
    "version": 3
   },
   "file_extension": ".py",
   "mimetype": "text/x-python",
   "name": "python",
   "nbconvert_exporter": "python",
   "pygments_lexer": "ipython3",
   "version": "3.9.13"
  }
 },
 "nbformat": 4,
 "nbformat_minor": 5
}
