{
 "cells": [
  {
   "cell_type": "code",
   "execution_count": 1,
   "outputs": [],
   "source": [
    "import pandas as pd\n",
    "import numpy as np\n",
    "import xgboost as xgb\n",
    "from sklearn.pipeline import make_pipeline\n",
    "from sklearn.compose import make_column_transformer, make_column_selector\n",
    "from sklearn.preprocessing import LabelEncoder\n",
    "from sklearn.preprocessing import OrdinalEncoder\n",
    "from sklearn.preprocessing import FunctionTransformer\n",
    "import warnings\n",
    "from skforecast.exceptions import LongTrainingWarning\n",
    "from skforecast.ForecasterAutoregDirect import ForecasterAutoregDirect\n",
    "from skforecast.model_selection import grid_search_forecaster\n",
    "from skforecast.model_selection import backtesting_forecaster"
   ],
   "metadata": {
    "collapsed": false,
    "ExecuteTime": {
     "end_time": "2023-06-08T14:13:21.980270374Z",
     "start_time": "2023-06-08T14:13:19.086673873Z"
    }
   }
  },
  {
   "cell_type": "code",
   "execution_count": 2,
   "outputs": [],
   "source": [
    "# Load the data\n",
    "train_data = pd.read_csv(\"add_burglary_train.csv\")\n",
    "val_data = pd.read_csv(\"add_burglary_validation.csv\")\n",
    "test_data = pd.read_csv(\"add_burglary_test.csv\")\n"
   ],
   "metadata": {
    "collapsed": false,
    "ExecuteTime": {
     "end_time": "2023-06-08T14:21:09.777696623Z",
     "start_time": "2023-06-08T14:21:09.539742789Z"
    }
   }
  },
  {
   "cell_type": "code",
   "execution_count": 3,
   "outputs": [],
   "source": [
    "# The LSOA name will be the y, so create new data for it\n",
    "y_train = train_data[\"LSOA name\"]\n",
    "y_val = val_data[\"LSOA name\"]\n",
    "y_test = test_data[\"LSOA name\"]\n",
    "\n",
    "# Combine all labels\n",
    "all_labels = pd.concat([y_train, y_val, y_test])\n",
    "\n",
    "# Encode labels with integer values\n",
    "label_encoder = LabelEncoder()\n",
    "label_encoder.fit(all_labels)\n",
    "\n",
    "# Transform labels for each dataset\n",
    "y_train = label_encoder.transform(y_train)\n",
    "y_val = label_encoder.transform(y_val)\n",
    "y_test = label_encoder.transform(y_test)"
   ],
   "metadata": {
    "collapsed": false,
    "ExecuteTime": {
     "end_time": "2023-06-08T14:21:10.945148454Z",
     "start_time": "2023-06-08T14:21:10.901528156Z"
    }
   }
  },
  {
   "cell_type": "code",
   "execution_count": 4,
   "outputs": [],
   "source": [
    "# Delete the y from the x data and unwanted columns\n",
    "drop = [\"Last outcome category\", \"LSOA name\", \"LSOA11NM\"]\n",
    "x_train = train_data.drop(labels=drop, axis=1, inplace=False)\n",
    "x_val = val_data.drop(labels=drop, axis=1, inplace=False)\n",
    "x_test = test_data.drop(labels=drop, axis=1, inplace=False)\n",
    "\n",
    "# Set categorical features format to category\n",
    "x_train['Location'] = x_train['Location'].astype('category')\n",
    "x_train['LSOA code'] = x_train['LSOA code'].astype('category')\n",
    "x_train[\"Ward name\"] = x_train[\"Ward name\"].astype(\"category\")\n",
    "x_train[\"Ward - House price lower third\"] = x_train[\"Ward - House price lower third\"].astype(\"category\")\n",
    "x_train[\"Ward - House price upper third\"] = x_train[\"Ward - House price upper third\"].astype(\"category\")\n",
    "\n",
    "x_val['Location'] = x_val['Location'].astype('category')\n",
    "x_val['LSOA code'] = x_val['LSOA code'].astype('category')\n",
    "x_val[\"Ward name\"] = x_val[\"Ward name\"].astype(\"category\")\n",
    "x_val[\"Ward - House price lower third\"] = x_val[\"Ward - House price lower third\"].astype(\"category\")\n",
    "x_val[\"Ward - House price upper third\"] = x_val[\"Ward - House price upper third\"].astype(\"category\")\n",
    "\n",
    "x_test['Location'] = x_test['Location'].astype('category')\n",
    "x_test['LSOA code'] = x_test['LSOA code'].astype('category')\n",
    "x_test[\"Ward name\"] = x_test[\"Ward name\"].astype(\"category\")\n",
    "x_test[\"Ward - House price lower third\"] = x_test[\"Ward - House price lower third\"].astype(\"category\")\n",
    "x_test[\"Ward - House price upper third\"] = x_test[\"Ward - House price upper third\"].astype(\"category\")\n",
    "\n",
    "# Change format of the Month column from string to datetime\n",
    "x_train['Month'] = pd.to_datetime(x_train['Month'], format='%Y-%m')\n",
    "x_val['Month'] = pd.to_datetime(x_val['Month'], format='%Y-%m')\n",
    "x_test['Month'] = pd.to_datetime(x_test['Month'], format='%Y-%m')\n"
   ],
   "metadata": {
    "collapsed": false,
    "ExecuteTime": {
     "end_time": "2023-06-08T14:21:12.340035524Z",
     "start_time": "2023-06-08T14:21:12.260713421Z"
    }
   }
  },
  {
   "cell_type": "code",
   "execution_count": 5,
   "outputs": [],
   "source": [
    "exog = ['Month', 'Longitude', 'Latitude', 'Location', 'LSOA code', 'Ward name', 'Ward - House price lower third', 'Ward - House price upper third', 'Ward - % All Working-age (16-64)', 'Ward - % All Older people aged 65+', 'Ward - Population density (persons per sq km)', 'Ward - % Not Born in UK']"
   ],
   "metadata": {
    "collapsed": false,
    "ExecuteTime": {
     "end_time": "2023-06-08T14:21:13.523834116Z",
     "start_time": "2023-06-08T14:21:13.502411033Z"
    }
   }
  },
  {
   "cell_type": "code",
   "execution_count": 6,
   "outputs": [],
   "source": [
    "# Transformer: Ordinal encoding + cast to category type\n",
    "pipeline_categorical = make_pipeline(\n",
    "                            OrdinalEncoder(\n",
    "                                dtype=int,\n",
    "                                handle_unknown=\"use_encoded_value\",\n",
    "                              unknown_value=-1,\n",
    "                                encoded_missing_value=-1\n",
    "                            ),\n",
    "                            FunctionTransformer(\n",
    "                                func=lambda x: x.astype('category'),\n",
    "                                feature_names_out= 'one-to-one'\n",
    "                            )\n",
    "                       )\n",
    "transformer_exog = make_column_transformer(\n",
    "                        (\n",
    "                            pipeline_categorical,\n",
    "                            make_column_selector(dtype_exclude=np.number)\n",
    "                        ),\n",
    "                        remainder=\"passthrough\",\n",
    "                        verbose_feature_names_out=False,\n",
    "                   ).set_output(transform=\"pandas\")\n"
   ],
   "metadata": {
    "collapsed": false,
    "ExecuteTime": {
     "end_time": "2023-06-08T14:21:14.795362565Z",
     "start_time": "2023-06-08T14:21:14.765081371Z"
    }
   }
  },
  {
   "cell_type": "code",
   "execution_count": 7,
   "outputs": [],
   "source": [
    "# Create forecaster with automatic categorical detection\n",
    "forecaster = ForecasterAutoregDirect(\n",
    "    regressor=xgb.XGBRFRegressor(tree_method='hist', random_state=42, enable_categorical='auto'),\n",
    "    lags=12,\n",
    "    steps=12,\n",
    "    transformer_exog=transformer_exog\n",
    ")"
   ],
   "metadata": {
    "collapsed": false,
    "ExecuteTime": {
     "end_time": "2023-06-08T14:21:16.921258270Z",
     "start_time": "2023-06-08T14:21:16.842160570Z"
    }
   }
  },
  {
   "cell_type": "code",
   "execution_count": 8,
   "outputs": [],
   "source": [
    "# Create forecaster with automatic categorical detection\n",
    "forecaster1 = ForecasterAutoregDirect(\n",
    "    regressor=xgb.XGBRFClassifier(tree_method=\"hist\", objective=\"multi:softmax\", random_state=42, enable_categorical='auto'),\n",
    "    lags=12,\n",
    "    steps=12,\n",
    "    transformer_exog=transformer_exog\n",
    ")"
   ],
   "metadata": {
    "collapsed": false,
    "ExecuteTime": {
     "end_time": "2023-06-08T14:21:18.271690944Z",
     "start_time": "2023-06-08T14:21:18.244523468Z"
    }
   }
  },
  {
   "cell_type": "code",
   "execution_count": 9,
   "outputs": [],
   "source": [
    "\n",
    "# Define hyperparameters\n",
    "param_grid = {\n",
    "    'n_estimators': [100],\n",
    "    'max_depth': [4],\n",
    "    'learning_rate': [0.35],\n",
    "}\n",
    "# 100,\n",
    "\n",
    "#, 0.75, 0.85, 0.95, 1\n",
    "# Lags used as predictors\n",
    "lags_grid = [12, 24, 36]\n"
   ],
   "metadata": {
    "collapsed": false,
    "ExecuteTime": {
     "end_time": "2023-06-08T14:21:19.899805853Z",
     "start_time": "2023-06-08T14:21:19.852097903Z"
    }
   }
  },
  {
   "cell_type": "code",
   "execution_count": 10,
   "outputs": [
    {
     "name": "stdout",
     "output_type": "stream",
     "text": [
      "Number of models compared: 3.\n"
     ]
    },
    {
     "data": {
      "text/plain": "lags grid:   0%|          | 0/3 [00:00<?, ?it/s]",
      "application/vnd.jupyter.widget-view+json": {
       "version_major": 2,
       "version_minor": 0,
       "model_id": "befb1947c60747088b9574e985e760f3"
      }
     },
     "metadata": {},
     "output_type": "display_data"
    },
    {
     "data": {
      "text/plain": "params grid:   0%|          | 0/1 [00:00<?, ?it/s]",
      "application/vnd.jupyter.widget-view+json": {
       "version_major": 2,
       "version_minor": 0,
       "model_id": "7f57fa9d9d17482da984417431687fc7"
      }
     },
     "metadata": {},
     "output_type": "display_data"
    },
    {
     "data": {
      "text/plain": "params grid:   0%|          | 0/1 [00:00<?, ?it/s]",
      "application/vnd.jupyter.widget-view+json": {
       "version_major": 2,
       "version_minor": 0,
       "model_id": "ff7ad4b4989441ef967ecd6f85091813"
      }
     },
     "metadata": {},
     "output_type": "display_data"
    },
    {
     "data": {
      "text/plain": "params grid:   0%|          | 0/1 [00:00<?, ?it/s]",
      "application/vnd.jupyter.widget-view+json": {
       "version_major": 2,
       "version_minor": 0,
       "model_id": "ebf92da0115c4d278d2349a57bcac8d1"
      }
     },
     "metadata": {},
     "output_type": "display_data"
    },
    {
     "name": "stdout",
     "output_type": "stream",
     "text": [
      "`Forecaster` refitted using the best-found lags and parameters, and the whole data set: \n",
      "  Lags: [ 1  2  3  4  5  6  7  8  9 10 11 12 13 14 15 16 17 18 19 20 21 22 23 24] \n",
      "  Parameters: {'learning_rate': 0.35, 'max_depth': 4, 'n_estimators': 100}\n",
      "  Backtesting metric: 962.2181774808413\n",
      "\n"
     ]
    }
   ],
   "source": [
    "\n",
    "# Obtaining best model\n",
    "x = pd.concat([x_train, x_val], ignore_index=True)\n",
    "y = np.append(y_train, y_val)\n",
    "y = pd.Series(y)\n",
    "y = y.astype(int)\n",
    "warnings.simplefilter('ignore', category=LongTrainingWarning)\n",
    "\n",
    "result_grid = grid_search_forecaster(\n",
    "    forecaster=forecaster,\n",
    "    y=y,\n",
    "    exog=x.loc[:, exog],\n",
    "    param_grid=param_grid,\n",
    "    lags_grid=lags_grid,\n",
    "    steps=12,\n",
    "    refit=False,\n",
    "    metric=['mean_squared_error', 'mean_absolute_error'],\n",
    "    initial_train_size=len(x_train),\n",
    "    fixed_train_size=False,\n",
    "    return_best=True,\n",
    "    verbose=False\n",
    ")\n"
   ],
   "metadata": {
    "collapsed": false,
    "ExecuteTime": {
     "end_time": "2023-06-08T14:24:25.032252654Z",
     "start_time": "2023-06-08T14:21:21.565622406Z"
    }
   }
  },
  {
   "cell_type": "code",
   "execution_count": 11,
   "outputs": [
    {
     "data": {
      "text/plain": "        RMSE                                               lags   \n1  31.019642  [1, 2, 3, 4, 5, 6, 7, 8, 9, 10, 11, 12, 13, 14...  \\\n2  31.245618  [1, 2, 3, 4, 5, 6, 7, 8, 9, 10, 11, 12, 13, 14...   \n0  31.407933            [1, 2, 3, 4, 5, 6, 7, 8, 9, 10, 11, 12]   \n\n                                              params  mean_squared_error   \n1  {'learning_rate': 0.35, 'max_depth': 4, 'n_est...          962.218177  \\\n2  {'learning_rate': 0.35, 'max_depth': 4, 'n_est...          976.288644   \n0  {'learning_rate': 0.35, 'max_depth': 4, 'n_est...          986.458225   \n\n   mean_absolute_error  learning_rate  max_depth  n_estimators  \n1            25.794049           0.35        4.0         100.0  \n2            25.811872           0.35        4.0         100.0  \n0            26.678894           0.35        4.0         100.0  ",
      "text/html": "<div>\n<style scoped>\n    .dataframe tbody tr th:only-of-type {\n        vertical-align: middle;\n    }\n\n    .dataframe tbody tr th {\n        vertical-align: top;\n    }\n\n    .dataframe thead th {\n        text-align: right;\n    }\n</style>\n<table border=\"1\" class=\"dataframe\">\n  <thead>\n    <tr style=\"text-align: right;\">\n      <th></th>\n      <th>RMSE</th>\n      <th>lags</th>\n      <th>params</th>\n      <th>mean_squared_error</th>\n      <th>mean_absolute_error</th>\n      <th>learning_rate</th>\n      <th>max_depth</th>\n      <th>n_estimators</th>\n    </tr>\n  </thead>\n  <tbody>\n    <tr>\n      <th>1</th>\n      <td>31.019642</td>\n      <td>[1, 2, 3, 4, 5, 6, 7, 8, 9, 10, 11, 12, 13, 14...</td>\n      <td>{'learning_rate': 0.35, 'max_depth': 4, 'n_est...</td>\n      <td>962.218177</td>\n      <td>25.794049</td>\n      <td>0.35</td>\n      <td>4.0</td>\n      <td>100.0</td>\n    </tr>\n    <tr>\n      <th>2</th>\n      <td>31.245618</td>\n      <td>[1, 2, 3, 4, 5, 6, 7, 8, 9, 10, 11, 12, 13, 14...</td>\n      <td>{'learning_rate': 0.35, 'max_depth': 4, 'n_est...</td>\n      <td>976.288644</td>\n      <td>25.811872</td>\n      <td>0.35</td>\n      <td>4.0</td>\n      <td>100.0</td>\n    </tr>\n    <tr>\n      <th>0</th>\n      <td>31.407933</td>\n      <td>[1, 2, 3, 4, 5, 6, 7, 8, 9, 10, 11, 12]</td>\n      <td>{'learning_rate': 0.35, 'max_depth': 4, 'n_est...</td>\n      <td>986.458225</td>\n      <td>26.678894</td>\n      <td>0.35</td>\n      <td>4.0</td>\n      <td>100.0</td>\n    </tr>\n  </tbody>\n</table>\n</div>"
     },
     "execution_count": 11,
     "metadata": {},
     "output_type": "execute_result"
    }
   ],
   "source": [
    "# Include the RSME value into the results grid for all the models compared and print the grid to compare them\n",
    "\n",
    "result_grid.insert(0, \"RMSE\", np.sqrt(result_grid[\"mean_squared_error\"]))\n",
    "\n",
    "result_grid"
   ],
   "metadata": {
    "collapsed": false,
    "ExecuteTime": {
     "end_time": "2023-06-08T14:24:25.437486934Z",
     "start_time": "2023-06-08T14:24:25.418206856Z"
    }
   }
  },
  {
   "cell_type": "code",
   "execution_count": 12,
   "outputs": [
    {
     "data": {
      "text/plain": "  0%|          | 0/738 [00:00<?, ?it/s]",
      "application/vnd.jupyter.widget-view+json": {
       "version_major": 2,
       "version_minor": 0,
       "model_id": "3c46a324b59b4c678f8af834e7b1f0f8"
      }
     },
     "metadata": {},
     "output_type": "display_data"
    }
   ],
   "source": [
    "\n",
    "# Backtesting with the test data the best model\n",
    "x2 = pd.concat([x, x_test], ignore_index=True)\n",
    "y = np.append(y, y_test)\n",
    "y = pd.Series(y)\n",
    "\n",
    "# Predictions for the next 12 months without exogenous features\n",
    "fut_exog = x2.loc[:, exog]\n",
    "# Adjust the index of the future_exog to start from the appropriate index\n",
    "#fut_exog.index = range(len(x2), len(x2) + len(x_test))\n",
    "\n",
    "metric, predictions = backtesting_forecaster(\n",
    "    forecaster=forecaster,\n",
    "    y=y,\n",
    "    initial_train_size=len(x),\n",
    "    fixed_train_size=True,\n",
    "    steps=12,\n",
    "    refit=False,\n",
    "    metric=['mean_squared_error', 'mean_absolute_error'],\n",
    "    verbose=False\n",
    ")"
   ],
   "metadata": {
    "collapsed": false,
    "ExecuteTime": {
     "end_time": "2023-06-08T14:24:58.446868342Z",
     "start_time": "2023-06-08T14:24:50.057113151Z"
    }
   }
  },
  {
   "cell_type": "code",
   "execution_count": 13,
   "outputs": [
    {
     "data": {
      "text/plain": "(77.24303709824838, 66.84677219458196)"
     },
     "execution_count": 13,
     "metadata": {},
     "output_type": "execute_result"
    }
   ],
   "source": [
    "# Obtain the RSME of the Backstesting and the Absolute Mean error of the backtesting\n",
    "rsme_backtest = np.sqrt(metric[0])\n",
    "\n",
    "absolute_backtest = metric[1]\n",
    "\n",
    "rsme_backtest, absolute_backtest"
   ],
   "metadata": {
    "collapsed": false,
    "ExecuteTime": {
     "end_time": "2023-06-08T14:25:03.803409433Z",
     "start_time": "2023-06-08T14:25:03.796368956Z"
    }
   }
  },
  {
   "cell_type": "code",
   "execution_count": 14,
   "outputs": [
    {
     "name": "stderr",
     "output_type": "stream",
     "text": [
      "/home/julia/Documents/TUE/Year 2/Quartile 4/DC2/DC2-Group1/venv/lib/python3.10/site-packages/sklearn/preprocessing/_label.py:155: DataConversionWarning: A column-vector y was passed when a 1d array was expected. Please change the shape of y to (n_samples, ), for example using ravel().\n",
      "  y = column_or_1d(y, warn=True)\n"
     ]
    },
    {
     "data": {
      "text/plain": "array(['Barnet 003B', 'Barnet 003B', 'Barnet 003B', ..., 'Barnet 006C',\n       'Barnet 006C', 'Barnet 006E'], dtype=object)"
     },
     "execution_count": 14,
     "metadata": {},
     "output_type": "execute_result"
    }
   ],
   "source": [
    "predictions = predictions.astype(float)\n",
    "predictions = predictions.round().astype(int)\n",
    "lsoa_names = label_encoder.inverse_transform(predictions)\n",
    "lsoa_names"
   ],
   "metadata": {
    "collapsed": false,
    "ExecuteTime": {
     "end_time": "2023-06-08T14:25:08.538433612Z",
     "start_time": "2023-06-08T14:25:08.531335135Z"
    }
   }
  },
  {
   "cell_type": "code",
   "execution_count": 15,
   "outputs": [
    {
     "data": {
      "text/plain": "array(['Barnet 001D', 'Barnet 003B', 'Barnet 004C', 'Barnet 004D',\n       'Barnet 005B', 'Barnet 005C', 'Barnet 005D', 'Barnet 006B',\n       'Barnet 006C', 'Barnet 006E', 'Barnet 007A', 'Barnet 007B',\n       'Barnet 007D', 'Barnet 007E', 'Barnet 007F', 'Barnet 008A',\n       'Barnet 008D', 'Barnet 008E', 'Barnet 009A', 'Barnet 009B',\n       'Barnet 009C', 'Barnet 009E', 'Barnet 010A', 'Barnet 010B',\n       'Barnet 010C', 'Barnet 010D', 'Barnet 011E', 'Barnet 012A',\n       'Barnet 012B', 'Barnet 012C', 'Barnet 012E', 'Barnet 013A',\n       'Barnet 013B', 'Barnet 013C', 'Barnet 014F'], dtype=object)"
     },
     "execution_count": 15,
     "metadata": {},
     "output_type": "execute_result"
    }
   ],
   "source": [
    "np.unique(lsoa_names)"
   ],
   "metadata": {
    "collapsed": false,
    "ExecuteTime": {
     "end_time": "2023-06-08T14:25:54.875946340Z",
     "start_time": "2023-06-08T14:25:54.871070006Z"
    }
   }
  },
  {
   "cell_type": "code",
   "execution_count": 18,
   "outputs": [],
   "source": [
    "# Predictions for the next 12 months without exogenous features\n",
    "future_exog = x_test.loc[:, exog]\n",
    "# Adjust the index of the future_exog to start from the appropriate index\n",
    "future_exog.index = range(len(x), len(x) + len(x_test))\n",
    "# Predict for the next 12 months\n",
    "predicted = forecaster.predict(steps=12, exog=future_exog)"
   ],
   "metadata": {
    "collapsed": false,
    "ExecuteTime": {
     "end_time": "2023-06-08T14:26:30.588908823Z",
     "start_time": "2023-06-08T14:26:30.526858293Z"
    }
   }
  },
  {
   "cell_type": "code",
   "execution_count": 19,
   "outputs": [
    {
     "data": {
      "text/plain": "array(['Barnet 003B', 'Barnet 003B', 'Barnet 003B', 'Barnet 003B',\n       'Barnet 003B', 'Barnet 003B', 'Barnet 003B', 'Barnet 003B',\n       'Barnet 003B', 'Barnet 003B', 'Barnet 003B', 'Barnet 003B'],\n      dtype=object)"
     },
     "execution_count": 19,
     "metadata": {},
     "output_type": "execute_result"
    }
   ],
   "source": [
    "predicted = predicted.astype(float)\n",
    "predicted = predicted.round().astype(int)\n",
    "predicted_lsoa_names = label_encoder.inverse_transform(predicted)\n",
    "predicted_lsoa_names"
   ],
   "metadata": {
    "collapsed": false,
    "ExecuteTime": {
     "end_time": "2023-06-08T14:26:31.723036038Z",
     "start_time": "2023-06-08T14:26:31.716318320Z"
    }
   }
  },
  {
   "cell_type": "code",
   "execution_count": 23,
   "outputs": [],
   "source": [
    "import geojson\n",
    "\n",
    "df = pd.read_csv('burglary_data.csv')\n",
    "\n",
    "df = df[df['LSOA name'].isin(lsoa_names)]\n",
    "\n",
    "df.drop(labels=[ 'Location', 'Crime type', \"Last outcome category\", 'Crime ID', 'Reported by', 'Month'], axis=1, inplace=True)\n",
    "\n",
    "df = df.drop_duplicates(subset='LSOA name')"
   ],
   "metadata": {
    "collapsed": false,
    "ExecuteTime": {
     "end_time": "2023-06-08T15:03:42.845081199Z",
     "start_time": "2023-06-08T15:03:42.768455771Z"
    }
   }
  },
  {
   "cell_type": "code",
   "execution_count": 24,
   "outputs": [
    {
     "data": {
      "text/plain": "      Longitude   Latitude  LSOA code    LSOA name\n13    -0.158203  51.650167  E01000168  Barnet 003B\n15    -0.194493  51.648905  E01000288  Barnet 004C\n17    -0.175755  51.644326  E01000270  Barnet 005D\n19    -0.168221  51.646565  E01000171  Barnet 006B\n20    -0.219121  51.651188  E01000253  Barnet 007B\n29    -0.188808  51.628684  E01000280  Barnet 007D\n30    -0.219216  51.647664  E01000286  Barnet 007E\n31    -0.225182  51.646280  E01000290  Barnet 007F\n32    -0.178126  51.642142  E01000271  Barnet 008A\n36    -0.176329  51.633626  E01000281  Barnet 008D\n37    -0.184024  51.627279  E01000282  Barnet 008E\n40    -0.148779  51.629921  E01000118  Barnet 010B\n41    -0.149966  51.626658  E01000121  Barnet 010C\n42    -0.148317  51.622801  E01000123  Barnet 010D\n47    -0.169949  51.616585  E01000322  Barnet 011E\n49    -0.188078  51.619447  E01000275  Barnet 012A\n50    -0.184392  51.616971  E01000277  Barnet 012B\n52    -0.186534  51.626302  E01000283  Barnet 012C\n54    -0.267184  51.630775  E01000195  Barnet 013A\n56    -0.270129  51.626278  E01000230  Barnet 013C\n62    -0.274290  51.620944  E01000191  Barnet 014F\n258   -0.187075  51.646795  E01000268  Barnet 005B\n260   -0.183811  51.643840  E01000269  Barnet 005C\n263   -0.158341  51.642841  E01000173  Barnet 006C\n266   -0.162394  51.637671  E01000175  Barnet 006E\n278   -0.147408  51.631995  E01000116  Barnet 009B\n282   -0.158751  51.636283  E01000117  Barnet 010A\n291   -0.263499  51.626998  E01000229  Barnet 013B\n456   -0.200208  51.643283  E01000289  Barnet 004D\n462   -0.248253  51.627842  E01000228  Barnet 007A\n487   -0.178382  51.617372  E01000321  Barnet 012E\n810   -0.132265  51.632007  E01000119  Barnet 009C\n811   -0.136098  51.626267  E01000122  Barnet 009E\n987   -0.205499  51.659379  E01000254  Barnet 001D\n1024  -0.145038  51.635914  E01000115  Barnet 009A",
      "text/html": "<div>\n<style scoped>\n    .dataframe tbody tr th:only-of-type {\n        vertical-align: middle;\n    }\n\n    .dataframe tbody tr th {\n        vertical-align: top;\n    }\n\n    .dataframe thead th {\n        text-align: right;\n    }\n</style>\n<table border=\"1\" class=\"dataframe\">\n  <thead>\n    <tr style=\"text-align: right;\">\n      <th></th>\n      <th>Longitude</th>\n      <th>Latitude</th>\n      <th>LSOA code</th>\n      <th>LSOA name</th>\n    </tr>\n  </thead>\n  <tbody>\n    <tr>\n      <th>13</th>\n      <td>-0.158203</td>\n      <td>51.650167</td>\n      <td>E01000168</td>\n      <td>Barnet 003B</td>\n    </tr>\n    <tr>\n      <th>15</th>\n      <td>-0.194493</td>\n      <td>51.648905</td>\n      <td>E01000288</td>\n      <td>Barnet 004C</td>\n    </tr>\n    <tr>\n      <th>17</th>\n      <td>-0.175755</td>\n      <td>51.644326</td>\n      <td>E01000270</td>\n      <td>Barnet 005D</td>\n    </tr>\n    <tr>\n      <th>19</th>\n      <td>-0.168221</td>\n      <td>51.646565</td>\n      <td>E01000171</td>\n      <td>Barnet 006B</td>\n    </tr>\n    <tr>\n      <th>20</th>\n      <td>-0.219121</td>\n      <td>51.651188</td>\n      <td>E01000253</td>\n      <td>Barnet 007B</td>\n    </tr>\n    <tr>\n      <th>29</th>\n      <td>-0.188808</td>\n      <td>51.628684</td>\n      <td>E01000280</td>\n      <td>Barnet 007D</td>\n    </tr>\n    <tr>\n      <th>30</th>\n      <td>-0.219216</td>\n      <td>51.647664</td>\n      <td>E01000286</td>\n      <td>Barnet 007E</td>\n    </tr>\n    <tr>\n      <th>31</th>\n      <td>-0.225182</td>\n      <td>51.646280</td>\n      <td>E01000290</td>\n      <td>Barnet 007F</td>\n    </tr>\n    <tr>\n      <th>32</th>\n      <td>-0.178126</td>\n      <td>51.642142</td>\n      <td>E01000271</td>\n      <td>Barnet 008A</td>\n    </tr>\n    <tr>\n      <th>36</th>\n      <td>-0.176329</td>\n      <td>51.633626</td>\n      <td>E01000281</td>\n      <td>Barnet 008D</td>\n    </tr>\n    <tr>\n      <th>37</th>\n      <td>-0.184024</td>\n      <td>51.627279</td>\n      <td>E01000282</td>\n      <td>Barnet 008E</td>\n    </tr>\n    <tr>\n      <th>40</th>\n      <td>-0.148779</td>\n      <td>51.629921</td>\n      <td>E01000118</td>\n      <td>Barnet 010B</td>\n    </tr>\n    <tr>\n      <th>41</th>\n      <td>-0.149966</td>\n      <td>51.626658</td>\n      <td>E01000121</td>\n      <td>Barnet 010C</td>\n    </tr>\n    <tr>\n      <th>42</th>\n      <td>-0.148317</td>\n      <td>51.622801</td>\n      <td>E01000123</td>\n      <td>Barnet 010D</td>\n    </tr>\n    <tr>\n      <th>47</th>\n      <td>-0.169949</td>\n      <td>51.616585</td>\n      <td>E01000322</td>\n      <td>Barnet 011E</td>\n    </tr>\n    <tr>\n      <th>49</th>\n      <td>-0.188078</td>\n      <td>51.619447</td>\n      <td>E01000275</td>\n      <td>Barnet 012A</td>\n    </tr>\n    <tr>\n      <th>50</th>\n      <td>-0.184392</td>\n      <td>51.616971</td>\n      <td>E01000277</td>\n      <td>Barnet 012B</td>\n    </tr>\n    <tr>\n      <th>52</th>\n      <td>-0.186534</td>\n      <td>51.626302</td>\n      <td>E01000283</td>\n      <td>Barnet 012C</td>\n    </tr>\n    <tr>\n      <th>54</th>\n      <td>-0.267184</td>\n      <td>51.630775</td>\n      <td>E01000195</td>\n      <td>Barnet 013A</td>\n    </tr>\n    <tr>\n      <th>56</th>\n      <td>-0.270129</td>\n      <td>51.626278</td>\n      <td>E01000230</td>\n      <td>Barnet 013C</td>\n    </tr>\n    <tr>\n      <th>62</th>\n      <td>-0.274290</td>\n      <td>51.620944</td>\n      <td>E01000191</td>\n      <td>Barnet 014F</td>\n    </tr>\n    <tr>\n      <th>258</th>\n      <td>-0.187075</td>\n      <td>51.646795</td>\n      <td>E01000268</td>\n      <td>Barnet 005B</td>\n    </tr>\n    <tr>\n      <th>260</th>\n      <td>-0.183811</td>\n      <td>51.643840</td>\n      <td>E01000269</td>\n      <td>Barnet 005C</td>\n    </tr>\n    <tr>\n      <th>263</th>\n      <td>-0.158341</td>\n      <td>51.642841</td>\n      <td>E01000173</td>\n      <td>Barnet 006C</td>\n    </tr>\n    <tr>\n      <th>266</th>\n      <td>-0.162394</td>\n      <td>51.637671</td>\n      <td>E01000175</td>\n      <td>Barnet 006E</td>\n    </tr>\n    <tr>\n      <th>278</th>\n      <td>-0.147408</td>\n      <td>51.631995</td>\n      <td>E01000116</td>\n      <td>Barnet 009B</td>\n    </tr>\n    <tr>\n      <th>282</th>\n      <td>-0.158751</td>\n      <td>51.636283</td>\n      <td>E01000117</td>\n      <td>Barnet 010A</td>\n    </tr>\n    <tr>\n      <th>291</th>\n      <td>-0.263499</td>\n      <td>51.626998</td>\n      <td>E01000229</td>\n      <td>Barnet 013B</td>\n    </tr>\n    <tr>\n      <th>456</th>\n      <td>-0.200208</td>\n      <td>51.643283</td>\n      <td>E01000289</td>\n      <td>Barnet 004D</td>\n    </tr>\n    <tr>\n      <th>462</th>\n      <td>-0.248253</td>\n      <td>51.627842</td>\n      <td>E01000228</td>\n      <td>Barnet 007A</td>\n    </tr>\n    <tr>\n      <th>487</th>\n      <td>-0.178382</td>\n      <td>51.617372</td>\n      <td>E01000321</td>\n      <td>Barnet 012E</td>\n    </tr>\n    <tr>\n      <th>810</th>\n      <td>-0.132265</td>\n      <td>51.632007</td>\n      <td>E01000119</td>\n      <td>Barnet 009C</td>\n    </tr>\n    <tr>\n      <th>811</th>\n      <td>-0.136098</td>\n      <td>51.626267</td>\n      <td>E01000122</td>\n      <td>Barnet 009E</td>\n    </tr>\n    <tr>\n      <th>987</th>\n      <td>-0.205499</td>\n      <td>51.659379</td>\n      <td>E01000254</td>\n      <td>Barnet 001D</td>\n    </tr>\n    <tr>\n      <th>1024</th>\n      <td>-0.145038</td>\n      <td>51.635914</td>\n      <td>E01000115</td>\n      <td>Barnet 009A</td>\n    </tr>\n  </tbody>\n</table>\n</div>"
     },
     "execution_count": 24,
     "metadata": {},
     "output_type": "execute_result"
    }
   ],
   "source": [
    "df"
   ],
   "metadata": {
    "collapsed": false,
    "ExecuteTime": {
     "end_time": "2023-06-08T15:03:47.077978179Z",
     "start_time": "2023-06-08T15:03:47.061818809Z"
    }
   }
  },
  {
   "cell_type": "code",
   "execution_count": 29,
   "outputs": [
    {
     "data": {
      "text/plain": "<folium.folium.Map at 0x7fd5ed729a80>",
      "text/html": "<div style=\"width:100%;\"><div style=\"position:relative;width:100%;height:0;padding-bottom:60%;\"><span style=\"color:#565656\">Make this Notebook Trusted to load map: File -> Trust Notebook</span><iframe srcdoc=\"&lt;!DOCTYPE html&gt;\n&lt;html&gt;\n&lt;head&gt;\n    \n    &lt;meta http-equiv=&quot;content-type&quot; content=&quot;text/html; charset=UTF-8&quot; /&gt;\n    \n        &lt;script&gt;\n            L_NO_TOUCH = false;\n            L_DISABLE_3D = false;\n        &lt;/script&gt;\n    \n    &lt;style&gt;html, body {width: 100%;height: 100%;margin: 0;padding: 0;}&lt;/style&gt;\n    &lt;style&gt;#map {position:absolute;top:0;bottom:0;right:0;left:0;}&lt;/style&gt;\n    &lt;script src=&quot;https://cdn.jsdelivr.net/npm/leaflet@1.9.3/dist/leaflet.js&quot;&gt;&lt;/script&gt;\n    &lt;script src=&quot;https://code.jquery.com/jquery-1.12.4.min.js&quot;&gt;&lt;/script&gt;\n    &lt;script src=&quot;https://cdn.jsdelivr.net/npm/bootstrap@5.2.2/dist/js/bootstrap.bundle.min.js&quot;&gt;&lt;/script&gt;\n    &lt;script src=&quot;https://cdnjs.cloudflare.com/ajax/libs/Leaflet.awesome-markers/2.0.2/leaflet.awesome-markers.js&quot;&gt;&lt;/script&gt;\n    &lt;link rel=&quot;stylesheet&quot; href=&quot;https://cdn.jsdelivr.net/npm/leaflet@1.9.3/dist/leaflet.css&quot;/&gt;\n    &lt;link rel=&quot;stylesheet&quot; href=&quot;https://cdn.jsdelivr.net/npm/bootstrap@5.2.2/dist/css/bootstrap.min.css&quot;/&gt;\n    &lt;link rel=&quot;stylesheet&quot; href=&quot;https://netdna.bootstrapcdn.com/bootstrap/3.0.0/css/bootstrap.min.css&quot;/&gt;\n    &lt;link rel=&quot;stylesheet&quot; href=&quot;https://cdn.jsdelivr.net/npm/@fortawesome/fontawesome-free@6.2.0/css/all.min.css&quot;/&gt;\n    &lt;link rel=&quot;stylesheet&quot; href=&quot;https://cdnjs.cloudflare.com/ajax/libs/Leaflet.awesome-markers/2.0.2/leaflet.awesome-markers.css&quot;/&gt;\n    &lt;link rel=&quot;stylesheet&quot; href=&quot;https://cdn.jsdelivr.net/gh/python-visualization/folium/folium/templates/leaflet.awesome.rotate.min.css&quot;/&gt;\n    \n            &lt;meta name=&quot;viewport&quot; content=&quot;width=device-width,\n                initial-scale=1.0, maximum-scale=1.0, user-scalable=no&quot; /&gt;\n            &lt;style&gt;\n                #map_5f94ab1ded5ee486c305573cda171199 {\n                    position: relative;\n                    width: 100.0%;\n                    height: 100.0%;\n                    left: 0.0%;\n                    top: 0.0%;\n                }\n                .leaflet-container { font-size: 1rem; }\n            &lt;/style&gt;\n        \n&lt;/head&gt;\n&lt;body&gt;\n    \n    \n            &lt;div class=&quot;folium-map&quot; id=&quot;map_5f94ab1ded5ee486c305573cda171199&quot; &gt;&lt;/div&gt;\n        \n&lt;/body&gt;\n&lt;script&gt;\n    \n    \n            var map_5f94ab1ded5ee486c305573cda171199 = L.map(\n                &quot;map_5f94ab1ded5ee486c305573cda171199&quot;,\n                {\n                    center: [51.6167, -0.207],\n                    crs: L.CRS.EPSG3857,\n                    zoom: 12,\n                    zoomControl: true,\n                    preferCanvas: false,\n                }\n            );\n\n            \n\n        \n    \n            var tile_layer_14ec9b40d30d0724c4c695e40b5506ad = L.tileLayer(\n                &quot;https://{s}.tile.openstreetmap.org/{z}/{x}/{y}.png&quot;,\n                {&quot;attribution&quot;: &quot;Data by \\u0026copy; \\u003ca target=\\&quot;_blank\\&quot; href=\\&quot;http://openstreetmap.org\\&quot;\\u003eOpenStreetMap\\u003c/a\\u003e, under \\u003ca target=\\&quot;_blank\\&quot; href=\\&quot;http://www.openstreetmap.org/copyright\\&quot;\\u003eODbL\\u003c/a\\u003e.&quot;, &quot;detectRetina&quot;: false, &quot;maxNativeZoom&quot;: 18, &quot;maxZoom&quot;: 18, &quot;minZoom&quot;: 0, &quot;noWrap&quot;: false, &quot;opacity&quot;: 1, &quot;subdomains&quot;: &quot;abc&quot;, &quot;tms&quot;: false}\n            ).addTo(map_5f94ab1ded5ee486c305573cda171199);\n        \n    \n            var marker_8206a963c421415388a931f602e387b0 = L.marker(\n                [51.650167, -0.158203],\n                {}\n            ).addTo(map_5f94ab1ded5ee486c305573cda171199);\n        \n    \n        var popup_70bb43ce92368d04f488be2a6bda21c1 = L.popup({&quot;maxWidth&quot;: &quot;100%&quot;});\n\n        \n            \n                var html_0e43308854beb7c19f0f115b2c73e5c5 = $(`&lt;div id=&quot;html_0e43308854beb7c19f0f115b2c73e5c5&quot; style=&quot;width: 100.0%; height: 100.0%;&quot;&gt;Barnet 003B&lt;/div&gt;`)[0];\n                popup_70bb43ce92368d04f488be2a6bda21c1.setContent(html_0e43308854beb7c19f0f115b2c73e5c5);\n            \n        \n\n        marker_8206a963c421415388a931f602e387b0.bindPopup(popup_70bb43ce92368d04f488be2a6bda21c1)\n        ;\n\n        \n    \n    \n            var marker_6d1a952541d1f57c9e6a690725c7c9dd = L.marker(\n                [51.648905, -0.194493],\n                {}\n            ).addTo(map_5f94ab1ded5ee486c305573cda171199);\n        \n    \n        var popup_05b6223fb7133f985df5ffa27671ca00 = L.popup({&quot;maxWidth&quot;: &quot;100%&quot;});\n\n        \n            \n                var html_0fb7f5937220480ff50e0dda32866bfc = $(`&lt;div id=&quot;html_0fb7f5937220480ff50e0dda32866bfc&quot; style=&quot;width: 100.0%; height: 100.0%;&quot;&gt;Barnet 004C&lt;/div&gt;`)[0];\n                popup_05b6223fb7133f985df5ffa27671ca00.setContent(html_0fb7f5937220480ff50e0dda32866bfc);\n            \n        \n\n        marker_6d1a952541d1f57c9e6a690725c7c9dd.bindPopup(popup_05b6223fb7133f985df5ffa27671ca00)\n        ;\n\n        \n    \n    \n            var marker_fccce6bb3e68e2548c6092b7bd490ab0 = L.marker(\n                [51.644326, -0.175755],\n                {}\n            ).addTo(map_5f94ab1ded5ee486c305573cda171199);\n        \n    \n        var popup_52b57864623fe33aa55b98812e3c627f = L.popup({&quot;maxWidth&quot;: &quot;100%&quot;});\n\n        \n            \n                var html_00f09ec7411cee3c36fa4e9e1997ce46 = $(`&lt;div id=&quot;html_00f09ec7411cee3c36fa4e9e1997ce46&quot; style=&quot;width: 100.0%; height: 100.0%;&quot;&gt;Barnet 005D&lt;/div&gt;`)[0];\n                popup_52b57864623fe33aa55b98812e3c627f.setContent(html_00f09ec7411cee3c36fa4e9e1997ce46);\n            \n        \n\n        marker_fccce6bb3e68e2548c6092b7bd490ab0.bindPopup(popup_52b57864623fe33aa55b98812e3c627f)\n        ;\n\n        \n    \n    \n            var marker_dc558f5dc577e8ec78660ef66d6fe7fc = L.marker(\n                [51.646565, -0.168221],\n                {}\n            ).addTo(map_5f94ab1ded5ee486c305573cda171199);\n        \n    \n        var popup_9a047d1193eee1fd858e2f139f3f0306 = L.popup({&quot;maxWidth&quot;: &quot;100%&quot;});\n\n        \n            \n                var html_f1e10bfd2bac93f055524845ce317ec8 = $(`&lt;div id=&quot;html_f1e10bfd2bac93f055524845ce317ec8&quot; style=&quot;width: 100.0%; height: 100.0%;&quot;&gt;Barnet 006B&lt;/div&gt;`)[0];\n                popup_9a047d1193eee1fd858e2f139f3f0306.setContent(html_f1e10bfd2bac93f055524845ce317ec8);\n            \n        \n\n        marker_dc558f5dc577e8ec78660ef66d6fe7fc.bindPopup(popup_9a047d1193eee1fd858e2f139f3f0306)\n        ;\n\n        \n    \n    \n            var marker_0fc5f025f407be9f49db89bf9fab666e = L.marker(\n                [51.651188, -0.219121],\n                {}\n            ).addTo(map_5f94ab1ded5ee486c305573cda171199);\n        \n    \n        var popup_87582beaa3d58e7af8279a5a7266853d = L.popup({&quot;maxWidth&quot;: &quot;100%&quot;});\n\n        \n            \n                var html_fbe867b6fe024faf48d168c533d6b05a = $(`&lt;div id=&quot;html_fbe867b6fe024faf48d168c533d6b05a&quot; style=&quot;width: 100.0%; height: 100.0%;&quot;&gt;Barnet 007B&lt;/div&gt;`)[0];\n                popup_87582beaa3d58e7af8279a5a7266853d.setContent(html_fbe867b6fe024faf48d168c533d6b05a);\n            \n        \n\n        marker_0fc5f025f407be9f49db89bf9fab666e.bindPopup(popup_87582beaa3d58e7af8279a5a7266853d)\n        ;\n\n        \n    \n    \n            var marker_f0ea996f7ff86fc2383f931e9e4ccdb4 = L.marker(\n                [51.628684, -0.188808],\n                {}\n            ).addTo(map_5f94ab1ded5ee486c305573cda171199);\n        \n    \n        var popup_6144dd81376f10bbb8926f1d06b11df9 = L.popup({&quot;maxWidth&quot;: &quot;100%&quot;});\n\n        \n            \n                var html_2871e404b18b4a67a63563a242792519 = $(`&lt;div id=&quot;html_2871e404b18b4a67a63563a242792519&quot; style=&quot;width: 100.0%; height: 100.0%;&quot;&gt;Barnet 007D&lt;/div&gt;`)[0];\n                popup_6144dd81376f10bbb8926f1d06b11df9.setContent(html_2871e404b18b4a67a63563a242792519);\n            \n        \n\n        marker_f0ea996f7ff86fc2383f931e9e4ccdb4.bindPopup(popup_6144dd81376f10bbb8926f1d06b11df9)\n        ;\n\n        \n    \n    \n            var marker_6dadf13ae63cf635d168b59228849dc1 = L.marker(\n                [51.647664, -0.219216],\n                {}\n            ).addTo(map_5f94ab1ded5ee486c305573cda171199);\n        \n    \n        var popup_90305cba364135994d2c401f1e265a67 = L.popup({&quot;maxWidth&quot;: &quot;100%&quot;});\n\n        \n            \n                var html_4b1db62d134bdcf0f3981d8b7e880404 = $(`&lt;div id=&quot;html_4b1db62d134bdcf0f3981d8b7e880404&quot; style=&quot;width: 100.0%; height: 100.0%;&quot;&gt;Barnet 007E&lt;/div&gt;`)[0];\n                popup_90305cba364135994d2c401f1e265a67.setContent(html_4b1db62d134bdcf0f3981d8b7e880404);\n            \n        \n\n        marker_6dadf13ae63cf635d168b59228849dc1.bindPopup(popup_90305cba364135994d2c401f1e265a67)\n        ;\n\n        \n    \n    \n            var marker_a183040587a77e01043a81191bc07c1c = L.marker(\n                [51.64628, -0.225182],\n                {}\n            ).addTo(map_5f94ab1ded5ee486c305573cda171199);\n        \n    \n        var popup_9be2922f32a00337b1b4b1a918bb0ee0 = L.popup({&quot;maxWidth&quot;: &quot;100%&quot;});\n\n        \n            \n                var html_607092010e48007e717d095f5aebe004 = $(`&lt;div id=&quot;html_607092010e48007e717d095f5aebe004&quot; style=&quot;width: 100.0%; height: 100.0%;&quot;&gt;Barnet 007F&lt;/div&gt;`)[0];\n                popup_9be2922f32a00337b1b4b1a918bb0ee0.setContent(html_607092010e48007e717d095f5aebe004);\n            \n        \n\n        marker_a183040587a77e01043a81191bc07c1c.bindPopup(popup_9be2922f32a00337b1b4b1a918bb0ee0)\n        ;\n\n        \n    \n    \n            var marker_d5aec2ce14469ad5d4e8c07a185f9b1d = L.marker(\n                [51.642142, -0.178126],\n                {}\n            ).addTo(map_5f94ab1ded5ee486c305573cda171199);\n        \n    \n        var popup_148d9c786b9aabcddec2663098bfa49a = L.popup({&quot;maxWidth&quot;: &quot;100%&quot;});\n\n        \n            \n                var html_ca5fa8702892e216272cfe9741e44b85 = $(`&lt;div id=&quot;html_ca5fa8702892e216272cfe9741e44b85&quot; style=&quot;width: 100.0%; height: 100.0%;&quot;&gt;Barnet 008A&lt;/div&gt;`)[0];\n                popup_148d9c786b9aabcddec2663098bfa49a.setContent(html_ca5fa8702892e216272cfe9741e44b85);\n            \n        \n\n        marker_d5aec2ce14469ad5d4e8c07a185f9b1d.bindPopup(popup_148d9c786b9aabcddec2663098bfa49a)\n        ;\n\n        \n    \n    \n            var marker_a9d82298ec7db2a6806f7c34f4cba6ca = L.marker(\n                [51.633626, -0.176329],\n                {}\n            ).addTo(map_5f94ab1ded5ee486c305573cda171199);\n        \n    \n        var popup_013191566a35107a2af5f384322c2ebd = L.popup({&quot;maxWidth&quot;: &quot;100%&quot;});\n\n        \n            \n                var html_162deb40795b555504b9c0ab28a6cef4 = $(`&lt;div id=&quot;html_162deb40795b555504b9c0ab28a6cef4&quot; style=&quot;width: 100.0%; height: 100.0%;&quot;&gt;Barnet 008D&lt;/div&gt;`)[0];\n                popup_013191566a35107a2af5f384322c2ebd.setContent(html_162deb40795b555504b9c0ab28a6cef4);\n            \n        \n\n        marker_a9d82298ec7db2a6806f7c34f4cba6ca.bindPopup(popup_013191566a35107a2af5f384322c2ebd)\n        ;\n\n        \n    \n    \n            var marker_0efd919de66c937451131b0d6952baa7 = L.marker(\n                [51.627279, -0.184024],\n                {}\n            ).addTo(map_5f94ab1ded5ee486c305573cda171199);\n        \n    \n        var popup_2510a08d69d68870cdc0279992db7a46 = L.popup({&quot;maxWidth&quot;: &quot;100%&quot;});\n\n        \n            \n                var html_42c1c9d303a4799923f8d6f9d1efea59 = $(`&lt;div id=&quot;html_42c1c9d303a4799923f8d6f9d1efea59&quot; style=&quot;width: 100.0%; height: 100.0%;&quot;&gt;Barnet 008E&lt;/div&gt;`)[0];\n                popup_2510a08d69d68870cdc0279992db7a46.setContent(html_42c1c9d303a4799923f8d6f9d1efea59);\n            \n        \n\n        marker_0efd919de66c937451131b0d6952baa7.bindPopup(popup_2510a08d69d68870cdc0279992db7a46)\n        ;\n\n        \n    \n    \n            var marker_01ab270466ac5fb0eb360710ac43e52b = L.marker(\n                [51.629921, -0.148779],\n                {}\n            ).addTo(map_5f94ab1ded5ee486c305573cda171199);\n        \n    \n        var popup_6a6771bd1d5e2881f7b697548f2a7368 = L.popup({&quot;maxWidth&quot;: &quot;100%&quot;});\n\n        \n            \n                var html_b3b02c312966617052f5a3eeb41f4f2b = $(`&lt;div id=&quot;html_b3b02c312966617052f5a3eeb41f4f2b&quot; style=&quot;width: 100.0%; height: 100.0%;&quot;&gt;Barnet 010B&lt;/div&gt;`)[0];\n                popup_6a6771bd1d5e2881f7b697548f2a7368.setContent(html_b3b02c312966617052f5a3eeb41f4f2b);\n            \n        \n\n        marker_01ab270466ac5fb0eb360710ac43e52b.bindPopup(popup_6a6771bd1d5e2881f7b697548f2a7368)\n        ;\n\n        \n    \n    \n            var marker_4f3c2f46d8fa5925fc05124ad21ffc85 = L.marker(\n                [51.626658, -0.149966],\n                {}\n            ).addTo(map_5f94ab1ded5ee486c305573cda171199);\n        \n    \n        var popup_50eeabd245d06d4b8bd1099284d15f88 = L.popup({&quot;maxWidth&quot;: &quot;100%&quot;});\n\n        \n            \n                var html_22a15d260ca7866e12542f1b2c95eae9 = $(`&lt;div id=&quot;html_22a15d260ca7866e12542f1b2c95eae9&quot; style=&quot;width: 100.0%; height: 100.0%;&quot;&gt;Barnet 010C&lt;/div&gt;`)[0];\n                popup_50eeabd245d06d4b8bd1099284d15f88.setContent(html_22a15d260ca7866e12542f1b2c95eae9);\n            \n        \n\n        marker_4f3c2f46d8fa5925fc05124ad21ffc85.bindPopup(popup_50eeabd245d06d4b8bd1099284d15f88)\n        ;\n\n        \n    \n    \n            var marker_97295c20e1fcd392861349703b3c5a80 = L.marker(\n                [51.622801, -0.148317],\n                {}\n            ).addTo(map_5f94ab1ded5ee486c305573cda171199);\n        \n    \n        var popup_89aa81b67baca5b1387fae1965d4d339 = L.popup({&quot;maxWidth&quot;: &quot;100%&quot;});\n\n        \n            \n                var html_6969f2a1d72c10e6dd1a56439fdcbb40 = $(`&lt;div id=&quot;html_6969f2a1d72c10e6dd1a56439fdcbb40&quot; style=&quot;width: 100.0%; height: 100.0%;&quot;&gt;Barnet 010D&lt;/div&gt;`)[0];\n                popup_89aa81b67baca5b1387fae1965d4d339.setContent(html_6969f2a1d72c10e6dd1a56439fdcbb40);\n            \n        \n\n        marker_97295c20e1fcd392861349703b3c5a80.bindPopup(popup_89aa81b67baca5b1387fae1965d4d339)\n        ;\n\n        \n    \n    \n            var marker_bf3677844c513405f611de93266661ab = L.marker(\n                [51.616585, -0.169949],\n                {}\n            ).addTo(map_5f94ab1ded5ee486c305573cda171199);\n        \n    \n        var popup_fe66bff6eebb031f6b78e054e14857ae = L.popup({&quot;maxWidth&quot;: &quot;100%&quot;});\n\n        \n            \n                var html_5d657afc56d388f3e11f5529b8e920dd = $(`&lt;div id=&quot;html_5d657afc56d388f3e11f5529b8e920dd&quot; style=&quot;width: 100.0%; height: 100.0%;&quot;&gt;Barnet 011E&lt;/div&gt;`)[0];\n                popup_fe66bff6eebb031f6b78e054e14857ae.setContent(html_5d657afc56d388f3e11f5529b8e920dd);\n            \n        \n\n        marker_bf3677844c513405f611de93266661ab.bindPopup(popup_fe66bff6eebb031f6b78e054e14857ae)\n        ;\n\n        \n    \n    \n            var marker_2787e6c385d77321588f437f5b5aa938 = L.marker(\n                [51.619447, -0.188078],\n                {}\n            ).addTo(map_5f94ab1ded5ee486c305573cda171199);\n        \n    \n        var popup_fe8cafbd9d761d5f239f07688a3c28c2 = L.popup({&quot;maxWidth&quot;: &quot;100%&quot;});\n\n        \n            \n                var html_eb8e4be559c7524819216f28e2365214 = $(`&lt;div id=&quot;html_eb8e4be559c7524819216f28e2365214&quot; style=&quot;width: 100.0%; height: 100.0%;&quot;&gt;Barnet 012A&lt;/div&gt;`)[0];\n                popup_fe8cafbd9d761d5f239f07688a3c28c2.setContent(html_eb8e4be559c7524819216f28e2365214);\n            \n        \n\n        marker_2787e6c385d77321588f437f5b5aa938.bindPopup(popup_fe8cafbd9d761d5f239f07688a3c28c2)\n        ;\n\n        \n    \n    \n            var marker_2a8c6d8dc9fee7848e06e4e5e2f1cca8 = L.marker(\n                [51.616971, -0.184392],\n                {}\n            ).addTo(map_5f94ab1ded5ee486c305573cda171199);\n        \n    \n        var popup_7123c69ccfe9a519f9659fa1c974c0ea = L.popup({&quot;maxWidth&quot;: &quot;100%&quot;});\n\n        \n            \n                var html_529dc990686df43c77831c504d892a0b = $(`&lt;div id=&quot;html_529dc990686df43c77831c504d892a0b&quot; style=&quot;width: 100.0%; height: 100.0%;&quot;&gt;Barnet 012B&lt;/div&gt;`)[0];\n                popup_7123c69ccfe9a519f9659fa1c974c0ea.setContent(html_529dc990686df43c77831c504d892a0b);\n            \n        \n\n        marker_2a8c6d8dc9fee7848e06e4e5e2f1cca8.bindPopup(popup_7123c69ccfe9a519f9659fa1c974c0ea)\n        ;\n\n        \n    \n    \n            var marker_afb4a076557333b26cce4129920225bb = L.marker(\n                [51.626302, -0.186534],\n                {}\n            ).addTo(map_5f94ab1ded5ee486c305573cda171199);\n        \n    \n        var popup_0d05da2524969be36b74935cea76ea4d = L.popup({&quot;maxWidth&quot;: &quot;100%&quot;});\n\n        \n            \n                var html_0b6ff9c6e0c10a1c9b377d17e1874c54 = $(`&lt;div id=&quot;html_0b6ff9c6e0c10a1c9b377d17e1874c54&quot; style=&quot;width: 100.0%; height: 100.0%;&quot;&gt;Barnet 012C&lt;/div&gt;`)[0];\n                popup_0d05da2524969be36b74935cea76ea4d.setContent(html_0b6ff9c6e0c10a1c9b377d17e1874c54);\n            \n        \n\n        marker_afb4a076557333b26cce4129920225bb.bindPopup(popup_0d05da2524969be36b74935cea76ea4d)\n        ;\n\n        \n    \n    \n            var marker_badebc4953e545ddf188b258d150cf9b = L.marker(\n                [51.630775, -0.267184],\n                {}\n            ).addTo(map_5f94ab1ded5ee486c305573cda171199);\n        \n    \n        var popup_65a53766aa84488d2ef658003473442d = L.popup({&quot;maxWidth&quot;: &quot;100%&quot;});\n\n        \n            \n                var html_0cbcc8e0c652c228f00a4114cfa672bd = $(`&lt;div id=&quot;html_0cbcc8e0c652c228f00a4114cfa672bd&quot; style=&quot;width: 100.0%; height: 100.0%;&quot;&gt;Barnet 013A&lt;/div&gt;`)[0];\n                popup_65a53766aa84488d2ef658003473442d.setContent(html_0cbcc8e0c652c228f00a4114cfa672bd);\n            \n        \n\n        marker_badebc4953e545ddf188b258d150cf9b.bindPopup(popup_65a53766aa84488d2ef658003473442d)\n        ;\n\n        \n    \n    \n            var marker_4ff67e2acc2569e32c2f5546969bdb15 = L.marker(\n                [51.626278, -0.270129],\n                {}\n            ).addTo(map_5f94ab1ded5ee486c305573cda171199);\n        \n    \n        var popup_c3eb87f7db6a79c8c998ae28d74bc220 = L.popup({&quot;maxWidth&quot;: &quot;100%&quot;});\n\n        \n            \n                var html_2f4c1f9b2f3f0127e003da8c275e0eb1 = $(`&lt;div id=&quot;html_2f4c1f9b2f3f0127e003da8c275e0eb1&quot; style=&quot;width: 100.0%; height: 100.0%;&quot;&gt;Barnet 013C&lt;/div&gt;`)[0];\n                popup_c3eb87f7db6a79c8c998ae28d74bc220.setContent(html_2f4c1f9b2f3f0127e003da8c275e0eb1);\n            \n        \n\n        marker_4ff67e2acc2569e32c2f5546969bdb15.bindPopup(popup_c3eb87f7db6a79c8c998ae28d74bc220)\n        ;\n\n        \n    \n    \n            var marker_933fe60188b87b38cb380ca57cd3f7f2 = L.marker(\n                [51.620944, -0.27429],\n                {}\n            ).addTo(map_5f94ab1ded5ee486c305573cda171199);\n        \n    \n        var popup_e2e40012e025ecb95cf20f1f3321ef86 = L.popup({&quot;maxWidth&quot;: &quot;100%&quot;});\n\n        \n            \n                var html_44a893cf1c07c552acd8ae341d980093 = $(`&lt;div id=&quot;html_44a893cf1c07c552acd8ae341d980093&quot; style=&quot;width: 100.0%; height: 100.0%;&quot;&gt;Barnet 014F&lt;/div&gt;`)[0];\n                popup_e2e40012e025ecb95cf20f1f3321ef86.setContent(html_44a893cf1c07c552acd8ae341d980093);\n            \n        \n\n        marker_933fe60188b87b38cb380ca57cd3f7f2.bindPopup(popup_e2e40012e025ecb95cf20f1f3321ef86)\n        ;\n\n        \n    \n    \n            var marker_8560711f31450609a8603b4aa6b7da49 = L.marker(\n                [51.646795, -0.187075],\n                {}\n            ).addTo(map_5f94ab1ded5ee486c305573cda171199);\n        \n    \n        var popup_72a7b52bf7e28cc27cfae67c387ec4bd = L.popup({&quot;maxWidth&quot;: &quot;100%&quot;});\n\n        \n            \n                var html_ccba15eee661717e89fff7591451c40c = $(`&lt;div id=&quot;html_ccba15eee661717e89fff7591451c40c&quot; style=&quot;width: 100.0%; height: 100.0%;&quot;&gt;Barnet 005B&lt;/div&gt;`)[0];\n                popup_72a7b52bf7e28cc27cfae67c387ec4bd.setContent(html_ccba15eee661717e89fff7591451c40c);\n            \n        \n\n        marker_8560711f31450609a8603b4aa6b7da49.bindPopup(popup_72a7b52bf7e28cc27cfae67c387ec4bd)\n        ;\n\n        \n    \n    \n            var marker_1728de46b357db1b1ccf8dbb42bfe7d4 = L.marker(\n                [51.64384, -0.183811],\n                {}\n            ).addTo(map_5f94ab1ded5ee486c305573cda171199);\n        \n    \n        var popup_3af00029ea2e7eb631102cdaf5fd1dab = L.popup({&quot;maxWidth&quot;: &quot;100%&quot;});\n\n        \n            \n                var html_47a5946fc47b1ffcb756419720b9c67a = $(`&lt;div id=&quot;html_47a5946fc47b1ffcb756419720b9c67a&quot; style=&quot;width: 100.0%; height: 100.0%;&quot;&gt;Barnet 005C&lt;/div&gt;`)[0];\n                popup_3af00029ea2e7eb631102cdaf5fd1dab.setContent(html_47a5946fc47b1ffcb756419720b9c67a);\n            \n        \n\n        marker_1728de46b357db1b1ccf8dbb42bfe7d4.bindPopup(popup_3af00029ea2e7eb631102cdaf5fd1dab)\n        ;\n\n        \n    \n    \n            var marker_b4ff37c00ab60700bd5f5340147e64ab = L.marker(\n                [51.642841, -0.158341],\n                {}\n            ).addTo(map_5f94ab1ded5ee486c305573cda171199);\n        \n    \n        var popup_245cc4d6b5dfc35af4513d7b20332a81 = L.popup({&quot;maxWidth&quot;: &quot;100%&quot;});\n\n        \n            \n                var html_dc7575103ce898ac74cbe7c10e3b29e7 = $(`&lt;div id=&quot;html_dc7575103ce898ac74cbe7c10e3b29e7&quot; style=&quot;width: 100.0%; height: 100.0%;&quot;&gt;Barnet 006C&lt;/div&gt;`)[0];\n                popup_245cc4d6b5dfc35af4513d7b20332a81.setContent(html_dc7575103ce898ac74cbe7c10e3b29e7);\n            \n        \n\n        marker_b4ff37c00ab60700bd5f5340147e64ab.bindPopup(popup_245cc4d6b5dfc35af4513d7b20332a81)\n        ;\n\n        \n    \n    \n            var marker_ded4a905f6b1e045428210123f59d009 = L.marker(\n                [51.637671, -0.162394],\n                {}\n            ).addTo(map_5f94ab1ded5ee486c305573cda171199);\n        \n    \n        var popup_bf0d1f71f05e08cd27fbbf98983dcdee = L.popup({&quot;maxWidth&quot;: &quot;100%&quot;});\n\n        \n            \n                var html_4f847a79263305051a050a48c0101573 = $(`&lt;div id=&quot;html_4f847a79263305051a050a48c0101573&quot; style=&quot;width: 100.0%; height: 100.0%;&quot;&gt;Barnet 006E&lt;/div&gt;`)[0];\n                popup_bf0d1f71f05e08cd27fbbf98983dcdee.setContent(html_4f847a79263305051a050a48c0101573);\n            \n        \n\n        marker_ded4a905f6b1e045428210123f59d009.bindPopup(popup_bf0d1f71f05e08cd27fbbf98983dcdee)\n        ;\n\n        \n    \n    \n            var marker_911242d4efdea18bf916bb7d939e69de = L.marker(\n                [51.631995, -0.147408],\n                {}\n            ).addTo(map_5f94ab1ded5ee486c305573cda171199);\n        \n    \n        var popup_2757a58947f956c158bf3c918081fe7f = L.popup({&quot;maxWidth&quot;: &quot;100%&quot;});\n\n        \n            \n                var html_bb11d9f43fe837b23252080c9a995798 = $(`&lt;div id=&quot;html_bb11d9f43fe837b23252080c9a995798&quot; style=&quot;width: 100.0%; height: 100.0%;&quot;&gt;Barnet 009B&lt;/div&gt;`)[0];\n                popup_2757a58947f956c158bf3c918081fe7f.setContent(html_bb11d9f43fe837b23252080c9a995798);\n            \n        \n\n        marker_911242d4efdea18bf916bb7d939e69de.bindPopup(popup_2757a58947f956c158bf3c918081fe7f)\n        ;\n\n        \n    \n    \n            var marker_33236f8365ecaad0ed28626215151c4b = L.marker(\n                [51.636283, -0.158751],\n                {}\n            ).addTo(map_5f94ab1ded5ee486c305573cda171199);\n        \n    \n        var popup_c9fadfa46aa65f0662609426059d050f = L.popup({&quot;maxWidth&quot;: &quot;100%&quot;});\n\n        \n            \n                var html_208431c64b1ff4542ceaaa30f58f577e = $(`&lt;div id=&quot;html_208431c64b1ff4542ceaaa30f58f577e&quot; style=&quot;width: 100.0%; height: 100.0%;&quot;&gt;Barnet 010A&lt;/div&gt;`)[0];\n                popup_c9fadfa46aa65f0662609426059d050f.setContent(html_208431c64b1ff4542ceaaa30f58f577e);\n            \n        \n\n        marker_33236f8365ecaad0ed28626215151c4b.bindPopup(popup_c9fadfa46aa65f0662609426059d050f)\n        ;\n\n        \n    \n    \n            var marker_95b0ae41e94f086c2b5fe1d2b775477c = L.marker(\n                [51.626998, -0.263499],\n                {}\n            ).addTo(map_5f94ab1ded5ee486c305573cda171199);\n        \n    \n        var popup_63236d8b09e26f32193310e071a93fe8 = L.popup({&quot;maxWidth&quot;: &quot;100%&quot;});\n\n        \n            \n                var html_e6733644e7d85503a14cb855118534b9 = $(`&lt;div id=&quot;html_e6733644e7d85503a14cb855118534b9&quot; style=&quot;width: 100.0%; height: 100.0%;&quot;&gt;Barnet 013B&lt;/div&gt;`)[0];\n                popup_63236d8b09e26f32193310e071a93fe8.setContent(html_e6733644e7d85503a14cb855118534b9);\n            \n        \n\n        marker_95b0ae41e94f086c2b5fe1d2b775477c.bindPopup(popup_63236d8b09e26f32193310e071a93fe8)\n        ;\n\n        \n    \n    \n            var marker_3c87bc2412d828b2b76245669db282b4 = L.marker(\n                [51.643283, -0.200208],\n                {}\n            ).addTo(map_5f94ab1ded5ee486c305573cda171199);\n        \n    \n        var popup_408118629b1a515a268a9222c73b4c05 = L.popup({&quot;maxWidth&quot;: &quot;100%&quot;});\n\n        \n            \n                var html_cfed954f67662dbb69ea2a6a70fcf824 = $(`&lt;div id=&quot;html_cfed954f67662dbb69ea2a6a70fcf824&quot; style=&quot;width: 100.0%; height: 100.0%;&quot;&gt;Barnet 004D&lt;/div&gt;`)[0];\n                popup_408118629b1a515a268a9222c73b4c05.setContent(html_cfed954f67662dbb69ea2a6a70fcf824);\n            \n        \n\n        marker_3c87bc2412d828b2b76245669db282b4.bindPopup(popup_408118629b1a515a268a9222c73b4c05)\n        ;\n\n        \n    \n    \n            var marker_7bf8a09417080fe8f563ed60f2d9061e = L.marker(\n                [51.627842, -0.248253],\n                {}\n            ).addTo(map_5f94ab1ded5ee486c305573cda171199);\n        \n    \n        var popup_b66db2796101b9e20aaf026334e59c17 = L.popup({&quot;maxWidth&quot;: &quot;100%&quot;});\n\n        \n            \n                var html_2118061a579c2f8e77b3162bdb64550e = $(`&lt;div id=&quot;html_2118061a579c2f8e77b3162bdb64550e&quot; style=&quot;width: 100.0%; height: 100.0%;&quot;&gt;Barnet 007A&lt;/div&gt;`)[0];\n                popup_b66db2796101b9e20aaf026334e59c17.setContent(html_2118061a579c2f8e77b3162bdb64550e);\n            \n        \n\n        marker_7bf8a09417080fe8f563ed60f2d9061e.bindPopup(popup_b66db2796101b9e20aaf026334e59c17)\n        ;\n\n        \n    \n    \n            var marker_ed39b9273087971d6893622cd5345f0b = L.marker(\n                [51.617372, -0.178382],\n                {}\n            ).addTo(map_5f94ab1ded5ee486c305573cda171199);\n        \n    \n        var popup_2f4105ae2e9597e6175f3edb688c3917 = L.popup({&quot;maxWidth&quot;: &quot;100%&quot;});\n\n        \n            \n                var html_f9f95fb00e2580bf92854027ac06d82f = $(`&lt;div id=&quot;html_f9f95fb00e2580bf92854027ac06d82f&quot; style=&quot;width: 100.0%; height: 100.0%;&quot;&gt;Barnet 012E&lt;/div&gt;`)[0];\n                popup_2f4105ae2e9597e6175f3edb688c3917.setContent(html_f9f95fb00e2580bf92854027ac06d82f);\n            \n        \n\n        marker_ed39b9273087971d6893622cd5345f0b.bindPopup(popup_2f4105ae2e9597e6175f3edb688c3917)\n        ;\n\n        \n    \n    \n            var marker_7c083e22956a0269c2c7779c3bd8c69a = L.marker(\n                [51.632007, -0.132265],\n                {}\n            ).addTo(map_5f94ab1ded5ee486c305573cda171199);\n        \n    \n        var popup_348837dd38933ca3e603f69228bc4245 = L.popup({&quot;maxWidth&quot;: &quot;100%&quot;});\n\n        \n            \n                var html_2a3ea26ae1082363a9afa11ea74b06db = $(`&lt;div id=&quot;html_2a3ea26ae1082363a9afa11ea74b06db&quot; style=&quot;width: 100.0%; height: 100.0%;&quot;&gt;Barnet 009C&lt;/div&gt;`)[0];\n                popup_348837dd38933ca3e603f69228bc4245.setContent(html_2a3ea26ae1082363a9afa11ea74b06db);\n            \n        \n\n        marker_7c083e22956a0269c2c7779c3bd8c69a.bindPopup(popup_348837dd38933ca3e603f69228bc4245)\n        ;\n\n        \n    \n    \n            var marker_716e0ac45c88c017ee77f65db0dc98f0 = L.marker(\n                [51.626267, -0.136098],\n                {}\n            ).addTo(map_5f94ab1ded5ee486c305573cda171199);\n        \n    \n        var popup_294ef65520b84fe90eb2eecb244f6fe6 = L.popup({&quot;maxWidth&quot;: &quot;100%&quot;});\n\n        \n            \n                var html_871a60b6fe944fea2f171ae1460a6265 = $(`&lt;div id=&quot;html_871a60b6fe944fea2f171ae1460a6265&quot; style=&quot;width: 100.0%; height: 100.0%;&quot;&gt;Barnet 009E&lt;/div&gt;`)[0];\n                popup_294ef65520b84fe90eb2eecb244f6fe6.setContent(html_871a60b6fe944fea2f171ae1460a6265);\n            \n        \n\n        marker_716e0ac45c88c017ee77f65db0dc98f0.bindPopup(popup_294ef65520b84fe90eb2eecb244f6fe6)\n        ;\n\n        \n    \n    \n            var marker_340538f59ef5a6158fd5a48aad52da5c = L.marker(\n                [51.659379, -0.205499],\n                {}\n            ).addTo(map_5f94ab1ded5ee486c305573cda171199);\n        \n    \n        var popup_d1fa7d022b6aecf99ab34cc8eef5194d = L.popup({&quot;maxWidth&quot;: &quot;100%&quot;});\n\n        \n            \n                var html_ce5f901bf639ef6ba28f99fd7a8d5852 = $(`&lt;div id=&quot;html_ce5f901bf639ef6ba28f99fd7a8d5852&quot; style=&quot;width: 100.0%; height: 100.0%;&quot;&gt;Barnet 001D&lt;/div&gt;`)[0];\n                popup_d1fa7d022b6aecf99ab34cc8eef5194d.setContent(html_ce5f901bf639ef6ba28f99fd7a8d5852);\n            \n        \n\n        marker_340538f59ef5a6158fd5a48aad52da5c.bindPopup(popup_d1fa7d022b6aecf99ab34cc8eef5194d)\n        ;\n\n        \n    \n    \n            var marker_05ebea6052dfa1c7b5502b44ae732783 = L.marker(\n                [51.635914, -0.145038],\n                {}\n            ).addTo(map_5f94ab1ded5ee486c305573cda171199);\n        \n    \n        var popup_6a96698f07e39d852970830f9b8bcf0f = L.popup({&quot;maxWidth&quot;: &quot;100%&quot;});\n\n        \n            \n                var html_b77c8591440f8b5dceea102c20fb2a08 = $(`&lt;div id=&quot;html_b77c8591440f8b5dceea102c20fb2a08&quot; style=&quot;width: 100.0%; height: 100.0%;&quot;&gt;Barnet 009A&lt;/div&gt;`)[0];\n                popup_6a96698f07e39d852970830f9b8bcf0f.setContent(html_b77c8591440f8b5dceea102c20fb2a08);\n            \n        \n\n        marker_05ebea6052dfa1c7b5502b44ae732783.bindPopup(popup_6a96698f07e39d852970830f9b8bcf0f)\n        ;\n\n        \n    \n&lt;/script&gt;\n&lt;/html&gt;\" style=\"position:absolute;width:100%;height:100%;left:0;top:0;border:none !important;\" allowfullscreen webkitallowfullscreen mozallowfullscreen></iframe></div></div>"
     },
     "execution_count": 29,
     "metadata": {},
     "output_type": "execute_result"
    }
   ],
   "source": [
    "import folium\n",
    "from selenium import webdriver\n",
    "\n",
    "# Create a map centered on Barnet\n",
    "map_barnet = folium.Map(location=[51.6167, -0.2070], zoom_start=12)\n",
    "\n",
    "# Add markers for the filtered wards\n",
    "for _, ward in df.iterrows():\n",
    "    folium.Marker(\n",
    "        location=[ward['Latitude'], ward['Longitude']],\n",
    "        popup=ward['LSOA name']\n",
    "    ).add_to(map_barnet)\n",
    "\n",
    "# Save the map as an HTML file\n",
    "map_barnet"
   ],
   "metadata": {
    "collapsed": false,
    "ExecuteTime": {
     "end_time": "2023-06-08T15:22:24.394036788Z",
     "start_time": "2023-06-08T15:22:24.344954564Z"
    }
   }
  }
 ],
 "metadata": {
  "kernelspec": {
   "display_name": "Python 3",
   "language": "python",
   "name": "python3"
  },
  "language_info": {
   "codemirror_mode": {
    "name": "ipython",
    "version": 2
   },
   "file_extension": ".py",
   "mimetype": "text/x-python",
   "name": "python",
   "nbconvert_exporter": "python",
   "pygments_lexer": "ipython2",
   "version": "2.7.6"
  }
 },
 "nbformat": 4,
 "nbformat_minor": 0
}
