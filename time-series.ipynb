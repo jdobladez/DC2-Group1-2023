{
 "cells": [
  {
   "cell_type": "code",
   "execution_count": 1,
   "outputs": [],
   "source": [
    "import pandas as pd\n",
    "import numpy as np\n",
    "import xgboost as xgb\n",
    "from sklearn.pipeline import make_pipeline\n",
    "from sklearn.compose import make_column_transformer, make_column_selector\n",
    "from sklearn.preprocessing import LabelEncoder\n",
    "from sklearn.preprocessing import OrdinalEncoder\n",
    "from sklearn.preprocessing import FunctionTransformer\n",
    "import warnings\n",
    "from skforecast.exceptions import LongTrainingWarning\n",
    "from skforecast.ForecasterAutoregDirect import ForecasterAutoregDirect\n",
    "from skforecast.model_selection import grid_search_forecaster\n",
    "from skforecast.model_selection import backtesting_forecaster\n",
    "import folium"
   ],
   "metadata": {
    "collapsed": false,
    "ExecuteTime": {
     "end_time": "2023-06-17T19:48:01.073192780Z",
     "start_time": "2023-06-17T19:47:59.316170331Z"
    }
   }
  },
  {
   "cell_type": "code",
   "execution_count": 2,
   "outputs": [],
   "source": [
    "# Load the original data\n",
    "train_data = pd.read_csv(\"burglary_train.csv\")\n",
    "val_data = pd.read_csv(\"burglary_validation.csv\")\n",
    "test_data = pd.read_csv(\"burglary_test.csv\")\n"
   ],
   "metadata": {
    "collapsed": false,
    "ExecuteTime": {
     "end_time": "2023-06-17T19:48:56.001262003Z",
     "start_time": "2023-06-17T19:48:55.878747596Z"
    }
   }
  },
  {
   "cell_type": "code",
   "execution_count": 2,
   "outputs": [],
   "source": [
    "# DO NOT RUN THIS CELL IF USING ORIGINAL DATA\n",
    "# Load the data with additional dataset\n",
    "train_data = pd.read_csv(\"add_burglary_train.csv\")\n",
    "val_data = pd.read_csv(\"add_burglary_validation.csv\")\n",
    "test_data = pd.read_csv(\"add_burglary_test.csv\")\n"
   ],
   "metadata": {
    "collapsed": false
   }
  },
  {
   "cell_type": "code",
   "execution_count": 3,
   "outputs": [],
   "source": [
    "# The LSOA name will be the y, so create new data for it\n",
    "y_train = train_data[\"LSOA name\"]\n",
    "y_val = val_data[\"LSOA name\"]\n",
    "y_test = test_data[\"LSOA name\"]\n",
    "\n",
    "# Combine all labels\n",
    "all_labels = pd.concat([y_train, y_val, y_test])\n",
    "\n",
    "# Encode labels with integer values\n",
    "label_encoder = LabelEncoder()\n",
    "label_encoder.fit(all_labels)\n",
    "\n",
    "# Transform labels for each dataset\n",
    "y_train = label_encoder.transform(y_train)\n",
    "y_val = label_encoder.transform(y_val)\n",
    "y_test = label_encoder.transform(y_test)"
   ],
   "metadata": {
    "collapsed": false,
    "ExecuteTime": {
     "end_time": "2023-06-17T19:48:59.519657327Z",
     "start_time": "2023-06-17T19:48:59.506995Z"
    }
   }
  },
  {
   "cell_type": "code",
   "execution_count": 4,
   "outputs": [],
   "source": [
    "# Delete the y from the x data and unwanted columns\n",
    "drop = [\"Last outcome category\", \"LSOA name\"]\n",
    "x_train = train_data.drop(labels=drop, axis=1, inplace=False)\n",
    "x_val = val_data.drop(labels=drop, axis=1, inplace=False)\n",
    "x_test = test_data.drop(labels=drop, axis=1, inplace=False)\n",
    "\n",
    "# Set categorical features format to category\n",
    "x_train['Location'] = x_train['Location'].astype('category')\n",
    "x_train['LSOA code'] = x_train['LSOA code'].astype('category')\n",
    "\n",
    "x_val['Location'] = x_val['Location'].astype('category')\n",
    "x_val['LSOA code'] = x_val['LSOA code'].astype('category')\n",
    "\n",
    "x_test['Location'] = x_test['Location'].astype('category')\n",
    "x_test['LSOA code'] = x_test['LSOA code'].astype('category')\n",
    "\n",
    "# Change format of the Month column from string to datetime\n",
    "x_train['Month'] = pd.to_datetime(x_train['Month'], format='%Y-%m')\n",
    "x_val['Month'] = pd.to_datetime(x_val['Month'], format='%Y-%m')\n",
    "x_test['Month'] = pd.to_datetime(x_test['Month'], format='%Y-%m')\n"
   ],
   "metadata": {
    "collapsed": false,
    "ExecuteTime": {
     "end_time": "2023-06-17T19:49:03.823568397Z",
     "start_time": "2023-06-17T19:49:03.784039747Z"
    }
   }
  },
  {
   "cell_type": "code",
   "execution_count": null,
   "outputs": [],
   "source": [
    "# For the data with the additional dataset run this cell as well\n",
    "\n",
    "# Delete extra unwanted column called LSOA11NM\n",
    "add_drop = [\"LSOA11NM\"]\n",
    "x_train = train_data.drop(labels=add_drop, axis=1, inplace=False)\n",
    "x_val = val_data.drop(labels=add_drop, axis=1, inplace=False)\n",
    "x_test = test_data.drop(labels=add_drop, axis=1, inplace=False)\n",
    "\n",
    "# Set categorical features format to category only in the additional dataset\n",
    "x_train[\"Ward name\"] = x_train[\"Ward name\"].astype(\"category\")\n",
    "x_train[\"Ward - House price lower third\"] = x_train[\"Ward - House price lower third\"].astype(\"category\")\n",
    "x_train[\"Ward - House price upper third\"] = x_train[\"Ward - House price upper third\"].astype(\"category\")\n",
    "\n",
    "x_val[\"Ward name\"] = x_val[\"Ward name\"].astype(\"category\")\n",
    "x_val[\"Ward - House price lower third\"] = x_val[\"Ward - House price lower third\"].astype(\"category\")\n",
    "x_val[\"Ward - House price upper third\"] = x_val[\"Ward - House price upper third\"].astype(\"category\")\n",
    "\n",
    "x_test[\"Ward name\"] = x_test[\"Ward name\"].astype(\"category\")\n",
    "x_test[\"Ward - House price lower third\"] = x_test[\"Ward - House price lower third\"].astype(\"category\")\n",
    "x_test[\"Ward - House price upper third\"] = x_test[\"Ward - House price upper third\"].astype(\"category\")"
   ],
   "metadata": {
    "collapsed": false
   }
  },
  {
   "cell_type": "code",
   "execution_count": 5,
   "outputs": [],
   "source": [
    "# Exogeneous variables from original data\n",
    "exog = ['Month', 'Longitude', 'Latitude', 'Location', 'LSOA code']\n",
    "\n",
    "# Exogeneous variables from additional data\n",
    "add_exog = ['Month', 'Longitude', 'Latitude', 'Location', 'LSOA code', 'Ward name', 'Ward - House price lower third', 'Ward - House price upper third', 'Ward - % All Working-age (16-64)', 'Ward - % All Older people aged 65+', 'Ward - Population density (persons per sq km)', 'Ward - % Not Born in UK']"
   ],
   "metadata": {
    "collapsed": false,
    "ExecuteTime": {
     "end_time": "2023-06-17T19:49:06.757327538Z",
     "start_time": "2023-06-17T19:49:06.751172167Z"
    }
   }
  },
  {
   "cell_type": "code",
   "execution_count": 6,
   "outputs": [],
   "source": [
    "# Creating a pipeline for categorical features\n",
    "pipeline_categorical = make_pipeline(\n",
    "                            OrdinalEncoder(\n",
    "                                dtype=int,\n",
    "                                handle_unknown=\"use_encoded_value\",\n",
    "                              unknown_value=-1,\n",
    "                                encoded_missing_value=-1\n",
    "                            ),\n",
    "                            FunctionTransformer(\n",
    "                                func=lambda x: x.astype('category'),\n",
    "                                feature_names_out= 'one-to-one'\n",
    "                            )\n",
    "                       )\n",
    "# Creating a column transformer\n",
    "transformer_exog = make_column_transformer(\n",
    "                        (\n",
    "                            pipeline_categorical, # Applying the categorical pipeline to selected columns\n",
    "                            make_column_selector(dtype_exclude=np.number) # Selecting columns with non-numeric data types\n",
    "                        ),\n",
    "                        remainder=\"passthrough\", # Passing through the remaining columns without any transformation\n",
    "                        verbose_feature_names_out=False, # Setting verbose feature names to False\n",
    "                   ).set_output(transform=\"pandas\") # Setting the output format of the transformed data as pandas DataFrame\n"
   ],
   "metadata": {
    "collapsed": false,
    "ExecuteTime": {
     "end_time": "2023-06-17T19:49:10.459074400Z",
     "start_time": "2023-06-17T19:49:10.455750999Z"
    }
   }
  },
  {
   "cell_type": "code",
   "execution_count": 7,
   "outputs": [],
   "source": [
    "# Create forecaster with automatic categorical detection\n",
    "forecaster = ForecasterAutoregDirect(\n",
    "    regressor=xgb.XGBRFRegressor(tree_method='hist', random_state=42, enable_categorical='auto'),\n",
    "    lags=12,\n",
    "    steps=12,\n",
    "    transformer_exog=transformer_exog\n",
    ")"
   ],
   "metadata": {
    "collapsed": false,
    "ExecuteTime": {
     "end_time": "2023-06-17T19:49:23.049211508Z",
     "start_time": "2023-06-17T19:49:23.042345271Z"
    }
   }
  },
  {
   "cell_type": "code",
   "execution_count": 9,
   "outputs": [],
   "source": [
    "# Define hyperparameters\n",
    "param_grid = {\n",
    "    'n_estimators': [100, 200, 300],\n",
    "    'max_depth': [3, 5, 10],\n",
    "    'learning_rate': [0.1, 0.5, 0.75, 1],\n",
    "}\n",
    "\n",
    "# Lags used as predictors\n",
    "lags_grid = [ 24, 36, 48]\n"
   ],
   "metadata": {
    "collapsed": false,
    "ExecuteTime": {
     "end_time": "2023-06-17T19:50:13.832208849Z",
     "start_time": "2023-06-17T19:50:13.788384318Z"
    }
   }
  },
  {
   "cell_type": "code",
   "execution_count": 10,
   "outputs": [
    {
     "name": "stdout",
     "output_type": "stream",
     "text": [
      "Number of models compared: 48.\n"
     ]
    },
    {
     "data": {
      "text/plain": "lags grid:   0%|          | 0/4 [00:00<?, ?it/s]",
      "application/vnd.jupyter.widget-view+json": {
       "version_major": 2,
       "version_minor": 0,
       "model_id": "090f9f9a9a2f4538a6492ea0f3da4222"
      }
     },
     "metadata": {},
     "output_type": "display_data"
    },
    {
     "data": {
      "text/plain": "params grid:   0%|          | 0/12 [00:00<?, ?it/s]",
      "application/vnd.jupyter.widget-view+json": {
       "version_major": 2,
       "version_minor": 0,
       "model_id": "98b00dfad2c14d31ae8e1c2ee7db86ea"
      }
     },
     "metadata": {},
     "output_type": "display_data"
    },
    {
     "data": {
      "text/plain": "params grid:   0%|          | 0/12 [00:00<?, ?it/s]",
      "application/vnd.jupyter.widget-view+json": {
       "version_major": 2,
       "version_minor": 0,
       "model_id": "55e9b895c7ed46bea1713d3454293a0a"
      }
     },
     "metadata": {},
     "output_type": "display_data"
    },
    {
     "data": {
      "text/plain": "params grid:   0%|          | 0/12 [00:00<?, ?it/s]",
      "application/vnd.jupyter.widget-view+json": {
       "version_major": 2,
       "version_minor": 0,
       "model_id": "662cb1a289fc408d95b90c1a0de1a564"
      }
     },
     "metadata": {},
     "output_type": "display_data"
    },
    {
     "data": {
      "text/plain": "params grid:   0%|          | 0/12 [00:00<?, ?it/s]",
      "application/vnd.jupyter.widget-view+json": {
       "version_major": 2,
       "version_minor": 0,
       "model_id": "bf2098fcea3c46048bc6d396264a17b1"
      }
     },
     "metadata": {},
     "output_type": "display_data"
    },
    {
     "name": "stdout",
     "output_type": "stream",
     "text": [
      "`Forecaster` refitted using the best-found lags and parameters, and the whole data set: \n",
      "  Lags: [ 1  2  3  4  5  6  7  8  9 10 11 12 13 14 15 16 17 18 19 20 21 22 23 24\n",
      " 25 26 27 28 29 30 31 32 33 34 35 36 37 38 39 40 41 42 43 44 45 46 47 48] \n",
      "  Parameters: {'learning_rate': 1, 'max_depth': 10, 'n_estimators': 200}\n",
      "  Backtesting metric: 0.024123825111409737\n",
      "\n"
     ]
    }
   ],
   "source": [
    "# Obtaining best model\n",
    "# Concatenate x_train and x_val into one\n",
    "x = pd.concat([x_train, x_val], ignore_index=True)\n",
    "# Concatenare y_train and y_val into one\n",
    "y = np.append(y_train, y_val)\n",
    "y = pd.Series(y) # Set y as a pandas series\n",
    "y = y.astype(int) # Set all y values as integers\n",
    "warnings.simplefilter('ignore', category=LongTrainingWarning) # Remove warning regarding Long Training\n",
    "\n",
    "# Perform a grid search for all combinations of the hyperparameters and output is the table with all of them nd its performance\n",
    "result_grid = grid_search_forecaster(\n",
    "    forecaster=forecaster,\n",
    "    y=y,\n",
    "    exog=x.loc[:, exog], #or add_exog if using additional dataset\n",
    "    param_grid=param_grid,\n",
    "    lags_grid=lags_grid,\n",
    "    steps=12,\n",
    "    refit=False,\n",
    "    metric=['mean_squared_error', 'mean_absolute_error'],\n",
    "    initial_train_size=len(x_train),\n",
    "    fixed_train_size=False,\n",
    "    return_best=True,\n",
    "    verbose=False\n",
    ")\n"
   ],
   "metadata": {
    "collapsed": false,
    "ExecuteTime": {
     "end_time": "2023-06-17T20:31:56.728215012Z",
     "start_time": "2023-06-17T19:50:18.761810984Z"
    }
   }
  },
  {
   "cell_type": "code",
   "execution_count": 11,
   "outputs": [
    {
     "data": {
      "text/plain": "        RMSE                                               lags   \n46  0.155318  [1, 2, 3, 4, 5, 6, 7, 8, 9, 10, 11, 12, 13, 14...  \\\n47  0.158010  [1, 2, 3, 4, 5, 6, 7, 8, 9, 10, 11, 12, 13, 14...   \n45  0.163813  [1, 2, 3, 4, 5, 6, 7, 8, 9, 10, 11, 12, 13, 14...   \n23  0.173403  [1, 2, 3, 4, 5, 6, 7, 8, 9, 10, 11, 12, 13, 14...   \n35  0.173553  [1, 2, 3, 4, 5, 6, 7, 8, 9, 10, 11, 12, 13, 14...   \n34  0.173683  [1, 2, 3, 4, 5, 6, 7, 8, 9, 10, 11, 12, 13, 14...   \n22  0.175358  [1, 2, 3, 4, 5, 6, 7, 8, 9, 10, 11, 12, 13, 14...   \n33  0.178906  [1, 2, 3, 4, 5, 6, 7, 8, 9, 10, 11, 12, 13, 14...   \n11  0.179645            [1, 2, 3, 4, 5, 6, 7, 8, 9, 10, 11, 12]   \n10  0.180123            [1, 2, 3, 4, 5, 6, 7, 8, 9, 10, 11, 12]   \n21  0.188660  [1, 2, 3, 4, 5, 6, 7, 8, 9, 10, 11, 12, 13, 14...   \n9   0.193422            [1, 2, 3, 4, 5, 6, 7, 8, 9, 10, 11, 12]   \n20  0.261062  [1, 2, 3, 4, 5, 6, 7, 8, 9, 10, 11, 12, 13, 14...   \n8   0.261389            [1, 2, 3, 4, 5, 6, 7, 8, 9, 10, 11, 12]   \n32  0.261978  [1, 2, 3, 4, 5, 6, 7, 8, 9, 10, 11, 12, 13, 14...   \n31  0.262280  [1, 2, 3, 4, 5, 6, 7, 8, 9, 10, 11, 12, 13, 14...   \n44  0.262315  [1, 2, 3, 4, 5, 6, 7, 8, 9, 10, 11, 12, 13, 14...   \n18  0.263033  [1, 2, 3, 4, 5, 6, 7, 8, 9, 10, 11, 12, 13, 14...   \n7   0.263487            [1, 2, 3, 4, 5, 6, 7, 8, 9, 10, 11, 12]   \n30  0.263676  [1, 2, 3, 4, 5, 6, 7, 8, 9, 10, 11, 12, 13, 14...   \n43  0.264205  [1, 2, 3, 4, 5, 6, 7, 8, 9, 10, 11, 12, 13, 14...   \n19  0.265203  [1, 2, 3, 4, 5, 6, 7, 8, 9, 10, 11, 12, 13, 14...   \n42  0.267351  [1, 2, 3, 4, 5, 6, 7, 8, 9, 10, 11, 12, 13, 14...   \n6   0.276482            [1, 2, 3, 4, 5, 6, 7, 8, 9, 10, 11, 12]   \n39  1.365930  [1, 2, 3, 4, 5, 6, 7, 8, 9, 10, 11, 12, 13, 14...   \n40  1.367895  [1, 2, 3, 4, 5, 6, 7, 8, 9, 10, 11, 12, 13, 14...   \n3   1.370776            [1, 2, 3, 4, 5, 6, 7, 8, 9, 10, 11, 12]   \n41  1.389563  [1, 2, 3, 4, 5, 6, 7, 8, 9, 10, 11, 12, 13, 14...   \n29  1.397535  [1, 2, 3, 4, 5, 6, 7, 8, 9, 10, 11, 12, 13, 14...   \n4   1.400787            [1, 2, 3, 4, 5, 6, 7, 8, 9, 10, 11, 12]   \n5   1.400808            [1, 2, 3, 4, 5, 6, 7, 8, 9, 10, 11, 12]   \n17  1.406644  [1, 2, 3, 4, 5, 6, 7, 8, 9, 10, 11, 12, 13, 14...   \n16  1.436047  [1, 2, 3, 4, 5, 6, 7, 8, 9, 10, 11, 12, 13, 14...   \n28  1.477419  [1, 2, 3, 4, 5, 6, 7, 8, 9, 10, 11, 12, 13, 14...   \n15  1.480719  [1, 2, 3, 4, 5, 6, 7, 8, 9, 10, 11, 12, 13, 14...   \n27  1.507541  [1, 2, 3, 4, 5, 6, 7, 8, 9, 10, 11, 12, 13, 14...   \n24  6.356422  [1, 2, 3, 4, 5, 6, 7, 8, 9, 10, 11, 12, 13, 14...   \n26  6.402531  [1, 2, 3, 4, 5, 6, 7, 8, 9, 10, 11, 12, 13, 14...   \n25  6.446371  [1, 2, 3, 4, 5, 6, 7, 8, 9, 10, 11, 12, 13, 14...   \n2   6.589365            [1, 2, 3, 4, 5, 6, 7, 8, 9, 10, 11, 12]   \n14  6.618822  [1, 2, 3, 4, 5, 6, 7, 8, 9, 10, 11, 12, 13, 14...   \n13  6.681558  [1, 2, 3, 4, 5, 6, 7, 8, 9, 10, 11, 12, 13, 14...   \n0   6.734694            [1, 2, 3, 4, 5, 6, 7, 8, 9, 10, 11, 12]   \n1   6.759024            [1, 2, 3, 4, 5, 6, 7, 8, 9, 10, 11, 12]   \n38  6.768533  [1, 2, 3, 4, 5, 6, 7, 8, 9, 10, 11, 12, 13, 14...   \n36  6.798830  [1, 2, 3, 4, 5, 6, 7, 8, 9, 10, 11, 12, 13, 14...   \n37  6.915567  [1, 2, 3, 4, 5, 6, 7, 8, 9, 10, 11, 12, 13, 14...   \n12  6.941306  [1, 2, 3, 4, 5, 6, 7, 8, 9, 10, 11, 12, 13, 14...   \n\n                                               params  mean_absolute_error   \n46  {'learning_rate': 1, 'max_depth': 10, 'n_estim...             0.037028  \\\n47  {'learning_rate': 1, 'max_depth': 10, 'n_estim...             0.036286   \n45  {'learning_rate': 1, 'max_depth': 10, 'n_estim...             0.038082   \n23  {'learning_rate': 1, 'max_depth': 10, 'n_estim...             0.037598   \n35  {'learning_rate': 1, 'max_depth': 10, 'n_estim...             0.041017   \n34  {'learning_rate': 1, 'max_depth': 10, 'n_estim...             0.041612   \n22  {'learning_rate': 1, 'max_depth': 10, 'n_estim...             0.038164   \n33  {'learning_rate': 1, 'max_depth': 10, 'n_estim...             0.042988   \n11  {'learning_rate': 1, 'max_depth': 10, 'n_estim...             0.043842   \n10  {'learning_rate': 1, 'max_depth': 10, 'n_estim...             0.043511   \n21  {'learning_rate': 1, 'max_depth': 10, 'n_estim...             0.039416   \n9   {'learning_rate': 1, 'max_depth': 10, 'n_estim...             0.044846   \n20  {'learning_rate': 1, 'max_depth': 7, 'n_estima...             0.187085   \n8   {'learning_rate': 1, 'max_depth': 7, 'n_estima...             0.184734   \n32  {'learning_rate': 1, 'max_depth': 7, 'n_estima...             0.185260   \n31  {'learning_rate': 1, 'max_depth': 7, 'n_estima...             0.184875   \n44  {'learning_rate': 1, 'max_depth': 7, 'n_estima...             0.185312   \n18  {'learning_rate': 1, 'max_depth': 7, 'n_estima...             0.189962   \n7   {'learning_rate': 1, 'max_depth': 7, 'n_estima...             0.186977   \n30  {'learning_rate': 1, 'max_depth': 7, 'n_estima...             0.186262   \n43  {'learning_rate': 1, 'max_depth': 7, 'n_estima...             0.186614   \n19  {'learning_rate': 1, 'max_depth': 7, 'n_estima...             0.190013   \n42  {'learning_rate': 1, 'max_depth': 7, 'n_estima...             0.190719   \n6   {'learning_rate': 1, 'max_depth': 7, 'n_estima...             0.193874   \n39  {'learning_rate': 1, 'max_depth': 5, 'n_estima...             1.062282   \n40  {'learning_rate': 1, 'max_depth': 5, 'n_estima...             1.064562   \n3   {'learning_rate': 1, 'max_depth': 5, 'n_estima...             1.055724   \n41  {'learning_rate': 1, 'max_depth': 5, 'n_estima...             1.083811   \n29  {'learning_rate': 1, 'max_depth': 5, 'n_estima...             1.072373   \n4   {'learning_rate': 1, 'max_depth': 5, 'n_estima...             1.074180   \n5   {'learning_rate': 1, 'max_depth': 5, 'n_estima...             1.069749   \n17  {'learning_rate': 1, 'max_depth': 5, 'n_estima...             1.086109   \n16  {'learning_rate': 1, 'max_depth': 5, 'n_estima...             1.111431   \n28  {'learning_rate': 1, 'max_depth': 5, 'n_estima...             1.142764   \n15  {'learning_rate': 1, 'max_depth': 5, 'n_estima...             1.144659   \n27  {'learning_rate': 1, 'max_depth': 5, 'n_estima...             1.164498   \n24  {'learning_rate': 1, 'max_depth': 3, 'n_estima...             5.170611   \n26  {'learning_rate': 1, 'max_depth': 3, 'n_estima...             5.224796   \n25  {'learning_rate': 1, 'max_depth': 3, 'n_estima...             5.253746   \n2   {'learning_rate': 1, 'max_depth': 3, 'n_estima...             5.382379   \n14  {'learning_rate': 1, 'max_depth': 3, 'n_estima...             5.411317   \n13  {'learning_rate': 1, 'max_depth': 3, 'n_estima...             5.452171   \n0   {'learning_rate': 1, 'max_depth': 3, 'n_estima...             5.513741   \n1   {'learning_rate': 1, 'max_depth': 3, 'n_estima...             5.506218   \n38  {'learning_rate': 1, 'max_depth': 3, 'n_estima...             5.538556   \n36  {'learning_rate': 1, 'max_depth': 3, 'n_estima...             5.557379   \n37  {'learning_rate': 1, 'max_depth': 3, 'n_estima...             5.667883   \n12  {'learning_rate': 1, 'max_depth': 3, 'n_estima...             5.663286   \n\n    learning_rate  max_depth  n_estimators  \n46              1         10           200  \n47              1         10           300  \n45              1         10           100  \n23              1         10           300  \n35              1         10           300  \n34              1         10           200  \n22              1         10           200  \n33              1         10           100  \n11              1         10           300  \n10              1         10           200  \n21              1         10           100  \n9               1         10           100  \n20              1          7           300  \n8               1          7           300  \n32              1          7           300  \n31              1          7           200  \n44              1          7           300  \n18              1          7           100  \n7               1          7           200  \n30              1          7           100  \n43              1          7           200  \n19              1          7           200  \n42              1          7           100  \n6               1          7           100  \n39              1          5           100  \n40              1          5           200  \n3               1          5           100  \n41              1          5           300  \n29              1          5           300  \n4               1          5           200  \n5               1          5           300  \n17              1          5           300  \n16              1          5           200  \n28              1          5           200  \n15              1          5           100  \n27              1          5           100  \n24              1          3           100  \n26              1          3           300  \n25              1          3           200  \n2               1          3           300  \n14              1          3           300  \n13              1          3           200  \n0               1          3           100  \n1               1          3           200  \n38              1          3           300  \n36              1          3           100  \n37              1          3           200  \n12              1          3           100  ",
      "text/html": "<div>\n<style scoped>\n    .dataframe tbody tr th:only-of-type {\n        vertical-align: middle;\n    }\n\n    .dataframe tbody tr th {\n        vertical-align: top;\n    }\n\n    .dataframe thead th {\n        text-align: right;\n    }\n</style>\n<table border=\"1\" class=\"dataframe\">\n  <thead>\n    <tr style=\"text-align: right;\">\n      <th></th>\n      <th>RMSE</th>\n      <th>lags</th>\n      <th>params</th>\n      <th>mean_absolute_error</th>\n      <th>learning_rate</th>\n      <th>max_depth</th>\n      <th>n_estimators</th>\n    </tr>\n  </thead>\n  <tbody>\n    <tr>\n      <th>46</th>\n      <td>0.155318</td>\n      <td>[1, 2, 3, 4, 5, 6, 7, 8, 9, 10, 11, 12, 13, 14...</td>\n      <td>{'learning_rate': 1, 'max_depth': 10, 'n_estim...</td>\n      <td>0.037028</td>\n      <td>1</td>\n      <td>10</td>\n      <td>200</td>\n    </tr>\n    <tr>\n      <th>47</th>\n      <td>0.158010</td>\n      <td>[1, 2, 3, 4, 5, 6, 7, 8, 9, 10, 11, 12, 13, 14...</td>\n      <td>{'learning_rate': 1, 'max_depth': 10, 'n_estim...</td>\n      <td>0.036286</td>\n      <td>1</td>\n      <td>10</td>\n      <td>300</td>\n    </tr>\n    <tr>\n      <th>45</th>\n      <td>0.163813</td>\n      <td>[1, 2, 3, 4, 5, 6, 7, 8, 9, 10, 11, 12, 13, 14...</td>\n      <td>{'learning_rate': 1, 'max_depth': 10, 'n_estim...</td>\n      <td>0.038082</td>\n      <td>1</td>\n      <td>10</td>\n      <td>100</td>\n    </tr>\n    <tr>\n      <th>23</th>\n      <td>0.173403</td>\n      <td>[1, 2, 3, 4, 5, 6, 7, 8, 9, 10, 11, 12, 13, 14...</td>\n      <td>{'learning_rate': 1, 'max_depth': 10, 'n_estim...</td>\n      <td>0.037598</td>\n      <td>1</td>\n      <td>10</td>\n      <td>300</td>\n    </tr>\n    <tr>\n      <th>35</th>\n      <td>0.173553</td>\n      <td>[1, 2, 3, 4, 5, 6, 7, 8, 9, 10, 11, 12, 13, 14...</td>\n      <td>{'learning_rate': 1, 'max_depth': 10, 'n_estim...</td>\n      <td>0.041017</td>\n      <td>1</td>\n      <td>10</td>\n      <td>300</td>\n    </tr>\n    <tr>\n      <th>34</th>\n      <td>0.173683</td>\n      <td>[1, 2, 3, 4, 5, 6, 7, 8, 9, 10, 11, 12, 13, 14...</td>\n      <td>{'learning_rate': 1, 'max_depth': 10, 'n_estim...</td>\n      <td>0.041612</td>\n      <td>1</td>\n      <td>10</td>\n      <td>200</td>\n    </tr>\n    <tr>\n      <th>22</th>\n      <td>0.175358</td>\n      <td>[1, 2, 3, 4, 5, 6, 7, 8, 9, 10, 11, 12, 13, 14...</td>\n      <td>{'learning_rate': 1, 'max_depth': 10, 'n_estim...</td>\n      <td>0.038164</td>\n      <td>1</td>\n      <td>10</td>\n      <td>200</td>\n    </tr>\n    <tr>\n      <th>33</th>\n      <td>0.178906</td>\n      <td>[1, 2, 3, 4, 5, 6, 7, 8, 9, 10, 11, 12, 13, 14...</td>\n      <td>{'learning_rate': 1, 'max_depth': 10, 'n_estim...</td>\n      <td>0.042988</td>\n      <td>1</td>\n      <td>10</td>\n      <td>100</td>\n    </tr>\n    <tr>\n      <th>11</th>\n      <td>0.179645</td>\n      <td>[1, 2, 3, 4, 5, 6, 7, 8, 9, 10, 11, 12]</td>\n      <td>{'learning_rate': 1, 'max_depth': 10, 'n_estim...</td>\n      <td>0.043842</td>\n      <td>1</td>\n      <td>10</td>\n      <td>300</td>\n    </tr>\n    <tr>\n      <th>10</th>\n      <td>0.180123</td>\n      <td>[1, 2, 3, 4, 5, 6, 7, 8, 9, 10, 11, 12]</td>\n      <td>{'learning_rate': 1, 'max_depth': 10, 'n_estim...</td>\n      <td>0.043511</td>\n      <td>1</td>\n      <td>10</td>\n      <td>200</td>\n    </tr>\n    <tr>\n      <th>21</th>\n      <td>0.188660</td>\n      <td>[1, 2, 3, 4, 5, 6, 7, 8, 9, 10, 11, 12, 13, 14...</td>\n      <td>{'learning_rate': 1, 'max_depth': 10, 'n_estim...</td>\n      <td>0.039416</td>\n      <td>1</td>\n      <td>10</td>\n      <td>100</td>\n    </tr>\n    <tr>\n      <th>9</th>\n      <td>0.193422</td>\n      <td>[1, 2, 3, 4, 5, 6, 7, 8, 9, 10, 11, 12]</td>\n      <td>{'learning_rate': 1, 'max_depth': 10, 'n_estim...</td>\n      <td>0.044846</td>\n      <td>1</td>\n      <td>10</td>\n      <td>100</td>\n    </tr>\n    <tr>\n      <th>20</th>\n      <td>0.261062</td>\n      <td>[1, 2, 3, 4, 5, 6, 7, 8, 9, 10, 11, 12, 13, 14...</td>\n      <td>{'learning_rate': 1, 'max_depth': 7, 'n_estima...</td>\n      <td>0.187085</td>\n      <td>1</td>\n      <td>7</td>\n      <td>300</td>\n    </tr>\n    <tr>\n      <th>8</th>\n      <td>0.261389</td>\n      <td>[1, 2, 3, 4, 5, 6, 7, 8, 9, 10, 11, 12]</td>\n      <td>{'learning_rate': 1, 'max_depth': 7, 'n_estima...</td>\n      <td>0.184734</td>\n      <td>1</td>\n      <td>7</td>\n      <td>300</td>\n    </tr>\n    <tr>\n      <th>32</th>\n      <td>0.261978</td>\n      <td>[1, 2, 3, 4, 5, 6, 7, 8, 9, 10, 11, 12, 13, 14...</td>\n      <td>{'learning_rate': 1, 'max_depth': 7, 'n_estima...</td>\n      <td>0.185260</td>\n      <td>1</td>\n      <td>7</td>\n      <td>300</td>\n    </tr>\n    <tr>\n      <th>31</th>\n      <td>0.262280</td>\n      <td>[1, 2, 3, 4, 5, 6, 7, 8, 9, 10, 11, 12, 13, 14...</td>\n      <td>{'learning_rate': 1, 'max_depth': 7, 'n_estima...</td>\n      <td>0.184875</td>\n      <td>1</td>\n      <td>7</td>\n      <td>200</td>\n    </tr>\n    <tr>\n      <th>44</th>\n      <td>0.262315</td>\n      <td>[1, 2, 3, 4, 5, 6, 7, 8, 9, 10, 11, 12, 13, 14...</td>\n      <td>{'learning_rate': 1, 'max_depth': 7, 'n_estima...</td>\n      <td>0.185312</td>\n      <td>1</td>\n      <td>7</td>\n      <td>300</td>\n    </tr>\n    <tr>\n      <th>18</th>\n      <td>0.263033</td>\n      <td>[1, 2, 3, 4, 5, 6, 7, 8, 9, 10, 11, 12, 13, 14...</td>\n      <td>{'learning_rate': 1, 'max_depth': 7, 'n_estima...</td>\n      <td>0.189962</td>\n      <td>1</td>\n      <td>7</td>\n      <td>100</td>\n    </tr>\n    <tr>\n      <th>7</th>\n      <td>0.263487</td>\n      <td>[1, 2, 3, 4, 5, 6, 7, 8, 9, 10, 11, 12]</td>\n      <td>{'learning_rate': 1, 'max_depth': 7, 'n_estima...</td>\n      <td>0.186977</td>\n      <td>1</td>\n      <td>7</td>\n      <td>200</td>\n    </tr>\n    <tr>\n      <th>30</th>\n      <td>0.263676</td>\n      <td>[1, 2, 3, 4, 5, 6, 7, 8, 9, 10, 11, 12, 13, 14...</td>\n      <td>{'learning_rate': 1, 'max_depth': 7, 'n_estima...</td>\n      <td>0.186262</td>\n      <td>1</td>\n      <td>7</td>\n      <td>100</td>\n    </tr>\n    <tr>\n      <th>43</th>\n      <td>0.264205</td>\n      <td>[1, 2, 3, 4, 5, 6, 7, 8, 9, 10, 11, 12, 13, 14...</td>\n      <td>{'learning_rate': 1, 'max_depth': 7, 'n_estima...</td>\n      <td>0.186614</td>\n      <td>1</td>\n      <td>7</td>\n      <td>200</td>\n    </tr>\n    <tr>\n      <th>19</th>\n      <td>0.265203</td>\n      <td>[1, 2, 3, 4, 5, 6, 7, 8, 9, 10, 11, 12, 13, 14...</td>\n      <td>{'learning_rate': 1, 'max_depth': 7, 'n_estima...</td>\n      <td>0.190013</td>\n      <td>1</td>\n      <td>7</td>\n      <td>200</td>\n    </tr>\n    <tr>\n      <th>42</th>\n      <td>0.267351</td>\n      <td>[1, 2, 3, 4, 5, 6, 7, 8, 9, 10, 11, 12, 13, 14...</td>\n      <td>{'learning_rate': 1, 'max_depth': 7, 'n_estima...</td>\n      <td>0.190719</td>\n      <td>1</td>\n      <td>7</td>\n      <td>100</td>\n    </tr>\n    <tr>\n      <th>6</th>\n      <td>0.276482</td>\n      <td>[1, 2, 3, 4, 5, 6, 7, 8, 9, 10, 11, 12]</td>\n      <td>{'learning_rate': 1, 'max_depth': 7, 'n_estima...</td>\n      <td>0.193874</td>\n      <td>1</td>\n      <td>7</td>\n      <td>100</td>\n    </tr>\n    <tr>\n      <th>39</th>\n      <td>1.365930</td>\n      <td>[1, 2, 3, 4, 5, 6, 7, 8, 9, 10, 11, 12, 13, 14...</td>\n      <td>{'learning_rate': 1, 'max_depth': 5, 'n_estima...</td>\n      <td>1.062282</td>\n      <td>1</td>\n      <td>5</td>\n      <td>100</td>\n    </tr>\n    <tr>\n      <th>40</th>\n      <td>1.367895</td>\n      <td>[1, 2, 3, 4, 5, 6, 7, 8, 9, 10, 11, 12, 13, 14...</td>\n      <td>{'learning_rate': 1, 'max_depth': 5, 'n_estima...</td>\n      <td>1.064562</td>\n      <td>1</td>\n      <td>5</td>\n      <td>200</td>\n    </tr>\n    <tr>\n      <th>3</th>\n      <td>1.370776</td>\n      <td>[1, 2, 3, 4, 5, 6, 7, 8, 9, 10, 11, 12]</td>\n      <td>{'learning_rate': 1, 'max_depth': 5, 'n_estima...</td>\n      <td>1.055724</td>\n      <td>1</td>\n      <td>5</td>\n      <td>100</td>\n    </tr>\n    <tr>\n      <th>41</th>\n      <td>1.389563</td>\n      <td>[1, 2, 3, 4, 5, 6, 7, 8, 9, 10, 11, 12, 13, 14...</td>\n      <td>{'learning_rate': 1, 'max_depth': 5, 'n_estima...</td>\n      <td>1.083811</td>\n      <td>1</td>\n      <td>5</td>\n      <td>300</td>\n    </tr>\n    <tr>\n      <th>29</th>\n      <td>1.397535</td>\n      <td>[1, 2, 3, 4, 5, 6, 7, 8, 9, 10, 11, 12, 13, 14...</td>\n      <td>{'learning_rate': 1, 'max_depth': 5, 'n_estima...</td>\n      <td>1.072373</td>\n      <td>1</td>\n      <td>5</td>\n      <td>300</td>\n    </tr>\n    <tr>\n      <th>4</th>\n      <td>1.400787</td>\n      <td>[1, 2, 3, 4, 5, 6, 7, 8, 9, 10, 11, 12]</td>\n      <td>{'learning_rate': 1, 'max_depth': 5, 'n_estima...</td>\n      <td>1.074180</td>\n      <td>1</td>\n      <td>5</td>\n      <td>200</td>\n    </tr>\n    <tr>\n      <th>5</th>\n      <td>1.400808</td>\n      <td>[1, 2, 3, 4, 5, 6, 7, 8, 9, 10, 11, 12]</td>\n      <td>{'learning_rate': 1, 'max_depth': 5, 'n_estima...</td>\n      <td>1.069749</td>\n      <td>1</td>\n      <td>5</td>\n      <td>300</td>\n    </tr>\n    <tr>\n      <th>17</th>\n      <td>1.406644</td>\n      <td>[1, 2, 3, 4, 5, 6, 7, 8, 9, 10, 11, 12, 13, 14...</td>\n      <td>{'learning_rate': 1, 'max_depth': 5, 'n_estima...</td>\n      <td>1.086109</td>\n      <td>1</td>\n      <td>5</td>\n      <td>300</td>\n    </tr>\n    <tr>\n      <th>16</th>\n      <td>1.436047</td>\n      <td>[1, 2, 3, 4, 5, 6, 7, 8, 9, 10, 11, 12, 13, 14...</td>\n      <td>{'learning_rate': 1, 'max_depth': 5, 'n_estima...</td>\n      <td>1.111431</td>\n      <td>1</td>\n      <td>5</td>\n      <td>200</td>\n    </tr>\n    <tr>\n      <th>28</th>\n      <td>1.477419</td>\n      <td>[1, 2, 3, 4, 5, 6, 7, 8, 9, 10, 11, 12, 13, 14...</td>\n      <td>{'learning_rate': 1, 'max_depth': 5, 'n_estima...</td>\n      <td>1.142764</td>\n      <td>1</td>\n      <td>5</td>\n      <td>200</td>\n    </tr>\n    <tr>\n      <th>15</th>\n      <td>1.480719</td>\n      <td>[1, 2, 3, 4, 5, 6, 7, 8, 9, 10, 11, 12, 13, 14...</td>\n      <td>{'learning_rate': 1, 'max_depth': 5, 'n_estima...</td>\n      <td>1.144659</td>\n      <td>1</td>\n      <td>5</td>\n      <td>100</td>\n    </tr>\n    <tr>\n      <th>27</th>\n      <td>1.507541</td>\n      <td>[1, 2, 3, 4, 5, 6, 7, 8, 9, 10, 11, 12, 13, 14...</td>\n      <td>{'learning_rate': 1, 'max_depth': 5, 'n_estima...</td>\n      <td>1.164498</td>\n      <td>1</td>\n      <td>5</td>\n      <td>100</td>\n    </tr>\n    <tr>\n      <th>24</th>\n      <td>6.356422</td>\n      <td>[1, 2, 3, 4, 5, 6, 7, 8, 9, 10, 11, 12, 13, 14...</td>\n      <td>{'learning_rate': 1, 'max_depth': 3, 'n_estima...</td>\n      <td>5.170611</td>\n      <td>1</td>\n      <td>3</td>\n      <td>100</td>\n    </tr>\n    <tr>\n      <th>26</th>\n      <td>6.402531</td>\n      <td>[1, 2, 3, 4, 5, 6, 7, 8, 9, 10, 11, 12, 13, 14...</td>\n      <td>{'learning_rate': 1, 'max_depth': 3, 'n_estima...</td>\n      <td>5.224796</td>\n      <td>1</td>\n      <td>3</td>\n      <td>300</td>\n    </tr>\n    <tr>\n      <th>25</th>\n      <td>6.446371</td>\n      <td>[1, 2, 3, 4, 5, 6, 7, 8, 9, 10, 11, 12, 13, 14...</td>\n      <td>{'learning_rate': 1, 'max_depth': 3, 'n_estima...</td>\n      <td>5.253746</td>\n      <td>1</td>\n      <td>3</td>\n      <td>200</td>\n    </tr>\n    <tr>\n      <th>2</th>\n      <td>6.589365</td>\n      <td>[1, 2, 3, 4, 5, 6, 7, 8, 9, 10, 11, 12]</td>\n      <td>{'learning_rate': 1, 'max_depth': 3, 'n_estima...</td>\n      <td>5.382379</td>\n      <td>1</td>\n      <td>3</td>\n      <td>300</td>\n    </tr>\n    <tr>\n      <th>14</th>\n      <td>6.618822</td>\n      <td>[1, 2, 3, 4, 5, 6, 7, 8, 9, 10, 11, 12, 13, 14...</td>\n      <td>{'learning_rate': 1, 'max_depth': 3, 'n_estima...</td>\n      <td>5.411317</td>\n      <td>1</td>\n      <td>3</td>\n      <td>300</td>\n    </tr>\n    <tr>\n      <th>13</th>\n      <td>6.681558</td>\n      <td>[1, 2, 3, 4, 5, 6, 7, 8, 9, 10, 11, 12, 13, 14...</td>\n      <td>{'learning_rate': 1, 'max_depth': 3, 'n_estima...</td>\n      <td>5.452171</td>\n      <td>1</td>\n      <td>3</td>\n      <td>200</td>\n    </tr>\n    <tr>\n      <th>0</th>\n      <td>6.734694</td>\n      <td>[1, 2, 3, 4, 5, 6, 7, 8, 9, 10, 11, 12]</td>\n      <td>{'learning_rate': 1, 'max_depth': 3, 'n_estima...</td>\n      <td>5.513741</td>\n      <td>1</td>\n      <td>3</td>\n      <td>100</td>\n    </tr>\n    <tr>\n      <th>1</th>\n      <td>6.759024</td>\n      <td>[1, 2, 3, 4, 5, 6, 7, 8, 9, 10, 11, 12]</td>\n      <td>{'learning_rate': 1, 'max_depth': 3, 'n_estima...</td>\n      <td>5.506218</td>\n      <td>1</td>\n      <td>3</td>\n      <td>200</td>\n    </tr>\n    <tr>\n      <th>38</th>\n      <td>6.768533</td>\n      <td>[1, 2, 3, 4, 5, 6, 7, 8, 9, 10, 11, 12, 13, 14...</td>\n      <td>{'learning_rate': 1, 'max_depth': 3, 'n_estima...</td>\n      <td>5.538556</td>\n      <td>1</td>\n      <td>3</td>\n      <td>300</td>\n    </tr>\n    <tr>\n      <th>36</th>\n      <td>6.798830</td>\n      <td>[1, 2, 3, 4, 5, 6, 7, 8, 9, 10, 11, 12, 13, 14...</td>\n      <td>{'learning_rate': 1, 'max_depth': 3, 'n_estima...</td>\n      <td>5.557379</td>\n      <td>1</td>\n      <td>3</td>\n      <td>100</td>\n    </tr>\n    <tr>\n      <th>37</th>\n      <td>6.915567</td>\n      <td>[1, 2, 3, 4, 5, 6, 7, 8, 9, 10, 11, 12, 13, 14...</td>\n      <td>{'learning_rate': 1, 'max_depth': 3, 'n_estima...</td>\n      <td>5.667883</td>\n      <td>1</td>\n      <td>3</td>\n      <td>200</td>\n    </tr>\n    <tr>\n      <th>12</th>\n      <td>6.941306</td>\n      <td>[1, 2, 3, 4, 5, 6, 7, 8, 9, 10, 11, 12, 13, 14...</td>\n      <td>{'learning_rate': 1, 'max_depth': 3, 'n_estima...</td>\n      <td>5.663286</td>\n      <td>1</td>\n      <td>3</td>\n      <td>100</td>\n    </tr>\n  </tbody>\n</table>\n</div>"
     },
     "execution_count": 11,
     "metadata": {},
     "output_type": "execute_result"
    }
   ],
   "source": [
    "# Include the RSME value into the results grid for all the models compared and print the grid to compare them\n",
    "\n",
    "result_grid.insert(2, \"RMSE\", np.sqrt(result_grid[\"mean_squared_error\"]))\n",
    "result_grid.drop(labels=[\"mean_squared_error\"], axis=1, inplace=True)\n",
    "result_grid = result_grid.rename(columns={'mean_absolute_error': 'MAE'})\n",
    "\n",
    "result_grid"
   ],
   "metadata": {
    "collapsed": false,
    "ExecuteTime": {
     "end_time": "2023-06-17T20:42:47.038390344Z",
     "start_time": "2023-06-17T20:42:46.994867717Z"
    }
   }
  },
  {
   "cell_type": "code",
   "execution_count": 12,
   "outputs": [
    {
     "data": {
      "text/plain": "  0%|          | 0/738 [00:00<?, ?it/s]",
      "application/vnd.jupyter.widget-view+json": {
       "version_major": 2,
       "version_minor": 0,
       "model_id": "1b7e1bde9e8441378a403b162a503481"
      }
     },
     "metadata": {},
     "output_type": "display_data"
    }
   ],
   "source": [
    "\n",
    "# Backtesting with the test data the best model\n",
    "x2 = pd.concat([x, x_test], ignore_index=True)\n",
    "y = np.append(y, y_test)\n",
    "y = pd.Series(y)\n",
    "\n",
    "# Predictions for the next 12 months without exogenous features\n",
    "fut_exog = x2.loc[:, exog]   #or add_exog if using additional dataset\n",
    "# Adjust the index of the future_exog to start from the appropriate index\n",
    "#fut_exog.index = range(len(x2), len(x2) + len(x_test))\n",
    "\n",
    "metric, predictions = backtesting_forecaster(\n",
    "    forecaster=forecaster,\n",
    "    y=y,\n",
    "    initial_train_size=len(x),\n",
    "    fixed_train_size=True,\n",
    "    steps=12,\n",
    "    refit=False,\n",
    "    metric=['mean_squared_error', 'mean_absolute_error'],\n",
    "    verbose=False\n",
    ")"
   ],
   "metadata": {
    "collapsed": false,
    "ExecuteTime": {
     "end_time": "2023-06-17T21:02:47.342663492Z",
     "start_time": "2023-06-17T21:00:45.645830944Z"
    }
   }
  },
  {
   "cell_type": "code",
   "execution_count": 13,
   "outputs": [
    {
     "name": "stdout",
     "output_type": "stream",
     "text": [
      "The RSME value of backtesting is: 15.352051211423044\n",
      "The MAE value of backtesting is: 3.7870968856758203\n"
     ]
    }
   ],
   "source": [
    "# Obtain the RSME of the Backstesting\n",
    "rsme_backtest = np.sqrt(metric[0])\n",
    "# and the Absolute Mean error of the backtesting\n",
    "absolute_backtest = metric[1]\n",
    "\n",
    "print('The RSME value of backtesting is: ' + str(rsme_backtest))\n",
    "print('The MAE value of backtesting is: ' + str(absolute_backtest))"
   ],
   "metadata": {
    "collapsed": false,
    "ExecuteTime": {
     "end_time": "2023-06-17T21:04:29.072831250Z",
     "start_time": "2023-06-17T21:04:29.025857458Z"
    }
   }
  },
  {
   "cell_type": "code",
   "execution_count": 20,
   "outputs": [
    {
     "name": "stderr",
     "output_type": "stream",
     "text": [
      "/home/julia/Documents/TUE/Year 2/Quartile 4/DC2/DC2-Group1/venv/lib/python3.10/site-packages/sklearn/preprocessing/_label.py:155: DataConversionWarning: A column-vector y was passed when a 1d array was expected. Please change the shape of y to (n_samples, ), for example using ravel().\n",
      "  y = column_or_1d(y, warn=True)\n"
     ]
    },
    {
     "data": {
      "text/plain": "array(['Barnet 022F', 'Barnet 023A', 'Barnet 023B', ..., 'Barnet 028D',\n       'Barnet 027F', 'Barnet 024D'], dtype=object)"
     },
     "execution_count": 19,
     "metadata": {},
     "output_type": "execute_result"
    },
    {
     "name": "stderr",
     "output_type": "stream",
     "text": [
      "/home/julia/Documents/TUE/Year 2/Quartile 4/DC2/DC2-Group1/venv/lib/python3.10/site-packages/sklearn/preprocessing/_label.py:155: DataConversionWarning: A column-vector y was passed when a 1d array was expected. Please change the shape of y to (n_samples, ), for example using ravel().\n",
      "  y = column_or_1d(y, warn=True)\n"
     ]
    },
    {
     "data": {
      "text/plain": "array(['Barnet 022F', 'Barnet 023A', 'Barnet 023B', ..., 'Barnet 028D',\n       'Barnet 027F', 'Barnet 024D'], dtype=object)"
     },
     "execution_count": 20,
     "metadata": {},
     "output_type": "execute_result"
    }
   ],
   "source": [
    "# Declare predicted as float\n",
    "predictions = predictions.astype(float)\n",
    "# Round up the predictions and turn them to integers\n",
    "predictions = predictions.round().astype(int)\n",
    "# Decode the predictions to the categorical labels\n",
    "lsoa_names = label_encoder.inverse_transform(predictions)\n",
    "# Print the predicted lsoa names with no repetition\n",
    "np.unique(lsoa_names)"
   ],
   "metadata": {
    "collapsed": false
   }
  },
  {
   "cell_type": "code",
   "execution_count": 16,
   "outputs": [],
   "source": [
    "# Predictions for the next 12 months without exogenous features\n",
    "future_exog = x_test.loc[:, exog]  #or add_exog if using additional dataset\n",
    "# Adjust the index of the future_exog to start from the appropriate index\n",
    "future_exog.index = range(len(x), len(x) + len(x_test))\n",
    "# Predict for the next 12 months\n",
    "predicted = forecaster.predict(steps=12, exog=future_exog)\n",
    "# Declare predicted as float\n",
    "predicted = predicted.astype(float)\n",
    "# Round up the predictions and turn them to integers\n",
    "predicted = predicted.round().astype(int)\n",
    "# Decode the predictions to the categorical labels\n",
    "predicted_lsoa_names = label_encoder.inverse_transform(predicted)\n",
    "# Print the predicted lsoa names\n",
    "predicted_lsoa_names"
   ],
   "metadata": {
    "collapsed": false,
    "ExecuteTime": {
     "end_time": "2023-06-17T21:05:45.956502102Z",
     "start_time": "2023-06-17T21:05:45.920613569Z"
    }
   }
  },
  {
   "cell_type": "code",
   "execution_count": 23,
   "outputs": [
    {
     "data": {
      "text/plain": "      LSOA names  Count\n196  Barnet 038D    165\n197  Barnet 038E    135\n198  Barnet 039A     91\n114  Barnet 023B     69\n190  Barnet 037D     67\n..           ...    ...\n204  Barnet 040C     18\n203  Barnet 040B     11\n0    Barnet 001B      9\n205  Barnet 040D      2\n206  Barnet 041A      1\n\n[207 rows x 2 columns]",
      "text/html": "<div>\n<style scoped>\n    .dataframe tbody tr th:only-of-type {\n        vertical-align: middle;\n    }\n\n    .dataframe tbody tr th {\n        vertical-align: top;\n    }\n\n    .dataframe thead th {\n        text-align: right;\n    }\n</style>\n<table border=\"1\" class=\"dataframe\">\n  <thead>\n    <tr style=\"text-align: right;\">\n      <th></th>\n      <th>LSOA names</th>\n      <th>Count</th>\n    </tr>\n  </thead>\n  <tbody>\n    <tr>\n      <th>196</th>\n      <td>Barnet 038D</td>\n      <td>165</td>\n    </tr>\n    <tr>\n      <th>197</th>\n      <td>Barnet 038E</td>\n      <td>135</td>\n    </tr>\n    <tr>\n      <th>198</th>\n      <td>Barnet 039A</td>\n      <td>91</td>\n    </tr>\n    <tr>\n      <th>114</th>\n      <td>Barnet 023B</td>\n      <td>69</td>\n    </tr>\n    <tr>\n      <th>190</th>\n      <td>Barnet 037D</td>\n      <td>67</td>\n    </tr>\n    <tr>\n      <th>...</th>\n      <td>...</td>\n      <td>...</td>\n    </tr>\n    <tr>\n      <th>204</th>\n      <td>Barnet 040C</td>\n      <td>18</td>\n    </tr>\n    <tr>\n      <th>203</th>\n      <td>Barnet 040B</td>\n      <td>11</td>\n    </tr>\n    <tr>\n      <th>0</th>\n      <td>Barnet 001B</td>\n      <td>9</td>\n    </tr>\n    <tr>\n      <th>205</th>\n      <td>Barnet 040D</td>\n      <td>2</td>\n    </tr>\n    <tr>\n      <th>206</th>\n      <td>Barnet 041A</td>\n      <td>1</td>\n    </tr>\n  </tbody>\n</table>\n<p>207 rows × 2 columns</p>\n</div>"
     },
     "execution_count": 23,
     "metadata": {},
     "output_type": "execute_result"
    }
   ],
   "source": [
    "# Merge the two lists with predictions together\n",
    "merged_predictions = np.concatenate((lsoa_names, predicted_lsoa_names))\n",
    "# Obtain the values of the merged lists and the number of times they show\n",
    "unique_values, counts = np.unique(merged_predictions, return_counts=True)\n",
    "# Create a dictionary with the labels and the number of repetitions\n",
    "dic = {'LSOA names': unique_values, 'Count': counts}\n",
    "# Turn the dictionary into pandas DataFrame\n",
    "chance_area = pd.DataFrame(dic)\n",
    "# Sort the dataframe by the repetition from highest to lowest\n",
    "chance_area = chance_area.sort_values(by='Count', ascending=False)\n",
    "# Save the dataframe into a csv file\n",
    "chance_area.to_csv('predicted_lsoa_count.csv', index=False)\n",
    "# Print the dataframe\n",
    "chance_area"
   ],
   "metadata": {
    "collapsed": false,
    "ExecuteTime": {
     "end_time": "2023-06-17T21:11:07.086852726Z",
     "start_time": "2023-06-17T21:11:07.077952944Z"
    }
   }
  },
  {
   "cell_type": "code",
   "execution_count": 51,
   "outputs": [
    {
     "data": {
      "text/plain": "     Longitude   Latitude  LSOA code    LSOA name\n20   -0.219121  51.651188  E01000253  Barnet 007B\n43   -0.149385  51.621415  E01000124  Barnet 010E\n44   -0.159244  51.622676  E01000266  Barnet 011B\n46   -0.160137  51.627393  E01000274  Barnet 011C\n70   -0.245641  51.616508  E01000264  Barnet 016D\n71   -0.211346  51.608887  E01000257  Barnet 017B\n72   -0.236108  51.618371  E01000261  Barnet 017C\n83   -0.183163  51.609416  E01000302  Barnet 019C\n86   -0.176381  51.608906  E01000318  Barnet 019E\n107  -0.163636  51.610138  E01000315  Barnet 022F\n111  -0.184104  51.594890  E01000197  Barnet 023A\n112  -0.189175  51.603862  E01000295  Barnet 023B\n113  -0.190698  51.604434  E01000296  Barnet 023C\n116  -0.271874  51.605819  E01000125  Barnet 024A\n127  -0.213224  51.606299  E01000259  Barnet 025D\n136  -0.171745  51.606816  E01000316  Barnet 027E\n141  -0.202321  51.590576  E01000201  Barnet 028C\n151  -0.222657  51.594392  E01000241  Barnet 031C\n157  -0.221247  51.590199  E01000243  Barnet 032C\n158  -0.226501  51.589118  E01000244  Barnet 032D\n165  -0.164629  51.586251  E01000208  Barnet 033D\n171  -0.218076  51.584171  E01000311  Barnet 034D\n179  -0.199427  51.588751  E01000211  Barnet 035C\n182  -0.199118  51.578836  E01000216  Barnet 035E\n186  -0.238919  51.576707  E01000305  Barnet 036B\n194  -0.214361  51.575104  E01000219  Barnet 037D\n210  -0.194552  51.570746  E01000146  Barnet 038D\n215  -0.216684  51.559259  E01000141  Barnet 039A\n220  -0.215646  51.571778  E01000221  Barnet 039B\n253  -0.186552  51.649026  E01000252  Barnet 002E\n263  -0.158341  51.642841  E01000173  Barnet 006C\n264  -0.164769  51.643274  E01000174  Barnet 006D\n266  -0.162394  51.637671  E01000175  Barnet 006E\n302  -0.156732  51.612655  E01000161  Barnet 015D\n304  -0.249470  51.616862  E01000263  Barnet 016C\n335  -0.187292  51.606180  E01000298  Barnet 023D\n344  -0.266370  51.600945  E01000129  Barnet 024D\n400  -0.228350  51.580918  E01000314  Barnet 032F\n421  -0.247290  51.583450  E01000312  Barnet 036E\n431  -0.209879  51.573498  E01000220  Barnet 037E\n490  -0.259436  51.616498  E01000233  Barnet 013F\n523  -0.193655  51.611799  E01000278  Barnet 020B\n533  -0.198620  51.603126  E01000204  Barnet 025C\n597  -0.207740  51.568798  E01000135  Barnet 038A\n609  -0.195283  51.572195  E01000214  Barnet 038E\n653  -0.165681  51.618182  E01000320  Barnet 011D\n695  -0.234124  51.606228  E01000260  Barnet 025E\n737  -0.179744  51.581874  E01000213  Barnet 033F\n746  -0.196752  51.577721  E01000212  Barnet 035D\n936  -0.175022  51.589858  E01000183  Barnet 033A",
      "text/html": "<div>\n<style scoped>\n    .dataframe tbody tr th:only-of-type {\n        vertical-align: middle;\n    }\n\n    .dataframe tbody tr th {\n        vertical-align: top;\n    }\n\n    .dataframe thead th {\n        text-align: right;\n    }\n</style>\n<table border=\"1\" class=\"dataframe\">\n  <thead>\n    <tr style=\"text-align: right;\">\n      <th></th>\n      <th>Longitude</th>\n      <th>Latitude</th>\n      <th>LSOA code</th>\n      <th>LSOA name</th>\n    </tr>\n  </thead>\n  <tbody>\n    <tr>\n      <th>20</th>\n      <td>-0.219121</td>\n      <td>51.651188</td>\n      <td>E01000253</td>\n      <td>Barnet 007B</td>\n    </tr>\n    <tr>\n      <th>43</th>\n      <td>-0.149385</td>\n      <td>51.621415</td>\n      <td>E01000124</td>\n      <td>Barnet 010E</td>\n    </tr>\n    <tr>\n      <th>44</th>\n      <td>-0.159244</td>\n      <td>51.622676</td>\n      <td>E01000266</td>\n      <td>Barnet 011B</td>\n    </tr>\n    <tr>\n      <th>46</th>\n      <td>-0.160137</td>\n      <td>51.627393</td>\n      <td>E01000274</td>\n      <td>Barnet 011C</td>\n    </tr>\n    <tr>\n      <th>70</th>\n      <td>-0.245641</td>\n      <td>51.616508</td>\n      <td>E01000264</td>\n      <td>Barnet 016D</td>\n    </tr>\n    <tr>\n      <th>71</th>\n      <td>-0.211346</td>\n      <td>51.608887</td>\n      <td>E01000257</td>\n      <td>Barnet 017B</td>\n    </tr>\n    <tr>\n      <th>72</th>\n      <td>-0.236108</td>\n      <td>51.618371</td>\n      <td>E01000261</td>\n      <td>Barnet 017C</td>\n    </tr>\n    <tr>\n      <th>83</th>\n      <td>-0.183163</td>\n      <td>51.609416</td>\n      <td>E01000302</td>\n      <td>Barnet 019C</td>\n    </tr>\n    <tr>\n      <th>86</th>\n      <td>-0.176381</td>\n      <td>51.608906</td>\n      <td>E01000318</td>\n      <td>Barnet 019E</td>\n    </tr>\n    <tr>\n      <th>107</th>\n      <td>-0.163636</td>\n      <td>51.610138</td>\n      <td>E01000315</td>\n      <td>Barnet 022F</td>\n    </tr>\n    <tr>\n      <th>111</th>\n      <td>-0.184104</td>\n      <td>51.594890</td>\n      <td>E01000197</td>\n      <td>Barnet 023A</td>\n    </tr>\n    <tr>\n      <th>112</th>\n      <td>-0.189175</td>\n      <td>51.603862</td>\n      <td>E01000295</td>\n      <td>Barnet 023B</td>\n    </tr>\n    <tr>\n      <th>113</th>\n      <td>-0.190698</td>\n      <td>51.604434</td>\n      <td>E01000296</td>\n      <td>Barnet 023C</td>\n    </tr>\n    <tr>\n      <th>116</th>\n      <td>-0.271874</td>\n      <td>51.605819</td>\n      <td>E01000125</td>\n      <td>Barnet 024A</td>\n    </tr>\n    <tr>\n      <th>127</th>\n      <td>-0.213224</td>\n      <td>51.606299</td>\n      <td>E01000259</td>\n      <td>Barnet 025D</td>\n    </tr>\n    <tr>\n      <th>136</th>\n      <td>-0.171745</td>\n      <td>51.606816</td>\n      <td>E01000316</td>\n      <td>Barnet 027E</td>\n    </tr>\n    <tr>\n      <th>141</th>\n      <td>-0.202321</td>\n      <td>51.590576</td>\n      <td>E01000201</td>\n      <td>Barnet 028C</td>\n    </tr>\n    <tr>\n      <th>151</th>\n      <td>-0.222657</td>\n      <td>51.594392</td>\n      <td>E01000241</td>\n      <td>Barnet 031C</td>\n    </tr>\n    <tr>\n      <th>157</th>\n      <td>-0.221247</td>\n      <td>51.590199</td>\n      <td>E01000243</td>\n      <td>Barnet 032C</td>\n    </tr>\n    <tr>\n      <th>158</th>\n      <td>-0.226501</td>\n      <td>51.589118</td>\n      <td>E01000244</td>\n      <td>Barnet 032D</td>\n    </tr>\n    <tr>\n      <th>165</th>\n      <td>-0.164629</td>\n      <td>51.586251</td>\n      <td>E01000208</td>\n      <td>Barnet 033D</td>\n    </tr>\n    <tr>\n      <th>171</th>\n      <td>-0.218076</td>\n      <td>51.584171</td>\n      <td>E01000311</td>\n      <td>Barnet 034D</td>\n    </tr>\n    <tr>\n      <th>179</th>\n      <td>-0.199427</td>\n      <td>51.588751</td>\n      <td>E01000211</td>\n      <td>Barnet 035C</td>\n    </tr>\n    <tr>\n      <th>182</th>\n      <td>-0.199118</td>\n      <td>51.578836</td>\n      <td>E01000216</td>\n      <td>Barnet 035E</td>\n    </tr>\n    <tr>\n      <th>186</th>\n      <td>-0.238919</td>\n      <td>51.576707</td>\n      <td>E01000305</td>\n      <td>Barnet 036B</td>\n    </tr>\n    <tr>\n      <th>194</th>\n      <td>-0.214361</td>\n      <td>51.575104</td>\n      <td>E01000219</td>\n      <td>Barnet 037D</td>\n    </tr>\n    <tr>\n      <th>210</th>\n      <td>-0.194552</td>\n      <td>51.570746</td>\n      <td>E01000146</td>\n      <td>Barnet 038D</td>\n    </tr>\n    <tr>\n      <th>215</th>\n      <td>-0.216684</td>\n      <td>51.559259</td>\n      <td>E01000141</td>\n      <td>Barnet 039A</td>\n    </tr>\n    <tr>\n      <th>220</th>\n      <td>-0.215646</td>\n      <td>51.571778</td>\n      <td>E01000221</td>\n      <td>Barnet 039B</td>\n    </tr>\n    <tr>\n      <th>253</th>\n      <td>-0.186552</td>\n      <td>51.649026</td>\n      <td>E01000252</td>\n      <td>Barnet 002E</td>\n    </tr>\n    <tr>\n      <th>263</th>\n      <td>-0.158341</td>\n      <td>51.642841</td>\n      <td>E01000173</td>\n      <td>Barnet 006C</td>\n    </tr>\n    <tr>\n      <th>264</th>\n      <td>-0.164769</td>\n      <td>51.643274</td>\n      <td>E01000174</td>\n      <td>Barnet 006D</td>\n    </tr>\n    <tr>\n      <th>266</th>\n      <td>-0.162394</td>\n      <td>51.637671</td>\n      <td>E01000175</td>\n      <td>Barnet 006E</td>\n    </tr>\n    <tr>\n      <th>302</th>\n      <td>-0.156732</td>\n      <td>51.612655</td>\n      <td>E01000161</td>\n      <td>Barnet 015D</td>\n    </tr>\n    <tr>\n      <th>304</th>\n      <td>-0.249470</td>\n      <td>51.616862</td>\n      <td>E01000263</td>\n      <td>Barnet 016C</td>\n    </tr>\n    <tr>\n      <th>335</th>\n      <td>-0.187292</td>\n      <td>51.606180</td>\n      <td>E01000298</td>\n      <td>Barnet 023D</td>\n    </tr>\n    <tr>\n      <th>344</th>\n      <td>-0.266370</td>\n      <td>51.600945</td>\n      <td>E01000129</td>\n      <td>Barnet 024D</td>\n    </tr>\n    <tr>\n      <th>400</th>\n      <td>-0.228350</td>\n      <td>51.580918</td>\n      <td>E01000314</td>\n      <td>Barnet 032F</td>\n    </tr>\n    <tr>\n      <th>421</th>\n      <td>-0.247290</td>\n      <td>51.583450</td>\n      <td>E01000312</td>\n      <td>Barnet 036E</td>\n    </tr>\n    <tr>\n      <th>431</th>\n      <td>-0.209879</td>\n      <td>51.573498</td>\n      <td>E01000220</td>\n      <td>Barnet 037E</td>\n    </tr>\n    <tr>\n      <th>490</th>\n      <td>-0.259436</td>\n      <td>51.616498</td>\n      <td>E01000233</td>\n      <td>Barnet 013F</td>\n    </tr>\n    <tr>\n      <th>523</th>\n      <td>-0.193655</td>\n      <td>51.611799</td>\n      <td>E01000278</td>\n      <td>Barnet 020B</td>\n    </tr>\n    <tr>\n      <th>533</th>\n      <td>-0.198620</td>\n      <td>51.603126</td>\n      <td>E01000204</td>\n      <td>Barnet 025C</td>\n    </tr>\n    <tr>\n      <th>597</th>\n      <td>-0.207740</td>\n      <td>51.568798</td>\n      <td>E01000135</td>\n      <td>Barnet 038A</td>\n    </tr>\n    <tr>\n      <th>609</th>\n      <td>-0.195283</td>\n      <td>51.572195</td>\n      <td>E01000214</td>\n      <td>Barnet 038E</td>\n    </tr>\n    <tr>\n      <th>653</th>\n      <td>-0.165681</td>\n      <td>51.618182</td>\n      <td>E01000320</td>\n      <td>Barnet 011D</td>\n    </tr>\n    <tr>\n      <th>695</th>\n      <td>-0.234124</td>\n      <td>51.606228</td>\n      <td>E01000260</td>\n      <td>Barnet 025E</td>\n    </tr>\n    <tr>\n      <th>737</th>\n      <td>-0.179744</td>\n      <td>51.581874</td>\n      <td>E01000213</td>\n      <td>Barnet 033F</td>\n    </tr>\n    <tr>\n      <th>746</th>\n      <td>-0.196752</td>\n      <td>51.577721</td>\n      <td>E01000212</td>\n      <td>Barnet 035D</td>\n    </tr>\n    <tr>\n      <th>936</th>\n      <td>-0.175022</td>\n      <td>51.589858</td>\n      <td>E01000183</td>\n      <td>Barnet 033A</td>\n    </tr>\n  </tbody>\n</table>\n</div>"
     },
     "execution_count": 51,
     "metadata": {},
     "output_type": "execute_result"
    }
   ],
   "source": [
    "# Given the large dataframe, it is reduced by keeping only those with a count higher than 75-percentile thus the most likely\n",
    "# Obtain the 75th percentile of count\n",
    "third_quartile = np.percentile(counts, 75)\n",
    "# Filter out those values with count lower than 75-percentile\n",
    "chance_area = chance_area[chance_area['Count'] > third_quartile]\n",
    "# Load the burglary dataset\n",
    "df = pd.read_csv('burglary_data.csv')\n",
    "# Keep only the data for the predicted labels\n",
    "df = df[df['LSOA name'].isin(chance_area['LSOA names'])]\n",
    "# Delete all the columns below\n",
    "df.drop(labels=[ 'Location', 'Crime type', \"Last outcome category\", 'Crime ID', 'Reported by', 'Month'], axis=1, inplace=True)\n",
    "# Delete duplicates\n",
    "df = df.drop_duplicates(subset='LSOA name')\n",
    "# Obtain the center of all the labels, by calculating mean latitude and mean longitude\n",
    "center_latitude = df['Latitude'].mean()\n",
    "center_longitude = df['Longitude'].mean()\n",
    "# Save dataframe to csv file\n",
    "df.to_csv('most_likely_lsoa.csv', index=False)\n",
    "# Print dataframe\n",
    "df"
   ],
   "metadata": {
    "collapsed": false,
    "ExecuteTime": {
     "end_time": "2023-06-17T21:54:52.867944670Z",
     "start_time": "2023-06-17T21:54:52.785090871Z"
    }
   }
  },
  {
   "cell_type": "code",
   "execution_count": 52,
   "outputs": [
    {
     "data": {
      "text/plain": "<folium.folium.Map at 0x7f47698b67a0>",
      "text/html": "<div style=\"width:100%;\"><div style=\"position:relative;width:100%;height:0;padding-bottom:60%;\"><span style=\"color:#565656\">Make this Notebook Trusted to load map: File -> Trust Notebook</span><iframe srcdoc=\"&lt;!DOCTYPE html&gt;\n&lt;html&gt;\n&lt;head&gt;\n    \n    &lt;meta http-equiv=&quot;content-type&quot; content=&quot;text/html; charset=UTF-8&quot; /&gt;\n    \n        &lt;script&gt;\n            L_NO_TOUCH = false;\n            L_DISABLE_3D = false;\n        &lt;/script&gt;\n    \n    &lt;style&gt;html, body {width: 100%;height: 100%;margin: 0;padding: 0;}&lt;/style&gt;\n    &lt;style&gt;#map {position:absolute;top:0;bottom:0;right:0;left:0;}&lt;/style&gt;\n    &lt;script src=&quot;https://cdn.jsdelivr.net/npm/leaflet@1.9.3/dist/leaflet.js&quot;&gt;&lt;/script&gt;\n    &lt;script src=&quot;https://code.jquery.com/jquery-1.12.4.min.js&quot;&gt;&lt;/script&gt;\n    &lt;script src=&quot;https://cdn.jsdelivr.net/npm/bootstrap@5.2.2/dist/js/bootstrap.bundle.min.js&quot;&gt;&lt;/script&gt;\n    &lt;script src=&quot;https://cdnjs.cloudflare.com/ajax/libs/Leaflet.awesome-markers/2.0.2/leaflet.awesome-markers.js&quot;&gt;&lt;/script&gt;\n    &lt;link rel=&quot;stylesheet&quot; href=&quot;https://cdn.jsdelivr.net/npm/leaflet@1.9.3/dist/leaflet.css&quot;/&gt;\n    &lt;link rel=&quot;stylesheet&quot; href=&quot;https://cdn.jsdelivr.net/npm/bootstrap@5.2.2/dist/css/bootstrap.min.css&quot;/&gt;\n    &lt;link rel=&quot;stylesheet&quot; href=&quot;https://netdna.bootstrapcdn.com/bootstrap/3.0.0/css/bootstrap.min.css&quot;/&gt;\n    &lt;link rel=&quot;stylesheet&quot; href=&quot;https://cdn.jsdelivr.net/npm/@fortawesome/fontawesome-free@6.2.0/css/all.min.css&quot;/&gt;\n    &lt;link rel=&quot;stylesheet&quot; href=&quot;https://cdnjs.cloudflare.com/ajax/libs/Leaflet.awesome-markers/2.0.2/leaflet.awesome-markers.css&quot;/&gt;\n    &lt;link rel=&quot;stylesheet&quot; href=&quot;https://cdn.jsdelivr.net/gh/python-visualization/folium/folium/templates/leaflet.awesome.rotate.min.css&quot;/&gt;\n    \n            &lt;meta name=&quot;viewport&quot; content=&quot;width=device-width,\n                initial-scale=1.0, maximum-scale=1.0, user-scalable=no&quot; /&gt;\n            &lt;style&gt;\n                #map_ccb62a0b4ba798d4f3b173db303d5ee3 {\n                    position: relative;\n                    width: 100.0%;\n                    height: 100.0%;\n                    left: 0.0%;\n                    top: 0.0%;\n                }\n                .leaflet-container { font-size: 1rem; }\n            &lt;/style&gt;\n        \n&lt;/head&gt;\n&lt;body&gt;\n    \n    \n            &lt;div class=&quot;folium-map&quot; id=&quot;map_ccb62a0b4ba798d4f3b173db303d5ee3&quot; &gt;&lt;/div&gt;\n        \n&lt;/body&gt;\n&lt;script&gt;\n    \n    \n            var map_ccb62a0b4ba798d4f3b173db303d5ee3 = L.map(\n                &quot;map_ccb62a0b4ba798d4f3b173db303d5ee3&quot;,\n                {\n                    center: [51.6013301, -0.20165232000000002],\n                    crs: L.CRS.EPSG3857,\n                    zoom: 12,\n                    zoomControl: true,\n                    preferCanvas: false,\n                }\n            );\n\n            \n\n        \n    \n            var tile_layer_0d900698e576b6e48b380ad7037e3508 = L.tileLayer(\n                &quot;https://{s}.tile.openstreetmap.org/{z}/{x}/{y}.png&quot;,\n                {&quot;attribution&quot;: &quot;Data by \\u0026copy; \\u003ca target=\\&quot;_blank\\&quot; href=\\&quot;http://openstreetmap.org\\&quot;\\u003eOpenStreetMap\\u003c/a\\u003e, under \\u003ca target=\\&quot;_blank\\&quot; href=\\&quot;http://www.openstreetmap.org/copyright\\&quot;\\u003eODbL\\u003c/a\\u003e.&quot;, &quot;detectRetina&quot;: false, &quot;maxNativeZoom&quot;: 18, &quot;maxZoom&quot;: 18, &quot;minZoom&quot;: 0, &quot;noWrap&quot;: false, &quot;opacity&quot;: 1, &quot;subdomains&quot;: &quot;abc&quot;, &quot;tms&quot;: false}\n            ).addTo(map_ccb62a0b4ba798d4f3b173db303d5ee3);\n        \n    \n            var marker_b1a851d37ca755ec975078c598e8d172 = L.marker(\n                [51.651188, -0.219121],\n                {}\n            ).addTo(map_ccb62a0b4ba798d4f3b173db303d5ee3);\n        \n    \n        var popup_460b76de46af41143be47adef0c7283e = L.popup({&quot;maxWidth&quot;: &quot;100%&quot;});\n\n        \n            \n                var html_aa2ad2b36eaabc9954940d26fcaf5c6d = $(`&lt;div id=&quot;html_aa2ad2b36eaabc9954940d26fcaf5c6d&quot; style=&quot;width: 100.0%; height: 100.0%;&quot;&gt;Barnet 007B&lt;/div&gt;`)[0];\n                popup_460b76de46af41143be47adef0c7283e.setContent(html_aa2ad2b36eaabc9954940d26fcaf5c6d);\n            \n        \n\n        marker_b1a851d37ca755ec975078c598e8d172.bindPopup(popup_460b76de46af41143be47adef0c7283e)\n        ;\n\n        \n    \n    \n            var marker_e0dc062b6d99cfc0178b59f7c8a4cdd6 = L.marker(\n                [51.621415, -0.149385],\n                {}\n            ).addTo(map_ccb62a0b4ba798d4f3b173db303d5ee3);\n        \n    \n        var popup_5dd809c8fbc37870f5189258af8fe668 = L.popup({&quot;maxWidth&quot;: &quot;100%&quot;});\n\n        \n            \n                var html_5d5aca6932f27b5338af1de1c178de22 = $(`&lt;div id=&quot;html_5d5aca6932f27b5338af1de1c178de22&quot; style=&quot;width: 100.0%; height: 100.0%;&quot;&gt;Barnet 010E&lt;/div&gt;`)[0];\n                popup_5dd809c8fbc37870f5189258af8fe668.setContent(html_5d5aca6932f27b5338af1de1c178de22);\n            \n        \n\n        marker_e0dc062b6d99cfc0178b59f7c8a4cdd6.bindPopup(popup_5dd809c8fbc37870f5189258af8fe668)\n        ;\n\n        \n    \n    \n            var marker_773d3432b3b6f2eb9019dfaa9b6c2dec = L.marker(\n                [51.622676, -0.159244],\n                {}\n            ).addTo(map_ccb62a0b4ba798d4f3b173db303d5ee3);\n        \n    \n        var popup_b9fcd2e7e9f7c3c91c9ffd6efa690f69 = L.popup({&quot;maxWidth&quot;: &quot;100%&quot;});\n\n        \n            \n                var html_50154d2d7e29239fae755d8da4b30c35 = $(`&lt;div id=&quot;html_50154d2d7e29239fae755d8da4b30c35&quot; style=&quot;width: 100.0%; height: 100.0%;&quot;&gt;Barnet 011B&lt;/div&gt;`)[0];\n                popup_b9fcd2e7e9f7c3c91c9ffd6efa690f69.setContent(html_50154d2d7e29239fae755d8da4b30c35);\n            \n        \n\n        marker_773d3432b3b6f2eb9019dfaa9b6c2dec.bindPopup(popup_b9fcd2e7e9f7c3c91c9ffd6efa690f69)\n        ;\n\n        \n    \n    \n            var marker_fcbf047df0599847df44c13034268236 = L.marker(\n                [51.627393, -0.160137],\n                {}\n            ).addTo(map_ccb62a0b4ba798d4f3b173db303d5ee3);\n        \n    \n        var popup_30b1313cceb00a0790b3e2d49d4aeafe = L.popup({&quot;maxWidth&quot;: &quot;100%&quot;});\n\n        \n            \n                var html_342eaebc7c5418b2f3c7f1e0e9563ec9 = $(`&lt;div id=&quot;html_342eaebc7c5418b2f3c7f1e0e9563ec9&quot; style=&quot;width: 100.0%; height: 100.0%;&quot;&gt;Barnet 011C&lt;/div&gt;`)[0];\n                popup_30b1313cceb00a0790b3e2d49d4aeafe.setContent(html_342eaebc7c5418b2f3c7f1e0e9563ec9);\n            \n        \n\n        marker_fcbf047df0599847df44c13034268236.bindPopup(popup_30b1313cceb00a0790b3e2d49d4aeafe)\n        ;\n\n        \n    \n    \n            var marker_5964a36f9d309bdfbe8f3a601e2d0d32 = L.marker(\n                [51.616508, -0.245641],\n                {}\n            ).addTo(map_ccb62a0b4ba798d4f3b173db303d5ee3);\n        \n    \n        var popup_ace8a88afb2007a29cfc99829230ff85 = L.popup({&quot;maxWidth&quot;: &quot;100%&quot;});\n\n        \n            \n                var html_72b7cfd941d4c380ec565e3e93249551 = $(`&lt;div id=&quot;html_72b7cfd941d4c380ec565e3e93249551&quot; style=&quot;width: 100.0%; height: 100.0%;&quot;&gt;Barnet 016D&lt;/div&gt;`)[0];\n                popup_ace8a88afb2007a29cfc99829230ff85.setContent(html_72b7cfd941d4c380ec565e3e93249551);\n            \n        \n\n        marker_5964a36f9d309bdfbe8f3a601e2d0d32.bindPopup(popup_ace8a88afb2007a29cfc99829230ff85)\n        ;\n\n        \n    \n    \n            var marker_1c04896c91bb070ce2592832532d179e = L.marker(\n                [51.608887, -0.211346],\n                {}\n            ).addTo(map_ccb62a0b4ba798d4f3b173db303d5ee3);\n        \n    \n        var popup_c602f02083450f1e89d498d6d1ef96e6 = L.popup({&quot;maxWidth&quot;: &quot;100%&quot;});\n\n        \n            \n                var html_aeffaae03ffe0c2acd0b461b60a9cdad = $(`&lt;div id=&quot;html_aeffaae03ffe0c2acd0b461b60a9cdad&quot; style=&quot;width: 100.0%; height: 100.0%;&quot;&gt;Barnet 017B&lt;/div&gt;`)[0];\n                popup_c602f02083450f1e89d498d6d1ef96e6.setContent(html_aeffaae03ffe0c2acd0b461b60a9cdad);\n            \n        \n\n        marker_1c04896c91bb070ce2592832532d179e.bindPopup(popup_c602f02083450f1e89d498d6d1ef96e6)\n        ;\n\n        \n    \n    \n            var marker_4abab91e80b2d0e5ad21353898adc842 = L.marker(\n                [51.618371, -0.236108],\n                {}\n            ).addTo(map_ccb62a0b4ba798d4f3b173db303d5ee3);\n        \n    \n        var popup_4a9db47ba67403b61ac8e369bdb07f51 = L.popup({&quot;maxWidth&quot;: &quot;100%&quot;});\n\n        \n            \n                var html_beb0a41ff6508d2ff4de95c3187801d5 = $(`&lt;div id=&quot;html_beb0a41ff6508d2ff4de95c3187801d5&quot; style=&quot;width: 100.0%; height: 100.0%;&quot;&gt;Barnet 017C&lt;/div&gt;`)[0];\n                popup_4a9db47ba67403b61ac8e369bdb07f51.setContent(html_beb0a41ff6508d2ff4de95c3187801d5);\n            \n        \n\n        marker_4abab91e80b2d0e5ad21353898adc842.bindPopup(popup_4a9db47ba67403b61ac8e369bdb07f51)\n        ;\n\n        \n    \n    \n            var marker_225d8bfd7e955f9be7c9f95507d92355 = L.marker(\n                [51.609416, -0.183163],\n                {}\n            ).addTo(map_ccb62a0b4ba798d4f3b173db303d5ee3);\n        \n    \n        var popup_d24a7ae8e14d896c1eed3c55d76a5290 = L.popup({&quot;maxWidth&quot;: &quot;100%&quot;});\n\n        \n            \n                var html_33b1cb84200c5319c43f410133a2b4e9 = $(`&lt;div id=&quot;html_33b1cb84200c5319c43f410133a2b4e9&quot; style=&quot;width: 100.0%; height: 100.0%;&quot;&gt;Barnet 019C&lt;/div&gt;`)[0];\n                popup_d24a7ae8e14d896c1eed3c55d76a5290.setContent(html_33b1cb84200c5319c43f410133a2b4e9);\n            \n        \n\n        marker_225d8bfd7e955f9be7c9f95507d92355.bindPopup(popup_d24a7ae8e14d896c1eed3c55d76a5290)\n        ;\n\n        \n    \n    \n            var marker_6db3e0d72e4bc5763aed968e2f046cd8 = L.marker(\n                [51.608906, -0.176381],\n                {}\n            ).addTo(map_ccb62a0b4ba798d4f3b173db303d5ee3);\n        \n    \n        var popup_9e93d103a4331b2d1e697c5687f59450 = L.popup({&quot;maxWidth&quot;: &quot;100%&quot;});\n\n        \n            \n                var html_b6bff21db66fd9e3ffd074aa38bc04b5 = $(`&lt;div id=&quot;html_b6bff21db66fd9e3ffd074aa38bc04b5&quot; style=&quot;width: 100.0%; height: 100.0%;&quot;&gt;Barnet 019E&lt;/div&gt;`)[0];\n                popup_9e93d103a4331b2d1e697c5687f59450.setContent(html_b6bff21db66fd9e3ffd074aa38bc04b5);\n            \n        \n\n        marker_6db3e0d72e4bc5763aed968e2f046cd8.bindPopup(popup_9e93d103a4331b2d1e697c5687f59450)\n        ;\n\n        \n    \n    \n            var marker_a99b9e0d0595d3342309ffa7f0302ba5 = L.marker(\n                [51.610138, -0.163636],\n                {}\n            ).addTo(map_ccb62a0b4ba798d4f3b173db303d5ee3);\n        \n    \n        var popup_9a07f6ca06821c9accaff82a2878f111 = L.popup({&quot;maxWidth&quot;: &quot;100%&quot;});\n\n        \n            \n                var html_2d195df2e8199a58226be8f7eeb43eef = $(`&lt;div id=&quot;html_2d195df2e8199a58226be8f7eeb43eef&quot; style=&quot;width: 100.0%; height: 100.0%;&quot;&gt;Barnet 022F&lt;/div&gt;`)[0];\n                popup_9a07f6ca06821c9accaff82a2878f111.setContent(html_2d195df2e8199a58226be8f7eeb43eef);\n            \n        \n\n        marker_a99b9e0d0595d3342309ffa7f0302ba5.bindPopup(popup_9a07f6ca06821c9accaff82a2878f111)\n        ;\n\n        \n    \n    \n            var marker_72781051c5ceec662207117aa900a6a1 = L.marker(\n                [51.59489, -0.184104],\n                {}\n            ).addTo(map_ccb62a0b4ba798d4f3b173db303d5ee3);\n        \n    \n        var popup_24b14141c51b1f911ebc07bf0ea9dc18 = L.popup({&quot;maxWidth&quot;: &quot;100%&quot;});\n\n        \n            \n                var html_7f75c6463b80ad386ab509dddea5f124 = $(`&lt;div id=&quot;html_7f75c6463b80ad386ab509dddea5f124&quot; style=&quot;width: 100.0%; height: 100.0%;&quot;&gt;Barnet 023A&lt;/div&gt;`)[0];\n                popup_24b14141c51b1f911ebc07bf0ea9dc18.setContent(html_7f75c6463b80ad386ab509dddea5f124);\n            \n        \n\n        marker_72781051c5ceec662207117aa900a6a1.bindPopup(popup_24b14141c51b1f911ebc07bf0ea9dc18)\n        ;\n\n        \n    \n    \n            var marker_bd91689d81e119342fe8e26166637942 = L.marker(\n                [51.603862, -0.189175],\n                {}\n            ).addTo(map_ccb62a0b4ba798d4f3b173db303d5ee3);\n        \n    \n        var popup_4c50e27422f101c6a73ec4dbcc4ee1ef = L.popup({&quot;maxWidth&quot;: &quot;100%&quot;});\n\n        \n            \n                var html_8face1e4a8f51e52c38be8515b7b88a7 = $(`&lt;div id=&quot;html_8face1e4a8f51e52c38be8515b7b88a7&quot; style=&quot;width: 100.0%; height: 100.0%;&quot;&gt;Barnet 023B&lt;/div&gt;`)[0];\n                popup_4c50e27422f101c6a73ec4dbcc4ee1ef.setContent(html_8face1e4a8f51e52c38be8515b7b88a7);\n            \n        \n\n        marker_bd91689d81e119342fe8e26166637942.bindPopup(popup_4c50e27422f101c6a73ec4dbcc4ee1ef)\n        ;\n\n        \n    \n    \n            var marker_a250018c3addc8bbbd4872fb29047d8b = L.marker(\n                [51.604434, -0.190698],\n                {}\n            ).addTo(map_ccb62a0b4ba798d4f3b173db303d5ee3);\n        \n    \n        var popup_74268a4400f9f4f1a09003f7357860cb = L.popup({&quot;maxWidth&quot;: &quot;100%&quot;});\n\n        \n            \n                var html_255dc381a83ba467399a0c0c507f85c6 = $(`&lt;div id=&quot;html_255dc381a83ba467399a0c0c507f85c6&quot; style=&quot;width: 100.0%; height: 100.0%;&quot;&gt;Barnet 023C&lt;/div&gt;`)[0];\n                popup_74268a4400f9f4f1a09003f7357860cb.setContent(html_255dc381a83ba467399a0c0c507f85c6);\n            \n        \n\n        marker_a250018c3addc8bbbd4872fb29047d8b.bindPopup(popup_74268a4400f9f4f1a09003f7357860cb)\n        ;\n\n        \n    \n    \n            var marker_3a98925ee66adabe4a415520485fce3e = L.marker(\n                [51.605819, -0.271874],\n                {}\n            ).addTo(map_ccb62a0b4ba798d4f3b173db303d5ee3);\n        \n    \n        var popup_9ac918d3e63d8d673691af2e10f87b86 = L.popup({&quot;maxWidth&quot;: &quot;100%&quot;});\n\n        \n            \n                var html_3e1b92ec3f5f58989c0701fb102451f1 = $(`&lt;div id=&quot;html_3e1b92ec3f5f58989c0701fb102451f1&quot; style=&quot;width: 100.0%; height: 100.0%;&quot;&gt;Barnet 024A&lt;/div&gt;`)[0];\n                popup_9ac918d3e63d8d673691af2e10f87b86.setContent(html_3e1b92ec3f5f58989c0701fb102451f1);\n            \n        \n\n        marker_3a98925ee66adabe4a415520485fce3e.bindPopup(popup_9ac918d3e63d8d673691af2e10f87b86)\n        ;\n\n        \n    \n    \n            var marker_891c545fbcaf9689555e14481d7544ab = L.marker(\n                [51.606299, -0.213224],\n                {}\n            ).addTo(map_ccb62a0b4ba798d4f3b173db303d5ee3);\n        \n    \n        var popup_dd0bcb56a88d8649853c259fb44f226a = L.popup({&quot;maxWidth&quot;: &quot;100%&quot;});\n\n        \n            \n                var html_40538891d838aa7ff41f352ffb9b6685 = $(`&lt;div id=&quot;html_40538891d838aa7ff41f352ffb9b6685&quot; style=&quot;width: 100.0%; height: 100.0%;&quot;&gt;Barnet 025D&lt;/div&gt;`)[0];\n                popup_dd0bcb56a88d8649853c259fb44f226a.setContent(html_40538891d838aa7ff41f352ffb9b6685);\n            \n        \n\n        marker_891c545fbcaf9689555e14481d7544ab.bindPopup(popup_dd0bcb56a88d8649853c259fb44f226a)\n        ;\n\n        \n    \n    \n            var marker_9f2558b3574c5b6302f3b5b2dbc75097 = L.marker(\n                [51.606816, -0.171745],\n                {}\n            ).addTo(map_ccb62a0b4ba798d4f3b173db303d5ee3);\n        \n    \n        var popup_7fd8e9ed93b2e2edc6c7bfd0b27b3d6d = L.popup({&quot;maxWidth&quot;: &quot;100%&quot;});\n\n        \n            \n                var html_6bca269039e480b4d4d4223f11e55c0e = $(`&lt;div id=&quot;html_6bca269039e480b4d4d4223f11e55c0e&quot; style=&quot;width: 100.0%; height: 100.0%;&quot;&gt;Barnet 027E&lt;/div&gt;`)[0];\n                popup_7fd8e9ed93b2e2edc6c7bfd0b27b3d6d.setContent(html_6bca269039e480b4d4d4223f11e55c0e);\n            \n        \n\n        marker_9f2558b3574c5b6302f3b5b2dbc75097.bindPopup(popup_7fd8e9ed93b2e2edc6c7bfd0b27b3d6d)\n        ;\n\n        \n    \n    \n            var marker_00c505762e33006c3a48da96c33abc51 = L.marker(\n                [51.590576, -0.202321],\n                {}\n            ).addTo(map_ccb62a0b4ba798d4f3b173db303d5ee3);\n        \n    \n        var popup_dc898dfedde7e19abd86a3571c7d7f0c = L.popup({&quot;maxWidth&quot;: &quot;100%&quot;});\n\n        \n            \n                var html_17722c787b61671d95cd1d962c04b344 = $(`&lt;div id=&quot;html_17722c787b61671d95cd1d962c04b344&quot; style=&quot;width: 100.0%; height: 100.0%;&quot;&gt;Barnet 028C&lt;/div&gt;`)[0];\n                popup_dc898dfedde7e19abd86a3571c7d7f0c.setContent(html_17722c787b61671d95cd1d962c04b344);\n            \n        \n\n        marker_00c505762e33006c3a48da96c33abc51.bindPopup(popup_dc898dfedde7e19abd86a3571c7d7f0c)\n        ;\n\n        \n    \n    \n            var marker_e2210df5d4eb7a8776bd946efbef0747 = L.marker(\n                [51.594392, -0.222657],\n                {}\n            ).addTo(map_ccb62a0b4ba798d4f3b173db303d5ee3);\n        \n    \n        var popup_17011c67933e88e6412527f02e7f05de = L.popup({&quot;maxWidth&quot;: &quot;100%&quot;});\n\n        \n            \n                var html_7e324fdc03d2000c6cad82d685099255 = $(`&lt;div id=&quot;html_7e324fdc03d2000c6cad82d685099255&quot; style=&quot;width: 100.0%; height: 100.0%;&quot;&gt;Barnet 031C&lt;/div&gt;`)[0];\n                popup_17011c67933e88e6412527f02e7f05de.setContent(html_7e324fdc03d2000c6cad82d685099255);\n            \n        \n\n        marker_e2210df5d4eb7a8776bd946efbef0747.bindPopup(popup_17011c67933e88e6412527f02e7f05de)\n        ;\n\n        \n    \n    \n            var marker_35bbc15b3836b66da37a801d2bbc4dbb = L.marker(\n                [51.590199, -0.221247],\n                {}\n            ).addTo(map_ccb62a0b4ba798d4f3b173db303d5ee3);\n        \n    \n        var popup_30b24d96f1d6b3bd8354ff8672ddf427 = L.popup({&quot;maxWidth&quot;: &quot;100%&quot;});\n\n        \n            \n                var html_0e79d78d1a17f8e32772a6c17a7ea1b4 = $(`&lt;div id=&quot;html_0e79d78d1a17f8e32772a6c17a7ea1b4&quot; style=&quot;width: 100.0%; height: 100.0%;&quot;&gt;Barnet 032C&lt;/div&gt;`)[0];\n                popup_30b24d96f1d6b3bd8354ff8672ddf427.setContent(html_0e79d78d1a17f8e32772a6c17a7ea1b4);\n            \n        \n\n        marker_35bbc15b3836b66da37a801d2bbc4dbb.bindPopup(popup_30b24d96f1d6b3bd8354ff8672ddf427)\n        ;\n\n        \n    \n    \n            var marker_f170a477eb70f4001db27b234a426957 = L.marker(\n                [51.589118, -0.226501],\n                {}\n            ).addTo(map_ccb62a0b4ba798d4f3b173db303d5ee3);\n        \n    \n        var popup_ce674d7efb93433841ba64f1b84ab6c5 = L.popup({&quot;maxWidth&quot;: &quot;100%&quot;});\n\n        \n            \n                var html_28c682b0572a87571784eee1e16e395b = $(`&lt;div id=&quot;html_28c682b0572a87571784eee1e16e395b&quot; style=&quot;width: 100.0%; height: 100.0%;&quot;&gt;Barnet 032D&lt;/div&gt;`)[0];\n                popup_ce674d7efb93433841ba64f1b84ab6c5.setContent(html_28c682b0572a87571784eee1e16e395b);\n            \n        \n\n        marker_f170a477eb70f4001db27b234a426957.bindPopup(popup_ce674d7efb93433841ba64f1b84ab6c5)\n        ;\n\n        \n    \n    \n            var marker_065cc515a986be080cc1ec8dbf2448bb = L.marker(\n                [51.586251, -0.164629],\n                {}\n            ).addTo(map_ccb62a0b4ba798d4f3b173db303d5ee3);\n        \n    \n        var popup_7432c610fce314e2859ccd7819ac2ca6 = L.popup({&quot;maxWidth&quot;: &quot;100%&quot;});\n\n        \n            \n                var html_cecb6c7e503f0e351505ca8f61e03a78 = $(`&lt;div id=&quot;html_cecb6c7e503f0e351505ca8f61e03a78&quot; style=&quot;width: 100.0%; height: 100.0%;&quot;&gt;Barnet 033D&lt;/div&gt;`)[0];\n                popup_7432c610fce314e2859ccd7819ac2ca6.setContent(html_cecb6c7e503f0e351505ca8f61e03a78);\n            \n        \n\n        marker_065cc515a986be080cc1ec8dbf2448bb.bindPopup(popup_7432c610fce314e2859ccd7819ac2ca6)\n        ;\n\n        \n    \n    \n            var marker_21ddf2a6b8cc2ac10d8dcd0c43e2a4df = L.marker(\n                [51.584171, -0.218076],\n                {}\n            ).addTo(map_ccb62a0b4ba798d4f3b173db303d5ee3);\n        \n    \n        var popup_d2fedf8383a2c2bc6afc7dd1359cb074 = L.popup({&quot;maxWidth&quot;: &quot;100%&quot;});\n\n        \n            \n                var html_7440ab6c7373b2b880773643fca2495c = $(`&lt;div id=&quot;html_7440ab6c7373b2b880773643fca2495c&quot; style=&quot;width: 100.0%; height: 100.0%;&quot;&gt;Barnet 034D&lt;/div&gt;`)[0];\n                popup_d2fedf8383a2c2bc6afc7dd1359cb074.setContent(html_7440ab6c7373b2b880773643fca2495c);\n            \n        \n\n        marker_21ddf2a6b8cc2ac10d8dcd0c43e2a4df.bindPopup(popup_d2fedf8383a2c2bc6afc7dd1359cb074)\n        ;\n\n        \n    \n    \n            var marker_18a0a10d903935598e0f0b2045beb8f8 = L.marker(\n                [51.588751, -0.199427],\n                {}\n            ).addTo(map_ccb62a0b4ba798d4f3b173db303d5ee3);\n        \n    \n        var popup_b042df4f1a91df97b96ce7b3e826e2d1 = L.popup({&quot;maxWidth&quot;: &quot;100%&quot;});\n\n        \n            \n                var html_58708d3556dfbe52f9293b343fd587ab = $(`&lt;div id=&quot;html_58708d3556dfbe52f9293b343fd587ab&quot; style=&quot;width: 100.0%; height: 100.0%;&quot;&gt;Barnet 035C&lt;/div&gt;`)[0];\n                popup_b042df4f1a91df97b96ce7b3e826e2d1.setContent(html_58708d3556dfbe52f9293b343fd587ab);\n            \n        \n\n        marker_18a0a10d903935598e0f0b2045beb8f8.bindPopup(popup_b042df4f1a91df97b96ce7b3e826e2d1)\n        ;\n\n        \n    \n    \n            var marker_d91e79a5084d206a3c75f39438352c04 = L.marker(\n                [51.578836, -0.199118],\n                {}\n            ).addTo(map_ccb62a0b4ba798d4f3b173db303d5ee3);\n        \n    \n        var popup_fd1d3b8c7e9125411f153dc33eebb778 = L.popup({&quot;maxWidth&quot;: &quot;100%&quot;});\n\n        \n            \n                var html_513930792437c1218ebc471141b68d8c = $(`&lt;div id=&quot;html_513930792437c1218ebc471141b68d8c&quot; style=&quot;width: 100.0%; height: 100.0%;&quot;&gt;Barnet 035E&lt;/div&gt;`)[0];\n                popup_fd1d3b8c7e9125411f153dc33eebb778.setContent(html_513930792437c1218ebc471141b68d8c);\n            \n        \n\n        marker_d91e79a5084d206a3c75f39438352c04.bindPopup(popup_fd1d3b8c7e9125411f153dc33eebb778)\n        ;\n\n        \n    \n    \n            var marker_532b14ae54851f2cf08fb9a07bfc8460 = L.marker(\n                [51.576707, -0.238919],\n                {}\n            ).addTo(map_ccb62a0b4ba798d4f3b173db303d5ee3);\n        \n    \n        var popup_dac2a2859fa174d0dccab6db6430d92e = L.popup({&quot;maxWidth&quot;: &quot;100%&quot;});\n\n        \n            \n                var html_e3ff2739f9c8a0d60befcbaecde1631d = $(`&lt;div id=&quot;html_e3ff2739f9c8a0d60befcbaecde1631d&quot; style=&quot;width: 100.0%; height: 100.0%;&quot;&gt;Barnet 036B&lt;/div&gt;`)[0];\n                popup_dac2a2859fa174d0dccab6db6430d92e.setContent(html_e3ff2739f9c8a0d60befcbaecde1631d);\n            \n        \n\n        marker_532b14ae54851f2cf08fb9a07bfc8460.bindPopup(popup_dac2a2859fa174d0dccab6db6430d92e)\n        ;\n\n        \n    \n    \n            var marker_043b21b8080e076b8f40740ff7f7b4cd = L.marker(\n                [51.575104, -0.214361],\n                {}\n            ).addTo(map_ccb62a0b4ba798d4f3b173db303d5ee3);\n        \n    \n        var popup_118c8ee5615e0a03486094331c844058 = L.popup({&quot;maxWidth&quot;: &quot;100%&quot;});\n\n        \n            \n                var html_6a8f2567a88747f5e99319c88554b1fe = $(`&lt;div id=&quot;html_6a8f2567a88747f5e99319c88554b1fe&quot; style=&quot;width: 100.0%; height: 100.0%;&quot;&gt;Barnet 037D&lt;/div&gt;`)[0];\n                popup_118c8ee5615e0a03486094331c844058.setContent(html_6a8f2567a88747f5e99319c88554b1fe);\n            \n        \n\n        marker_043b21b8080e076b8f40740ff7f7b4cd.bindPopup(popup_118c8ee5615e0a03486094331c844058)\n        ;\n\n        \n    \n    \n            var marker_5ab40847650de8b519755e8d44b96946 = L.marker(\n                [51.570746, -0.194552],\n                {}\n            ).addTo(map_ccb62a0b4ba798d4f3b173db303d5ee3);\n        \n    \n        var popup_83854c13e1abf14bc70efcd139f0c3bf = L.popup({&quot;maxWidth&quot;: &quot;100%&quot;});\n\n        \n            \n                var html_154bc1e66b55178c1bf0559c41ffa64e = $(`&lt;div id=&quot;html_154bc1e66b55178c1bf0559c41ffa64e&quot; style=&quot;width: 100.0%; height: 100.0%;&quot;&gt;Barnet 038D&lt;/div&gt;`)[0];\n                popup_83854c13e1abf14bc70efcd139f0c3bf.setContent(html_154bc1e66b55178c1bf0559c41ffa64e);\n            \n        \n\n        marker_5ab40847650de8b519755e8d44b96946.bindPopup(popup_83854c13e1abf14bc70efcd139f0c3bf)\n        ;\n\n        \n    \n    \n            var marker_517594297c79482c3c6df860f730e06a = L.marker(\n                [51.559259, -0.216684],\n                {}\n            ).addTo(map_ccb62a0b4ba798d4f3b173db303d5ee3);\n        \n    \n        var popup_d34a592d2e9355db4824f2301dc8ca81 = L.popup({&quot;maxWidth&quot;: &quot;100%&quot;});\n\n        \n            \n                var html_38f078ca7d2f82673544cd09c8b5aa5d = $(`&lt;div id=&quot;html_38f078ca7d2f82673544cd09c8b5aa5d&quot; style=&quot;width: 100.0%; height: 100.0%;&quot;&gt;Barnet 039A&lt;/div&gt;`)[0];\n                popup_d34a592d2e9355db4824f2301dc8ca81.setContent(html_38f078ca7d2f82673544cd09c8b5aa5d);\n            \n        \n\n        marker_517594297c79482c3c6df860f730e06a.bindPopup(popup_d34a592d2e9355db4824f2301dc8ca81)\n        ;\n\n        \n    \n    \n            var marker_4a483a24c60a04626bc1db4d80d9a22f = L.marker(\n                [51.571778, -0.215646],\n                {}\n            ).addTo(map_ccb62a0b4ba798d4f3b173db303d5ee3);\n        \n    \n        var popup_beb6cb84508176ada423cee9be10f065 = L.popup({&quot;maxWidth&quot;: &quot;100%&quot;});\n\n        \n            \n                var html_631574564227ded0aee2e6b9cca3fc04 = $(`&lt;div id=&quot;html_631574564227ded0aee2e6b9cca3fc04&quot; style=&quot;width: 100.0%; height: 100.0%;&quot;&gt;Barnet 039B&lt;/div&gt;`)[0];\n                popup_beb6cb84508176ada423cee9be10f065.setContent(html_631574564227ded0aee2e6b9cca3fc04);\n            \n        \n\n        marker_4a483a24c60a04626bc1db4d80d9a22f.bindPopup(popup_beb6cb84508176ada423cee9be10f065)\n        ;\n\n        \n    \n    \n            var marker_fe23a475afa1029c175ff6a47ac15163 = L.marker(\n                [51.649026, -0.186552],\n                {}\n            ).addTo(map_ccb62a0b4ba798d4f3b173db303d5ee3);\n        \n    \n        var popup_58c6fee5f235761827981014678c5ea9 = L.popup({&quot;maxWidth&quot;: &quot;100%&quot;});\n\n        \n            \n                var html_87f62fdf80a1adc39d3415ac90f58f66 = $(`&lt;div id=&quot;html_87f62fdf80a1adc39d3415ac90f58f66&quot; style=&quot;width: 100.0%; height: 100.0%;&quot;&gt;Barnet 002E&lt;/div&gt;`)[0];\n                popup_58c6fee5f235761827981014678c5ea9.setContent(html_87f62fdf80a1adc39d3415ac90f58f66);\n            \n        \n\n        marker_fe23a475afa1029c175ff6a47ac15163.bindPopup(popup_58c6fee5f235761827981014678c5ea9)\n        ;\n\n        \n    \n    \n            var marker_5628fc39feeae0c0d3b84cdcdeb944be = L.marker(\n                [51.642841, -0.158341],\n                {}\n            ).addTo(map_ccb62a0b4ba798d4f3b173db303d5ee3);\n        \n    \n        var popup_c052ca86098c533aa21044cfdf25fb7d = L.popup({&quot;maxWidth&quot;: &quot;100%&quot;});\n\n        \n            \n                var html_469c238feb052b8e877a6b23b5a3bdf7 = $(`&lt;div id=&quot;html_469c238feb052b8e877a6b23b5a3bdf7&quot; style=&quot;width: 100.0%; height: 100.0%;&quot;&gt;Barnet 006C&lt;/div&gt;`)[0];\n                popup_c052ca86098c533aa21044cfdf25fb7d.setContent(html_469c238feb052b8e877a6b23b5a3bdf7);\n            \n        \n\n        marker_5628fc39feeae0c0d3b84cdcdeb944be.bindPopup(popup_c052ca86098c533aa21044cfdf25fb7d)\n        ;\n\n        \n    \n    \n            var marker_ef71c7724b5ad9c7a985054b40d81ff2 = L.marker(\n                [51.643274, -0.164769],\n                {}\n            ).addTo(map_ccb62a0b4ba798d4f3b173db303d5ee3);\n        \n    \n        var popup_d20d6b4ceb32e2fd3d2c52a9642b57ec = L.popup({&quot;maxWidth&quot;: &quot;100%&quot;});\n\n        \n            \n                var html_5ef1356152370184c7bfb43fd30b7461 = $(`&lt;div id=&quot;html_5ef1356152370184c7bfb43fd30b7461&quot; style=&quot;width: 100.0%; height: 100.0%;&quot;&gt;Barnet 006D&lt;/div&gt;`)[0];\n                popup_d20d6b4ceb32e2fd3d2c52a9642b57ec.setContent(html_5ef1356152370184c7bfb43fd30b7461);\n            \n        \n\n        marker_ef71c7724b5ad9c7a985054b40d81ff2.bindPopup(popup_d20d6b4ceb32e2fd3d2c52a9642b57ec)\n        ;\n\n        \n    \n    \n            var marker_cb1526846506557b5c1eb32004ee52ec = L.marker(\n                [51.637671, -0.162394],\n                {}\n            ).addTo(map_ccb62a0b4ba798d4f3b173db303d5ee3);\n        \n    \n        var popup_5fdc462af4743d458182b58785e859e6 = L.popup({&quot;maxWidth&quot;: &quot;100%&quot;});\n\n        \n            \n                var html_1b192e339af7774cfa276bfd2db51306 = $(`&lt;div id=&quot;html_1b192e339af7774cfa276bfd2db51306&quot; style=&quot;width: 100.0%; height: 100.0%;&quot;&gt;Barnet 006E&lt;/div&gt;`)[0];\n                popup_5fdc462af4743d458182b58785e859e6.setContent(html_1b192e339af7774cfa276bfd2db51306);\n            \n        \n\n        marker_cb1526846506557b5c1eb32004ee52ec.bindPopup(popup_5fdc462af4743d458182b58785e859e6)\n        ;\n\n        \n    \n    \n            var marker_8dff0917957909d003db5915efff9197 = L.marker(\n                [51.612655, -0.156732],\n                {}\n            ).addTo(map_ccb62a0b4ba798d4f3b173db303d5ee3);\n        \n    \n        var popup_421dfbe8baeb2a3417f82edb851af490 = L.popup({&quot;maxWidth&quot;: &quot;100%&quot;});\n\n        \n            \n                var html_17646773c7c5ee0df96d9a4da2e393dc = $(`&lt;div id=&quot;html_17646773c7c5ee0df96d9a4da2e393dc&quot; style=&quot;width: 100.0%; height: 100.0%;&quot;&gt;Barnet 015D&lt;/div&gt;`)[0];\n                popup_421dfbe8baeb2a3417f82edb851af490.setContent(html_17646773c7c5ee0df96d9a4da2e393dc);\n            \n        \n\n        marker_8dff0917957909d003db5915efff9197.bindPopup(popup_421dfbe8baeb2a3417f82edb851af490)\n        ;\n\n        \n    \n    \n            var marker_6816a179f12a077b77f59c93b68ea102 = L.marker(\n                [51.616862, -0.24947],\n                {}\n            ).addTo(map_ccb62a0b4ba798d4f3b173db303d5ee3);\n        \n    \n        var popup_9ffe40d5dc1b6828102081bd3676733d = L.popup({&quot;maxWidth&quot;: &quot;100%&quot;});\n\n        \n            \n                var html_c74e389350f44fe9193fee91779a919e = $(`&lt;div id=&quot;html_c74e389350f44fe9193fee91779a919e&quot; style=&quot;width: 100.0%; height: 100.0%;&quot;&gt;Barnet 016C&lt;/div&gt;`)[0];\n                popup_9ffe40d5dc1b6828102081bd3676733d.setContent(html_c74e389350f44fe9193fee91779a919e);\n            \n        \n\n        marker_6816a179f12a077b77f59c93b68ea102.bindPopup(popup_9ffe40d5dc1b6828102081bd3676733d)\n        ;\n\n        \n    \n    \n            var marker_e63156f48fda190b48cf621dd960c7f3 = L.marker(\n                [51.60618, -0.187292],\n                {}\n            ).addTo(map_ccb62a0b4ba798d4f3b173db303d5ee3);\n        \n    \n        var popup_d15489f06b9814174da5e907906eb75b = L.popup({&quot;maxWidth&quot;: &quot;100%&quot;});\n\n        \n            \n                var html_d6f6d8eef2123e2d843d3354032caba3 = $(`&lt;div id=&quot;html_d6f6d8eef2123e2d843d3354032caba3&quot; style=&quot;width: 100.0%; height: 100.0%;&quot;&gt;Barnet 023D&lt;/div&gt;`)[0];\n                popup_d15489f06b9814174da5e907906eb75b.setContent(html_d6f6d8eef2123e2d843d3354032caba3);\n            \n        \n\n        marker_e63156f48fda190b48cf621dd960c7f3.bindPopup(popup_d15489f06b9814174da5e907906eb75b)\n        ;\n\n        \n    \n    \n            var marker_dd4e82719ee4a95715d4eebb5d28a123 = L.marker(\n                [51.600945, -0.26637],\n                {}\n            ).addTo(map_ccb62a0b4ba798d4f3b173db303d5ee3);\n        \n    \n        var popup_e6f197df04f9d758a8a716908a4ba5a2 = L.popup({&quot;maxWidth&quot;: &quot;100%&quot;});\n\n        \n            \n                var html_f6f3726eb930d6aaec95943cde0df2a4 = $(`&lt;div id=&quot;html_f6f3726eb930d6aaec95943cde0df2a4&quot; style=&quot;width: 100.0%; height: 100.0%;&quot;&gt;Barnet 024D&lt;/div&gt;`)[0];\n                popup_e6f197df04f9d758a8a716908a4ba5a2.setContent(html_f6f3726eb930d6aaec95943cde0df2a4);\n            \n        \n\n        marker_dd4e82719ee4a95715d4eebb5d28a123.bindPopup(popup_e6f197df04f9d758a8a716908a4ba5a2)\n        ;\n\n        \n    \n    \n            var marker_a770e0aa89843960cd9939a3fad07c67 = L.marker(\n                [51.580918, -0.22835],\n                {}\n            ).addTo(map_ccb62a0b4ba798d4f3b173db303d5ee3);\n        \n    \n        var popup_828ddea0c1f15fdb8b3556ca6365bab8 = L.popup({&quot;maxWidth&quot;: &quot;100%&quot;});\n\n        \n            \n                var html_86be429879a726b28b5f2029b5c4803a = $(`&lt;div id=&quot;html_86be429879a726b28b5f2029b5c4803a&quot; style=&quot;width: 100.0%; height: 100.0%;&quot;&gt;Barnet 032F&lt;/div&gt;`)[0];\n                popup_828ddea0c1f15fdb8b3556ca6365bab8.setContent(html_86be429879a726b28b5f2029b5c4803a);\n            \n        \n\n        marker_a770e0aa89843960cd9939a3fad07c67.bindPopup(popup_828ddea0c1f15fdb8b3556ca6365bab8)\n        ;\n\n        \n    \n    \n            var marker_1dccf2397ca8deffda22e9e59dbe8dbc = L.marker(\n                [51.58345, -0.24729],\n                {}\n            ).addTo(map_ccb62a0b4ba798d4f3b173db303d5ee3);\n        \n    \n        var popup_7bbee327cf07ab6dc14803d63a66912f = L.popup({&quot;maxWidth&quot;: &quot;100%&quot;});\n\n        \n            \n                var html_bffe6257d7653e96650321762a8faf13 = $(`&lt;div id=&quot;html_bffe6257d7653e96650321762a8faf13&quot; style=&quot;width: 100.0%; height: 100.0%;&quot;&gt;Barnet 036E&lt;/div&gt;`)[0];\n                popup_7bbee327cf07ab6dc14803d63a66912f.setContent(html_bffe6257d7653e96650321762a8faf13);\n            \n        \n\n        marker_1dccf2397ca8deffda22e9e59dbe8dbc.bindPopup(popup_7bbee327cf07ab6dc14803d63a66912f)\n        ;\n\n        \n    \n    \n            var marker_5719b798f1f1936b46e3e6b958467a86 = L.marker(\n                [51.573498, -0.209879],\n                {}\n            ).addTo(map_ccb62a0b4ba798d4f3b173db303d5ee3);\n        \n    \n        var popup_86853701f0cbd391e0fe240ffe5dbac8 = L.popup({&quot;maxWidth&quot;: &quot;100%&quot;});\n\n        \n            \n                var html_e8c610e5b7967b372ecffc1ee60a5b1a = $(`&lt;div id=&quot;html_e8c610e5b7967b372ecffc1ee60a5b1a&quot; style=&quot;width: 100.0%; height: 100.0%;&quot;&gt;Barnet 037E&lt;/div&gt;`)[0];\n                popup_86853701f0cbd391e0fe240ffe5dbac8.setContent(html_e8c610e5b7967b372ecffc1ee60a5b1a);\n            \n        \n\n        marker_5719b798f1f1936b46e3e6b958467a86.bindPopup(popup_86853701f0cbd391e0fe240ffe5dbac8)\n        ;\n\n        \n    \n    \n            var marker_273b0d1473bdbafc31b2e19ea9755599 = L.marker(\n                [51.616498, -0.259436],\n                {}\n            ).addTo(map_ccb62a0b4ba798d4f3b173db303d5ee3);\n        \n    \n        var popup_4173ed4b2216d8f93612a632623f281b = L.popup({&quot;maxWidth&quot;: &quot;100%&quot;});\n\n        \n            \n                var html_01c304ca4adeaa82194f32c87702793a = $(`&lt;div id=&quot;html_01c304ca4adeaa82194f32c87702793a&quot; style=&quot;width: 100.0%; height: 100.0%;&quot;&gt;Barnet 013F&lt;/div&gt;`)[0];\n                popup_4173ed4b2216d8f93612a632623f281b.setContent(html_01c304ca4adeaa82194f32c87702793a);\n            \n        \n\n        marker_273b0d1473bdbafc31b2e19ea9755599.bindPopup(popup_4173ed4b2216d8f93612a632623f281b)\n        ;\n\n        \n    \n    \n            var marker_c9c43bd883b4cbf10b2a297955930a99 = L.marker(\n                [51.611799, -0.193655],\n                {}\n            ).addTo(map_ccb62a0b4ba798d4f3b173db303d5ee3);\n        \n    \n        var popup_21838f1329be491eff8cf7bca9cf4b6f = L.popup({&quot;maxWidth&quot;: &quot;100%&quot;});\n\n        \n            \n                var html_aeb7a4f36dac386b28af2b3d32aad7a4 = $(`&lt;div id=&quot;html_aeb7a4f36dac386b28af2b3d32aad7a4&quot; style=&quot;width: 100.0%; height: 100.0%;&quot;&gt;Barnet 020B&lt;/div&gt;`)[0];\n                popup_21838f1329be491eff8cf7bca9cf4b6f.setContent(html_aeb7a4f36dac386b28af2b3d32aad7a4);\n            \n        \n\n        marker_c9c43bd883b4cbf10b2a297955930a99.bindPopup(popup_21838f1329be491eff8cf7bca9cf4b6f)\n        ;\n\n        \n    \n    \n            var marker_91590b127c69d91328567477a298d384 = L.marker(\n                [51.603126, -0.19862],\n                {}\n            ).addTo(map_ccb62a0b4ba798d4f3b173db303d5ee3);\n        \n    \n        var popup_96b7253d24293f79d469a46ebfafb6bb = L.popup({&quot;maxWidth&quot;: &quot;100%&quot;});\n\n        \n            \n                var html_e258549929043fb13c147d02eef582b9 = $(`&lt;div id=&quot;html_e258549929043fb13c147d02eef582b9&quot; style=&quot;width: 100.0%; height: 100.0%;&quot;&gt;Barnet 025C&lt;/div&gt;`)[0];\n                popup_96b7253d24293f79d469a46ebfafb6bb.setContent(html_e258549929043fb13c147d02eef582b9);\n            \n        \n\n        marker_91590b127c69d91328567477a298d384.bindPopup(popup_96b7253d24293f79d469a46ebfafb6bb)\n        ;\n\n        \n    \n    \n            var marker_538e55da9514f05c5accebb5c4a1f5ed = L.marker(\n                [51.568798, -0.20774],\n                {}\n            ).addTo(map_ccb62a0b4ba798d4f3b173db303d5ee3);\n        \n    \n        var popup_86e3bee5fb823eb3b262a3632fc276c5 = L.popup({&quot;maxWidth&quot;: &quot;100%&quot;});\n\n        \n            \n                var html_21a5e069a1bc7bbde3c70ba7ffc77d73 = $(`&lt;div id=&quot;html_21a5e069a1bc7bbde3c70ba7ffc77d73&quot; style=&quot;width: 100.0%; height: 100.0%;&quot;&gt;Barnet 038A&lt;/div&gt;`)[0];\n                popup_86e3bee5fb823eb3b262a3632fc276c5.setContent(html_21a5e069a1bc7bbde3c70ba7ffc77d73);\n            \n        \n\n        marker_538e55da9514f05c5accebb5c4a1f5ed.bindPopup(popup_86e3bee5fb823eb3b262a3632fc276c5)\n        ;\n\n        \n    \n    \n            var marker_953dbf7936bed3f2dddac4564a5f3782 = L.marker(\n                [51.572195, -0.195283],\n                {}\n            ).addTo(map_ccb62a0b4ba798d4f3b173db303d5ee3);\n        \n    \n        var popup_5129ed2545ce8f3a910380982a752382 = L.popup({&quot;maxWidth&quot;: &quot;100%&quot;});\n\n        \n            \n                var html_939655541dd12c5a8e7a9f158f7d1ab8 = $(`&lt;div id=&quot;html_939655541dd12c5a8e7a9f158f7d1ab8&quot; style=&quot;width: 100.0%; height: 100.0%;&quot;&gt;Barnet 038E&lt;/div&gt;`)[0];\n                popup_5129ed2545ce8f3a910380982a752382.setContent(html_939655541dd12c5a8e7a9f158f7d1ab8);\n            \n        \n\n        marker_953dbf7936bed3f2dddac4564a5f3782.bindPopup(popup_5129ed2545ce8f3a910380982a752382)\n        ;\n\n        \n    \n    \n            var marker_adcce553c43af3313abf20d4b3519718 = L.marker(\n                [51.618182, -0.165681],\n                {}\n            ).addTo(map_ccb62a0b4ba798d4f3b173db303d5ee3);\n        \n    \n        var popup_11a91a4dc16a65770e356dcfeb592ac6 = L.popup({&quot;maxWidth&quot;: &quot;100%&quot;});\n\n        \n            \n                var html_f1887fa8e08ffa3baff09248a1ea7f3b = $(`&lt;div id=&quot;html_f1887fa8e08ffa3baff09248a1ea7f3b&quot; style=&quot;width: 100.0%; height: 100.0%;&quot;&gt;Barnet 011D&lt;/div&gt;`)[0];\n                popup_11a91a4dc16a65770e356dcfeb592ac6.setContent(html_f1887fa8e08ffa3baff09248a1ea7f3b);\n            \n        \n\n        marker_adcce553c43af3313abf20d4b3519718.bindPopup(popup_11a91a4dc16a65770e356dcfeb592ac6)\n        ;\n\n        \n    \n    \n            var marker_88fdfcdc86b46861f65163e11262e9e1 = L.marker(\n                [51.606228, -0.234124],\n                {}\n            ).addTo(map_ccb62a0b4ba798d4f3b173db303d5ee3);\n        \n    \n        var popup_24ba8d05649f4e6c7a63a60cf76358d4 = L.popup({&quot;maxWidth&quot;: &quot;100%&quot;});\n\n        \n            \n                var html_61bbd2cd59c1aa4229edc85fcc29cd9a = $(`&lt;div id=&quot;html_61bbd2cd59c1aa4229edc85fcc29cd9a&quot; style=&quot;width: 100.0%; height: 100.0%;&quot;&gt;Barnet 025E&lt;/div&gt;`)[0];\n                popup_24ba8d05649f4e6c7a63a60cf76358d4.setContent(html_61bbd2cd59c1aa4229edc85fcc29cd9a);\n            \n        \n\n        marker_88fdfcdc86b46861f65163e11262e9e1.bindPopup(popup_24ba8d05649f4e6c7a63a60cf76358d4)\n        ;\n\n        \n    \n    \n            var marker_b198952495b6c68c14bbe9afd6ae4887 = L.marker(\n                [51.581874, -0.179744],\n                {}\n            ).addTo(map_ccb62a0b4ba798d4f3b173db303d5ee3);\n        \n    \n        var popup_d0af25570925640141b2242c2e601ac0 = L.popup({&quot;maxWidth&quot;: &quot;100%&quot;});\n\n        \n            \n                var html_a5cdb9628f522d5cf64e0501e59e66e0 = $(`&lt;div id=&quot;html_a5cdb9628f522d5cf64e0501e59e66e0&quot; style=&quot;width: 100.0%; height: 100.0%;&quot;&gt;Barnet 033F&lt;/div&gt;`)[0];\n                popup_d0af25570925640141b2242c2e601ac0.setContent(html_a5cdb9628f522d5cf64e0501e59e66e0);\n            \n        \n\n        marker_b198952495b6c68c14bbe9afd6ae4887.bindPopup(popup_d0af25570925640141b2242c2e601ac0)\n        ;\n\n        \n    \n    \n            var marker_c1b06270dfbd111752abc13bf3ca95e3 = L.marker(\n                [51.577721, -0.196752],\n                {}\n            ).addTo(map_ccb62a0b4ba798d4f3b173db303d5ee3);\n        \n    \n        var popup_611a0b8c125a7464d1fb394d504b5722 = L.popup({&quot;maxWidth&quot;: &quot;100%&quot;});\n\n        \n            \n                var html_b416e7a8bd1e91b9c0ff63fec5b200a8 = $(`&lt;div id=&quot;html_b416e7a8bd1e91b9c0ff63fec5b200a8&quot; style=&quot;width: 100.0%; height: 100.0%;&quot;&gt;Barnet 035D&lt;/div&gt;`)[0];\n                popup_611a0b8c125a7464d1fb394d504b5722.setContent(html_b416e7a8bd1e91b9c0ff63fec5b200a8);\n            \n        \n\n        marker_c1b06270dfbd111752abc13bf3ca95e3.bindPopup(popup_611a0b8c125a7464d1fb394d504b5722)\n        ;\n\n        \n    \n    \n            var marker_353e64226a0e40804909468e2b61be38 = L.marker(\n                [51.589858, -0.175022],\n                {}\n            ).addTo(map_ccb62a0b4ba798d4f3b173db303d5ee3);\n        \n    \n        var popup_fb0582c12b7001616f6b140ef926aa6a = L.popup({&quot;maxWidth&quot;: &quot;100%&quot;});\n\n        \n            \n                var html_17ed3df730c801bfc4013b7d41ceabc9 = $(`&lt;div id=&quot;html_17ed3df730c801bfc4013b7d41ceabc9&quot; style=&quot;width: 100.0%; height: 100.0%;&quot;&gt;Barnet 033A&lt;/div&gt;`)[0];\n                popup_fb0582c12b7001616f6b140ef926aa6a.setContent(html_17ed3df730c801bfc4013b7d41ceabc9);\n            \n        \n\n        marker_353e64226a0e40804909468e2b61be38.bindPopup(popup_fb0582c12b7001616f6b140ef926aa6a)\n        ;\n\n        \n    \n&lt;/script&gt;\n&lt;/html&gt;\" style=\"position:absolute;width:100%;height:100%;left:0;top:0;border:none !important;\" allowfullscreen webkitallowfullscreen mozallowfullscreen></iframe></div></div>"
     },
     "execution_count": 52,
     "metadata": {},
     "output_type": "execute_result"
    }
   ],
   "source": [
    "# Create a map centered on Barnet\n",
    "map_barnet = folium.Map(location=[center_latitude, center_longitude], zoom_start=12)\n",
    "\n",
    "# Add markers for the filtered wards\n",
    "for _, ward in df.iterrows():\n",
    "    folium.Marker(\n",
    "        location=[ward['Latitude'], ward['Longitude']],\n",
    "        popup=ward['LSOA name']\n",
    "    ).add_to(map_barnet)\n",
    "\n",
    "# Show the map\n",
    "map_barnet"
   ],
   "metadata": {
    "collapsed": false,
    "ExecuteTime": {
     "end_time": "2023-06-17T21:55:38.441511228Z",
     "start_time": "2023-06-17T21:55:38.348113234Z"
    }
   }
  },
  {
   "cell_type": "code",
   "execution_count": null,
   "outputs": [],
   "source": [],
   "metadata": {
    "collapsed": false
   }
  }
 ],
 "metadata": {
  "kernelspec": {
   "display_name": "Python 3",
   "language": "python",
   "name": "python3"
  },
  "language_info": {
   "codemirror_mode": {
    "name": "ipython",
    "version": 2
   },
   "file_extension": ".py",
   "mimetype": "text/x-python",
   "name": "python",
   "nbconvert_exporter": "python",
   "pygments_lexer": "ipython2",
   "version": "2.7.6"
  }
 },
 "nbformat": 4,
 "nbformat_minor": 0
}
