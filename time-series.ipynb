{
 "cells": [
  {
   "cell_type": "code",
   "execution_count": 1,
   "outputs": [],
   "source": [
    "import pandas as pd\n",
    "import numpy as np\n",
    "import xgboost as xgb\n",
    "from sklearn.pipeline import make_pipeline\n",
    "from sklearn.compose import make_column_transformer, make_column_selector\n",
    "from sklearn.preprocessing import LabelEncoder\n",
    "from sklearn.preprocessing import OrdinalEncoder\n",
    "from sklearn.preprocessing import FunctionTransformer\n",
    "import warnings\n",
    "from skforecast.exceptions import LongTrainingWarning\n",
    "from skforecast.ForecasterAutoregDirect import ForecasterAutoregDirect\n",
    "from skforecast.model_selection import grid_search_forecaster\n",
    "from skforecast.model_selection import backtesting_forecaster"
   ],
   "metadata": {
    "collapsed": false,
    "ExecuteTime": {
     "end_time": "2023-06-02T09:05:49.666176221Z",
     "start_time": "2023-06-02T09:05:47.568953278Z"
    }
   }
  },
  {
   "cell_type": "code",
   "execution_count": 2,
   "outputs": [],
   "source": [
    "# Load the data\n",
    "train_data = pd.read_csv(\"add_burglary_train.csv\")\n",
    "val_data = pd.read_csv(\"add_burglary_validation.csv\")\n",
    "test_data = pd.read_csv(\"add_burglary_test.csv\")\n"
   ],
   "metadata": {
    "collapsed": false,
    "ExecuteTime": {
     "end_time": "2023-06-02T09:05:49.846822354Z",
     "start_time": "2023-06-02T09:05:49.667730653Z"
    }
   }
  },
  {
   "cell_type": "code",
   "execution_count": 17,
   "outputs": [],
   "source": [
    "# The LSOA name will be the y, so create new data for it\n",
    "y_train = train_data[\"LSOA name\"]\n",
    "y_val = val_data[\"LSOA name\"]\n",
    "y_test = test_data[\"LSOA name\"]\n",
    "\n",
    "# Combine all labels\n",
    "all_labels = pd.concat([y_train, y_val, y_test])\n",
    "\n",
    "# Encode labels with integer values\n",
    "label_encoder = LabelEncoder()\n",
    "label_encoder.fit(all_labels)\n",
    "\n",
    "# Transform labels for each dataset\n",
    "y_train = label_encoder.transform(y_train)\n",
    "y_val = label_encoder.transform(y_val)\n",
    "y_test = label_encoder.transform(y_test)"
   ],
   "metadata": {
    "collapsed": false,
    "ExecuteTime": {
     "end_time": "2023-06-02T09:33:29.787954447Z",
     "start_time": "2023-06-02T09:33:29.743974736Z"
    }
   }
  },
  {
   "cell_type": "code",
   "execution_count": 5,
   "outputs": [
    {
     "data": {
      "text/plain": "Index(['Unnamed: 0', 'Ward name', 'Ward - % All Working-age (16-64)',\n       'Ward - % All Older people aged 65+',\n       'Ward - Population density (persons per sq km)',\n       'Ward - % Not Born in UK', 'Ward - House price lower third',\n       'Ward - House price upper third', 'LSOA code', 'LSOA11NM', 'Month',\n       'Longitude', 'Latitude', 'Location', 'LSOA name',\n       'Last outcome category'],\n      dtype='object')"
     },
     "execution_count": 5,
     "metadata": {},
     "output_type": "execute_result"
    }
   ],
   "source": [
    "train_data.columns"
   ],
   "metadata": {
    "collapsed": false,
    "ExecuteTime": {
     "end_time": "2023-06-01T07:55:12.186627143Z",
     "start_time": "2023-06-01T07:55:12.143548673Z"
    }
   }
  },
  {
   "cell_type": "code",
   "execution_count": 17,
   "outputs": [
    {
     "data": {
      "text/plain": "array([30.9, 47.1, 51.2, 52.7, 36.1, 23.4, 34.4, 37.4, 40.9, 36. , 45.8,\n       35.7, 48.2, 22.1])"
     },
     "execution_count": 17,
     "metadata": {},
     "output_type": "execute_result"
    }
   ],
   "source": [
    "train_data['Ward - % Not Born in UK'].unique()"
   ],
   "metadata": {
    "collapsed": false,
    "ExecuteTime": {
     "end_time": "2023-06-01T08:27:55.930448237Z",
     "start_time": "2023-06-01T08:27:55.887177608Z"
    }
   }
  },
  {
   "cell_type": "code",
   "execution_count": 8,
   "outputs": [],
   "source": [
    "# Delete the y from the x data and unwanted columns\n",
    "drop = [\"Last outcome category\", \"LSOA name\", \"LSOA11NM\"]\n",
    "x_train = train_data.drop(labels=drop, axis=1, inplace=False)\n",
    "x_val = val_data.drop(labels=drop, axis=1, inplace=False)\n",
    "x_test = test_data.drop(labels=drop, axis=1, inplace=False)\n",
    "\n",
    "# Set categorical features format to category\n",
    "x_train['Location'] = x_train['Location'].astype('category')\n",
    "x_train['LSOA code'] = x_train['LSOA code'].astype('category')\n",
    "x_train[\"Ward name\"] = x_train[\"Ward name\"].astype(\"category\")\n",
    "x_train[\"Ward - House price lower third\"] = x_train[\"Ward - House price lower third\"].astype(\"category\")\n",
    "x_train[\"Ward - House price upper third\"] = x_train[\"Ward - House price upper third\"].astype(\"category\")\n",
    "\n",
    "x_val['Location'] = x_val['Location'].astype('category')\n",
    "x_val['LSOA code'] = x_val['LSOA code'].astype('category')\n",
    "x_val[\"Ward name\"] = x_val[\"Ward name\"].astype(\"category\")\n",
    "x_val[\"Ward - House price lower third\"] = x_val[\"Ward - House price lower third\"].astype(\"category\")\n",
    "x_val[\"Ward - House price upper third\"] = x_val[\"Ward - House price upper third\"].astype(\"category\")\n",
    "\n",
    "x_test['Location'] = x_test['Location'].astype('category')\n",
    "x_test['LSOA code'] = x_test['LSOA code'].astype('category')\n",
    "x_test[\"Ward name\"] = x_test[\"Ward name\"].astype(\"category\")\n",
    "x_test[\"Ward - House price lower third\"] = x_test[\"Ward - House price lower third\"].astype(\"category\")\n",
    "x_test[\"Ward - House price upper third\"] = x_test[\"Ward - House price upper third\"].astype(\"category\")\n",
    "\n",
    "# Change format of the Month column from string to datetime\n",
    "x_train['Month'] = pd.to_datetime(x_train['Month'], format='%Y-%m')\n",
    "x_val['Month'] = pd.to_datetime(x_val['Month'], format='%Y-%m')\n",
    "x_test['Month'] = pd.to_datetime(x_test['Month'], format='%Y-%m')\n"
   ],
   "metadata": {
    "collapsed": false,
    "ExecuteTime": {
     "end_time": "2023-06-02T09:10:15.673494100Z",
     "start_time": "2023-06-02T09:10:15.627795764Z"
    }
   }
  },
  {
   "cell_type": "code",
   "execution_count": 12,
   "outputs": [],
   "source": [
    "exog = ['Month', 'Longitude', 'Latitude', 'Location', 'LSOA code', 'Ward name', 'Ward - House price lower third', 'Ward - House price upper third', 'Ward - % All Working-age (16-64)', 'Ward - % All Older people aged 65+', 'Ward - Population density (persons per sq km)', 'Ward - % Not Born in UK']"
   ],
   "metadata": {
    "collapsed": false,
    "ExecuteTime": {
     "end_time": "2023-06-02T09:30:30.575660371Z",
     "start_time": "2023-06-02T09:30:30.534626290Z"
    }
   }
  },
  {
   "cell_type": "code",
   "execution_count": 13,
   "outputs": [],
   "source": [
    "# Transformer: Ordinal encoding + cast to category type\n",
    "pipeline_categorical = make_pipeline(\n",
    "                            OrdinalEncoder(\n",
    "                                dtype=int,\n",
    "                                handle_unknown=\"use_encoded_value\",\n",
    "                              unknown_value=-1,\n",
    "                                encoded_missing_value=-1\n",
    "                            ),\n",
    "                            FunctionTransformer(\n",
    "                                func=lambda x: x.astype('category'),\n",
    "                                feature_names_out= 'one-to-one'\n",
    "                            )\n",
    "                       )\n",
    "transformer_exog = make_column_transformer(\n",
    "                        (\n",
    "                            pipeline_categorical,\n",
    "                            make_column_selector(dtype_exclude=np.number)\n",
    "                        ),\n",
    "                        remainder=\"passthrough\",\n",
    "                        verbose_feature_names_out=False,\n",
    "                   ).set_output(transform=\"pandas\")\n"
   ],
   "metadata": {
    "collapsed": false,
    "ExecuteTime": {
     "end_time": "2023-06-02T09:30:31.570036255Z",
     "start_time": "2023-06-02T09:30:31.566261249Z"
    }
   }
  },
  {
   "cell_type": "code",
   "execution_count": 21,
   "outputs": [],
   "source": [
    "# Create forecaster with automatic categorical detection\n",
    "forecaster = ForecasterAutoregDirect(\n",
    "    regressor=xgb.XGBRFRegressor(tree_method='hist', random_state=42, enable_categorical='auto'),\n",
    "    lags=12,\n",
    "    steps=12,\n",
    "    transformer_exog=transformer_exog\n",
    ")"
   ],
   "metadata": {
    "collapsed": false,
    "ExecuteTime": {
     "end_time": "2023-06-02T09:41:32.548075195Z",
     "start_time": "2023-06-02T09:41:32.507577011Z"
    }
   }
  },
  {
   "cell_type": "code",
   "execution_count": 14,
   "outputs": [],
   "source": [
    "# Create forecaster with automatic categorical detection\n",
    "forecaster1 = ForecasterAutoregDirect(\n",
    "    regressor=xgb.XGBRFClassifier(tree_method=\"hist\", objective=\"multi:softmax\", random_state=42, enable_categorical='auto'),\n",
    "    lags=12,\n",
    "    steps=12,\n",
    "    transformer_exog=transformer_exog\n",
    ")"
   ],
   "metadata": {
    "collapsed": false,
    "ExecuteTime": {
     "end_time": "2023-06-02T09:30:34.570544710Z",
     "start_time": "2023-06-02T09:30:34.567022745Z"
    }
   }
  },
  {
   "cell_type": "code",
   "execution_count": 30,
   "outputs": [],
   "source": [
    "\n",
    "# Define hyperparameters\n",
    "param_grid = {\n",
    "    'n_estimators': [100, 200, 300],\n",
    "    'max_depth': [3, 4, 5, 7],\n",
    "    'learning_rate': [0.35, 0.45],\n",
    "}\n",
    "# 100,\n",
    "\n",
    "#, 0.75, 0.85, 0.95, 1\n",
    "# Lags used as predictors\n",
    "lags_grid = [12, 24, 36, 48]\n"
   ],
   "metadata": {
    "collapsed": false,
    "ExecuteTime": {
     "end_time": "2023-06-02T13:33:32.624132285Z",
     "start_time": "2023-06-02T13:33:32.581466514Z"
    }
   }
  },
  {
   "cell_type": "code",
   "execution_count": 32,
   "outputs": [
    {
     "name": "stdout",
     "output_type": "stream",
     "text": [
      "Number of models compared: 72.\n"
     ]
    },
    {
     "data": {
      "text/plain": "lags grid:   0%|          | 0/4 [00:00<?, ?it/s]",
      "application/vnd.jupyter.widget-view+json": {
       "version_major": 2,
       "version_minor": 0,
       "model_id": "356c716ff04a4a8f9131a5433ab928d7"
      }
     },
     "metadata": {},
     "output_type": "display_data"
    },
    {
     "data": {
      "text/plain": "params grid:   0%|          | 0/18 [00:00<?, ?it/s]",
      "application/vnd.jupyter.widget-view+json": {
       "version_major": 2,
       "version_minor": 0,
       "model_id": "92adc187ce2b44b3883fa37bbce0d83d"
      }
     },
     "metadata": {},
     "output_type": "display_data"
    },
    {
     "data": {
      "text/plain": "params grid:   0%|          | 0/18 [00:00<?, ?it/s]",
      "application/vnd.jupyter.widget-view+json": {
       "version_major": 2,
       "version_minor": 0,
       "model_id": "2cca49f107854450974d9eb9a6977706"
      }
     },
     "metadata": {},
     "output_type": "display_data"
    },
    {
     "data": {
      "text/plain": "params grid:   0%|          | 0/18 [00:00<?, ?it/s]",
      "application/vnd.jupyter.widget-view+json": {
       "version_major": 2,
       "version_minor": 0,
       "model_id": "4612af22fa9b4055854c02fd31098622"
      }
     },
     "metadata": {},
     "output_type": "display_data"
    },
    {
     "data": {
      "text/plain": "params grid:   0%|          | 0/18 [00:00<?, ?it/s]",
      "application/vnd.jupyter.widget-view+json": {
       "version_major": 2,
       "version_minor": 0,
       "model_id": "ed1ce6aa6f92441c998e2c7c2a0e7036"
      }
     },
     "metadata": {},
     "output_type": "display_data"
    },
    {
     "name": "stdout",
     "output_type": "stream",
     "text": [
      "`Forecaster` refitted using the best-found lags and parameters, and the whole data set: \n",
      "  Lags: [ 1  2  3  4  5  6  7  8  9 10 11 12 13 14 15 16 17 18 19 20 21 22 23 24] \n",
      "  Parameters: {'learning_rate': 0.35, 'max_depth': 4, 'n_estimators': 100}\n",
      "  Backtesting metric: 962.2181774808413\n",
      "\n"
     ]
    }
   ],
   "source": [
    "\n",
    "# Obtaining best model\n",
    "x = pd.concat([x_train, x_val], ignore_index=True)\n",
    "y = np.append(y_train, y_val)\n",
    "y = pd.Series(y)\n",
    "y = y.astype(int)\n",
    "warnings.simplefilter('ignore', category=LongTrainingWarning)\n",
    "\n",
    "result_grid = grid_search_forecaster(\n",
    "    forecaster=forecaster,\n",
    "    y=y,\n",
    "    exog=x.loc[:, exog],\n",
    "    param_grid=param_grid,\n",
    "    lags_grid=lags_grid,\n",
    "    steps=12,\n",
    "    refit=False,\n",
    "    metric=['mean_squared_error', 'mean_absolute_error'],\n",
    "    initial_train_size=len(x_train),\n",
    "    fixed_train_size=False,\n",
    "    return_best=True,\n",
    "    verbose=False\n",
    ")\n"
   ],
   "metadata": {
    "collapsed": false,
    "ExecuteTime": {
     "end_time": "2023-06-02T14:06:05.172418202Z",
     "start_time": "2023-06-02T13:34:09.599581119Z"
    }
   }
  },
  {
   "cell_type": "code",
   "execution_count": 31,
   "outputs": [
    {
     "data": {
      "text/plain": "          RMSE                                               lags   \n66   31.716260  [1, 2, 3, 4, 5, 6, 7, 8, 9, 10, 11, 12, 13, 14...  \\\n39   31.789216  [1, 2, 3, 4, 5, 6, 7, 8, 9, 10, 11, 12, 13, 14...   \n37   31.833072  [1, 2, 3, 4, 5, 6, 7, 8, 9, 10, 11, 12, 13, 14...   \n65   31.924230  [1, 2, 3, 4, 5, 6, 7, 8, 9, 10, 11, 12, 13, 14...   \n38   31.973197  [1, 2, 3, 4, 5, 6, 7, 8, 9, 10, 11, 12, 13, 14...   \n..         ...                                                ...   \n51   44.547900  [1, 2, 3, 4, 5, 6, 7, 8, 9, 10, 11, 12, 13, 14...   \n105  44.637939  [1, 2, 3, 4, 5, 6, 7, 8, 9, 10, 11, 12, 13, 14...   \n106  44.685240  [1, 2, 3, 4, 5, 6, 7, 8, 9, 10, 11, 12, 13, 14...   \n26   45.137353            [1, 2, 3, 4, 5, 6, 7, 8, 9, 10, 11, 12]   \n25   45.669905            [1, 2, 3, 4, 5, 6, 7, 8, 9, 10, 11, 12]   \n\n                                                params  mean_squared_error   \n66   {'learning_rate': 0.4, 'max_depth': 4, 'n_esti...         1005.921143  \\\n39   {'learning_rate': 0.4, 'max_depth': 4, 'n_esti...         1010.554225   \n37   {'learning_rate': 0.4, 'max_depth': 3, 'n_esti...         1013.344444   \n65   {'learning_rate': 0.4, 'max_depth': 3, 'n_esti...         1019.156472   \n38   {'learning_rate': 0.4, 'max_depth': 3, 'n_esti...         1022.285352   \n..                                                 ...                 ...   \n51   {'learning_rate': 0.5, 'max_depth': 5, 'n_esti...         1984.515424   \n105  {'learning_rate': 0.5, 'max_depth': 5, 'n_esti...         1992.545610   \n106  {'learning_rate': 0.5, 'max_depth': 5, 'n_esti...         1996.770631   \n26   {'learning_rate': 0.5, 'max_depth': 5, 'n_esti...         2037.380644   \n25   {'learning_rate': 0.5, 'max_depth': 5, 'n_esti...         2085.740248   \n\n     mean_absolute_error  learning_rate  max_depth  n_estimators  \n66             27.932862            0.4        4.0         100.0  \n39             27.950787            0.4        4.0         100.0  \n37             27.989130            0.4        3.0         200.0  \n65             28.085269            0.4        3.0         300.0  \n38             28.140578            0.4        3.0         300.0  \n..                   ...            ...        ...           ...  \n51             38.524064            0.5        5.0         100.0  \n105            38.598289            0.5        5.0         100.0  \n106            38.671083            0.5        5.0         200.0  \n26             39.108612            0.5        5.0         300.0  \n25             39.639534            0.5        5.0         200.0  \n\n[108 rows x 8 columns]",
      "text/html": "<div>\n<style scoped>\n    .dataframe tbody tr th:only-of-type {\n        vertical-align: middle;\n    }\n\n    .dataframe tbody tr th {\n        vertical-align: top;\n    }\n\n    .dataframe thead th {\n        text-align: right;\n    }\n</style>\n<table border=\"1\" class=\"dataframe\">\n  <thead>\n    <tr style=\"text-align: right;\">\n      <th></th>\n      <th>RMSE</th>\n      <th>lags</th>\n      <th>params</th>\n      <th>mean_squared_error</th>\n      <th>mean_absolute_error</th>\n      <th>learning_rate</th>\n      <th>max_depth</th>\n      <th>n_estimators</th>\n    </tr>\n  </thead>\n  <tbody>\n    <tr>\n      <th>66</th>\n      <td>31.716260</td>\n      <td>[1, 2, 3, 4, 5, 6, 7, 8, 9, 10, 11, 12, 13, 14...</td>\n      <td>{'learning_rate': 0.4, 'max_depth': 4, 'n_esti...</td>\n      <td>1005.921143</td>\n      <td>27.932862</td>\n      <td>0.4</td>\n      <td>4.0</td>\n      <td>100.0</td>\n    </tr>\n    <tr>\n      <th>39</th>\n      <td>31.789216</td>\n      <td>[1, 2, 3, 4, 5, 6, 7, 8, 9, 10, 11, 12, 13, 14...</td>\n      <td>{'learning_rate': 0.4, 'max_depth': 4, 'n_esti...</td>\n      <td>1010.554225</td>\n      <td>27.950787</td>\n      <td>0.4</td>\n      <td>4.0</td>\n      <td>100.0</td>\n    </tr>\n    <tr>\n      <th>37</th>\n      <td>31.833072</td>\n      <td>[1, 2, 3, 4, 5, 6, 7, 8, 9, 10, 11, 12, 13, 14...</td>\n      <td>{'learning_rate': 0.4, 'max_depth': 3, 'n_esti...</td>\n      <td>1013.344444</td>\n      <td>27.989130</td>\n      <td>0.4</td>\n      <td>3.0</td>\n      <td>200.0</td>\n    </tr>\n    <tr>\n      <th>65</th>\n      <td>31.924230</td>\n      <td>[1, 2, 3, 4, 5, 6, 7, 8, 9, 10, 11, 12, 13, 14...</td>\n      <td>{'learning_rate': 0.4, 'max_depth': 3, 'n_esti...</td>\n      <td>1019.156472</td>\n      <td>28.085269</td>\n      <td>0.4</td>\n      <td>3.0</td>\n      <td>300.0</td>\n    </tr>\n    <tr>\n      <th>38</th>\n      <td>31.973197</td>\n      <td>[1, 2, 3, 4, 5, 6, 7, 8, 9, 10, 11, 12, 13, 14...</td>\n      <td>{'learning_rate': 0.4, 'max_depth': 3, 'n_esti...</td>\n      <td>1022.285352</td>\n      <td>28.140578</td>\n      <td>0.4</td>\n      <td>3.0</td>\n      <td>300.0</td>\n    </tr>\n    <tr>\n      <th>...</th>\n      <td>...</td>\n      <td>...</td>\n      <td>...</td>\n      <td>...</td>\n      <td>...</td>\n      <td>...</td>\n      <td>...</td>\n      <td>...</td>\n    </tr>\n    <tr>\n      <th>51</th>\n      <td>44.547900</td>\n      <td>[1, 2, 3, 4, 5, 6, 7, 8, 9, 10, 11, 12, 13, 14...</td>\n      <td>{'learning_rate': 0.5, 'max_depth': 5, 'n_esti...</td>\n      <td>1984.515424</td>\n      <td>38.524064</td>\n      <td>0.5</td>\n      <td>5.0</td>\n      <td>100.0</td>\n    </tr>\n    <tr>\n      <th>105</th>\n      <td>44.637939</td>\n      <td>[1, 2, 3, 4, 5, 6, 7, 8, 9, 10, 11, 12, 13, 14...</td>\n      <td>{'learning_rate': 0.5, 'max_depth': 5, 'n_esti...</td>\n      <td>1992.545610</td>\n      <td>38.598289</td>\n      <td>0.5</td>\n      <td>5.0</td>\n      <td>100.0</td>\n    </tr>\n    <tr>\n      <th>106</th>\n      <td>44.685240</td>\n      <td>[1, 2, 3, 4, 5, 6, 7, 8, 9, 10, 11, 12, 13, 14...</td>\n      <td>{'learning_rate': 0.5, 'max_depth': 5, 'n_esti...</td>\n      <td>1996.770631</td>\n      <td>38.671083</td>\n      <td>0.5</td>\n      <td>5.0</td>\n      <td>200.0</td>\n    </tr>\n    <tr>\n      <th>26</th>\n      <td>45.137353</td>\n      <td>[1, 2, 3, 4, 5, 6, 7, 8, 9, 10, 11, 12]</td>\n      <td>{'learning_rate': 0.5, 'max_depth': 5, 'n_esti...</td>\n      <td>2037.380644</td>\n      <td>39.108612</td>\n      <td>0.5</td>\n      <td>5.0</td>\n      <td>300.0</td>\n    </tr>\n    <tr>\n      <th>25</th>\n      <td>45.669905</td>\n      <td>[1, 2, 3, 4, 5, 6, 7, 8, 9, 10, 11, 12]</td>\n      <td>{'learning_rate': 0.5, 'max_depth': 5, 'n_esti...</td>\n      <td>2085.740248</td>\n      <td>39.639534</td>\n      <td>0.5</td>\n      <td>5.0</td>\n      <td>200.0</td>\n    </tr>\n  </tbody>\n</table>\n<p>108 rows × 8 columns</p>\n</div>"
     },
     "execution_count": 31,
     "metadata": {},
     "output_type": "execute_result"
    }
   ],
   "source": [
    "result_grid.insert(0, \"RMSE\", np.sqrt(result_grid[\"mean_squared_error\"]))\n",
    "\n",
    "result_grid"
   ],
   "metadata": {
    "collapsed": false,
    "ExecuteTime": {
     "end_time": "2023-06-02T13:33:46.665715092Z",
     "start_time": "2023-06-02T13:33:46.657819756Z"
    }
   }
  },
  {
   "cell_type": "code",
   "execution_count": 33,
   "outputs": [
    {
     "data": {
      "text/plain": "         RMSE                                               lags   \n21  31.019642  [1, 2, 3, 4, 5, 6, 7, 8, 9, 10, 11, 12, 13, 14...  \\\n39  31.245618  [1, 2, 3, 4, 5, 6, 7, 8, 9, 10, 11, 12, 13, 14...   \n23  31.296489  [1, 2, 3, 4, 5, 6, 7, 8, 9, 10, 11, 12, 13, 14...   \n22  31.328753  [1, 2, 3, 4, 5, 6, 7, 8, 9, 10, 11, 12, 13, 14...   \n41  31.332893  [1, 2, 3, 4, 5, 6, 7, 8, 9, 10, 11, 12, 13, 14...   \n..        ...                                                ...   \n33  38.835660  [1, 2, 3, 4, 5, 6, 7, 8, 9, 10, 11, 12, 13, 14...   \n69  38.860244  [1, 2, 3, 4, 5, 6, 7, 8, 9, 10, 11, 12, 13, 14...   \n70  38.907327  [1, 2, 3, 4, 5, 6, 7, 8, 9, 10, 11, 12, 13, 14...   \n17  39.336407            [1, 2, 3, 4, 5, 6, 7, 8, 9, 10, 11, 12]   \n16  39.738320            [1, 2, 3, 4, 5, 6, 7, 8, 9, 10, 11, 12]   \n\n                                               params  mean_squared_error   \n21  {'learning_rate': 0.35, 'max_depth': 4, 'n_est...          962.218177  \\\n39  {'learning_rate': 0.35, 'max_depth': 4, 'n_est...          976.288644   \n23  {'learning_rate': 0.35, 'max_depth': 4, 'n_est...          979.470231   \n22  {'learning_rate': 0.35, 'max_depth': 4, 'n_est...          981.490793   \n41  {'learning_rate': 0.35, 'max_depth': 4, 'n_est...          981.750165   \n..                                                ...                 ...   \n33  {'learning_rate': 0.45, 'max_depth': 5, 'n_est...         1508.208521   \n69  {'learning_rate': 0.45, 'max_depth': 5, 'n_est...         1510.118593   \n70  {'learning_rate': 0.45, 'max_depth': 5, 'n_est...         1513.780099   \n17  {'learning_rate': 0.45, 'max_depth': 5, 'n_est...         1547.352921   \n16  {'learning_rate': 0.45, 'max_depth': 5, 'n_est...         1579.134112   \n\n    mean_absolute_error  learning_rate  max_depth  n_estimators  \n21            25.794049           0.35        4.0         100.0  \n39            25.811872           0.35        4.0         100.0  \n23            26.282742           0.35        4.0         300.0  \n22            26.370290           0.35        4.0         200.0  \n41            26.191350           0.35        4.0         300.0  \n..                  ...            ...        ...           ...  \n33            32.934293           0.45        5.0         100.0  \n69            32.919672           0.45        5.0         100.0  \n70            32.927268           0.45        5.0         200.0  \n17            33.404178           0.45        5.0         300.0  \n16            33.706292           0.45        5.0         200.0  \n\n[72 rows x 8 columns]",
      "text/html": "<div>\n<style scoped>\n    .dataframe tbody tr th:only-of-type {\n        vertical-align: middle;\n    }\n\n    .dataframe tbody tr th {\n        vertical-align: top;\n    }\n\n    .dataframe thead th {\n        text-align: right;\n    }\n</style>\n<table border=\"1\" class=\"dataframe\">\n  <thead>\n    <tr style=\"text-align: right;\">\n      <th></th>\n      <th>RMSE</th>\n      <th>lags</th>\n      <th>params</th>\n      <th>mean_squared_error</th>\n      <th>mean_absolute_error</th>\n      <th>learning_rate</th>\n      <th>max_depth</th>\n      <th>n_estimators</th>\n    </tr>\n  </thead>\n  <tbody>\n    <tr>\n      <th>21</th>\n      <td>31.019642</td>\n      <td>[1, 2, 3, 4, 5, 6, 7, 8, 9, 10, 11, 12, 13, 14...</td>\n      <td>{'learning_rate': 0.35, 'max_depth': 4, 'n_est...</td>\n      <td>962.218177</td>\n      <td>25.794049</td>\n      <td>0.35</td>\n      <td>4.0</td>\n      <td>100.0</td>\n    </tr>\n    <tr>\n      <th>39</th>\n      <td>31.245618</td>\n      <td>[1, 2, 3, 4, 5, 6, 7, 8, 9, 10, 11, 12, 13, 14...</td>\n      <td>{'learning_rate': 0.35, 'max_depth': 4, 'n_est...</td>\n      <td>976.288644</td>\n      <td>25.811872</td>\n      <td>0.35</td>\n      <td>4.0</td>\n      <td>100.0</td>\n    </tr>\n    <tr>\n      <th>23</th>\n      <td>31.296489</td>\n      <td>[1, 2, 3, 4, 5, 6, 7, 8, 9, 10, 11, 12, 13, 14...</td>\n      <td>{'learning_rate': 0.35, 'max_depth': 4, 'n_est...</td>\n      <td>979.470231</td>\n      <td>26.282742</td>\n      <td>0.35</td>\n      <td>4.0</td>\n      <td>300.0</td>\n    </tr>\n    <tr>\n      <th>22</th>\n      <td>31.328753</td>\n      <td>[1, 2, 3, 4, 5, 6, 7, 8, 9, 10, 11, 12, 13, 14...</td>\n      <td>{'learning_rate': 0.35, 'max_depth': 4, 'n_est...</td>\n      <td>981.490793</td>\n      <td>26.370290</td>\n      <td>0.35</td>\n      <td>4.0</td>\n      <td>200.0</td>\n    </tr>\n    <tr>\n      <th>41</th>\n      <td>31.332893</td>\n      <td>[1, 2, 3, 4, 5, 6, 7, 8, 9, 10, 11, 12, 13, 14...</td>\n      <td>{'learning_rate': 0.35, 'max_depth': 4, 'n_est...</td>\n      <td>981.750165</td>\n      <td>26.191350</td>\n      <td>0.35</td>\n      <td>4.0</td>\n      <td>300.0</td>\n    </tr>\n    <tr>\n      <th>...</th>\n      <td>...</td>\n      <td>...</td>\n      <td>...</td>\n      <td>...</td>\n      <td>...</td>\n      <td>...</td>\n      <td>...</td>\n      <td>...</td>\n    </tr>\n    <tr>\n      <th>33</th>\n      <td>38.835660</td>\n      <td>[1, 2, 3, 4, 5, 6, 7, 8, 9, 10, 11, 12, 13, 14...</td>\n      <td>{'learning_rate': 0.45, 'max_depth': 5, 'n_est...</td>\n      <td>1508.208521</td>\n      <td>32.934293</td>\n      <td>0.45</td>\n      <td>5.0</td>\n      <td>100.0</td>\n    </tr>\n    <tr>\n      <th>69</th>\n      <td>38.860244</td>\n      <td>[1, 2, 3, 4, 5, 6, 7, 8, 9, 10, 11, 12, 13, 14...</td>\n      <td>{'learning_rate': 0.45, 'max_depth': 5, 'n_est...</td>\n      <td>1510.118593</td>\n      <td>32.919672</td>\n      <td>0.45</td>\n      <td>5.0</td>\n      <td>100.0</td>\n    </tr>\n    <tr>\n      <th>70</th>\n      <td>38.907327</td>\n      <td>[1, 2, 3, 4, 5, 6, 7, 8, 9, 10, 11, 12, 13, 14...</td>\n      <td>{'learning_rate': 0.45, 'max_depth': 5, 'n_est...</td>\n      <td>1513.780099</td>\n      <td>32.927268</td>\n      <td>0.45</td>\n      <td>5.0</td>\n      <td>200.0</td>\n    </tr>\n    <tr>\n      <th>17</th>\n      <td>39.336407</td>\n      <td>[1, 2, 3, 4, 5, 6, 7, 8, 9, 10, 11, 12]</td>\n      <td>{'learning_rate': 0.45, 'max_depth': 5, 'n_est...</td>\n      <td>1547.352921</td>\n      <td>33.404178</td>\n      <td>0.45</td>\n      <td>5.0</td>\n      <td>300.0</td>\n    </tr>\n    <tr>\n      <th>16</th>\n      <td>39.738320</td>\n      <td>[1, 2, 3, 4, 5, 6, 7, 8, 9, 10, 11, 12]</td>\n      <td>{'learning_rate': 0.45, 'max_depth': 5, 'n_est...</td>\n      <td>1579.134112</td>\n      <td>33.706292</td>\n      <td>0.45</td>\n      <td>5.0</td>\n      <td>200.0</td>\n    </tr>\n  </tbody>\n</table>\n<p>72 rows × 8 columns</p>\n</div>"
     },
     "execution_count": 33,
     "metadata": {},
     "output_type": "execute_result"
    }
   ],
   "source": [
    "result_grid.insert(0, \"RMSE\", np.sqrt(result_grid[\"mean_squared_error\"]))\n",
    "\n",
    "result_grid"
   ],
   "metadata": {
    "collapsed": false,
    "ExecuteTime": {
     "end_time": "2023-06-02T14:20:24.028309925Z",
     "start_time": "2023-06-02T14:20:23.986518756Z"
    }
   }
  },
  {
   "cell_type": "code",
   "execution_count": 36,
   "outputs": [
    {
     "data": {
      "text/plain": "  0%|          | 0/738 [00:00<?, ?it/s]",
      "application/vnd.jupyter.widget-view+json": {
       "version_major": 2,
       "version_minor": 0,
       "model_id": "48a34ec8e8a04265bbe01df4388b0528"
      }
     },
     "metadata": {},
     "output_type": "display_data"
    }
   ],
   "source": [
    "\n",
    "# Backtesting with the test data the best model\n",
    "x2 = pd.concat([x, x_test], ignore_index=True)\n",
    "y = np.append(y, y_test)\n",
    "y = pd.Series(y)\n",
    "\n",
    "# Predictions for the next 12 months without exogenous features\n",
    "fut_exog = x2.loc[:, exog]\n",
    "# Adjust the index of the future_exog to start from the appropriate index\n",
    "#fut_exog.index = range(len(x2), len(x2) + len(x_test))\n",
    "\n",
    "metric, predictions = backtesting_forecaster(\n",
    "    forecaster=forecaster,\n",
    "    y=y,\n",
    "    initial_train_size=len(x),\n",
    "    fixed_train_size=True,\n",
    "    steps=12,\n",
    "    refit=False,\n",
    "    metric=['mean_squared_error', 'mean_absolute_error'],\n",
    "    verbose=False\n",
    ")"
   ],
   "metadata": {
    "collapsed": false,
    "ExecuteTime": {
     "end_time": "2023-06-01T11:40:14.067216479Z",
     "start_time": "2023-06-01T11:39:55.663248951Z"
    }
   }
  },
  {
   "cell_type": "code",
   "execution_count": 38,
   "outputs": [
    {
     "data": {
      "text/plain": "55.11092616790844"
     },
     "execution_count": 38,
     "metadata": {},
     "output_type": "execute_result"
    }
   ],
   "source": [
    "rsme_backtest = np.sqrt(metric)\n",
    "\n",
    "rsme_backtest"
   ],
   "metadata": {
    "collapsed": false,
    "ExecuteTime": {
     "end_time": "2023-06-01T11:40:18.555069828Z",
     "start_time": "2023-06-01T11:40:18.547917124Z"
    }
   }
  },
  {
   "cell_type": "code",
   "execution_count": 27,
   "outputs": [
    {
     "name": "stderr",
     "output_type": "stream",
     "text": [
      "/home/julia/Documents/TUE/Year 2/Quartile 4/DC2/DC2-Group1/venv/lib/python3.10/site-packages/sklearn/preprocessing/_label.py:155: DataConversionWarning: A column-vector y was passed when a 1d array was expected. Please change the shape of y to (n_samples, ), for example using ravel().\n",
      "  y = column_or_1d(y, warn=True)\n"
     ]
    },
    {
     "data": {
      "text/plain": "array(['Barnet 005D', 'Barnet 005D', 'Barnet 005D', ..., 'Barnet 010E',\n       'Barnet 010E', 'Barnet 011B'], dtype=object)"
     },
     "execution_count": 27,
     "metadata": {},
     "output_type": "execute_result"
    }
   ],
   "source": [
    "predictions = predictions.astype(float)\n",
    "predictions = predictions.round().astype(int)\n",
    "lsoa_names = label_encoder.inverse_transform(predictions)\n",
    "lsoa_names"
   ],
   "metadata": {
    "collapsed": false,
    "ExecuteTime": {
     "end_time": "2023-06-01T10:46:14.546201815Z",
     "start_time": "2023-06-01T10:46:14.534073955Z"
    }
   }
  },
  {
   "cell_type": "code",
   "execution_count": 28,
   "outputs": [],
   "source": [
    "# Predictions for the next 12 months without exogenous features\n",
    "future_exog = x_test.loc[:, exog]\n",
    "# Adjust the index of the future_exog to start from the appropriate index\n",
    "future_exog.index = range(len(x), len(x) + len(x_test))\n",
    "# Predict for the next 12 months\n",
    "predicted = forecaster.predict(steps=12, exog=future_exog)"
   ],
   "metadata": {
    "collapsed": false,
    "ExecuteTime": {
     "end_time": "2023-06-01T10:46:14.670338902Z",
     "start_time": "2023-06-01T10:46:14.534476648Z"
    }
   }
  },
  {
   "cell_type": "code",
   "execution_count": 29,
   "outputs": [
    {
     "data": {
      "text/plain": "array(['Barnet 005D', 'Barnet 005D', 'Barnet 005D', 'Barnet 005D',\n       'Barnet 005D', 'Barnet 005D', 'Barnet 005D', 'Barnet 005D',\n       'Barnet 005D', 'Barnet 005D', 'Barnet 005D', 'Barnet 005D'],\n      dtype=object)"
     },
     "execution_count": 29,
     "metadata": {},
     "output_type": "execute_result"
    }
   ],
   "source": [
    "predicted = predicted.astype(float)\n",
    "predicted = predicted.round().astype(int)\n",
    "predicted_lsoa_names = label_encoder.inverse_transform(predicted)\n",
    "predicted_lsoa_names"
   ],
   "metadata": {
    "collapsed": false,
    "ExecuteTime": {
     "end_time": "2023-06-01T10:46:14.714354614Z",
     "start_time": "2023-06-01T10:46:14.673526502Z"
    }
   }
  }
 ],
 "metadata": {
  "kernelspec": {
   "display_name": "Python 3",
   "language": "python",
   "name": "python3"
  },
  "language_info": {
   "codemirror_mode": {
    "name": "ipython",
    "version": 2
   },
   "file_extension": ".py",
   "mimetype": "text/x-python",
   "name": "python",
   "nbconvert_exporter": "python",
   "pygments_lexer": "ipython2",
   "version": "2.7.6"
  }
 },
 "nbformat": 4,
 "nbformat_minor": 0
}
