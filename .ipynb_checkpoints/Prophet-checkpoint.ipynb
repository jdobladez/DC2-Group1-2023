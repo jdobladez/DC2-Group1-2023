{
 "cells": [
  {
   "cell_type": "code",
   "execution_count": 188,
   "metadata": {},
   "outputs": [],
   "source": [
    "import pandas as pd\n",
    "from datetime import datetime"
   ]
  },
  {
   "cell_type": "code",
   "execution_count": 5,
   "metadata": {},
   "outputs": [],
   "source": [
    "# requires pip install cython; pip install pystan; pip install fbprophet\n",
    "from fbprophet import Prophet\n",
    "# fbprophet installation seems complicated (at least on my laptop, does not work for me yet)"
   ]
  },
  {
   "cell_type": "markdown",
   "metadata": {},
   "source": [
    "### Loading & transforming the data"
   ]
  },
  {
   "cell_type": "code",
   "execution_count": 185,
   "metadata": {},
   "outputs": [],
   "source": [
    "train_data = pd.read_csv('burglary_train.csv')\n",
    "test_data = pd.read_csv('burglary_test.csv')\n",
    "# Properly splitted data should be used"
   ]
  },
  {
   "cell_type": "code",
   "execution_count": 186,
   "metadata": {},
   "outputs": [],
   "source": [
    "def to_datetime(df):\n",
    "    # Changes date to datetime \n",
    "    for index, value in enumerate(df['Month']):\n",
    "        df.at[index, 'Month'] = datetime.strptime(value, '%Y-%m')\n",
    "    return(df)\n",
    "\n",
    "def count_per_month(df):\n",
    "    # Return a dataframe with crimes count per month\n",
    "    df_per_month = df.groupby(pd.Grouper(key='Month', freq='M')).size()\n",
    "    df_per_month = pd.DataFrame(df_per_month)\n",
    "    df_per_month['Date'] = df_per_month.index\n",
    "    df_per_month = df_per_month.rename(columns={0: 'Count'})\n",
    "    return(df_per_month)"
   ]
  },
  {
   "cell_type": "code",
   "execution_count": 187,
   "metadata": {},
   "outputs": [],
   "source": [
    "train_data = to_datetime(train_data)\n",
    "test_data = to_datetime(test_data)\n",
    "train_data = count_per_month(train_data)\n",
    "test_data = count_per_month(test_data)"
   ]
  },
  {
   "cell_type": "code",
   "execution_count": 164,
   "metadata": {},
   "outputs": [],
   "source": [
    "# prophet_model = Prophet()\n",
    "# prophet_model.fit(train_data)\n",
    "\n",
    "# future = prophet_model.make_future_dataframe(periods=12, freq='M')\n",
    "# predictions = prophet_model.predict(future)\n",
    "\n",
    "# test_predictions = predictions[-12:]\n",
    "# mse = ((test_predictions['yhat'] - test_data['Count']) ** 2).mean()\n",
    "# print('RMSE: ', mse**0.5)\n",
    "\n",
    "# prophet_model.plot(predictions)"
   ]
  }
 ],
 "metadata": {
  "kernelspec": {
   "display_name": "Python 3 (ipykernel)",
   "language": "python",
   "name": "python3"
  },
  "language_info": {
   "codemirror_mode": {
    "name": "ipython",
    "version": 3
   },
   "file_extension": ".py",
   "mimetype": "text/x-python",
   "name": "python",
   "nbconvert_exporter": "python",
   "pygments_lexer": "ipython3",
   "version": "3.9.13"
  }
 },
 "nbformat": 4,
 "nbformat_minor": 2
}
